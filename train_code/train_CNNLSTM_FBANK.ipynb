{
 "cells": [
  {
   "cell_type": "code",
   "execution_count": 1,
   "metadata": {},
   "outputs": [],
   "source": [
    "try:\n",
    "    %tensorflow_version 2.x\n",
    "except Exception:\n",
    "    pass"
   ]
  },
  {
   "cell_type": "code",
   "execution_count": 2,
   "metadata": {},
   "outputs": [
    {
     "name": "stdout",
     "output_type": "stream",
     "text": [
      "2.1.0\n"
     ]
    }
   ],
   "source": [
    "from __future__ import absolute_import, division, print_function, unicode_literals, unicode_literals\n",
    "\n",
    "# tensorflow와 tf.keras를 import\n",
    "import tensorflow as tf\n",
    "from tensorflow import keras\n",
    "\n",
    "import numpy as np\n",
    "import matplotlib.pyplot as plt\n",
    "import os\n",
    "import pandas as pd\n",
    "import random\n",
    "\n",
    "print(tf.__version__)"
   ]
  },
  {
   "cell_type": "code",
   "execution_count": 3,
   "metadata": {
    "scrolled": false
   },
   "outputs": [
    {
     "name": "stdout",
     "output_type": "stream",
     "text": [
      "['2017019740001_kwakjuheon', '2017019740002_kimjiho', '2017019740003_songyejin', '2017019740004_parksohui', '2017019740005_moonyeonwoo', '2017019740006_kangsubin', '2017019740007_leekyeongeun', '2017019740008_chochaeyeon', '2017019740009_shindonghwan', '2017019740010_kwakmirae', '2017019740011_kimhyeryeong', '2017019740012_chaeminjoon', '2017019740013_kwakyiheon', '2017019740014_leesumin', '2017019740015_choihayoung', '2017019740016_kangyeseo', '2017019740017_kwakmihyang', '2017019740018_eundano', '2017019740019_limjinju', '2017019740020_kimseongje', '2017019740021_kwakbokyeong', '2017019740022_ahnhyojin', '2017019740023_heosehun', '2017019740024_choijiwon', '2017019740025_ahnjeongsuk', '2017019740026_parkyeongseon', '2017019740027_kwaksangpil', '2017019740028_kodohyeon', '2017019740029_limdonggeun', '2017019740030_kanghyeyeon', '2017019740031_jominseok', '2017019770001_kwonyuna', '2017019770002_kwoneunkyung', '2017019770003_johaesu', '2017019770004_leebyeongjin', '2017019770005_hyeonsanghyeok', '2017019770006_jennie', '2017019770007_simseungmin', '2017019770008_parksomi', '2017019770009_yuminji', '2017019770010_parksojin', '2017019770011_kwonyeonwoo', '2017019770012_ladakyeong', '2017019770013_janghyomin', '2017019770014_parkeunbi', '2017019770015_parkdayeung', '2017019770016_parkjongae', '2017019770017_hansohee', '2017019770018_janggyeoul', '2017019770019_leewooju', '2017019770020_nomyungok', '2017019770021_heoyoonjung', '2017019770022_heojaemin', '2017019770023_kimsoyung', '2017019770024_chuminha', '2017019770025_kimhyeonsu', '2017019770026_chaesonghwa', '2017019770027_kwonyulim', '2017019770028_kimminyoung', '2017019770029_jueunhong', '2017019770030_leejeongju', '2017019770031_kwonnahui', '2017019770032_kimdayeong', '2017019770033_kwonsundo', '2017019770034_kimhyeona', '2017019770035_leehyojin', '2017019770036_yuminji', '2017019770037_jeonghojun', '2017019770038_kanghyeyun', '2017019770039_ohjiwon', '2017019770040_kimdajeong', '2017019880001_kimsubin', '2017019880002_kimkihyeon', '2017019880003_kimminji', '2017019880004_myeongjaewon', '2017019880005_kimjihyeon', '2017019880006_choisuyeon', '2017019880007_hwanghyebin', '2017019880008_jangsoojin', '2017019880009_kimhongjoo', '2017019880010_kimhyorin', '2017019880011_kimjihyun', '2017019880012_kimsongyi', '2017019880013_kotaewan', '2017019880014_leedanbee', '2017019880015_leejungjoon', '2017019880016_parkjongkook', '2017019880017_sungsoohyun', '2017019880018_wonjoonho', '2017019880019_wonsonghee', '2017019880020_yoonhyeeun', '2017019880021_kimjuyeong', '2017019880022_kimjaein', '2017019880023_yoohaekyung', '2017019880024_hanyukyung', '2017019880025_yoojungkyun', '2017019880026_parkjongsang', '2017019880027_leesol', '2017019880028_kimsunghan', '2017019880029_kimminji', '2017019880030_hanseungoh', '2017019880031_ahnjiwoo', '2017019880032_seoyeonjoo', '2017019880033_kimnoeun', '2017019880034_leesujung', '2017019880035_songhyunjin', '2017019880036_kimjihye', '2017019880037_jusunghyun', '2017019880038_baejaehong', '2017019880039_seojuyeon', '2017019880040_shinheewook', '2017019880041_kimdaeun', '2017019880042_namyeji', '2017019880043_leegawon', '2017019880044_yoonsuhyun']\n"
     ]
    }
   ],
   "source": [
    "file_path = \"../feature/feature_fbank_20s/\"\n",
    "class_names = os.listdir(file_path)\n",
    "class_names.sort()\n",
    "\n",
    "print(class_names)"
   ]
  },
  {
   "cell_type": "code",
   "execution_count": 4,
   "metadata": {
    "scrolled": true
   },
   "outputs": [],
   "source": [
    "x_list = []\n",
    "y_list = []\n",
    "\n",
    "for i in range(0,len(class_names)):\n",
    "    files=os.listdir(file_path+class_names[i])\n",
    "    files = [file for file in files if file.endswith(\".npy\")]\n",
    "\n",
    "    for j in range(0, len(files)):\n",
    "\n",
    "        x = np.load(file_path+class_names[i]+\"/\"+files[j])\n",
    "        x=x.T\n",
    "        x_list.append(x)\n",
    "        y_list.append(i)\n"
   ]
  },
  {
   "cell_type": "code",
   "execution_count": 5,
   "metadata": {},
   "outputs": [
    {
     "name": "stdout",
     "output_type": "stream",
     "text": [
      "x_train: (575, 594, 40)\n",
      "y_train: (575,)\n"
     ]
    }
   ],
   "source": [
    "x_train = np.array(x_list)\n",
    "y_train = np.array(y_list)\n",
    "\n",
    "print(\"x_train:\", x_train.shape)\n",
    "print(\"y_train:\", y_train.shape)\n",
    "\n",
    "from sklearn.model_selection import train_test_split\n",
    "x_train, x_val, y_train, y_val = train_test_split(x_train, y_train, stratify=y_train, test_size=0.2, random_state=42)"
   ]
  },
  {
   "cell_type": "code",
   "execution_count": 6,
   "metadata": {
    "scrolled": true
   },
   "outputs": [
    {
     "name": "stdout",
     "output_type": "stream",
     "text": [
      "x_train: (460, 594, 40)\n",
      "y_train: (460,)\n",
      "x_val: (115, 594, 40)\n",
      "y_val: (115,)\n"
     ]
    }
   ],
   "source": [
    "print(\"x_train:\", x_train.shape)\n",
    "print(\"y_train:\", y_train.shape)\n",
    "print(\"x_val:\", x_val.shape)\n",
    "print(\"y_val:\", y_val.shape)"
   ]
  },
  {
   "cell_type": "code",
   "execution_count": 7,
   "metadata": {},
   "outputs": [],
   "source": [
    "from tensorflow.keras.utils import to_categorical\n",
    "y_train_encoded = tf.keras.utils.to_categorical(y_train)\n",
    "y_val_encoded = tf.keras.utils.to_categorical(y_val)"
   ]
  },
  {
   "cell_type": "code",
   "execution_count": 8,
   "metadata": {},
   "outputs": [],
   "source": [
    "x_train = x_train.reshape(-1, x_train.shape[1], x_train.shape[2], 1)\n",
    "x_val   = x_val.reshape(-1, x_val.shape[1], x_val.shape[2], 1)"
   ]
  },
  {
   "cell_type": "code",
   "execution_count": 9,
   "metadata": {},
   "outputs": [
    {
     "name": "stdout",
     "output_type": "stream",
     "text": [
      "x_train: (460, 594, 40, 1)\n",
      "y_train: (460, 115)\n",
      "x_val: (115, 594, 40, 1)\n",
      "y_val: (115, 115)\n"
     ]
    }
   ],
   "source": [
    "print(\"x_train:\", x_train.shape)\n",
    "print(\"y_train:\", y_train_encoded.shape)\n",
    "print(\"x_val:\", x_val.shape)\n",
    "print(\"y_val:\", y_val_encoded.shape)"
   ]
  },
  {
   "cell_type": "code",
   "execution_count": 10,
   "metadata": {},
   "outputs": [],
   "source": [
    "#print(np.min(x_train), np.max(x_train))\n",
    "#x_train = x_train - np.min(x_train)\n",
    "\n",
    "#print(np.min(x_train), np.max(x_train))\n",
    "#x_train = x_train / np.max(x_train)\n",
    "\n",
    "#print(np.min(x_train), np.max(x_train))\n",
    "\n",
    "#print(np.min(x_val), np.max(x_val))\n",
    "#x_val = x_val - np.min(x_val)\n",
    "\n",
    "#print(np.min(x_val), np.max(x_val))\n",
    "#x_val = x_val / np.max(x_val)\n",
    "\n",
    "#print(np.min(x_val), np.max(x_val))"
   ]
  },
  {
   "cell_type": "code",
   "execution_count": 11,
   "metadata": {},
   "outputs": [],
   "source": [
    "#from sklearn.preprocessing import MinMaxScaler\n",
    "\n",
    "#scaler = MinMaxScaler()\n",
    "\n",
    "#nsamples, nx, ny, nz= x_train.shape\n",
    "#x_train_nor = scaler.fit_transform(x_train.reshape((nsamples,nx*ny*nz)))\n",
    "#x_train_nor = x_train_nor.reshape((nsamples,nx,ny,nz))\n",
    "\n",
    "#nsamples, nx, ny, nz= x_val.shape\n",
    "#x_val_nor = scaler.transform(x_val.reshape((nsamples,nx*ny*nz)))\n",
    "#x_val_nor = x_val_nor.reshape((nsamples,nx,ny,nz))\n"
   ]
  },
  {
   "cell_type": "code",
   "execution_count": 12,
   "metadata": {},
   "outputs": [],
   "source": [
    "from tensorflow.keras.layers import Conv2D, Flatten, Dense, BatchNormalization, MaxPool2D\n",
    "from tensorflow.keras.layers import Dropout, Input, Reshape, Bidirectional, LSTM, Flatten\n",
    "from tensorflow.keras.models import Model"
   ]
  },
  {
   "cell_type": "code",
   "execution_count": 13,
   "metadata": {},
   "outputs": [],
   "source": [
    "input_shape=(x_train.shape[1], x_train.shape[2], 1)\n",
    "\n",
    "visible = Input(shape=input_shape)\n",
    "\n",
    "hidden= Conv2D(64, (3, 3), strides=(1, 1), activation='relu', padding='same', name='conv1_1')(visible)\n",
    "hidden= Conv2D(64, (3, 3), strides=(1, 1), activation='relu', padding='same', name='conv1_2')(hidden)\n",
    "hidden= MaxPool2D(pool_size=(2, 2), strides=(2, 2), name='pool1', padding='same')(hidden)\n",
    "\n",
    "hidden= Conv2D(64, (3, 3), strides=(1, 1), activation='relu', padding='same', name='conv2_1')(hidden)\n",
    "hidden= MaxPool2D(pool_size=(2, 2), strides=(2, 2), name='pool2', padding='same')(hidden)\n",
    "\n",
    "hidden= Conv2D(128, (3, 3), strides=(1, 1), activation='relu', padding='same', name='conv3_1')(hidden)\n",
    "hidden= BatchNormalization(name='batchnorm1')(hidden)\n",
    "hidden= MaxPool2D(pool_size=(2, 2), strides=(1, 2), name='pool3', padding='valid')(hidden)\n",
    "\n",
    "hidden= Conv2D(128, (2, 2), strides=(1, 1), activation='relu', padding='valid', name='conv4_1')(hidden)\n",
    "hidden= BatchNormalization(name='batchnorm2')(hidden)\n",
    "hidden= MaxPool2D(pool_size=(2, 2), strides=(1, 2), name='pool4', padding='valid')(hidden)\n",
    "\n",
    "#hidden= Conv2D(128, (2, 2), strides=(1, 1), activation='relu', padding='valid', name='conv5_1')(hidden)\n",
    "#hidden= BatchNormalization(name='batchnorm3')(hidden)\n",
    "#hidden= MaxPool2D(pool_size=(2, 2), strides=(1, 2), name='pool5', padding='valid')(hidden)\n",
    "\n",
    "hidden= Conv2D(128, (2, 2), strides=(1, 1), activation='relu', padding='valid', name='conv6_1')(hidden)\n",
    "#hidden= MaxPool2D(pool_size=(2, 2), strides=(1, 2), name='pool6', padding='valid')(hidden)\n",
    "hidden = Reshape((hidden.shape[1]*hidden.shape[2],128))(hidden)\n",
    "\n",
    "hidden= LSTM(64, return_sequences=True)(hidden)\n",
    "hidden= LSTM(64, return_sequences=True)(hidden)\n",
    "hidden= Dropout(0.2)(hidden)\n",
    "hidden= LSTM(32, return_sequences=True)(hidden)\n",
    "hidden= LSTM(32, return_sequences=True)(hidden)\n",
    "hidden= Flatten()(hidden)\n",
    "#hidden = Dense(64, activation='relu')(hidden)\n",
    "\n",
    "output = Dense(len(class_names), activation=\"softmax\")(hidden)\n",
    "\n",
    "model = Model(visible, output)"
   ]
  },
  {
   "cell_type": "code",
   "execution_count": 14,
   "metadata": {},
   "outputs": [
    {
     "name": "stdout",
     "output_type": "stream",
     "text": [
      "Model: \"model\"\n",
      "_________________________________________________________________\n",
      "Layer (type)                 Output Shape              Param #   \n",
      "=================================================================\n",
      "input_1 (InputLayer)         [(None, 594, 40, 1)]      0         \n",
      "_________________________________________________________________\n",
      "conv1_1 (Conv2D)             (None, 594, 40, 64)       640       \n",
      "_________________________________________________________________\n",
      "conv1_2 (Conv2D)             (None, 594, 40, 64)       36928     \n",
      "_________________________________________________________________\n",
      "pool1 (MaxPooling2D)         (None, 297, 20, 64)       0         \n",
      "_________________________________________________________________\n",
      "conv2_1 (Conv2D)             (None, 297, 20, 64)       36928     \n",
      "_________________________________________________________________\n",
      "pool2 (MaxPooling2D)         (None, 149, 10, 64)       0         \n",
      "_________________________________________________________________\n",
      "conv3_1 (Conv2D)             (None, 149, 10, 128)      73856     \n",
      "_________________________________________________________________\n",
      "batchnorm1 (BatchNormalizati (None, 149, 10, 128)      512       \n",
      "_________________________________________________________________\n",
      "pool3 (MaxPooling2D)         (None, 148, 5, 128)       0         \n",
      "_________________________________________________________________\n",
      "conv4_1 (Conv2D)             (None, 147, 4, 128)       65664     \n",
      "_________________________________________________________________\n",
      "batchnorm2 (BatchNormalizati (None, 147, 4, 128)       512       \n",
      "_________________________________________________________________\n",
      "pool4 (MaxPooling2D)         (None, 146, 2, 128)       0         \n",
      "_________________________________________________________________\n",
      "conv6_1 (Conv2D)             (None, 145, 1, 128)       65664     \n",
      "_________________________________________________________________\n",
      "reshape (Reshape)            (None, 145, 128)          0         \n",
      "_________________________________________________________________\n",
      "lstm (LSTM)                  (None, 145, 64)           49408     \n",
      "_________________________________________________________________\n",
      "lstm_1 (LSTM)                (None, 145, 64)           33024     \n",
      "_________________________________________________________________\n",
      "dropout (Dropout)            (None, 145, 64)           0         \n",
      "_________________________________________________________________\n",
      "lstm_2 (LSTM)                (None, 145, 32)           12416     \n",
      "_________________________________________________________________\n",
      "lstm_3 (LSTM)                (None, 145, 32)           8320      \n",
      "_________________________________________________________________\n",
      "flatten (Flatten)            (None, 4640)              0         \n",
      "_________________________________________________________________\n",
      "dense (Dense)                (None, 115)               533715    \n",
      "=================================================================\n",
      "Total params: 917,587\n",
      "Trainable params: 917,075\n",
      "Non-trainable params: 512\n",
      "_________________________________________________________________\n"
     ]
    }
   ],
   "source": [
    "model.summary()"
   ]
  },
  {
   "cell_type": "code",
   "execution_count": 15,
   "metadata": {},
   "outputs": [],
   "source": [
    "model.compile(optimizer=keras.optimizers.SGD(lr=0.05, momentum=0.0, decay=0.0, nesterov=False), loss=tf.keras.losses.categorical_crossentropy, metrics=[\"accuracy\"])"
   ]
  },
  {
   "cell_type": "code",
   "execution_count": 16,
   "metadata": {
    "scrolled": true
   },
   "outputs": [
    {
     "name": "stdout",
     "output_type": "stream",
     "text": [
      "Train on 460 samples, validate on 115 samples\n",
      "Epoch 1/100\n",
      "460/460 [==============================] - 8s 17ms/sample - loss: 4.6831 - accuracy: 0.0152 - val_loss: 4.9700 - val_accuracy: 0.0087\n",
      "Epoch 2/100\n",
      "460/460 [==============================] - 4s 8ms/sample - loss: 4.1850 - accuracy: 0.0435 - val_loss: 4.0705 - val_accuracy: 0.0435\n",
      "Epoch 3/100\n",
      "460/460 [==============================] - 4s 9ms/sample - loss: 3.5659 - accuracy: 0.0935 - val_loss: 5.1166 - val_accuracy: 0.0435\n",
      "Epoch 4/100\n",
      "460/460 [==============================] - 4s 8ms/sample - loss: 2.8669 - accuracy: 0.2587 - val_loss: 5.9355 - val_accuracy: 0.0348\n",
      "Epoch 5/100\n",
      "460/460 [==============================] - 4s 9ms/sample - loss: 2.1151 - accuracy: 0.4043 - val_loss: 5.3795 - val_accuracy: 0.0348\n",
      "Epoch 6/100\n",
      "460/460 [==============================] - 4s 9ms/sample - loss: 1.5313 - accuracy: 0.5630 - val_loss: 3.7849 - val_accuracy: 0.2087\n",
      "Epoch 7/100\n",
      "460/460 [==============================] - 4s 9ms/sample - loss: 1.0753 - accuracy: 0.6783 - val_loss: 2.1255 - val_accuracy: 0.4348\n",
      "Epoch 8/100\n",
      "460/460 [==============================] - 4s 8ms/sample - loss: 0.8726 - accuracy: 0.7435 - val_loss: 2.6385 - val_accuracy: 0.3913\n",
      "Epoch 9/100\n",
      "460/460 [==============================] - 5s 10ms/sample - loss: 0.5769 - accuracy: 0.8457 - val_loss: 2.0274 - val_accuracy: 0.4783\n",
      "Epoch 10/100\n",
      "460/460 [==============================] - 4s 8ms/sample - loss: 0.2828 - accuracy: 0.9348 - val_loss: 1.9376 - val_accuracy: 0.5043\n",
      "Epoch 11/100\n",
      "460/460 [==============================] - 4s 10ms/sample - loss: 0.3297 - accuracy: 0.9109 - val_loss: 1.6098 - val_accuracy: 0.5739\n",
      "Epoch 12/100\n",
      "460/460 [==============================] - 5s 10ms/sample - loss: 0.1344 - accuracy: 0.9696 - val_loss: 1.7038 - val_accuracy: 0.6174\n",
      "Epoch 13/100\n",
      "460/460 [==============================] - 4s 9ms/sample - loss: 0.1271 - accuracy: 0.9717 - val_loss: 1.5680 - val_accuracy: 0.6087\n",
      "Epoch 14/100\n",
      "460/460 [==============================] - 5s 11ms/sample - loss: 0.1148 - accuracy: 0.9739 - val_loss: 1.4625 - val_accuracy: 0.6348\n",
      "Epoch 15/100\n",
      "460/460 [==============================] - 5s 10ms/sample - loss: 0.0982 - accuracy: 0.9848 - val_loss: 1.3807 - val_accuracy: 0.6870\n",
      "Epoch 16/100\n",
      "460/460 [==============================] - 4s 9ms/sample - loss: 0.0714 - accuracy: 0.9870 - val_loss: 1.4028 - val_accuracy: 0.6870\n",
      "Epoch 17/100\n",
      "460/460 [==============================] - 4s 9ms/sample - loss: 0.0233 - accuracy: 0.9978 - val_loss: 1.3780 - val_accuracy: 0.6870\n",
      "Epoch 18/100\n",
      "460/460 [==============================] - 5s 10ms/sample - loss: 0.0704 - accuracy: 0.9891 - val_loss: 1.4175 - val_accuracy: 0.6870\n",
      "Epoch 19/100\n",
      "460/460 [==============================] - 4s 8ms/sample - loss: 0.0470 - accuracy: 0.9935 - val_loss: 1.4131 - val_accuracy: 0.7043\n",
      "Epoch 20/100\n",
      "460/460 [==============================] - 4s 8ms/sample - loss: 0.0531 - accuracy: 0.9913 - val_loss: 1.4488 - val_accuracy: 0.6609\n",
      "Epoch 21/100\n",
      "460/460 [==============================] - 5s 11ms/sample - loss: 0.0461 - accuracy: 0.9913 - val_loss: 1.3725 - val_accuracy: 0.6696\n",
      "Epoch 22/100\n",
      "460/460 [==============================] - 5s 11ms/sample - loss: 0.0455 - accuracy: 0.9935 - val_loss: 1.3344 - val_accuracy: 0.6870\n",
      "Epoch 23/100\n",
      "460/460 [==============================] - 5s 10ms/sample - loss: 0.0271 - accuracy: 0.9957 - val_loss: 1.3591 - val_accuracy: 0.6957\n",
      "Epoch 24/100\n",
      "460/460 [==============================] - 4s 9ms/sample - loss: 0.0432 - accuracy: 0.9913 - val_loss: 1.4369 - val_accuracy: 0.6870\n",
      "Epoch 25/100\n",
      "460/460 [==============================] - 4s 8ms/sample - loss: 0.0432 - accuracy: 0.9913 - val_loss: 1.4285 - val_accuracy: 0.6783\n",
      "Epoch 26/100\n",
      "460/460 [==============================] - 4s 9ms/sample - loss: 0.0626 - accuracy: 0.9870 - val_loss: 1.3193 - val_accuracy: 0.7217\n",
      "Epoch 27/100\n",
      "460/460 [==============================] - 4s 9ms/sample - loss: 0.0378 - accuracy: 0.9913 - val_loss: 1.3068 - val_accuracy: 0.7217\n",
      "Epoch 28/100\n",
      "460/460 [==============================] - 5s 10ms/sample - loss: 0.0277 - accuracy: 0.9935 - val_loss: 1.3551 - val_accuracy: 0.6696\n",
      "Epoch 29/100\n",
      "460/460 [==============================] - 4s 9ms/sample - loss: 0.0462 - accuracy: 0.9891 - val_loss: 1.3391 - val_accuracy: 0.7217\n",
      "Epoch 30/100\n",
      "460/460 [==============================] - 4s 9ms/sample - loss: 0.0289 - accuracy: 0.9957 - val_loss: 1.3876 - val_accuracy: 0.6870\n",
      "Epoch 31/100\n",
      "460/460 [==============================] - 4s 10ms/sample - loss: 0.0384 - accuracy: 0.9891 - val_loss: 1.3383 - val_accuracy: 0.7043\n",
      "Epoch 32/100\n",
      "460/460 [==============================] - 4s 9ms/sample - loss: 0.0279 - accuracy: 0.9913 - val_loss: 1.5056 - val_accuracy: 0.6609\n",
      "Epoch 33/100\n",
      "460/460 [==============================] - 4s 10ms/sample - loss: 0.0237 - accuracy: 0.9957 - val_loss: 1.3760 - val_accuracy: 0.7217\n",
      "Epoch 34/100\n",
      "460/460 [==============================] - 4s 9ms/sample - loss: 0.0364 - accuracy: 0.9891 - val_loss: 1.3478 - val_accuracy: 0.6957\n",
      "Epoch 35/100\n",
      "460/460 [==============================] - 4s 8ms/sample - loss: 0.0377 - accuracy: 0.9891 - val_loss: 1.3520 - val_accuracy: 0.6870\n",
      "Epoch 36/100\n",
      "460/460 [==============================] - 5s 11ms/sample - loss: 0.0309 - accuracy: 0.9891 - val_loss: 1.3916 - val_accuracy: 0.6870\n",
      "Epoch 37/100\n",
      "460/460 [==============================] - 4s 8ms/sample - loss: 0.0379 - accuracy: 0.9913 - val_loss: 1.5345 - val_accuracy: 0.6609\n",
      "Epoch 38/100\n",
      "460/460 [==============================] - 4s 8ms/sample - loss: 0.0363 - accuracy: 0.9891 - val_loss: 1.3308 - val_accuracy: 0.6870\n",
      "Epoch 39/100\n",
      "460/460 [==============================] - 4s 8ms/sample - loss: 0.0258 - accuracy: 0.9891 - val_loss: 1.3703 - val_accuracy: 0.6870\n",
      "Epoch 40/100\n",
      "460/460 [==============================] - 5s 10ms/sample - loss: 0.0245 - accuracy: 0.9913 - val_loss: 1.3850 - val_accuracy: 0.7043\n",
      "Epoch 41/100\n",
      "460/460 [==============================] - 5s 11ms/sample - loss: 0.0186 - accuracy: 0.9935 - val_loss: 1.3660 - val_accuracy: 0.7130\n",
      "Epoch 42/100\n",
      "460/460 [==============================] - 4s 8ms/sample - loss: 0.0344 - accuracy: 0.9870 - val_loss: 1.3345 - val_accuracy: 0.6870\n",
      "Epoch 43/100\n",
      "460/460 [==============================] - 4s 9ms/sample - loss: 0.0166 - accuracy: 0.9957 - val_loss: 1.3650 - val_accuracy: 0.7130\n",
      "Epoch 44/100\n",
      "460/460 [==============================] - 5s 10ms/sample - loss: 0.0228 - accuracy: 0.9935 - val_loss: 1.3939 - val_accuracy: 0.7043\n",
      "Epoch 45/100\n",
      "460/460 [==============================] - 5s 11ms/sample - loss: 0.0263 - accuracy: 0.9913 - val_loss: 1.3767 - val_accuracy: 0.6957\n",
      "Epoch 46/100\n",
      "460/460 [==============================] - 4s 10ms/sample - loss: 0.0300 - accuracy: 0.9870 - val_loss: 1.4121 - val_accuracy: 0.7130\n",
      "Epoch 47/100\n",
      "460/460 [==============================] - 5s 11ms/sample - loss: 0.0171 - accuracy: 0.9957 - val_loss: 1.3913 - val_accuracy: 0.7217\n",
      "Epoch 48/100\n",
      "460/460 [==============================] - 4s 8ms/sample - loss: 0.0178 - accuracy: 0.9957 - val_loss: 1.4276 - val_accuracy: 0.6870\n",
      "Epoch 49/100\n",
      "460/460 [==============================] - 4s 9ms/sample - loss: 0.0298 - accuracy: 0.9870 - val_loss: 1.3899 - val_accuracy: 0.7130\n",
      "Epoch 50/100\n",
      "460/460 [==============================] - 4s 8ms/sample - loss: 0.0199 - accuracy: 0.9957 - val_loss: 1.5897 - val_accuracy: 0.6609\n",
      "Epoch 51/100\n",
      "460/460 [==============================] - 5s 10ms/sample - loss: 0.0219 - accuracy: 0.9913 - val_loss: 1.4270 - val_accuracy: 0.7043\n",
      "Epoch 52/100\n",
      "460/460 [==============================] - 4s 8ms/sample - loss: 0.0217 - accuracy: 0.9913 - val_loss: 1.3790 - val_accuracy: 0.6696\n",
      "Epoch 53/100\n",
      "460/460 [==============================] - 5s 11ms/sample - loss: 0.0196 - accuracy: 0.9935 - val_loss: 1.3837 - val_accuracy: 0.6957\n",
      "Epoch 54/100\n",
      "460/460 [==============================] - 4s 8ms/sample - loss: 0.0229 - accuracy: 0.9913 - val_loss: 1.3948 - val_accuracy: 0.7130\n",
      "Epoch 55/100\n",
      "460/460 [==============================] - 4s 9ms/sample - loss: 0.0204 - accuracy: 0.9891 - val_loss: 1.3865 - val_accuracy: 0.7217\n",
      "Epoch 56/100\n",
      "460/460 [==============================] - 5s 10ms/sample - loss: 0.0210 - accuracy: 0.9870 - val_loss: 1.4912 - val_accuracy: 0.6783\n"
     ]
    },
    {
     "name": "stdout",
     "output_type": "stream",
     "text": [
      "Epoch 57/100\n",
      "460/460 [==============================] - 6s 12ms/sample - loss: 0.0260 - accuracy: 0.9913 - val_loss: 1.4427 - val_accuracy: 0.6870\n",
      "Epoch 58/100\n",
      "460/460 [==============================] - 4s 8ms/sample - loss: 0.0176 - accuracy: 0.9913 - val_loss: 1.3961 - val_accuracy: 0.7043\n",
      "Epoch 59/100\n",
      "460/460 [==============================] - 5s 12ms/sample - loss: 0.0257 - accuracy: 0.9870 - val_loss: 1.3708 - val_accuracy: 0.6957\n",
      "Epoch 60/100\n",
      "460/460 [==============================] - 6s 12ms/sample - loss: 0.0169 - accuracy: 0.9891 - val_loss: 1.4857 - val_accuracy: 0.6696\n",
      "Epoch 61/100\n",
      "460/460 [==============================] - 4s 9ms/sample - loss: 0.0180 - accuracy: 0.9935 - val_loss: 1.4092 - val_accuracy: 0.6957\n",
      "Epoch 62/100\n",
      "460/460 [==============================] - 5s 10ms/sample - loss: 0.0245 - accuracy: 0.9870 - val_loss: 1.4319 - val_accuracy: 0.6783\n",
      "Epoch 63/100\n",
      "460/460 [==============================] - 4s 10ms/sample - loss: 0.0176 - accuracy: 0.9935 - val_loss: 1.4414 - val_accuracy: 0.6783\n",
      "Epoch 64/100\n",
      "460/460 [==============================] - 5s 12ms/sample - loss: 0.0139 - accuracy: 0.9978 - val_loss: 1.4469 - val_accuracy: 0.7130\n",
      "Epoch 65/100\n",
      "460/460 [==============================] - 4s 9ms/sample - loss: 0.0214 - accuracy: 0.9891 - val_loss: 1.3895 - val_accuracy: 0.7043\n",
      "Epoch 66/100\n",
      "460/460 [==============================] - 5s 11ms/sample - loss: 0.0597 - accuracy: 0.9826 - val_loss: 1.7462 - val_accuracy: 0.5826\n",
      "Epoch 67/100\n",
      "460/460 [==============================] - 5s 10ms/sample - loss: 0.0317 - accuracy: 0.9870 - val_loss: 1.4321 - val_accuracy: 0.6696\n",
      "Epoch 68/100\n",
      "460/460 [==============================] - 5s 12ms/sample - loss: 0.0142 - accuracy: 0.9957 - val_loss: 1.4680 - val_accuracy: 0.6522\n",
      "Epoch 69/100\n",
      "460/460 [==============================] - 5s 12ms/sample - loss: 0.0126 - accuracy: 0.9957 - val_loss: 1.4756 - val_accuracy: 0.6609\n",
      "Epoch 70/100\n",
      "460/460 [==============================] - 5s 11ms/sample - loss: 0.0121 - accuracy: 0.9978 - val_loss: 1.4896 - val_accuracy: 0.6522\n",
      "Epoch 71/100\n",
      "460/460 [==============================] - 5s 11ms/sample - loss: 0.0201 - accuracy: 0.9913 - val_loss: 1.4715 - val_accuracy: 0.6783\n",
      "Epoch 72/100\n",
      "460/460 [==============================] - 5s 11ms/sample - loss: 0.0128 - accuracy: 0.9957 - val_loss: 1.5048 - val_accuracy: 0.6696\n",
      "Epoch 73/100\n",
      "460/460 [==============================] - 5s 11ms/sample - loss: 0.0197 - accuracy: 0.9913 - val_loss: 1.5041 - val_accuracy: 0.6696\n",
      "Epoch 74/100\n",
      "460/460 [==============================] - 5s 11ms/sample - loss: 0.0258 - accuracy: 0.9913 - val_loss: 1.5412 - val_accuracy: 0.6696\n",
      "Epoch 75/100\n",
      "460/460 [==============================] - 5s 11ms/sample - loss: 0.0201 - accuracy: 0.9913 - val_loss: 1.4818 - val_accuracy: 0.6870\n",
      "Epoch 76/100\n",
      "460/460 [==============================] - 5s 12ms/sample - loss: 0.0193 - accuracy: 0.9891 - val_loss: 1.4686 - val_accuracy: 0.6696\n",
      "Epoch 77/100\n",
      "460/460 [==============================] - 4s 9ms/sample - loss: 0.0818 - accuracy: 0.9739 - val_loss: 2.0544 - val_accuracy: 0.5913\n",
      "Epoch 78/100\n",
      "460/460 [==============================] - 5s 11ms/sample - loss: 0.0637 - accuracy: 0.9783 - val_loss: 1.8416 - val_accuracy: 0.6174\n",
      "Epoch 79/100\n",
      "460/460 [==============================] - 4s 8ms/sample - loss: 0.0279 - accuracy: 0.9935 - val_loss: 1.5955 - val_accuracy: 0.6522\n",
      "Epoch 80/100\n",
      "460/460 [==============================] - 5s 11ms/sample - loss: 0.0198 - accuracy: 0.9913 - val_loss: 1.6244 - val_accuracy: 0.6522\n",
      "Epoch 81/100\n",
      "460/460 [==============================] - 5s 11ms/sample - loss: 0.0233 - accuracy: 0.9891 - val_loss: 1.6824 - val_accuracy: 0.6783\n",
      "Epoch 82/100\n",
      "460/460 [==============================] - 5s 11ms/sample - loss: 0.0220 - accuracy: 0.9891 - val_loss: 1.6352 - val_accuracy: 0.6522\n",
      "Epoch 83/100\n",
      "460/460 [==============================] - 5s 10ms/sample - loss: 0.0267 - accuracy: 0.9891 - val_loss: 1.5683 - val_accuracy: 0.6696\n",
      "Epoch 84/100\n",
      "460/460 [==============================] - 5s 12ms/sample - loss: 0.0517 - accuracy: 0.9848 - val_loss: 2.0579 - val_accuracy: 0.6261\n",
      "Epoch 85/100\n",
      "460/460 [==============================] - 6s 12ms/sample - loss: 0.0516 - accuracy: 0.9848 - val_loss: 1.8849 - val_accuracy: 0.6261\n",
      "Epoch 86/100\n",
      "460/460 [==============================] - 5s 11ms/sample - loss: 0.0205 - accuracy: 0.9891 - val_loss: 1.7677 - val_accuracy: 0.6522\n",
      "Epoch 87/100\n",
      "460/460 [==============================] - 4s 8ms/sample - loss: 0.0215 - accuracy: 0.9913 - val_loss: 1.6661 - val_accuracy: 0.7043\n",
      "Epoch 88/100\n",
      "460/460 [==============================] - 4s 9ms/sample - loss: 0.0209 - accuracy: 0.9913 - val_loss: 1.6005 - val_accuracy: 0.6783\n",
      "Epoch 89/100\n",
      "460/460 [==============================] - 6s 12ms/sample - loss: 0.0214 - accuracy: 0.9870 - val_loss: 1.6371 - val_accuracy: 0.6609\n",
      "Epoch 90/100\n",
      "460/460 [==============================] - 5s 10ms/sample - loss: 0.0205 - accuracy: 0.9891 - val_loss: 1.6193 - val_accuracy: 0.6783\n",
      "Epoch 91/100\n",
      "460/460 [==============================] - 4s 9ms/sample - loss: 0.0174 - accuracy: 0.9891 - val_loss: 1.6428 - val_accuracy: 0.6783\n",
      "Epoch 92/100\n",
      "460/460 [==============================] - 5s 11ms/sample - loss: 0.0183 - accuracy: 0.9870 - val_loss: 1.6553 - val_accuracy: 0.6783\n",
      "Epoch 93/100\n",
      "460/460 [==============================] - 4s 9ms/sample - loss: 0.0174 - accuracy: 0.9891 - val_loss: 1.6407 - val_accuracy: 0.6783\n",
      "Epoch 94/100\n",
      "460/460 [==============================] - 5s 10ms/sample - loss: 0.0165 - accuracy: 0.9891 - val_loss: 1.6429 - val_accuracy: 0.6609\n",
      "Epoch 95/100\n",
      "460/460 [==============================] - 5s 11ms/sample - loss: 0.0179 - accuracy: 0.9891 - val_loss: 1.6495 - val_accuracy: 0.6957\n",
      "Epoch 96/100\n",
      "460/460 [==============================] - 4s 8ms/sample - loss: 0.0161 - accuracy: 0.9935 - val_loss: 1.6499 - val_accuracy: 0.6870\n",
      "Epoch 97/100\n",
      "460/460 [==============================] - 5s 12ms/sample - loss: 0.0171 - accuracy: 0.9870 - val_loss: 1.6470 - val_accuracy: 0.6870\n",
      "Epoch 98/100\n",
      "460/460 [==============================] - 5s 10ms/sample - loss: 0.0138 - accuracy: 0.9935 - val_loss: 1.6533 - val_accuracy: 0.6957\n",
      "Epoch 99/100\n",
      "460/460 [==============================] - 4s 8ms/sample - loss: 0.0154 - accuracy: 0.9891 - val_loss: 1.6668 - val_accuracy: 0.6957\n",
      "Epoch 100/100\n",
      "460/460 [==============================] - 4s 10ms/sample - loss: 0.0167 - accuracy: 0.9870 - val_loss: 1.6380 - val_accuracy: 0.6957\n"
     ]
    }
   ],
   "source": [
    "history = model.fit(x_train, y_train_encoded, batch_size=4, epochs=100, verbose=1, validation_data=(x_val, y_val_encoded))"
   ]
  },
  {
   "cell_type": "code",
   "execution_count": 17,
   "metadata": {},
   "outputs": [
    {
     "data": {
      "image/png": "[encoded data removed]",
      "text/plain": [
       "<Figure size 1008x432 with 1 Axes>"
      ]
     },
     "metadata": {
      "needs_background": "light"
     },
     "output_type": "display_data"
    }
   ],
   "source": [
    "plt.figure(figsize=(14, 6))\n",
    "plt.rc('font', size=18)\n",
    "\n",
    "plt.plot(history.history[\"accuracy\"])\n",
    "plt.plot(history.history[\"val_accuracy\"])\n",
    "plt.ylabel(\"accuracy\")\n",
    "plt.xlabel(\"epoch\")\n",
    "plt.legend([\"train_accuracy\", \"val_accuracy\"])\n",
    "plt.show()"
   ]
  },
  {
   "cell_type": "code",
   "execution_count": 18,
   "metadata": {
    "scrolled": true
   },
   "outputs": [
    {
     "name": "stdout",
     "output_type": "stream",
     "text": [
      "Predict : 2017019740001_kwakjuheon , Real : 2017019740001_kwakjuheon\n",
      "Predict : 2017019880038_baejaehong , Real : 2017019740001_kwakjuheon\n",
      "Predict : 2017019880032_seoyeonjoo , Real : 2017019740001_kwakjuheon\n",
      "Predict : 2017019770001_kwonyuna , Real : 2017019740001_kwakjuheon\n",
      "Predict : 2017019740005_moonyeonwoo , Real : 2017019740001_kwakjuheon\n",
      "Predict : 2017019740029_limdonggeun , Real : 2017019740029_limdonggeun\n",
      "Predict : 2017019770001_kwonyuna , Real : 2017019770001_kwonyuna\n",
      "Predict : 2017019770001_kwonyuna , Real : 2017019770001_kwonyuna\n",
      "Predict : 2017019770001_kwonyuna , Real : 2017019770001_kwonyuna\n",
      "Predict : 2017019770001_kwonyuna , Real : 2017019770001_kwonyuna\n",
      "Predict : 2017019770001_kwonyuna , Real : 2017019770001_kwonyuna\n",
      "Predict : 2017019880001_kimsubin , Real : 2017019880001_kimsubin\n",
      "Predict : 2017019880001_kimsubin , Real : 2017019880001_kimsubin\n",
      "Predict : 2017019880001_kimsubin , Real : 2017019880001_kimsubin\n",
      "Predict : 2017019880001_kimsubin , Real : 2017019880001_kimsubin\n",
      "Predict : 2017019770018_janggyeoul , Real : 2017019880001_kimsubin\n",
      "0.6875\n"
     ]
    }
   ],
   "source": [
    "from sklearn.metrics import accuracy_score\n",
    "\n",
    "val_file_path = \"../feature/feature_fbank_20s_validation/\"\n",
    "x_validation_list=[]\n",
    "y_validation_list=[]\n",
    "\n",
    "val_class_names = os.listdir(val_file_path)\n",
    "val_class_names.sort()\n",
    "\n",
    "for i in range(0,len(val_class_names)):\n",
    "    val_files=os.listdir(val_file_path+val_class_names[i])\n",
    "    val_files = [file for file in val_files if file.endswith(\".npy\")]\n",
    "\n",
    "    for j in range(0, len(val_files)):\n",
    "        x = np.load(val_file_path+val_class_names[i]+\"/\"+val_files[j])\n",
    "        x=x.T\n",
    "        x_validation_list.append(x)\n",
    "        y_validation_list.append(i)\n",
    "\n",
    "\n",
    "x_validation = np.array(x_validation_list)\n",
    "y_validation = np.array(y_validation_list)\n",
    "y_validation_encoded = tf.keras.utils.to_categorical(y_validation)\n",
    "\n",
    "x_validation = x_validation.reshape(-1, x_validation.shape[1], x_validation.shape[2], 1)\n",
    "\n",
    "\n",
    "#x_validation = x_validation - np.min(x_validation)\n",
    "#x_validation = x_validation / np.max(x_validation)\n",
    "real =[]\n",
    "pred_out_idex=[]\n",
    "\n",
    "for k in range(0, len(x_validation)):\n",
    "    \n",
    "    kt = x_validation[k].reshape(-1, x_validation.shape[1], x_validation.shape[2], 1)\n",
    "    \n",
    "    #nsamples, nx, ny,nz = kt.shape\n",
    "    #kt = scaler.transform(kt.reshape((nsamples,nx*ny*nz)))\n",
    "    #kt = kt.reshape((nsamples,nx,ny,nz))\n",
    "    \n",
    "    predictions_single = model.predict(kt)\n",
    "    print(\"Predict :\",class_names[np.argmax(predictions_single)],\", Real :\",val_class_names[y_validation[k]])\n",
    "    real.append(class_names.index(val_class_names[y_validation[k]]))\n",
    "    pred_out_idex.append(np.argmax(predictions_single))\n",
    "    \n",
    "# get the accuracy\n",
    "print (accuracy_score(real, pred_out_idex))\n",
    "\n",
    "#batch=4, epoch=50 0.5625 val_accuracy: 0.6783\n",
    "#batch=16, epoch=50 0.75 val_accuracy: 0.8000\n",
    "#batch=32, epoch=50 0.5625 val_accuracy: 0.7913\n",
    "#batch=8, epoch=100 0.75 val_accuracy: 0.7130\n",
    "#batch=16, epoch=100 0.6875 val_accuracy: 0.8000"
   ]
  },
  {
   "cell_type": "code",
   "execution_count": null,
   "metadata": {},
   "outputs": [],
   "source": []
  },
  {
   "cell_type": "code",
   "execution_count": null,
   "metadata": {},
   "outputs": [],
   "source": []
  }
 ],
 "metadata": {
  "kernelspec": {
   "display_name": "Python(py36)",
   "language": "python",
   "name": "py36"
  },
  "language_info": {
   "codemirror_mode": {
    "name": "ipython",
    "version": 3
   },
   "file_extension": ".py",
   "mimetype": "text/x-python",
   "name": "python",
   "nbconvert_exporter": "python",
   "pygments_lexer": "ipython3",
   "version": "3.6.10"
  }
 },
 "nbformat": 4,
 "nbformat_minor": 4
}
