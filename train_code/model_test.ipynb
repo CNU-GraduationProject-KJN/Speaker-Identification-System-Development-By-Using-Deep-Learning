{
 "cells": [
  {
   "cell_type": "code",
   "execution_count": 21,
   "metadata": {},
   "outputs": [],
   "source": [
    "try:\n",
    "    %tensorflow_version 2.x\n",
    "except Exception:\n",
    "    pass"
   ]
  },
  {
   "cell_type": "code",
   "execution_count": 22,
   "metadata": {},
   "outputs": [
    {
     "name": "stdout",
     "output_type": "stream",
     "text": [
      "2.2.0\n"
     ]
    }
   ],
   "source": [
    "from __future__ import absolute_import, division, print_function, unicode_literals, unicode_literals\n",
    "\n",
    "# tensorflow와 tf.keras를 import\n",
    "import tensorflow as tf\n",
    "from tensorflow import keras\n",
    "\n",
    "import numpy as np\n",
    "import matplotlib.pyplot as plt\n",
    "import os\n",
    "import pandas as pd\n",
    "import random\n",
    "\n",
    "print(tf.__version__)"
   ]
  },
  {
   "cell_type": "code",
   "execution_count": 23,
   "metadata": {},
   "outputs": [],
   "source": [
    "(x_train_all, y_train_all), (x_test, y_test) = tf.keras.datasets.fashion_mnist.load_data()"
   ]
  },
  {
   "cell_type": "code",
   "execution_count": 24,
   "metadata": {},
   "outputs": [],
   "source": [
    "from sklearn.model_selection import train_test_split\n",
    "x_train, x_val, y_train, y_val = train_test_split(x_train_all, y_train_all, stratify=y_train_all, test_size=0.2, random_state=42)\n",
    "x_train = x_train / 255.0\n",
    "x_val = x_val / 255.0"
   ]
  },
  {
   "cell_type": "code",
   "execution_count": 25,
   "metadata": {},
   "outputs": [
    {
     "name": "stdout",
     "output_type": "stream",
     "text": [
      "x_train: (48000, 28, 28)\n",
      "y_train: (48000,)\n",
      "x_val: (12000, 28, 28)\n",
      "y_val: (12000,)\n"
     ]
    }
   ],
   "source": [
    "print(\"x_train:\", x_train.shape)\n",
    "print(\"y_train:\", y_train.shape)\n",
    "print(\"x_val:\", x_val.shape)\n",
    "print(\"y_val:\", y_val.shape)"
   ]
  },
  {
   "cell_type": "code",
   "execution_count": 26,
   "metadata": {},
   "outputs": [],
   "source": [
    "from tensorflow.keras.utils import to_categorical\n",
    "y_train_encoded = tf.keras.utils.to_categorical(y_train)\n",
    "y_val_encoded = tf.keras.utils.to_categorical(y_val)"
   ]
  },
  {
   "cell_type": "code",
   "execution_count": 27,
   "metadata": {},
   "outputs": [],
   "source": [
    "x_train = x_train.reshape(-1, x_train.shape[1], x_train.shape[2], 1)\n",
    "x_val   = x_val.reshape(-1, x_val.shape[1], x_val.shape[2], 1)"
   ]
  },
  {
   "cell_type": "code",
   "execution_count": 28,
   "metadata": {},
   "outputs": [
    {
     "name": "stdout",
     "output_type": "stream",
     "text": [
      "x_train: (48000, 28, 28, 1)\n",
      "y_train: (48000, 10)\n",
      "x_val: (12000, 28, 28, 1)\n",
      "y_val: (12000, 10)\n"
     ]
    }
   ],
   "source": [
    "print(\"x_train:\", x_train.shape)\n",
    "print(\"y_train:\", y_train_encoded.shape)\n",
    "print(\"x_val:\", x_val.shape)\n",
    "print(\"y_val:\", y_val_encoded.shape)"
   ]
  },
  {
   "cell_type": "code",
   "execution_count": 29,
   "metadata": {},
   "outputs": [
    {
     "name": "stdout",
     "output_type": "stream",
     "text": [
      "0.0 1.0\n",
      "0.0 1.0\n",
      "0.0 1.0\n",
      "0.0 1.0\n",
      "0.0 1.0\n",
      "0.0 1.0\n"
     ]
    }
   ],
   "source": [
    "print(np.min(x_train), np.max(x_train))\n",
    "x_train = x_train - np.min(x_train)\n",
    "\n",
    "print(np.min(x_train), np.max(x_train))\n",
    "x_train = x_train / np.max(x_train)\n",
    "\n",
    "print(np.min(x_train), np.max(x_train))\n",
    "\n",
    "print(np.min(x_val), np.max(x_val))\n",
    "x_val = x_val - np.min(x_val)\n",
    "\n",
    "print(np.min(x_val), np.max(x_val))\n",
    "x_val = x_val / np.max(x_val)\n",
    "\n",
    "print(np.min(x_val), np.max(x_val))"
   ]
  },
  {
   "cell_type": "code",
   "execution_count": 30,
   "metadata": {},
   "outputs": [],
   "source": [
    "from tensorflow.keras.layers import Conv2D, MaxPooling2D, Flatten, Dense\n",
    "from tensorflow.keras.layers import Dropout"
   ]
  },
  {
   "cell_type": "code",
   "execution_count": 31,
   "metadata": {},
   "outputs": [],
   "source": [
    "from tensorflow.keras.layers import Dropout\n",
    "\n",
    "conv2 = tf.keras.Sequential()\n",
    "\n",
    "conv2.add(Conv2D(32, (3, 3), activation=\"relu\", padding=\"same\", input_shape=(x_train.shape[1], x_train.shape[2], 1)))\n",
    "# conv2.add(MaxPooling2D((2, 2)))\n",
    "conv2.add(Conv2D(64, (3, 3), activation=\"relu\", padding=\"same\"))\n",
    "conv2.add(MaxPooling2D((2, 2)))\n",
    "conv2.add(Dropout(0.5))\n",
    "\n",
    "conv2.add(Flatten())\n",
    "conv2.add(Dense(128, activation=\"relu\"))\n",
    "conv2.add(Dropout(0.25))\n",
    "Dense\n",
    "\n",
    "conv2.add(Dense(y_train_encoded.shape[1], activation=\"softmax\"))"
   ]
  },
  {
   "cell_type": "code",
   "execution_count": 32,
   "metadata": {},
   "outputs": [
    {
     "name": "stdout",
     "output_type": "stream",
     "text": [
      "Model: \"sequential_1\"\n",
      "_________________________________________________________________\n",
      "Layer (type)                 Output Shape              Param #   \n",
      "=================================================================\n",
      "conv2d_2 (Conv2D)            (None, 28, 28, 32)        320       \n",
      "_________________________________________________________________\n",
      "conv2d_3 (Conv2D)            (None, 28, 28, 64)        18496     \n",
      "_________________________________________________________________\n",
      "max_pooling2d_1 (MaxPooling2 (None, 14, 14, 64)        0         \n",
      "_________________________________________________________________\n",
      "dropout_2 (Dropout)          (None, 14, 14, 64)        0         \n",
      "_________________________________________________________________\n",
      "flatten_1 (Flatten)          (None, 12544)             0         \n",
      "_________________________________________________________________\n",
      "dense_2 (Dense)              (None, 128)               1605760   \n",
      "_________________________________________________________________\n",
      "dropout_3 (Dropout)          (None, 128)               0         \n",
      "_________________________________________________________________\n",
      "dense_3 (Dense)              (None, 10)                1290      \n",
      "=================================================================\n",
      "Total params: 1,625,866\n",
      "Trainable params: 1,625,866\n",
      "Non-trainable params: 0\n",
      "_________________________________________________________________\n"
     ]
    }
   ],
   "source": [
    "conv2.summary()"
   ]
  },
  {
   "cell_type": "code",
   "execution_count": 33,
   "metadata": {},
   "outputs": [],
   "source": [
    "\n",
    "\n",
    "conv2.compile(optimizer=keras.optimizers.SGD(lr=0.01, momentum=0.0, decay=0.0, nesterov=False), loss=tf.keras.losses.categorical_crossentropy, metrics=[\"accuracy\"])"
   ]
  },
  {
   "cell_type": "code",
   "execution_count": null,
   "metadata": {
    "scrolled": true
   },
   "outputs": [
    {
     "name": "stdout",
     "output_type": "stream",
     "text": [
      "Epoch 1/20\n",
      "12000/12000 [==============================] - 68s 6ms/step - loss: 0.5384 - accuracy: 0.8033 - val_loss: 0.3687 - val_accuracy: 0.8574\n",
      "Epoch 2/20\n",
      "12000/12000 [==============================] - 67s 6ms/step - loss: 0.3620 - accuracy: 0.8680 - val_loss: 0.2935 - val_accuracy: 0.8914\n",
      "Epoch 3/20\n",
      "11072/12000 [==========================>...] - ETA: 4s - loss: 0.3117 - accuracy: 0.8850"
     ]
    }
   ],
   "source": [
    "history = conv2.fit(x_train, y_train_encoded, batch_size=4, epochs=20, verbose=1, validation_data=(x_val, y_val_encoded))"
   ]
  },
  {
   "cell_type": "code",
   "execution_count": null,
   "metadata": {},
   "outputs": [],
   "source": [
    "plt.figure(figsize=(14, 6))\n",
    "plt.rc('font', size=18)\n",
    "\n",
    "plt.plot(history.history[\"accuracy\"])\n",
    "plt.plot(history.history[\"val_accuracy\"])\n",
    "plt.ylabel(\"accuracy\")\n",
    "plt.xlabel(\"epoch\")\n",
    "plt.legend([\"train_accuracy\", \"val_accuracy\"])\n",
    "plt.show()"
   ]
  }
 ],
 "metadata": {
  "kernelspec": {
   "display_name": "Python 3",
   "language": "python",
   "name": "python3"
  },
  "language_info": {
   "codemirror_mode": {
    "name": "ipython",
    "version": 3
   },
   "file_extension": ".py",
   "mimetype": "text/x-python",
   "name": "python",
   "nbconvert_exporter": "python",
   "pygments_lexer": "ipython3",
   "version": "3.6.10"
  }
 },
 "nbformat": 4,
 "nbformat_minor": 4
}
