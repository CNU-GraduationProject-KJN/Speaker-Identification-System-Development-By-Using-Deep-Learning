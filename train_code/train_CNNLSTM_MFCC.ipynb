{
 "cells": [
  {
   "cell_type": "code",
   "execution_count": 251,
   "metadata": {},
   "outputs": [],
   "source": [
    "try:\n",
    "    %tensorflow_version 2.x\n",
    "except Exception:\n",
    "    pass"
   ]
  },
  {
   "cell_type": "code",
   "execution_count": 252,
   "metadata": {},
   "outputs": [
    {
     "name": "stdout",
     "output_type": "stream",
     "text": [
      "2.1.0\n"
     ]
    }
   ],
   "source": [
    "from __future__ import absolute_import, division, print_function, unicode_literals, unicode_literals\n",
    "\n",
    "# tensorflow와 tf.keras를 import\n",
    "import tensorflow as tf\n",
    "from tensorflow import keras\n",
    "\n",
    "import numpy as np\n",
    "import matplotlib.pyplot as plt\n",
    "import os\n",
    "import pandas as pd\n",
    "import random\n",
    "\n",
    "print(tf.__version__)"
   ]
  },
  {
   "cell_type": "code",
   "execution_count": 253,
   "metadata": {
    "scrolled": false
   },
   "outputs": [
    {
     "name": "stdout",
     "output_type": "stream",
     "text": [
      "['2017019740001_kwakjuheon', '2017019740002_kimjiho', '2017019740003_songyejin', '2017019740004_parksohui', '2017019740005_moonyeonwoo', '2017019740006_kangsubin', '2017019740007_leekyeongeun', '2017019740008_chochaeyeon', '2017019740009_shindonghwan', '2017019740010_kwakmirae', '2017019740011_kimhyeryeong', '2017019740012_chaeminjoon', '2017019740013_kwakyiheon', '2017019740014_leesumin', '2017019740015_choihayoung', '2017019740016_kangyeseo', '2017019740017_kwakmihyang', '2017019740018_eundano', '2017019740019_limjinju', '2017019740020_kimseongje', '2017019740021_kwakbokyeong', '2017019740022_ahnhyojin', '2017019740023_heosehun', '2017019740024_choijiwon', '2017019740025_ahnjeongsuk', '2017019740026_parkyeongseon', '2017019740027_kwaksangpil', '2017019740028_kodohyeon', '2017019740029_limdonggeun', '2017019740030_kanghyeyeon', '2017019740031_jominseok', '2017019770001_kwonyuna', '2017019770002_kwoneunkyung', '2017019770003_johaesu', '2017019770004_leebyeongjin', '2017019770005_hyeonsanghyeok', '2017019770006_jennie', '2017019770007_simseungmin', '2017019770008_parksomi', '2017019770009_yuminji', '2017019770010_parksojin', '2017019770011_kwonyeonwoo', '2017019770012_ladakyeong', '2017019770013_janghyomin', '2017019770014_parkeunbi', '2017019770015_parkdayeung', '2017019770016_parkjongae', '2017019770017_hansohee', '2017019770018_janggyeoul', '2017019770019_leewooju', '2017019770020_nomyungok', '2017019770021_heoyoonjung', '2017019770022_heojaemin', '2017019770023_kimsoyung', '2017019770024_chuminha', '2017019770025_kimhyeonsu', '2017019770026_chaesonghwa', '2017019770027_kwonyulim', '2017019770028_kimminyoung', '2017019770029_jueunhong', '2017019770030_leejeongju', '2017019770031_kwonnahui', '2017019770032_kimdayeong', '2017019770033_kwonsundo', '2017019770034_kimhyeona', '2017019770035_leehyojin', '2017019770036_yuminji', '2017019770037_jeonghojun', '2017019770038_kanghyeyun', '2017019770039_ohjiwon', '2017019770040_kimdajeong', '2017019880001_kimsubin', '2017019880002_kimkihyeon', '2017019880003_kimminji', '2017019880004_myeongjaewon', '2017019880005_kimjihyeon', '2017019880006_choisuyeon', '2017019880007_hwanghyebin', '2017019880008_jangsoojin', '2017019880009_kimhongjoo', '2017019880010_kimhyorin', '2017019880011_kimjihyun', '2017019880012_kimsongyi', '2017019880013_kotaewan', '2017019880014_leedanbee', '2017019880015_leejungjoon', '2017019880016_parkjongkook', '2017019880017_sungsoohyun', '2017019880018_wonjoonho', '2017019880019_wonsonghee', '2017019880020_yoonhyeeun', '2017019880021_kimjuyeong', '2017019880022_kimjaein', '2017019880023_yoohaekyung', '2017019880024_hanyukyung', '2017019880025_yoojungkyun', '2017019880026_parkjongsang', '2017019880027_leesol', '2017019880028_kimsunghan', '2017019880029_kimminji', '2017019880030_hanseungoh', '2017019880031_ahnjiwoo', '2017019880032_seoyeonjoo', '2017019880033_kimnoeun', '2017019880034_leesujung', '2017019880035_songhyunjin', '2017019880036_kimjihye', '2017019880037_jusunghyun', '2017019880038_baejaehong', '2017019880039_seojuyeon', '2017019880040_shinheewook', '2017019880041_kimdaeun', '2017019880042_namyeji', '2017019880043_leegawon', '2017019880044_yoonsuhyun']\n"
     ]
    }
   ],
   "source": [
    "file_path = \"../feature/feature_mfcc_20s/\"\n",
    "class_names = os.listdir(file_path)\n",
    "class_names.sort()\n",
    "\n",
    "print(class_names)"
   ]
  },
  {
   "cell_type": "code",
   "execution_count": 262,
   "metadata": {
    "scrolled": true
   },
   "outputs": [],
   "source": [
    "x_list = []\n",
    "y_list = []\n",
    "\n",
    "for i in range(0,len(class_names)):\n",
    "    files=os.listdir(file_path+class_names[i])\n",
    "    files = [file for file in files if file.endswith(\".npy\")]\n",
    "\n",
    "    for j in range(0, len(files)):\n",
    "\n",
    "        x = np.load(file_path+class_names[i]+\"/\"+files[j])\n",
    "        x_list.append(x)\n",
    "        y_list.append(i)\n"
   ]
  },
  {
   "cell_type": "code",
   "execution_count": 263,
   "metadata": {},
   "outputs": [
    {
     "name": "stdout",
     "output_type": "stream",
     "text": [
      "x_train: (576, 594, 12)\n",
      "y_train: (576,)\n"
     ]
    }
   ],
   "source": [
    "x_train = np.array(x_list)\n",
    "y_train = np.array(y_list)\n",
    "\n",
    "print(\"x_train:\", x_train.shape)\n",
    "print(\"y_train:\", y_train.shape)\n",
    "\n",
    "from sklearn.model_selection import train_test_split\n",
    "x_train, x_val, y_train, y_val = train_test_split(x_train, y_train, stratify=y_train, test_size=0.2, random_state=42)"
   ]
  },
  {
   "cell_type": "code",
   "execution_count": 264,
   "metadata": {
    "scrolled": true
   },
   "outputs": [
    {
     "name": "stdout",
     "output_type": "stream",
     "text": [
      "x_train: (460, 594, 12)\n",
      "y_train: (460,)\n",
      "x_val: (116, 594, 12)\n",
      "y_val: (116,)\n"
     ]
    }
   ],
   "source": [
    "print(\"x_train:\", x_train.shape)\n",
    "print(\"y_train:\", y_train.shape)\n",
    "print(\"x_val:\", x_val.shape)\n",
    "print(\"y_val:\", y_val.shape)"
   ]
  },
  {
   "cell_type": "code",
   "execution_count": 265,
   "metadata": {},
   "outputs": [],
   "source": [
    "from tensorflow.keras.utils import to_categorical\n",
    "y_train_encoded = tf.keras.utils.to_categorical(y_train)\n",
    "y_val_encoded = tf.keras.utils.to_categorical(y_val)"
   ]
  },
  {
   "cell_type": "code",
   "execution_count": 266,
   "metadata": {},
   "outputs": [],
   "source": [
    "x_train = x_train.reshape(-1, x_train.shape[1], x_train.shape[2], 1)\n",
    "x_val   = x_val.reshape(-1, x_val.shape[1], x_val.shape[2], 1)"
   ]
  },
  {
   "cell_type": "code",
   "execution_count": 267,
   "metadata": {},
   "outputs": [
    {
     "name": "stdout",
     "output_type": "stream",
     "text": [
      "x_train: (460, 594, 12, 1)\n",
      "y_train: (460, 115)\n",
      "x_val: (116, 594, 12, 1)\n",
      "y_val: (116, 115)\n"
     ]
    }
   ],
   "source": [
    "print(\"x_train:\", x_train.shape)\n",
    "print(\"y_train:\", y_train_encoded.shape)\n",
    "print(\"x_val:\", x_val.shape)\n",
    "print(\"y_val:\", y_val_encoded.shape)"
   ]
  },
  {
   "cell_type": "code",
   "execution_count": 268,
   "metadata": {},
   "outputs": [],
   "source": [
    "#print(np.min(x_train), np.max(x_train))\n",
    "#x_train = x_train - np.min(x_train)\n",
    "\n",
    "#print(np.min(x_train), np.max(x_train))\n",
    "#x_train = x_train / np.max(x_train)\n",
    "\n",
    "#print(np.min(x_train), np.max(x_train))\n",
    "\n",
    "#print(np.min(x_val), np.max(x_val))\n",
    "#x_val = x_val - np.min(x_val)\n",
    "\n",
    "#print(np.min(x_val), np.max(x_val))\n",
    "#x_val = x_val / np.max(x_val)\n",
    "\n",
    "#print(np.min(x_val), np.max(x_val))"
   ]
  },
  {
   "cell_type": "code",
   "execution_count": 269,
   "metadata": {},
   "outputs": [],
   "source": [
    "#from sklearn.preprocessing import MinMaxScaler\n",
    "\n",
    "#scaler = MinMaxScaler()\n",
    "\n",
    "#nsamples, nx, ny, nz= x_train.shape\n",
    "#x_train_nor = scaler.fit_transform(x_train.reshape((nsamples,nx*ny*nz)))\n",
    "#x_train_nor = x_train_nor.reshape((nsamples,nx,ny,nz))\n",
    "\n",
    "#nsamples, nx, ny, nz= x_val.shape\n",
    "#x_val_nor = scaler.transform(x_val.reshape((nsamples,nx*ny*nz)))\n",
    "#x_val_nor = x_val_nor.reshape((nsamples,nx,ny,nz))\n"
   ]
  },
  {
   "cell_type": "code",
   "execution_count": 270,
   "metadata": {},
   "outputs": [],
   "source": [
    "from tensorflow.keras.layers import Conv2D, Flatten, Dense, BatchNormalization, MaxPool2D\n",
    "from tensorflow.keras.layers import Dropout, Input, Reshape, Bidirectional, LSTM, Flatten\n",
    "from tensorflow.keras.models import Model"
   ]
  },
  {
   "cell_type": "code",
   "execution_count": 273,
   "metadata": {},
   "outputs": [],
   "source": [
    "input_shape=(x_train.shape[1], x_train.shape[2], 1)\n",
    "\n",
    "visible = Input(shape=input_shape)\n",
    "\n",
    "hidden= Conv2D(64, (3, 3), strides=(1, 1), activation='relu', padding='same', name='conv1_1')(visible)\n",
    "hidden= Conv2D(64, (3, 3), strides=(1, 1), activation='relu', padding='same', name='conv1_2')(hidden)\n",
    "hidden= MaxPool2D(pool_size=(2, 2), strides=(2, 2), name='pool1', padding='same')(hidden)\n",
    "\n",
    "hidden= Conv2D(64, (3, 3), strides=(1, 1), activation='relu', padding='same', name='conv2_1')(hidden)\n",
    "hidden= MaxPool2D(pool_size=(2, 2), strides=(2, 2), name='pool2', padding='same')(hidden)\n",
    "\n",
    "hidden= Conv2D(128, (3, 3), strides=(1, 1), activation='relu', padding='same', name='conv3_1')(hidden)\n",
    "hidden= BatchNormalization(name='batchnorm1')(hidden)\n",
    "hidden= MaxPool2D(pool_size=(2, 2), strides=(1, 2), name='pool3', padding='valid')(hidden)\n",
    "\n",
    "#hidden= Conv2D(128, (2, 2), strides=(1, 1), activation='relu', padding='valid', name='conv4_1')(hidden)\n",
    "#hidden= BatchNormalization(name='batchnorm2')(hidden)\n",
    "#hidden= MaxPool2D(pool_size=(2, 2), strides=(1, 2), name='pool4', padding='valid')(hidden)\n",
    "\n",
    "#hidden= Conv2D(128, (2, 2), strides=(1, 1), activation='relu', padding='valid', name='conv5_1')(hidden)\n",
    "#hidden= BatchNormalization(name='batchnorm3')(hidden)\n",
    "#hidden= MaxPool2D(pool_size=(2, 2), strides=(1, 2), name='pool5', padding='valid')(hidden)\n",
    "\n",
    "#hidden= Conv2D(128, (2, 2), strides=(1, 1), activation='relu', padding='valid', name='conv6_1')(hidden)\n",
    "#hidden= MaxPool2D(pool_size=(2, 2), strides=(1, 2), name='pool6', padding='valid')(hidden)\n",
    "hidden = Reshape((hidden.shape[1]*hidden.shape[2],128))(hidden)\n",
    "\n",
    "hidden= LSTM(64, return_sequences=True)(hidden)\n",
    "hidden= LSTM(64, return_sequences=True)(hidden)\n",
    "hidden= Dropout(0.2)(hidden)\n",
    "hidden= LSTM(32, return_sequences=True)(hidden)\n",
    "hidden= LSTM(32, return_sequences=True)(hidden)\n",
    "hidden= Flatten()(hidden)\n",
    "#hidden = Dense(64, activation='relu')(hidden)\n",
    "\n",
    "output = Dense(len(class_names), activation=\"softmax\")(hidden)\n",
    "\n",
    "model = Model(visible, output)"
   ]
  },
  {
   "cell_type": "code",
   "execution_count": 274,
   "metadata": {},
   "outputs": [
    {
     "name": "stdout",
     "output_type": "stream",
     "text": [
      "Model: \"model_15\"\n",
      "_________________________________________________________________\n",
      "Layer (type)                 Output Shape              Param #   \n",
      "=================================================================\n",
      "input_21 (InputLayer)        [(None, 594, 12, 1)]      0         \n",
      "_________________________________________________________________\n",
      "conv1_1 (Conv2D)             (None, 594, 12, 64)       640       \n",
      "_________________________________________________________________\n",
      "conv1_2 (Conv2D)             (None, 594, 12, 64)       36928     \n",
      "_________________________________________________________________\n",
      "pool1 (MaxPooling2D)         (None, 297, 6, 64)        0         \n",
      "_________________________________________________________________\n",
      "conv2_1 (Conv2D)             (None, 297, 6, 64)        36928     \n",
      "_________________________________________________________________\n",
      "pool2 (MaxPooling2D)         (None, 149, 3, 64)        0         \n",
      "_________________________________________________________________\n",
      "conv3_1 (Conv2D)             (None, 149, 3, 128)       73856     \n",
      "_________________________________________________________________\n",
      "batchnorm1 (BatchNormalizati (None, 149, 3, 128)       512       \n",
      "_________________________________________________________________\n",
      "pool3 (MaxPooling2D)         (None, 148, 1, 128)       0         \n",
      "_________________________________________________________________\n",
      "reshape_15 (Reshape)         (None, 148, 128)          0         \n",
      "_________________________________________________________________\n",
      "lstm_60 (LSTM)               (None, 148, 64)           49408     \n",
      "_________________________________________________________________\n",
      "lstm_61 (LSTM)               (None, 148, 64)           33024     \n",
      "_________________________________________________________________\n",
      "dropout_15 (Dropout)         (None, 148, 64)           0         \n",
      "_________________________________________________________________\n",
      "lstm_62 (LSTM)               (None, 148, 32)           12416     \n",
      "_________________________________________________________________\n",
      "lstm_63 (LSTM)               (None, 148, 32)           8320      \n",
      "_________________________________________________________________\n",
      "flatten_15 (Flatten)         (None, 4736)              0         \n",
      "_________________________________________________________________\n",
      "dense_15 (Dense)             (None, 115)               544755    \n",
      "=================================================================\n",
      "Total params: 796,787\n",
      "Trainable params: 796,531\n",
      "Non-trainable params: 256\n",
      "_________________________________________________________________\n"
     ]
    }
   ],
   "source": [
    "model.summary()"
   ]
  },
  {
   "cell_type": "code",
   "execution_count": 275,
   "metadata": {},
   "outputs": [],
   "source": [
    "model.compile(optimizer=keras.optimizers.SGD(lr=0.05, momentum=0.0, decay=0.0, nesterov=False), loss=tf.keras.losses.categorical_crossentropy, metrics=[\"accuracy\"])"
   ]
  },
  {
   "cell_type": "code",
   "execution_count": 276,
   "metadata": {
    "scrolled": true
   },
   "outputs": [
    {
     "name": "stdout",
     "output_type": "stream",
     "text": [
      "Train on 460 samples, validate on 116 samples\n",
      "Epoch 1/100\n",
      "460/460 [==============================] - 6s 13ms/sample - loss: 4.8212 - accuracy: 0.0022 - val_loss: 4.7499 - val_accuracy: 0.0172\n",
      "Epoch 2/100\n",
      "460/460 [==============================] - 4s 8ms/sample - loss: 4.7601 - accuracy: 0.0043 - val_loss: 4.7692 - val_accuracy: 0.0086\n",
      "Epoch 3/100\n",
      "460/460 [==============================] - 4s 8ms/sample - loss: 4.4350 - accuracy: 0.0543 - val_loss: 4.7849 - val_accuracy: 0.0172\n",
      "Epoch 4/100\n",
      "460/460 [==============================] - 3s 6ms/sample - loss: 3.3110 - accuracy: 0.1935 - val_loss: 5.7555 - val_accuracy: 0.0172\n",
      "Epoch 5/100\n",
      "460/460 [==============================] - 4s 8ms/sample - loss: 2.2106 - accuracy: 0.4217 - val_loss: 4.0601 - val_accuracy: 0.2069\n",
      "Epoch 6/100\n",
      "460/460 [==============================] - 4s 9ms/sample - loss: 1.4548 - accuracy: 0.6065 - val_loss: 4.4240 - val_accuracy: 0.1379\n",
      "Epoch 7/100\n",
      "460/460 [==============================] - 3s 7ms/sample - loss: 0.7991 - accuracy: 0.7826 - val_loss: 3.4948 - val_accuracy: 0.3190\n",
      "Epoch 8/100\n",
      "460/460 [==============================] - 2s 5ms/sample - loss: 0.4069 - accuracy: 0.9022 - val_loss: 7.2615 - val_accuracy: 0.0517\n",
      "Epoch 9/100\n",
      "460/460 [==============================] - 3s 6ms/sample - loss: 0.2977 - accuracy: 0.9304 - val_loss: 3.6452 - val_accuracy: 0.3707\n",
      "Epoch 10/100\n",
      "460/460 [==============================] - 3s 6ms/sample - loss: 0.1286 - accuracy: 0.9826 - val_loss: 3.3969 - val_accuracy: 0.3966\n",
      "Epoch 11/100\n",
      "460/460 [==============================] - 3s 7ms/sample - loss: 0.0581 - accuracy: 0.9935 - val_loss: 2.9150 - val_accuracy: 0.5000\n",
      "Epoch 12/100\n",
      "460/460 [==============================] - 4s 9ms/sample - loss: 0.1347 - accuracy: 0.9870 - val_loss: 2.7978 - val_accuracy: 0.4828\n",
      "Epoch 13/100\n",
      "460/460 [==============================] - 5s 11ms/sample - loss: 0.1062 - accuracy: 0.9826 - val_loss: 2.9663 - val_accuracy: 0.4741\n",
      "Epoch 14/100\n",
      "460/460 [==============================] - 4s 9ms/sample - loss: 0.0957 - accuracy: 0.9913 - val_loss: 2.8667 - val_accuracy: 0.5259\n",
      "Epoch 15/100\n",
      "460/460 [==============================] - 4s 8ms/sample - loss: 0.0933 - accuracy: 0.9891 - val_loss: 2.8653 - val_accuracy: 0.4828\n",
      "Epoch 16/100\n",
      "460/460 [==============================] - 4s 8ms/sample - loss: 0.0447 - accuracy: 0.9913 - val_loss: 2.9439 - val_accuracy: 0.5086\n",
      "Epoch 17/100\n",
      "460/460 [==============================] - 4s 9ms/sample - loss: 0.0660 - accuracy: 0.9935 - val_loss: 2.9228 - val_accuracy: 0.4828\n",
      "Epoch 18/100\n",
      "460/460 [==============================] - 5s 10ms/sample - loss: 0.0786 - accuracy: 0.9891 - val_loss: 2.9105 - val_accuracy: 0.5000\n",
      "Epoch 19/100\n",
      "460/460 [==============================] - 4s 9ms/sample - loss: 0.0587 - accuracy: 0.9935 - val_loss: 3.0501 - val_accuracy: 0.4655\n",
      "Epoch 20/100\n",
      "460/460 [==============================] - 4s 8ms/sample - loss: 0.1042 - accuracy: 0.9870 - val_loss: 2.9311 - val_accuracy: 0.4655\n",
      "Epoch 21/100\n",
      "460/460 [==============================] - 4s 10ms/sample - loss: 0.0651 - accuracy: 0.9913 - val_loss: 3.0719 - val_accuracy: 0.4310\n",
      "Epoch 22/100\n",
      "460/460 [==============================] - 5s 10ms/sample - loss: 0.0899 - accuracy: 0.9870 - val_loss: 4.5589 - val_accuracy: 0.2069\n",
      "Epoch 23/100\n",
      "460/460 [==============================] - 4s 10ms/sample - loss: 0.0548 - accuracy: 0.9935 - val_loss: 2.9040 - val_accuracy: 0.5086\n",
      "Epoch 24/100\n",
      "460/460 [==============================] - 4s 8ms/sample - loss: 0.0656 - accuracy: 0.9913 - val_loss: 2.8833 - val_accuracy: 0.5172\n",
      "Epoch 25/100\n",
      "460/460 [==============================] - 3s 7ms/sample - loss: 0.0512 - accuracy: 0.9913 - val_loss: 4.0502 - val_accuracy: 0.3534\n",
      "Epoch 26/100\n",
      "460/460 [==============================] - 4s 9ms/sample - loss: 0.1072 - accuracy: 0.9848 - val_loss: 2.9370 - val_accuracy: 0.4914\n",
      "Epoch 27/100\n",
      "460/460 [==============================] - 3s 6ms/sample - loss: 0.0251 - accuracy: 0.9978 - val_loss: 3.5727 - val_accuracy: 0.4310\n",
      "Epoch 28/100\n",
      "460/460 [==============================] - 3s 7ms/sample - loss: 0.0667 - accuracy: 0.9913 - val_loss: 2.9476 - val_accuracy: 0.5259\n",
      "Epoch 29/100\n",
      "460/460 [==============================] - 4s 8ms/sample - loss: 0.0413 - accuracy: 0.9957 - val_loss: 2.9036 - val_accuracy: 0.4914\n",
      "Epoch 30/100\n",
      "460/460 [==============================] - 4s 9ms/sample - loss: 0.0594 - accuracy: 0.9913 - val_loss: 2.8880 - val_accuracy: 0.5000\n",
      "Epoch 31/100\n",
      "460/460 [==============================] - 4s 8ms/sample - loss: 0.0574 - accuracy: 0.9891 - val_loss: 2.8984 - val_accuracy: 0.5000\n",
      "Epoch 32/100\n",
      "460/460 [==============================] - 4s 9ms/sample - loss: 0.0525 - accuracy: 0.9891 - val_loss: 2.8739 - val_accuracy: 0.4914\n",
      "Epoch 33/100\n",
      "460/460 [==============================] - 3s 7ms/sample - loss: 0.0559 - accuracy: 0.9870 - val_loss: 2.8644 - val_accuracy: 0.4914\n",
      "Epoch 34/100\n",
      "460/460 [==============================] - 4s 9ms/sample - loss: 0.0671 - accuracy: 0.9891 - val_loss: 3.0276 - val_accuracy: 0.5086\n",
      "Epoch 35/100\n",
      "460/460 [==============================] - 4s 8ms/sample - loss: 0.0358 - accuracy: 0.9935 - val_loss: 3.0120 - val_accuracy: 0.4741\n",
      "Epoch 36/100\n",
      "460/460 [==============================] - 4s 9ms/sample - loss: 0.0603 - accuracy: 0.9913 - val_loss: 2.9570 - val_accuracy: 0.4483\n",
      "Epoch 37/100\n",
      "460/460 [==============================] - 3s 7ms/sample - loss: 0.0389 - accuracy: 0.9913 - val_loss: 3.1080 - val_accuracy: 0.4397\n",
      "Epoch 38/100\n",
      "460/460 [==============================] - 5s 10ms/sample - loss: 0.0625 - accuracy: 0.9913 - val_loss: 2.8907 - val_accuracy: 0.5172\n",
      "Epoch 39/100\n",
      "460/460 [==============================] - 4s 10ms/sample - loss: 0.0588 - accuracy: 0.9891 - val_loss: 2.8075 - val_accuracy: 0.5259\n",
      "Epoch 40/100\n",
      "460/460 [==============================] - 4s 10ms/sample - loss: 0.0528 - accuracy: 0.9870 - val_loss: 2.9093 - val_accuracy: 0.5259\n",
      "Epoch 41/100\n",
      "460/460 [==============================] - 4s 9ms/sample - loss: 0.0476 - accuracy: 0.9891 - val_loss: 2.9503 - val_accuracy: 0.5172\n",
      "Epoch 42/100\n",
      "460/460 [==============================] - 4s 9ms/sample - loss: 0.0491 - accuracy: 0.9913 - val_loss: 2.8362 - val_accuracy: 0.5259\n",
      "Epoch 43/100\n",
      "460/460 [==============================] - 3s 8ms/sample - loss: 0.0306 - accuracy: 0.9935 - val_loss: 2.8580 - val_accuracy: 0.5259\n",
      "Epoch 44/100\n",
      "460/460 [==============================] - 4s 9ms/sample - loss: 0.0467 - accuracy: 0.9891 - val_loss: 2.9002 - val_accuracy: 0.5172\n",
      "Epoch 45/100\n",
      "460/460 [==============================] - 4s 9ms/sample - loss: 0.0317 - accuracy: 0.9913 - val_loss: 2.8782 - val_accuracy: 0.5345\n",
      "Epoch 46/100\n",
      "460/460 [==============================] - 5s 11ms/sample - loss: 0.0568 - accuracy: 0.9891 - val_loss: 2.8822 - val_accuracy: 0.5086\n",
      "Epoch 47/100\n",
      "460/460 [==============================] - 4s 9ms/sample - loss: 0.0415 - accuracy: 0.9913 - val_loss: 2.8817 - val_accuracy: 0.5086\n",
      "Epoch 48/100\n",
      "460/460 [==============================] - 5s 10ms/sample - loss: 0.0330 - accuracy: 0.9913 - val_loss: 2.8999 - val_accuracy: 0.5172\n",
      "Epoch 49/100\n",
      "460/460 [==============================] - 4s 9ms/sample - loss: 0.0343 - accuracy: 0.9913 - val_loss: 2.9086 - val_accuracy: 0.5086\n",
      "Epoch 50/100\n",
      "460/460 [==============================] - 5s 11ms/sample - loss: 0.0269 - accuracy: 0.9935 - val_loss: 2.9795 - val_accuracy: 0.5259\n",
      "Epoch 51/100\n",
      "460/460 [==============================] - 5s 10ms/sample - loss: 0.0455 - accuracy: 0.9870 - val_loss: 2.8565 - val_accuracy: 0.5086\n",
      "Epoch 52/100\n",
      "460/460 [==============================] - 4s 8ms/sample - loss: 0.0359 - accuracy: 0.9870 - val_loss: 2.9256 - val_accuracy: 0.5172\n",
      "Epoch 53/100\n",
      "460/460 [==============================] - 5s 10ms/sample - loss: 0.0299 - accuracy: 0.9913 - val_loss: 2.9102 - val_accuracy: 0.5259\n",
      "Epoch 54/100\n",
      "460/460 [==============================] - 5s 10ms/sample - loss: 0.0340 - accuracy: 0.9913 - val_loss: 3.0756 - val_accuracy: 0.5172\n",
      "Epoch 55/100\n",
      "460/460 [==============================] - 4s 9ms/sample - loss: 0.0362 - accuracy: 0.9891 - val_loss: 2.9560 - val_accuracy: 0.5345\n",
      "Epoch 56/100\n",
      "460/460 [==============================] - 4s 9ms/sample - loss: 0.0324 - accuracy: 0.9913 - val_loss: 2.8375 - val_accuracy: 0.4741\n"
     ]
    },
    {
     "name": "stdout",
     "output_type": "stream",
     "text": [
      "Epoch 57/100\n",
      "460/460 [==============================] - 5s 11ms/sample - loss: 0.0340 - accuracy: 0.9913 - val_loss: 3.2156 - val_accuracy: 0.4914\n",
      "Epoch 58/100\n",
      "460/460 [==============================] - 4s 9ms/sample - loss: 0.0318 - accuracy: 0.9913 - val_loss: 3.0164 - val_accuracy: 0.5086\n",
      "Epoch 59/100\n",
      "460/460 [==============================] - 5s 11ms/sample - loss: 0.0241 - accuracy: 0.9913 - val_loss: 2.9963 - val_accuracy: 0.5259\n",
      "Epoch 60/100\n",
      "460/460 [==============================] - 4s 9ms/sample - loss: 0.0206 - accuracy: 0.9935 - val_loss: 3.0523 - val_accuracy: 0.5259\n",
      "Epoch 61/100\n",
      "460/460 [==============================] - 5s 11ms/sample - loss: 0.0311 - accuracy: 0.9913 - val_loss: 3.1458 - val_accuracy: 0.4052\n",
      "Epoch 62/100\n",
      "460/460 [==============================] - 4s 9ms/sample - loss: 0.0143 - accuracy: 0.9978 - val_loss: 3.2152 - val_accuracy: 0.5086\n",
      "Epoch 63/100\n",
      "460/460 [==============================] - 4s 9ms/sample - loss: 0.0349 - accuracy: 0.9891 - val_loss: 3.0300 - val_accuracy: 0.5086\n",
      "Epoch 64/100\n",
      "460/460 [==============================] - 5s 11ms/sample - loss: 0.0290 - accuracy: 0.9935 - val_loss: 3.1249 - val_accuracy: 0.4655\n",
      "Epoch 65/100\n",
      "460/460 [==============================] - 5s 11ms/sample - loss: 0.0277 - accuracy: 0.9891 - val_loss: 3.0717 - val_accuracy: 0.5086\n",
      "Epoch 66/100\n",
      "460/460 [==============================] - 5s 10ms/sample - loss: 0.0135 - accuracy: 0.9957 - val_loss: 3.0356 - val_accuracy: 0.4828\n",
      "Epoch 67/100\n",
      "460/460 [==============================] - 5s 12ms/sample - loss: 0.0231 - accuracy: 0.9935 - val_loss: 3.1199 - val_accuracy: 0.5345\n",
      "Epoch 68/100\n",
      "460/460 [==============================] - 5s 11ms/sample - loss: 0.0254 - accuracy: 0.9870 - val_loss: 3.0953 - val_accuracy: 0.5259\n",
      "Epoch 69/100\n",
      "460/460 [==============================] - 6s 13ms/sample - loss: 0.0229 - accuracy: 0.9935 - val_loss: 3.1026 - val_accuracy: 0.5172\n",
      "Epoch 70/100\n",
      "460/460 [==============================] - 5s 11ms/sample - loss: 0.0262 - accuracy: 0.9891 - val_loss: 3.0989 - val_accuracy: 0.5345\n",
      "Epoch 71/100\n",
      "460/460 [==============================] - 4s 8ms/sample - loss: 0.0243 - accuracy: 0.9891 - val_loss: 3.0936 - val_accuracy: 0.5259\n",
      "Epoch 72/100\n",
      "460/460 [==============================] - 4s 8ms/sample - loss: 0.0234 - accuracy: 0.9913 - val_loss: 3.0844 - val_accuracy: 0.5172\n",
      "Epoch 73/100\n",
      "460/460 [==============================] - 5s 10ms/sample - loss: 0.0167 - accuracy: 0.9935 - val_loss: 3.0999 - val_accuracy: 0.5259\n",
      "Epoch 74/100\n",
      "460/460 [==============================] - 4s 9ms/sample - loss: 0.0218 - accuracy: 0.9891 - val_loss: 3.0978 - val_accuracy: 0.5259\n",
      "Epoch 75/100\n",
      "460/460 [==============================] - 5s 10ms/sample - loss: 0.0156 - accuracy: 0.9957 - val_loss: 3.1405 - val_accuracy: 0.5000\n",
      "Epoch 76/100\n",
      "460/460 [==============================] - 5s 11ms/sample - loss: 0.0214 - accuracy: 0.9913 - val_loss: 3.1278 - val_accuracy: 0.5086\n",
      "Epoch 77/100\n",
      "460/460 [==============================] - 4s 10ms/sample - loss: 0.0193 - accuracy: 0.9913 - val_loss: 3.0739 - val_accuracy: 0.5086\n",
      "Epoch 78/100\n",
      "460/460 [==============================] - 4s 8ms/sample - loss: 0.0248 - accuracy: 0.9935 - val_loss: 3.1285 - val_accuracy: 0.5000\n",
      "Epoch 79/100\n",
      "460/460 [==============================] - 5s 10ms/sample - loss: 0.0195 - accuracy: 0.9913 - val_loss: 3.1816 - val_accuracy: 0.5259\n",
      "Epoch 80/100\n",
      "460/460 [==============================] - 4s 9ms/sample - loss: 0.0201 - accuracy: 0.9913 - val_loss: 3.1738 - val_accuracy: 0.5086\n",
      "Epoch 81/100\n",
      "460/460 [==============================] - 5s 11ms/sample - loss: 0.0188 - accuracy: 0.9891 - val_loss: 3.1786 - val_accuracy: 0.5172\n",
      "Epoch 82/100\n",
      "460/460 [==============================] - 5s 11ms/sample - loss: 0.0177 - accuracy: 0.9913 - val_loss: 3.2305 - val_accuracy: 0.5172\n",
      "Epoch 83/100\n",
      "460/460 [==============================] - 4s 10ms/sample - loss: 0.0153 - accuracy: 0.9913 - val_loss: 3.2452 - val_accuracy: 0.5086\n",
      "Epoch 84/100\n",
      "460/460 [==============================] - 5s 10ms/sample - loss: 0.0188 - accuracy: 0.9891 - val_loss: 3.2128 - val_accuracy: 0.5259\n",
      "Epoch 85/100\n",
      "460/460 [==============================] - 4s 9ms/sample - loss: 0.0178 - accuracy: 0.9891 - val_loss: 3.2050 - val_accuracy: 0.5345\n",
      "Epoch 86/100\n",
      "460/460 [==============================] - 5s 10ms/sample - loss: 0.0150 - accuracy: 0.9913 - val_loss: 3.2195 - val_accuracy: 0.5259\n",
      "Epoch 87/100\n",
      "460/460 [==============================] - 5s 12ms/sample - loss: 0.0145 - accuracy: 0.9913 - val_loss: 3.2169 - val_accuracy: 0.5345\n",
      "Epoch 88/100\n",
      "460/460 [==============================] - 5s 10ms/sample - loss: 0.0183 - accuracy: 0.9913 - val_loss: 3.2331 - val_accuracy: 0.5086\n",
      "Epoch 89/100\n",
      "460/460 [==============================] - 5s 10ms/sample - loss: 0.0168 - accuracy: 0.9891 - val_loss: 3.2589 - val_accuracy: 0.5259\n",
      "Epoch 90/100\n",
      "460/460 [==============================] - 5s 10ms/sample - loss: 0.0167 - accuracy: 0.9891 - val_loss: 3.2423 - val_accuracy: 0.5172\n",
      "Epoch 91/100\n",
      "460/460 [==============================] - 4s 8ms/sample - loss: 0.0164 - accuracy: 0.9891 - val_loss: 3.2967 - val_accuracy: 0.5172\n",
      "Epoch 92/100\n",
      "460/460 [==============================] - 4s 10ms/sample - loss: 0.0181 - accuracy: 0.9870 - val_loss: 3.2494 - val_accuracy: 0.5259\n",
      "Epoch 93/100\n",
      "460/460 [==============================] - 5s 11ms/sample - loss: 0.0151 - accuracy: 0.9891 - val_loss: 3.2975 - val_accuracy: 0.5086\n",
      "Epoch 94/100\n",
      "460/460 [==============================] - 5s 12ms/sample - loss: 0.0128 - accuracy: 0.9935 - val_loss: 3.4072 - val_accuracy: 0.5172\n",
      "Epoch 95/100\n",
      "460/460 [==============================] - 4s 9ms/sample - loss: 0.0161 - accuracy: 0.9935 - val_loss: 3.1922 - val_accuracy: 0.4741\n",
      "Epoch 96/100\n",
      "460/460 [==============================] - 4s 10ms/sample - loss: 0.0137 - accuracy: 0.9935 - val_loss: 3.3036 - val_accuracy: 0.5172\n",
      "Epoch 97/100\n",
      "460/460 [==============================] - 4s 8ms/sample - loss: 0.0154 - accuracy: 0.9913 - val_loss: 3.2605 - val_accuracy: 0.5000\n",
      "Epoch 98/100\n",
      "460/460 [==============================] - 4s 9ms/sample - loss: 0.0152 - accuracy: 0.9891 - val_loss: 3.2906 - val_accuracy: 0.5259\n",
      "Epoch 99/100\n",
      "460/460 [==============================] - 4s 9ms/sample - loss: 0.0143 - accuracy: 0.9935 - val_loss: 3.3485 - val_accuracy: 0.5259\n",
      "Epoch 100/100\n",
      "460/460 [==============================] - 2s 5ms/sample - loss: 0.0143 - accuracy: 0.9935 - val_loss: 3.3091 - val_accuracy: 0.5259\n"
     ]
    }
   ],
   "source": [
    "history = model.fit(x_train, y_train_encoded, batch_size=4, epochs=100, verbose=1, validation_data=(x_val, y_val_encoded))"
   ]
  },
  {
   "cell_type": "code",
   "execution_count": 277,
   "metadata": {},
   "outputs": [
    {
     "data": {
      "image/png": "[encoded data removed]",
      "text/plain": [
       "<Figure size 1008x432 with 1 Axes>"
      ]
     },
     "metadata": {
      "needs_background": "light"
     },
     "output_type": "display_data"
    }
   ],
   "source": [
    "plt.figure(figsize=(14, 6))\n",
    "plt.rc('font', size=18)\n",
    "\n",
    "plt.plot(history.history[\"accuracy\"])\n",
    "plt.plot(history.history[\"val_accuracy\"])\n",
    "plt.ylabel(\"accuracy\")\n",
    "plt.xlabel(\"epoch\")\n",
    "plt.legend([\"train_accuracy\", \"val_accuracy\"])\n",
    "plt.show()"
   ]
  },
  {
   "cell_type": "code",
   "execution_count": 279,
   "metadata": {
    "scrolled": true
   },
   "outputs": [
    {
     "name": "stdout",
     "output_type": "stream",
     "text": [
      "Predict : 2017019740001_kwakjuheon , Real : 2017019740001_kwakjuheon\n",
      "Predict : 2017019770002_kwoneunkyung , Real : 2017019740001_kwakjuheon\n",
      "Predict : 2017019770017_hansohee , Real : 2017019740001_kwakjuheon\n",
      "Predict : 2017019880019_wonsonghee , Real : 2017019740001_kwakjuheon\n",
      "Predict : 2017019740026_parkyeongseon , Real : 2017019740001_kwakjuheon\n",
      "Predict : 2017019740029_limdonggeun , Real : 2017019740029_limdonggeun\n",
      "Predict : 2017019770001_kwonyuna , Real : 2017019770001_kwonyuna\n",
      "Predict : 2017019770001_kwonyuna , Real : 2017019770001_kwonyuna\n",
      "Predict : 2017019770001_kwonyuna , Real : 2017019770001_kwonyuna\n",
      "Predict : 2017019770001_kwonyuna , Real : 2017019770001_kwonyuna\n",
      "Predict : 2017019770001_kwonyuna , Real : 2017019770001_kwonyuna\n",
      "Predict : 2017019880001_kimsubin , Real : 2017019880001_kimsubin\n",
      "Predict : 2017019880001_kimsubin , Real : 2017019880001_kimsubin\n",
      "Predict : 2017019880001_kimsubin , Real : 2017019880001_kimsubin\n",
      "Predict : 2017019880001_kimsubin , Real : 2017019880001_kimsubin\n",
      "Predict : 2017019770005_hyeonsanghyeok , Real : 2017019880001_kimsubin\n",
      "0.6875\n"
     ]
    }
   ],
   "source": [
    "from sklearn.metrics import accuracy_score\n",
    "\n",
    "val_file_path = \"../feature/feature_mfcc_20s_validation/\"\n",
    "x_validation_list=[]\n",
    "y_validation_list=[]\n",
    "\n",
    "val_class_names = os.listdir(val_file_path)\n",
    "val_class_names.sort()\n",
    "\n",
    "for i in range(0,len(val_class_names)):\n",
    "    val_files=os.listdir(val_file_path+val_class_names[i])\n",
    "    val_files = [file for file in val_files if file.endswith(\".npy\")]\n",
    "\n",
    "    for j in range(0, len(val_files)):\n",
    "        x = np.load(val_file_path+val_class_names[i]+\"/\"+val_files[j])\n",
    "        x_validation_list.append(x)\n",
    "        y_validation_list.append(i)\n",
    "\n",
    "\n",
    "x_validation = np.array(x_validation_list)\n",
    "y_validation = np.array(y_validation_list)\n",
    "y_validation_encoded = tf.keras.utils.to_categorical(y_validation)\n",
    "\n",
    "x_validation = x_validation.reshape(-1, x_validation.shape[1], x_validation.shape[2], 1)\n",
    "\n",
    "\n",
    "#x_validation = x_validation - np.min(x_validation)\n",
    "#x_validation = x_validation / np.max(x_validation)\n",
    "real =[]\n",
    "pred_out_idex=[]\n",
    "\n",
    "for k in range(0, len(x_validation)):\n",
    "    \n",
    "    kt = x_validation[k].reshape(-1, x_validation.shape[1], x_validation.shape[2], 1)\n",
    "    \n",
    "    #nsamples, nx, ny,nz = kt.shape\n",
    "    #kt = scaler.transform(kt.reshape((nsamples,nx*ny*nz)))\n",
    "    #kt = kt.reshape((nsamples,nx,ny,nz))\n",
    "    \n",
    "    predictions_single = model.predict(kt)\n",
    "    print(\"Predict :\",class_names[np.argmax(predictions_single)],\", Real :\",val_class_names[y_validation[k]])\n",
    "    real.append(class_names.index(val_class_names[y_validation[k]]))\n",
    "    pred_out_idex.append(np.argmax(predictions_single))\n",
    "    \n",
    "# get the accuracy\n",
    "print (accuracy_score(real, pred_out_idex))\n",
    "\n",
    "#batch=4, epoch=50 0.5625 val_accuracy: 0.6783\n",
    "#batch=16, epoch=50 0.75 val_accuracy: 0.8000\n",
    "#batch=32, epoch=50 0.5625 val_accuracy: 0.7913\n",
    "#batch=8, epoch=100 0.75 val_accuracy: 0.7130\n",
    "#batch=16, epoch=100 0.6875 val_accuracy: 0.8000"
   ]
  },
  {
   "cell_type": "code",
   "execution_count": null,
   "metadata": {},
   "outputs": [],
   "source": []
  },
  {
   "cell_type": "code",
   "execution_count": null,
   "metadata": {},
   "outputs": [],
   "source": []
  }
 ],
 "metadata": {
  "kernelspec": {
   "display_name": "Python(py36)",
   "language": "python",
   "name": "py36"
  },
  "language_info": {
   "codemirror_mode": {
    "name": "ipython",
    "version": 3
   },
   "file_extension": ".py",
   "mimetype": "text/x-python",
   "name": "python",
   "nbconvert_exporter": "python",
   "pygments_lexer": "ipython3",
   "version": "3.6.10"
  }
 },
 "nbformat": 4,
 "nbformat_minor": 4
}
