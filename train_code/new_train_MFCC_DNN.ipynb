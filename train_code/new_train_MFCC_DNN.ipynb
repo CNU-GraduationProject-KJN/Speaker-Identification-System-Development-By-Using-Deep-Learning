{
 "cells": [
  {
   "cell_type": "code",
   "execution_count": 109,
   "metadata": {},
   "outputs": [],
   "source": [
    "try:\n",
    "    %tensorflow_version 2.x\n",
    "except Exception:\n",
    "    pass"
   ]
  },
  {
   "cell_type": "code",
   "execution_count": 110,
   "metadata": {},
   "outputs": [
    {
     "name": "stdout",
     "output_type": "stream",
     "text": [
      "2.1.0\n"
     ]
    }
   ],
   "source": [
    "from __future__ import absolute_import, division, print_function, unicode_literals, unicode_literals\n",
    "\n",
    "# tensorflow와 tf.keras를 import\n",
    "import tensorflow as tf\n",
    "from tensorflow import keras as kr\n",
    "\n",
    "import numpy as np\n",
    "import matplotlib.pyplot as plt\n",
    "import os\n",
    "# import pandas as pd\n",
    "import random\n",
    "\n",
    "print(tf.__version__)"
   ]
  },
  {
   "cell_type": "code",
   "execution_count": 111,
   "metadata": {},
   "outputs": [
    {
     "name": "stdout",
     "output_type": "stream",
     "text": [
      "['2017019740001_kwakjuheon', '2017019740002_kimjiho', '2017019740003_songyejin', '2017019740004_parksohui', '2017019740005_moonyeonwoo', '2017019740006_kangsubin', '2017019740007_leekyeongeun', '2017019740008_chochaeyeon', '2017019740009_shindonghwan', '2017019740010_kwakmirae', '2017019740011_kimhyeryeong', '2017019740012_chaeminjoon', '2017019740013_kwakyiheon', '2017019740014_leesumin', '2017019740015_choihayoung', '2017019740016_kangyeseo', '2017019740017_kwakmihyang', '2017019740018_eundano', '2017019740019_limjinju', '2017019740020_kimseongje', '2017019740021_kwakbokyeong', '2017019770001_kwonyuna', '2017019770002_kwoneunkyung', '2017019770003_johaesu', '2017019770004_leebyeongjin', '2017019770005_hyeonsanghyeok', '2017019770006_jennie', '2017019770007_simseungmin', '2017019770008_parksomi', '2017019770009_yuminji', '2017019770010_parksojin', '2017019770011_kwonyeonwoo', '2017019770012_ladakyeong', '2017019770013_janghyomin', '2017019770014_parkeunbi', '2017019770015_parkdayeung', '2017019770016_parkjongae', '2017019770017_hansohee', '2017019770018_janggyeoul', '2017019770019_leewooju', '2017019770020_nomyungok', '2017019770021_heoyoonjung', '2017019770022_heojaemin', '2017019770023_kimsoyung', '2017019770024_chuminha', '2017019770025_kimhyeonsu', '2017019770026_chaesonghwa', '2017019770027_kwonyulim', '2017019770028_kimminyoung', '2017019770029_jueunhong', '2017019770030_leejeongju', '2017019770031_kwonnahui', '2017019770032_kimdayeong', '2017019770033_kwonsundo', '2017019770034_kimhyeona', '2017019770035_leehyojin', '2017019770036_yuminji', '2017019770037_jeonghojun', '2017019770038_kanghyeyun', '2017019880001_kimsubin', '2017019880002_kimkihyeon', '2017019880003_kimminji', '2017019880004_myeongjaewon', '2017019880005_kimjihyeon']\n"
     ]
    },
    {
     "data": {
      "text/plain": [
       "64"
      ]
     },
     "execution_count": 111,
     "metadata": {},
     "output_type": "execute_result"
    }
   ],
   "source": [
    "class_names = os.listdir(\"../feature/feature_mfcc/\")\n",
    "class_names.sort()\n",
    "\n",
    "print(class_names)\n",
    "len(class_names)"
   ]
  },
  {
   "cell_type": "code",
   "execution_count": 112,
   "metadata": {},
   "outputs": [],
   "source": [
    "from tensorflow.keras.models import Sequential\n",
    "from tensorflow.keras.layers import Dense \n",
    "from tensorflow.keras.models import Model\n",
    "from tensorflow.keras.layers import Dense, Embedding, Input, Activation, Dropout, Reshape, concatenate\n",
    "from tensorflow.keras import regularizers\n",
    "from tensorflow.keras.wrappers.scikit_learn import KerasClassifier \n",
    "import sklearn\n",
    "from sklearn.model_selection import KFold, StratifiedKFold\n",
    "from sklearn.model_selection import cross_validate, cross_val_predict\n",
    "from tensorflow.keras.layers import Conv1D, Conv2D, GlobalAveragePooling2D\n",
    "from tensorflow.keras.layers import MaxPooling1D, MaxPooling3D, MaxPooling2D\n",
    "from tensorflow.keras.layers import Flatten\n",
    "from tensorflow.keras.optimizers import Adadelta\n",
    "import numpy\n"
   ]
  },
  {
   "cell_type": "code",
   "execution_count": 113,
   "metadata": {},
   "outputs": [],
   "source": [
    "x_list = []\n",
    "y_list = []\n",
    "\n",
    "for i in range(0,len(class_names)):\n",
    "    files=os.listdir(\"../feature/feature_mfcc/\"+class_names[i])\n",
    "    files = [file for file in files if file.endswith(\".npy\")]\n",
    "    #print(class_names[i].split('_')[0])\n",
    "\n",
    "    for j in range(0, len(files)):\n",
    "        #print(files[j], j)\n",
    "        x = np.load(\"../feature/feature_mfcc/\"+class_names[i]+\"/\"+files[j])\n",
    "        x_list.append(x)\n",
    "        y_list.append(i)\n",
    "        \n",
    "cv_scores, model_history = list(), list()\n",
    "from tensorflow.keras.utils import to_categorical\n",
    "from sklearn.model_selection import train_test_split\n",
    "\n",
    "x_train = np.array(x_list)\n",
    "y_train = np.array(y_list)\n"
   ]
  },
  {
   "cell_type": "code",
   "execution_count": 114,
   "metadata": {},
   "outputs": [
    {
     "name": "stdout",
     "output_type": "stream",
     "text": [
      "y_train:  (320,)\n"
     ]
    }
   ],
   "source": [
    "print(\"y_train: \", y_train.shape)"
   ]
  },
  {
   "cell_type": "code",
   "execution_count": 115,
   "metadata": {},
   "outputs": [
    {
     "name": "stdout",
     "output_type": "stream",
     "text": [
      "x_train:  (256, 469, 12)\n",
      "y_train:  (256,)\n",
      "x_val:  (64, 469, 12)\n",
      "y_val:  (64,)\n"
     ]
    }
   ],
   "source": [
    "x_train, x_val, y_train, y_val = train_test_split(x_train, y_train, stratify=y_train, test_size=0.2, random_state = 42, shuffle=True)\n",
    "print(\"x_train: \", x_train.shape)\n",
    "print(\"y_train: \", y_train.shape)\n",
    "print(\"x_val: \", x_val.shape)\n",
    "print(\"y_val: \", y_val.shape)"
   ]
  },
  {
   "cell_type": "code",
   "execution_count": 116,
   "metadata": {
    "scrolled": true
   },
   "outputs": [
    {
     "name": "stdout",
     "output_type": "stream",
     "text": [
      "x_train:  (256, 469, 12, 1)\n",
      "x_val:  (64, 469, 12, 1)\n",
      "y_train_encoded: (256, 64)\n",
      "y_val_encoded: (64, 64)\n",
      "-----------------------\n"
     ]
    }
   ],
   "source": [
    "y_train_encoded = tf.keras.utils.to_categorical(y_train)\n",
    "y_val_encoded = tf.keras.utils.to_categorical(y_val)\n",
    "    \n",
    "    \n",
    "x_train = x_train.reshape(-1, x_train.shape[1], x_train.shape[2], 1)\n",
    "x_val   = x_val.reshape(-1, x_val.shape[1], x_val.shape[2], 1)\n",
    "\n",
    "\n",
    "#x_train = (x_train - np.min(x_train)) / (np.max(x_train) - np.min(x_train))\n",
    "#x_val = (x_val - np.min(x_val)) / (np.max(x_val) - np.min(x_val))\n",
    "\n",
    "print(\"x_train: \", x_train.shape)\n",
    "print(\"x_val: \", x_val.shape)\n",
    "print(\"y_train_encoded:\", y_train_encoded.shape)\n",
    "print(\"y_val_encoded:\", y_val_encoded.shape)\n",
    "print(\"-----------------------\")"
   ]
  },
  {
   "cell_type": "code",
   "execution_count": 117,
   "metadata": {},
   "outputs": [],
   "source": [
    "model = Sequential()\n",
    "model.add(Dense(units=128, kernel_initializer='uniform', input_shape=(x_train.shape[1], x_train.shape[2], 1), activation='relu'))\n",
    "model.add(Dense(units=32, kernel_initializer='uniform', activation='relu'))\n",
    "model.add(Dropout(0.2))\n",
    "model.add(Dense(units=32, kernel_initializer='uniform', activation='relu'))\n",
    "model.add(Dropout(0.2))\n",
    "model.add(Dense(units=16, kernel_initializer='uniform', activation='relu'))\n",
    "model.add(Dropout(0.2))\n",
    "model.add(Flatten())\n",
    "model.add(Dense(len(class_names), activation='softmax'))"
   ]
  },
  {
   "cell_type": "code",
   "execution_count": 118,
   "metadata": {},
   "outputs": [
    {
     "name": "stdout",
     "output_type": "stream",
     "text": [
      "Model: \"sequential_14\"\n",
      "_________________________________________________________________\n",
      "Layer (type)                 Output Shape              Param #   \n",
      "=================================================================\n",
      "dense_43 (Dense)             (None, 469, 12, 128)      256       \n",
      "_________________________________________________________________\n",
      "dense_44 (Dense)             (None, 469, 12, 32)       4128      \n",
      "_________________________________________________________________\n",
      "dropout_27 (Dropout)         (None, 469, 12, 32)       0         \n",
      "_________________________________________________________________\n",
      "dense_45 (Dense)             (None, 469, 12, 32)       1056      \n",
      "_________________________________________________________________\n",
      "dropout_28 (Dropout)         (None, 469, 12, 32)       0         \n",
      "_________________________________________________________________\n",
      "dense_46 (Dense)             (None, 469, 12, 16)       528       \n",
      "_________________________________________________________________\n",
      "dropout_29 (Dropout)         (None, 469, 12, 16)       0         \n",
      "_________________________________________________________________\n",
      "flatten_9 (Flatten)          (None, 90048)             0         \n",
      "_________________________________________________________________\n",
      "dense_47 (Dense)             (None, 64)                5763136   \n",
      "=================================================================\n",
      "Total params: 5,769,104\n",
      "Trainable params: 5,769,104\n",
      "Non-trainable params: 0\n",
      "_________________________________________________________________\n"
     ]
    }
   ],
   "source": [
    "model.summary()"
   ]
  },
  {
   "cell_type": "code",
   "execution_count": 119,
   "metadata": {},
   "outputs": [],
   "source": [
    "model.compile(loss='categorical_crossentropy', optimizer='adam', metrics=['accuracy'])"
   ]
  },
  {
   "cell_type": "code",
   "execution_count": 120,
   "metadata": {},
   "outputs": [
    {
     "name": "stdout",
     "output_type": "stream",
     "text": [
      "Train on 256 samples, validate on 64 samples\n",
      "Epoch 1/20\n",
      "256/256 [==============================] - 1s 2ms/sample - loss: 4.1754 - accuracy: 0.0000e+00 - val_loss: 4.1589 - val_accuracy: 0.0156\n",
      "Epoch 2/20\n",
      "256/256 [==============================] - 0s 851us/sample - loss: 4.1488 - accuracy: 0.1562 - val_loss: 4.1235 - val_accuracy: 0.0469\n",
      "Epoch 3/20\n",
      "256/256 [==============================] - 0s 865us/sample - loss: 3.4169 - accuracy: 0.3086 - val_loss: 3.5802 - val_accuracy: 0.2188\n",
      "Epoch 4/20\n",
      "256/256 [==============================] - 0s 891us/sample - loss: 0.2218 - accuracy: 0.9766 - val_loss: 6.6298 - val_accuracy: 0.2812\n",
      "Epoch 5/20\n",
      "256/256 [==============================] - 0s 879us/sample - loss: 0.1401 - accuracy: 0.9883 - val_loss: 6.9257 - val_accuracy: 0.2969\n",
      "Epoch 6/20\n",
      "256/256 [==============================] - 0s 840us/sample - loss: 0.0817 - accuracy: 0.9883 - val_loss: 5.8295 - val_accuracy: 0.3125\n",
      "Epoch 7/20\n",
      "256/256 [==============================] - 0s 846us/sample - loss: 0.1095 - accuracy: 0.9805 - val_loss: 4.6344 - val_accuracy: 0.3281\n",
      "Epoch 8/20\n",
      "256/256 [==============================] - 0s 836us/sample - loss: 0.0676 - accuracy: 0.9844 - val_loss: 3.8310 - val_accuracy: 0.3438\n",
      "Epoch 9/20\n",
      "256/256 [==============================] - 0s 834us/sample - loss: 0.0343 - accuracy: 0.9883 - val_loss: 3.5221 - val_accuracy: 0.3750\n",
      "Epoch 10/20\n",
      "256/256 [==============================] - 0s 867us/sample - loss: 0.0292 - accuracy: 0.9805 - val_loss: 3.3416 - val_accuracy: 0.3906\n",
      "Epoch 11/20\n",
      "256/256 [==============================] - 0s 866us/sample - loss: 0.0280 - accuracy: 0.9844 - val_loss: 3.2578 - val_accuracy: 0.3906\n",
      "Epoch 12/20\n",
      "256/256 [==============================] - 0s 830us/sample - loss: 0.0320 - accuracy: 0.9844 - val_loss: 3.2080 - val_accuracy: 0.3594\n",
      "Epoch 13/20\n",
      "256/256 [==============================] - 0s 833us/sample - loss: 0.0237 - accuracy: 0.9844 - val_loss: 3.1476 - val_accuracy: 0.4062\n",
      "Epoch 14/20\n",
      "256/256 [==============================] - 0s 846us/sample - loss: 0.0252 - accuracy: 0.9844 - val_loss: 3.1132 - val_accuracy: 0.4062\n",
      "Epoch 15/20\n",
      "256/256 [==============================] - 0s 837us/sample - loss: 0.0304 - accuracy: 0.9766 - val_loss: 3.0813 - val_accuracy: 0.4062\n",
      "Epoch 16/20\n",
      "256/256 [==============================] - 0s 896us/sample - loss: 0.0274 - accuracy: 0.9844 - val_loss: 3.0562 - val_accuracy: 0.4062\n",
      "Epoch 17/20\n",
      "256/256 [==============================] - 0s 845us/sample - loss: 0.0231 - accuracy: 0.9766 - val_loss: 3.0388 - val_accuracy: 0.4219\n",
      "Epoch 18/20\n",
      "256/256 [==============================] - 0s 830us/sample - loss: 0.0249 - accuracy: 0.9883 - val_loss: 3.0199 - val_accuracy: 0.4062\n",
      "Epoch 19/20\n",
      "256/256 [==============================] - 0s 832us/sample - loss: 0.0189 - accuracy: 0.9883 - val_loss: 2.9939 - val_accuracy: 0.4062\n",
      "Epoch 20/20\n",
      "256/256 [==============================] - 0s 850us/sample - loss: 0.0309 - accuracy: 0.9844 - val_loss: 2.9849 - val_accuracy: 0.4219\n",
      "64/64 [==============================] - 0s 322us/sample - loss: 2.9849 - accuracy: 0.4219\n"
     ]
    }
   ],
   "source": [
    "history = model.fit(x_train, y_train_encoded, batch_size=16, epochs=20, verbose=1, validation_data=(x_val, y_val_encoded))\n",
    "val_acc = model.evaluate(x_val, y_val_encoded, batch_size=16, verbose = 1)"
   ]
  },
  {
   "cell_type": "code",
   "execution_count": 121,
   "metadata": {},
   "outputs": [
    {
     "data": {
      "image/png": "[encoded data removed]",
      "text/plain": [
       "<Figure size 1008x432 with 1 Axes>"
      ]
     },
     "metadata": {
      "needs_background": "light"
     },
     "output_type": "display_data"
    }
   ],
   "source": [
    "plt.figure(figsize=(14, 6))\n",
    "plt.rc('font', size=18)\n",
    "\n",
    "plt.plot(history.history[\"accuracy\"])\n",
    "plt.plot(history.history[\"val_accuracy\"])\n",
    "plt.ylabel(\"accuracy\")\n",
    "plt.xlabel(\"epoch\")\n",
    "plt.legend([\"train_accuracy\", \"val_accuracy\"])\n",
    "plt.show()"
   ]
  },
  {
   "cell_type": "code",
   "execution_count": 122,
   "metadata": {},
   "outputs": [
    {
     "name": "stdout",
     "output_type": "stream",
     "text": [
      "Training Accuracy:  [0.0175964079098776, 0.98828125]\n",
      "Testing Accuracy:  [2.9849432706832886, 0.421875]\n"
     ]
    }
   ],
   "source": [
    "# Evaluating the model on the training and testing set\n",
    "score = model.evaluate(x_train, y_train_encoded, verbose=0)\n",
    "print(\"Training Accuracy: \", score)\n",
    "\n",
    "score = model.evaluate(x_val, y_val_encoded, verbose=0)\n",
    "print(\"Testing Accuracy: \", score)"
   ]
  },
  {
   "cell_type": "code",
   "execution_count": 123,
   "metadata": {},
   "outputs": [
    {
     "name": "stdout",
     "output_type": "stream",
     "text": [
      "['2017019740001_kwakjuheon', '2017019770001_kwonyuna', '2017019880001_kimsubin']\n"
     ]
    },
    {
     "data": {
      "text/plain": [
       "3"
      ]
     },
     "execution_count": 123,
     "metadata": {},
     "output_type": "execute_result"
    }
   ],
   "source": [
    "class_names_1 = os.listdir(\"../feature/feature_mfcc_validation/\")\n",
    "class_names_1.sort()\n",
    "\n",
    "print(class_names_1)\n",
    "len(class_names_1)"
   ]
  },
  {
   "cell_type": "code",
   "execution_count": 124,
   "metadata": {},
   "outputs": [
    {
     "name": "stdout",
     "output_type": "stream",
     "text": [
      "Predict : 2017019740016_kangyeseo , Real : 2017019740001_kwakjuheon\n",
      "Predict : 2017019740016_kangyeseo , Real : 2017019740001_kwakjuheon\n",
      "Predict : 2017019740001_kwakjuheon , Real : 2017019740001_kwakjuheon\n",
      "Predict : 2017019770030_leejeongju , Real : 2017019740001_kwakjuheon\n",
      "Predict : 2017019740019_limjinju , Real : 2017019740001_kwakjuheon\n",
      "Predict : 2017019770001_kwonyuna , Real : 2017019770001_kwonyuna\n",
      "Predict : 2017019880004_myeongjaewon , Real : 2017019770001_kwonyuna\n",
      "Predict : 2017019770005_hyeonsanghyeok , Real : 2017019770001_kwonyuna\n",
      "Predict : 2017019770001_kwonyuna , Real : 2017019770001_kwonyuna\n",
      "Predict : 2017019770025_kimhyeonsu , Real : 2017019770001_kwonyuna\n",
      "Predict : 2017019880001_kimsubin , Real : 2017019880001_kimsubin\n",
      "Predict : 2017019740005_moonyeonwoo , Real : 2017019880001_kimsubin\n",
      "Predict : 2017019880001_kimsubin , Real : 2017019880001_kimsubin\n",
      "Predict : 2017019880001_kimsubin , Real : 2017019880001_kimsubin\n",
      "Predict : 2017019740019_limjinju , Real : 2017019880001_kimsubin\n",
      "0.4\n"
     ]
    }
   ],
   "source": [
    "from sklearn.metrics import accuracy_score\n",
    "\n",
    "x_validation_list=[]\n",
    "y_validation_list=[]\n",
    "\n",
    "val_file_path = \"../feature/feature_mfcc_validation/\"\n",
    "val_class_names = os.listdir(val_file_path)\n",
    "val_class_names.sort()\n",
    "val_fname=[]\n",
    "X_TF_pred = []\n",
    "y_TF_pred = []\n",
    "\n",
    "for i in range(0,len(val_class_names)):\n",
    "    val_files=os.listdir(val_file_path+val_class_names[i])\n",
    "    val_files = [file for file in val_files if file.endswith(\".npy\")]\n",
    "    for j in range(0, len(val_files)):\n",
    "        val_fname.append(val_file_path+val_class_names[i]+\"/\"+val_files[j])\n",
    "        \n",
    "\n",
    "for i,fname in zip(range(0,len(val_fname)), val_fname):\n",
    "    tempX = np.load(val_fname[i])\n",
    "    x_validation_list.append(tempX)\n",
    "    y_validation_list.append(val_class_names.index(fname.split('/')[3]))\n",
    "    \n",
    "X_TF_pred = np.array(x_validation_list)\n",
    "y_TF_real_pred = np.array(y_validation_list)\n",
    "\n",
    "X_TF_pred = X_TF_pred.reshape(-1, X_TF_pred.shape[1], X_TF_pred.shape[2], 1)\n",
    "\n",
    "#X_TF_pred = (X_TF_pred - np.min(X_TF_pred)) / (np.max(X_TF_pred) - np.min(X_TF_pred))\n",
    "\n",
    "pred_out = model.predict(X_TF_pred)\n",
    "\n",
    "real =[]\n",
    "pred_out_idex=[]\n",
    "\n",
    "\n",
    "for i,pred in zip(range(0, len(pred_out)), pred_out) :\n",
    "   \n",
    "    print(\"Predict :\",class_names[np.argmax(pred)], \", Real :\", val_class_names[y_TF_real_pred[i]])\n",
    "    real.append(class_names.index(val_class_names[y_TF_real_pred[i]]))\n",
    "    pred_out_idex.append(np.argmax(pred))\n",
    "    \n",
    "# get the accuracy\n",
    "print (accuracy_score(real, pred_out_idex))\n"
   ]
  },
  {
   "cell_type": "code",
   "execution_count": null,
   "metadata": {},
   "outputs": [],
   "source": []
  },
  {
   "cell_type": "code",
   "execution_count": null,
   "metadata": {},
   "outputs": [],
   "source": []
  }
 ],
 "metadata": {
  "kernelspec": {
   "display_name": "Python(py36)",
   "language": "python",
   "name": "py36"
  },
  "language_info": {
   "codemirror_mode": {
    "name": "ipython",
    "version": 3
   },
   "file_extension": ".py",
   "mimetype": "text/x-python",
   "name": "python",
   "nbconvert_exporter": "python",
   "pygments_lexer": "ipython3",
   "version": "3.6.10"
  }
 },
 "nbformat": 4,
 "nbformat_minor": 4
}
