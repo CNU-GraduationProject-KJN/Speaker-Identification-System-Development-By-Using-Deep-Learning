{
 "cells": [
  {
   "cell_type": "code",
   "execution_count": 1,
   "metadata": {},
   "outputs": [
    {
     "name": "stdout",
     "output_type": "stream",
     "text": [
      "2.1.0\n"
     ]
    }
   ],
   "source": [
    "import glob\n",
    "import numpy as np\n",
    "import random\n",
    "import librosa\n",
    "import os\n",
    "from sklearn.model_selection import train_test_split\n",
    "from sklearn.preprocessing import LabelBinarizer\n",
    "\n",
    "import tensorflow as tf\n",
    "from tensorflow import keras\n",
    "\n",
    "print(tf.__version__)"
   ]
  },
  {
   "cell_type": "code",
   "execution_count": 2,
   "metadata": {},
   "outputs": [
    {
     "name": "stdout",
     "output_type": "stream",
     "text": [
      "['2017019740001_kwakjuheon', '2017019740002_kimjiho', '2017019740003_songyejin', '2017019740004_parksohui', '2017019740005_moonyeonwoo', '2017019740006_kangsubin', '2017019740007_leekyeongeun', '2017019740008_chochaeyeon', '2017019740009_shindonghwan', '2017019740010_kwakmirae', '2017019740011_kimhyeryeong', '2017019740012_chaeminjoon', '2017019740013_kwakyiheon', '2017019740014_leesumin', '2017019740015_choihayoung', '2017019740016_kangyeseo', '2017019740017_kwakmihyang', '2017019740018_eundano', '2017019740019_limjinju', '2017019740020_kimseongje', '2017019740021_kwakbokyeong', '2017019770001_kwonyuna', '2017019770002_kwoneunkyung', '2017019770003_johaesu', '2017019770004_leebyeongjin', '2017019770005_hyeonsanghyeok', '2017019770006_jennie', '2017019770007_simseungmin', '2017019770008_parksomi', '2017019770009_yuminji', '2017019770010_parksojin', '2017019770011_kwonyeonwoo', '2017019770012_ladakyeong', '2017019770013_janghyomin', '2017019770014_parkeunbi', '2017019770015_parkdayeung', '2017019770016_parkjongae', '2017019770017_hansohee', '2017019770018_janggyeoul', '2017019770019_leewooju', '2017019770020_nomyungok', '2017019770021_heoyoonjung', '2017019770022_heojaemin', '2017019770023_kimsoyung', '2017019770024_chuminha', '2017019770025_kimhyeonsu', '2017019770026_chaesonghwa', '2017019770027_kwonyulim', '2017019770028_kimminyoung', '2017019770029_jueunhong', '2017019770030_leejeongju', '2017019770031_kwonnahui', '2017019770032_kimdayeong', '2017019770033_kwonsundo', '2017019770034_kimhyeona', '2017019770035_leehyojin', '2017019770036_yuminji', '2017019770037_jeonghojun', '2017019770038_kanghyeyun', '2017019880001_kimsubin', '2017019880002_kimkihyeon', '2017019880003_kimminji', '2017019880004_myeongjaewon', '2017019880005_kimjihyeon']\n"
     ]
    }
   ],
   "source": [
    "class_names = os.listdir(\"../feature/feature_fbank/\")\n",
    "class_names.sort()\n",
    "\n",
    "print(class_names)\n",
    "\n",
    "x_list = []\n",
    "y_list = []\n",
    "\n",
    "for i in range(0,len(class_names)):\n",
    "    files=os.listdir(\"../feature/feature_fbank/\"+class_names[i])\n",
    "    files = [file for file in files if file.endswith(\".npy\")]\n",
    "\n",
    "    for j in range(0, len(files)):\n",
    "        x = np.load(\"../feature/feature_fbank/\"+class_names[i]+\"/\"+files[j])\n",
    "        x=x.T\n",
    "        x_list.append(x)\n",
    "        y_list.append(i)\n"
   ]
  },
  {
   "cell_type": "code",
   "execution_count": 3,
   "metadata": {},
   "outputs": [
    {
     "name": "stdout",
     "output_type": "stream",
     "text": [
      "x_train: (320, 469, 40)\n",
      "y_train: (320,)\n"
     ]
    }
   ],
   "source": [
    "x_train = np.array(x_list)\n",
    "y_train = np.array(y_list)\n",
    "\n",
    "print(\"x_train:\", x_train.shape)\n",
    "print(\"y_train:\", y_train.shape)"
   ]
  },
  {
   "cell_type": "code",
   "execution_count": 4,
   "metadata": {},
   "outputs": [],
   "source": [
    "from sklearn.model_selection import train_test_split\n",
    "x_train, x_val, y_train, y_val = train_test_split(x_train, y_train, stratify=y_train, test_size=0.2, random_state=42)"
   ]
  },
  {
   "cell_type": "code",
   "execution_count": 5,
   "metadata": {},
   "outputs": [],
   "source": [
    "from tensorflow.keras.utils import to_categorical\n",
    "y_train_encoded = tf.keras.utils.to_categorical(y_train)\n",
    "y_val_encoded = tf.keras.utils.to_categorical(y_val)"
   ]
  },
  {
   "cell_type": "code",
   "execution_count": 6,
   "metadata": {},
   "outputs": [],
   "source": [
    "from tensorflow.keras.layers import SimpleRNN\n",
    "from tensorflow.keras.layers import Flatten, Dense,Dropout,TimeDistributed, Embedding, Bidirectional\n",
    "from tensorflow.keras.models import Sequential"
   ]
  },
  {
   "cell_type": "code",
   "execution_count": 7,
   "metadata": {},
   "outputs": [
    {
     "name": "stdout",
     "output_type": "stream",
     "text": [
      "(469, 40)\n"
     ]
    }
   ],
   "source": [
    "n_features = x_train.shape[1]\n",
    "max_length = x_train.shape[2]\n",
    "input_shape = (n_features, max_length)\n",
    "dropout = 0.25\n",
    "n_classes = len(class_names)\n",
    "n_epochs = 15\n",
    "batch_size = 16\n",
    "\n",
    "print(input_shape)"
   ]
  },
  {
   "cell_type": "code",
   "execution_count": 8,
   "metadata": {},
   "outputs": [],
   "source": [
    "\n",
    "model2 = Sequential()\n",
    "model2.add(SimpleRNN(64, return_sequences=True, input_shape=input_shape,dropout=dropout))\n",
    "#model2.add(Bidirectional(SimpleRNN(128, return_sequences=True)))\n",
    "model2.add(Bidirectional(SimpleRNN(64, return_sequences=True)))\n",
    "#model2.add(SimpleRNN(128, return_sequences = True))\n",
    "#model2.add(Dropout(dropout))\n",
    "#model2.add(TimeDistributed(Dense(128, activation='relu')))\n",
    "#model2.add(Dropout(dropout))\n",
    "model2.add(Flatten())\n",
    "#model2.add(Dense(128, activation='relu'))\n",
    "#model2.add(Dense(64, activation='relu'))\n",
    "#model2.add(Dropout(dropout))\n",
    "model2.add(Dense(n_classes, activation='softmax'))"
   ]
  },
  {
   "cell_type": "code",
   "execution_count": 9,
   "metadata": {},
   "outputs": [],
   "source": [
    "model2.compile(loss=tf.keras.losses.categorical_crossentropy, metrics=[\"accuracy\"], optimizer=keras.optimizers.SGD(lr=0.01, momentum=0.0, decay=0.0, nesterov=False))"
   ]
  },
  {
   "cell_type": "code",
   "execution_count": 10,
   "metadata": {},
   "outputs": [
    {
     "name": "stdout",
     "output_type": "stream",
     "text": [
      "Train on 256 samples, validate on 64 samples\n",
      "Epoch 1/15\n",
      "256/256 - 7s - loss: 5.2226 - accuracy: 0.0703 - val_loss: 3.2214 - val_accuracy: 0.2969\n",
      "Epoch 2/15\n",
      "256/256 - 5s - loss: 1.1754 - accuracy: 0.7305 - val_loss: 2.2297 - val_accuracy: 0.4688\n",
      "Epoch 3/15\n",
      "256/256 - 5s - loss: 0.4226 - accuracy: 0.9258 - val_loss: 2.0807 - val_accuracy: 0.4531\n",
      "Epoch 4/15\n",
      "256/256 - 5s - loss: 0.3098 - accuracy: 0.9492 - val_loss: 2.4669 - val_accuracy: 0.4219\n",
      "Epoch 5/15\n",
      "256/256 - 5s - loss: 0.2766 - accuracy: 0.9375 - val_loss: 2.1757 - val_accuracy: 0.5625\n",
      "Epoch 6/15\n",
      "256/256 - 5s - loss: 0.2237 - accuracy: 0.9531 - val_loss: 2.2125 - val_accuracy: 0.5000\n",
      "Epoch 7/15\n",
      "256/256 - 5s - loss: 0.1434 - accuracy: 0.9805 - val_loss: 2.2781 - val_accuracy: 0.4688\n",
      "Epoch 8/15\n",
      "256/256 - 5s - loss: 0.1427 - accuracy: 0.9766 - val_loss: 2.2372 - val_accuracy: 0.5156\n",
      "Epoch 9/15\n",
      "256/256 - 5s - loss: 0.0658 - accuracy: 0.9844 - val_loss: 2.2306 - val_accuracy: 0.5156\n",
      "Epoch 10/15\n",
      "256/256 - 5s - loss: 0.1941 - accuracy: 0.9805 - val_loss: 2.3666 - val_accuracy: 0.5156\n",
      "Epoch 11/15\n",
      "256/256 - 5s - loss: 0.2010 - accuracy: 0.9805 - val_loss: 2.4205 - val_accuracy: 0.4531\n",
      "Epoch 12/15\n",
      "256/256 - 5s - loss: 0.2377 - accuracy: 0.9570 - val_loss: 2.5527 - val_accuracy: 0.4531\n",
      "Epoch 13/15\n",
      "256/256 - 6s - loss: 0.1629 - accuracy: 0.9766 - val_loss: 2.5125 - val_accuracy: 0.4375\n",
      "Epoch 14/15\n",
      "256/256 - 5s - loss: 0.1213 - accuracy: 0.9844 - val_loss: 2.7126 - val_accuracy: 0.4688\n",
      "Epoch 15/15\n",
      "256/256 - 5s - loss: 0.1189 - accuracy: 0.9844 - val_loss: 2.6932 - val_accuracy: 0.4844\n"
     ]
    }
   ],
   "source": [
    "history2 = model2.fit(x_train, y_train_encoded, \n",
    "                    batch_size=batch_size, epochs=n_epochs, \n",
    "                    verbose=2,shuffle=True,\n",
    "                    validation_data=(x_val, y_val_encoded))"
   ]
  },
  {
   "cell_type": "code",
   "execution_count": 11,
   "metadata": {},
   "outputs": [
    {
     "data": {
      "image/png": "[encoded data removed]",
      "text/plain": [
       "<Figure size 1008x432 with 1 Axes>"
      ]
     },
     "metadata": {
      "needs_background": "light"
     },
     "output_type": "display_data"
    }
   ],
   "source": [
    "import matplotlib.pyplot as plt\n",
    "\n",
    "plt.figure(figsize=(14, 6))\n",
    "plt.rc('font', size=18)\n",
    "\n",
    "plt.plot(history2.history[\"accuracy\"])\n",
    "plt.plot(history2.history[\"val_accuracy\"])\n",
    "plt.ylabel(\"accuracy\")\n",
    "plt.xlabel(\"epoch\")\n",
    "plt.legend([\"train_accuracy\", \"val_accuracy\"])\n",
    "plt.show()"
   ]
  },
  {
   "cell_type": "code",
   "execution_count": 13,
   "metadata": {},
   "outputs": [
    {
     "name": "stdout",
     "output_type": "stream",
     "text": [
      "Predict : 2017019770030_leejeongju , Real : 2017019740001_kwakjuheon\n",
      "Predict : 2017019880004_myeongjaewon , Real : 2017019740001_kwakjuheon\n",
      "Predict : 2017019770001_kwonyuna , Real : 2017019740001_kwakjuheon\n",
      "Predict : 2017019770030_leejeongju , Real : 2017019740001_kwakjuheon\n",
      "Predict : 2017019770030_leejeongju , Real : 2017019740001_kwakjuheon\n",
      "Predict : 2017019770010_parksojin , Real : 2017019770001_kwonyuna\n",
      "Predict : 2017019880004_myeongjaewon , Real : 2017019770001_kwonyuna\n",
      "Predict : 2017019770001_kwonyuna , Real : 2017019770001_kwonyuna\n",
      "Predict : 2017019740001_kwakjuheon , Real : 2017019770001_kwonyuna\n",
      "Predict : 2017019880004_myeongjaewon , Real : 2017019770001_kwonyuna\n",
      "Predict : 2017019880001_kimsubin , Real : 2017019880001_kimsubin\n",
      "Predict : 2017019740005_moonyeonwoo , Real : 2017019880001_kimsubin\n",
      "Predict : 2017019770037_jeonghojun , Real : 2017019880001_kimsubin\n",
      "Predict : 2017019880001_kimsubin , Real : 2017019880001_kimsubin\n",
      "Predict : 2017019770005_hyeonsanghyeok , Real : 2017019880001_kimsubin\n",
      "0.2\n"
     ]
    }
   ],
   "source": [
    "from sklearn.metrics import accuracy_score\n",
    "\n",
    "x_validation_list=[]\n",
    "y_validation_list=[]\n",
    "\n",
    "val_file_path = \"../feature/feature_fbank_validation/\"\n",
    "val_class_names = os.listdir(val_file_path)\n",
    "val_class_names.sort()\n",
    "val_fname=[]\n",
    "X_TF_pred = []\n",
    "y_TF_pred = []\n",
    "\n",
    "for i in range(0,len(val_class_names)):\n",
    "    val_files=os.listdir(val_file_path+val_class_names[i])\n",
    "    val_files = [file for file in val_files if file.endswith(\".npy\")]\n",
    "    for j in range(0, len(val_files)):\n",
    "        val_fname.append(val_file_path+val_class_names[i]+\"/\"+val_files[j])\n",
    "        \n",
    "\n",
    "for i,fname in zip(range(0,len(val_fname)), val_fname):\n",
    "    tempX = np.load(val_fname[i])\n",
    "    tempX = tempX.T\n",
    "    x_validation_list.append(tempX)\n",
    "    y_validation_list.append(val_class_names.index(fname.split('/')[3]))\n",
    "    \n",
    "X_TF_pred = np.array(x_validation_list)\n",
    "y_TF_real_pred = np.array(y_validation_list)\n",
    "\n",
    "pred_out = model2.predict(X_TF_pred)\n",
    "\n",
    "real =[]\n",
    "pred_out_idex=[]\n",
    "\n",
    "\n",
    "for i,pred in zip(range(0, len(pred_out)), pred_out) :\n",
    "   \n",
    "    print(\"Predict :\",class_names[np.argmax(pred)], \", Real :\", val_class_names[y_TF_real_pred[i]])\n",
    "    real.append(class_names.index(val_class_names[y_TF_real_pred[i]]))\n",
    "    pred_out_idex.append(np.argmax(pred))\n",
    "    \n",
    "# get the accuracy\n",
    "print (accuracy_score(real, pred_out_idex))\n"
   ]
  },
  {
   "cell_type": "code",
   "execution_count": null,
   "metadata": {},
   "outputs": [],
   "source": []
  }
 ],
 "metadata": {
  "kernelspec": {
   "display_name": "Python(py36)",
   "language": "python",
   "name": "py36"
  },
  "language_info": {
   "codemirror_mode": {
    "name": "ipython",
    "version": 3
   },
   "file_extension": ".py",
   "mimetype": "text/x-python",
   "name": "python",
   "nbconvert_exporter": "python",
   "pygments_lexer": "ipython3",
   "version": "3.6.10"
  }
 },
 "nbformat": 4,
 "nbformat_minor": 2
}
