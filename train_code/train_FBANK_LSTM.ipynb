{
 "cells": [
  {
   "cell_type": "code",
   "execution_count": 15,
   "metadata": {
    "scrolled": false
   },
   "outputs": [
    {
     "name": "stdout",
     "output_type": "stream",
     "text": [
      "2.1.0\n"
     ]
    }
   ],
   "source": [
    "import glob\n",
    "import numpy as np\n",
    "import random\n",
    "import librosa\n",
    "import os\n",
    "from sklearn.model_selection import train_test_split\n",
    "from sklearn.preprocessing import LabelBinarizer\n",
    "\n",
    "import tensorflow as tf\n",
    "from tensorflow import keras\n",
    "\n",
    "print(tf.__version__)"
   ]
  },
  {
   "cell_type": "code",
   "execution_count": null,
   "metadata": {},
   "outputs": [],
   "source": []
  },
  {
   "cell_type": "code",
   "execution_count": 16,
   "metadata": {},
   "outputs": [
    {
     "name": "stdout",
     "output_type": "stream",
     "text": [
      "['2017019740001_kwakjuheon', '2017019740002_kimjiho', '2017019740003_songyejin', '2017019740004_parksohui', '2017019740005_moonyeonwoo', '2017019740006_kangsubin', '2017019740007_leekyeongeun', '2017019740008_chochaeyeon', '2017019740009_shindonghwan', '2017019740010_kwakmirae', '2017019740011_kimhyeryeong', '2017019740012_chaeminjoon', '2017019740013_kwakyiheon', '2017019740014_leesumin', '2017019740015_choihayoung', '2017019740016_kangyeseo', '2017019740017_kwakmihyang', '2017019740018_eundano', '2017019740019_limjinju', '2017019740020_kimseongje', '2017019740021_kwakbokyeong', '2017019770001_kwonyuna', '2017019770002_kwoneunkyung', '2017019770003_johaesu', '2017019770004_leebyeongjin', '2017019770005_hyeonsanghyeok', '2017019770006_jennie', '2017019770007_simseungmin', '2017019770008_parksomi', '2017019770009_yuminji', '2017019770010_parksojin', '2017019770011_kwonyeonwoo', '2017019770012_ladakyeong', '2017019770013_janghyomin', '2017019770014_parkeunbi', '2017019770015_parkdayeung', '2017019770016_parkjongae', '2017019770017_hansohee', '2017019770018_janggyeoul', '2017019770019_leewooju', '2017019770020_nomyungok', '2017019770021_heoyoonjung', '2017019770022_heojaemin', '2017019770023_kimsoyung', '2017019770024_chuminha', '2017019770025_kimhyeonsu', '2017019770026_chaesonghwa', '2017019770027_kwonyulim', '2017019770028_kimminyoung', '2017019770029_jueunhong', '2017019770030_leejeongju', '2017019770031_kwonnahui', '2017019770032_kimdayeong', '2017019770033_kwonsundo', '2017019770034_kimhyeona', '2017019770035_leehyojin', '2017019770036_yuminji', '2017019770037_jeonghojun', '2017019770038_kanghyeyun', '2017019880001_kimsubin', '2017019880002_kimkihyeon', '2017019880003_kimminji', '2017019880004_myeongjaewon', '2017019880005_kimjihyeon']\n"
     ]
    }
   ],
   "source": [
    "class_names = os.listdir(\"../feature/feature_fbank/\")\n",
    "class_names.sort()\n",
    "\n",
    "print(class_names)\n",
    "\n",
    "x_list = []\n",
    "y_list = []\n",
    "\n",
    "for i in range(0,len(class_names)):\n",
    "    files=os.listdir(\"../feature/feature_fbank/\"+class_names[i])\n",
    "    files = [file for file in files if file.endswith(\".npy\")]\n",
    "\n",
    "    for j in range(0, len(files)):\n",
    "        x = np.load(\"../feature/feature_fbank/\"+class_names[i]+\"/\"+files[j])\n",
    "        x=x.T\n",
    "        x_list.append(x)\n",
    "        y_list.append(i)"
   ]
  },
  {
   "cell_type": "code",
   "execution_count": 17,
   "metadata": {},
   "outputs": [
    {
     "name": "stdout",
     "output_type": "stream",
     "text": [
      "x_train: (320, 469, 40)\n",
      "y_train: (320,)\n"
     ]
    }
   ],
   "source": [
    "x_train = np.array(x_list)\n",
    "y_train = np.array(y_list)\n",
    "\n",
    "print(\"x_train:\", x_train.shape)\n",
    "print(\"y_train:\", y_train.shape)"
   ]
  },
  {
   "cell_type": "code",
   "execution_count": 18,
   "metadata": {
    "scrolled": true
   },
   "outputs": [],
   "source": [
    "from sklearn.model_selection import train_test_split\n",
    "x_train, x_val, y_train, y_val = train_test_split(x_train, y_train, stratify=y_train, test_size=0.2, random_state=42)"
   ]
  },
  {
   "cell_type": "code",
   "execution_count": 19,
   "metadata": {},
   "outputs": [],
   "source": [
    "from tensorflow.keras.utils import to_categorical\n",
    "y_train_encoded = tf.keras.utils.to_categorical(y_train)\n",
    "y_val_encoded = tf.keras.utils.to_categorical(y_val)"
   ]
  },
  {
   "cell_type": "code",
   "execution_count": 20,
   "metadata": {
    "scrolled": true
   },
   "outputs": [
    {
     "name": "stdout",
     "output_type": "stream",
     "text": [
      "x_train: (256, 469, 40)\n",
      "y_train: (256, 64)\n",
      "x_val: (64, 469, 40)\n",
      "y_val: (64, 64)\n"
     ]
    }
   ],
   "source": [
    "print(\"x_train:\", x_train.shape)\n",
    "print(\"y_train:\", y_train_encoded.shape)\n",
    "print(\"x_val:\", x_val.shape)\n",
    "print(\"y_val:\", y_val_encoded.shape)"
   ]
  },
  {
   "cell_type": "code",
   "execution_count": 21,
   "metadata": {},
   "outputs": [],
   "source": [
    "from tensorflow.keras.layers import LSTM, Dense, Dropout, Flatten\n",
    "from tensorflow.keras.models import Sequential\n",
    "from tensorflow.keras.optimizers import Adam\n",
    "from tensorflow.keras.callbacks import EarlyStopping, ModelCheckpoint"
   ]
  },
  {
   "cell_type": "code",
   "execution_count": 22,
   "metadata": {},
   "outputs": [],
   "source": [
    "n_features = x_train.shape[1]\n",
    "max_length = x_train.shape[2]\n",
    "input_shape = (n_features, max_length)\n",
    "dropout = 0.25\n",
    "n_classes = len(class_names)\n",
    "n_epochs = 50\n",
    "batch_size = 16"
   ]
  },
  {
   "cell_type": "code",
   "execution_count": 23,
   "metadata": {},
   "outputs": [],
   "source": [
    "model = Sequential()\n",
    "\n",
    "model.add(LSTM(256, return_sequences=True, input_shape=input_shape,dropout=dropout))\n",
    "model.add(Dropout(dropout))\n",
    "model.add(LSTM(128, return_sequences=True))\n",
    "model.add(Dropout(dropout))\n",
    "model.add(LSTM(64, return_sequences=True))\n",
    "model.add(Dropout(dropout))\n",
    "model.add(LSTM(64, return_sequences=True))\n",
    "model.add(Dropout(dropout))\n",
    "model.add(Flatten())\n",
    "model.add(Dense(64, activation='relu'))\n",
    "model.add(Dropout(dropout))\n",
    "model.add(Dense(n_classes, activation='softmax'))"
   ]
  },
  {
   "cell_type": "code",
   "execution_count": 24,
   "metadata": {
    "scrolled": true
   },
   "outputs": [
    {
     "name": "stdout",
     "output_type": "stream",
     "text": [
      "Model: \"sequential_1\"\n",
      "_________________________________________________________________\n",
      "Layer (type)                 Output Shape              Param #   \n",
      "=================================================================\n",
      "lstm_4 (LSTM)                (None, 469, 256)          304128    \n",
      "_________________________________________________________________\n",
      "dropout_5 (Dropout)          (None, 469, 256)          0         \n",
      "_________________________________________________________________\n",
      "lstm_5 (LSTM)                (None, 469, 128)          197120    \n",
      "_________________________________________________________________\n",
      "dropout_6 (Dropout)          (None, 469, 128)          0         \n",
      "_________________________________________________________________\n",
      "lstm_6 (LSTM)                (None, 469, 64)           49408     \n",
      "_________________________________________________________________\n",
      "dropout_7 (Dropout)          (None, 469, 64)           0         \n",
      "_________________________________________________________________\n",
      "lstm_7 (LSTM)                (None, 469, 64)           33024     \n",
      "_________________________________________________________________\n",
      "dropout_8 (Dropout)          (None, 469, 64)           0         \n",
      "_________________________________________________________________\n",
      "flatten_1 (Flatten)          (None, 30016)             0         \n",
      "_________________________________________________________________\n",
      "dense_2 (Dense)              (None, 64)                1921088   \n",
      "_________________________________________________________________\n",
      "dropout_9 (Dropout)          (None, 64)                0         \n",
      "_________________________________________________________________\n",
      "dense_3 (Dense)              (None, 64)                4160      \n",
      "=================================================================\n",
      "Total params: 2,508,928\n",
      "Trainable params: 2,508,928\n",
      "Non-trainable params: 0\n",
      "_________________________________________________________________\n"
     ]
    }
   ],
   "source": [
    "model.summary()"
   ]
  },
  {
   "cell_type": "code",
   "execution_count": 25,
   "metadata": {},
   "outputs": [],
   "source": [
    "model.compile(loss=tf.keras.losses.categorical_crossentropy, metrics=[\"accuracy\"], optimizer=keras.optimizers.SGD(lr=0.01, momentum=0.0, decay=0.0, nesterov=False))"
   ]
  },
  {
   "cell_type": "code",
   "execution_count": 26,
   "metadata": {
    "scrolled": true
   },
   "outputs": [
    {
     "name": "stdout",
     "output_type": "stream",
     "text": [
      "Train on 256 samples, validate on 64 samples\n",
      "Epoch 1/50\n",
      "256/256 - 4s - loss: 4.1489 - accuracy: 0.0312 - val_loss: 4.0940 - val_accuracy: 0.0781\n",
      "Epoch 2/50\n",
      "256/256 - 1s - loss: 4.1012 - accuracy: 0.0312 - val_loss: 4.0367 - val_accuracy: 0.1250\n",
      "Epoch 3/50\n",
      "256/256 - 1s - loss: 4.0219 - accuracy: 0.0664 - val_loss: 3.9179 - val_accuracy: 0.1250\n",
      "Epoch 4/50\n",
      "256/256 - 1s - loss: 3.9230 - accuracy: 0.0781 - val_loss: 3.8049 - val_accuracy: 0.1406\n",
      "Epoch 5/50\n",
      "256/256 - 1s - loss: 3.8032 - accuracy: 0.1016 - val_loss: 3.6362 - val_accuracy: 0.1719\n",
      "Epoch 6/50\n",
      "256/256 - 1s - loss: 3.6715 - accuracy: 0.1055 - val_loss: 3.4306 - val_accuracy: 0.2656\n",
      "Epoch 7/50\n",
      "256/256 - 1s - loss: 3.4581 - accuracy: 0.1602 - val_loss: 3.2583 - val_accuracy: 0.2812\n",
      "Epoch 8/50\n",
      "256/256 - 1s - loss: 3.2701 - accuracy: 0.1680 - val_loss: 2.9777 - val_accuracy: 0.3281\n",
      "Epoch 9/50\n",
      "256/256 - 1s - loss: 3.0333 - accuracy: 0.3047 - val_loss: 2.7146 - val_accuracy: 0.4531\n",
      "Epoch 10/50\n",
      "256/256 - 1s - loss: 2.7304 - accuracy: 0.3477 - val_loss: 2.7400 - val_accuracy: 0.3750\n",
      "Epoch 11/50\n",
      "256/256 - 1s - loss: 2.5692 - accuracy: 0.3906 - val_loss: 2.4485 - val_accuracy: 0.3750\n",
      "Epoch 12/50\n",
      "256/256 - 1s - loss: 2.2568 - accuracy: 0.4414 - val_loss: 2.2135 - val_accuracy: 0.4844\n",
      "Epoch 13/50\n",
      "256/256 - 1s - loss: 2.1216 - accuracy: 0.4883 - val_loss: 1.9693 - val_accuracy: 0.6406\n",
      "Epoch 14/50\n",
      "256/256 - 1s - loss: 1.8827 - accuracy: 0.5391 - val_loss: 1.7087 - val_accuracy: 0.6406\n",
      "Epoch 15/50\n",
      "256/256 - 1s - loss: 1.6330 - accuracy: 0.5938 - val_loss: 1.7521 - val_accuracy: 0.7188\n",
      "Epoch 16/50\n",
      "256/256 - 1s - loss: 1.3657 - accuracy: 0.6211 - val_loss: 1.4653 - val_accuracy: 0.6562\n",
      "Epoch 17/50\n",
      "256/256 - 1s - loss: 1.2827 - accuracy: 0.6836 - val_loss: 1.3775 - val_accuracy: 0.6875\n",
      "Epoch 18/50\n",
      "256/256 - 1s - loss: 1.1463 - accuracy: 0.7148 - val_loss: 1.2250 - val_accuracy: 0.6875\n",
      "Epoch 19/50\n",
      "256/256 - 1s - loss: 1.0008 - accuracy: 0.7617 - val_loss: 1.1395 - val_accuracy: 0.7344\n",
      "Epoch 20/50\n",
      "256/256 - 1s - loss: 0.7630 - accuracy: 0.8438 - val_loss: 1.0994 - val_accuracy: 0.7656\n",
      "Epoch 21/50\n",
      "256/256 - 1s - loss: 0.8115 - accuracy: 0.7773 - val_loss: 1.1920 - val_accuracy: 0.7344\n",
      "Epoch 22/50\n",
      "256/256 - 1s - loss: 0.6512 - accuracy: 0.8594 - val_loss: 0.9509 - val_accuracy: 0.7500\n",
      "Epoch 23/50\n",
      "256/256 - 1s - loss: 0.6612 - accuracy: 0.8438 - val_loss: 0.9503 - val_accuracy: 0.7812\n",
      "Epoch 24/50\n",
      "256/256 - 1s - loss: 0.5964 - accuracy: 0.8555 - val_loss: 1.0122 - val_accuracy: 0.7812\n",
      "Epoch 25/50\n",
      "256/256 - 1s - loss: 0.5724 - accuracy: 0.8516 - val_loss: 0.9087 - val_accuracy: 0.8594\n",
      "Epoch 26/50\n",
      "256/256 - 1s - loss: 0.4851 - accuracy: 0.8828 - val_loss: 0.9006 - val_accuracy: 0.7969\n",
      "Epoch 27/50\n",
      "256/256 - 1s - loss: 0.4670 - accuracy: 0.8945 - val_loss: 0.9523 - val_accuracy: 0.7500\n",
      "Epoch 28/50\n",
      "256/256 - 1s - loss: 0.4869 - accuracy: 0.8906 - val_loss: 0.8536 - val_accuracy: 0.7812\n",
      "Epoch 29/50\n",
      "256/256 - 1s - loss: 0.3933 - accuracy: 0.9180 - val_loss: 0.8010 - val_accuracy: 0.7812\n",
      "Epoch 30/50\n",
      "256/256 - 1s - loss: 0.3592 - accuracy: 0.9258 - val_loss: 0.7425 - val_accuracy: 0.8281\n",
      "Epoch 31/50\n",
      "256/256 - 1s - loss: 0.3166 - accuracy: 0.9453 - val_loss: 0.8348 - val_accuracy: 0.8125\n",
      "Epoch 32/50\n",
      "256/256 - 1s - loss: 0.3192 - accuracy: 0.9219 - val_loss: 0.7928 - val_accuracy: 0.7969\n",
      "Epoch 33/50\n",
      "256/256 - 1s - loss: 0.3061 - accuracy: 0.9375 - val_loss: 0.7647 - val_accuracy: 0.8281\n",
      "Epoch 34/50\n",
      "256/256 - 1s - loss: 0.2658 - accuracy: 0.9453 - val_loss: 0.7555 - val_accuracy: 0.8125\n",
      "Epoch 35/50\n",
      "256/256 - 1s - loss: 0.2387 - accuracy: 0.9414 - val_loss: 0.8013 - val_accuracy: 0.7812\n",
      "Epoch 36/50\n",
      "256/256 - 1s - loss: 0.2305 - accuracy: 0.9414 - val_loss: 0.8312 - val_accuracy: 0.7812\n",
      "Epoch 37/50\n",
      "256/256 - 1s - loss: 0.2598 - accuracy: 0.9375 - val_loss: 0.7884 - val_accuracy: 0.7969\n",
      "Epoch 38/50\n",
      "256/256 - 1s - loss: 0.2339 - accuracy: 0.9531 - val_loss: 0.8065 - val_accuracy: 0.7812\n",
      "Epoch 39/50\n",
      "256/256 - 1s - loss: 0.2246 - accuracy: 0.9492 - val_loss: 0.8117 - val_accuracy: 0.7969\n",
      "Epoch 40/50\n",
      "256/256 - 1s - loss: 0.2328 - accuracy: 0.9336 - val_loss: 0.7806 - val_accuracy: 0.7812\n",
      "Epoch 41/50\n",
      "256/256 - 1s - loss: 0.2155 - accuracy: 0.9453 - val_loss: 0.7647 - val_accuracy: 0.8281\n",
      "Epoch 42/50\n",
      "256/256 - 1s - loss: 0.2072 - accuracy: 0.9414 - val_loss: 0.8214 - val_accuracy: 0.7812\n",
      "Epoch 43/50\n",
      "256/256 - 1s - loss: 0.2152 - accuracy: 0.9492 - val_loss: 0.8064 - val_accuracy: 0.7969\n",
      "Epoch 44/50\n",
      "256/256 - 1s - loss: 0.1959 - accuracy: 0.9688 - val_loss: 0.8258 - val_accuracy: 0.7812\n",
      "Epoch 45/50\n",
      "256/256 - 1s - loss: 0.1789 - accuracy: 0.9609 - val_loss: 0.8489 - val_accuracy: 0.7812\n",
      "Epoch 46/50\n",
      "256/256 - 1s - loss: 0.1498 - accuracy: 0.9688 - val_loss: 0.7704 - val_accuracy: 0.7969\n",
      "Epoch 47/50\n",
      "256/256 - 1s - loss: 0.1523 - accuracy: 0.9688 - val_loss: 0.8076 - val_accuracy: 0.7969\n",
      "Epoch 48/50\n",
      "256/256 - 1s - loss: 0.1494 - accuracy: 0.9609 - val_loss: 0.8010 - val_accuracy: 0.7812\n",
      "Epoch 49/50\n",
      "256/256 - 1s - loss: 0.1717 - accuracy: 0.9648 - val_loss: 0.8326 - val_accuracy: 0.7656\n",
      "Epoch 50/50\n",
      "256/256 - 1s - loss: 0.1378 - accuracy: 0.9609 - val_loss: 0.8229 - val_accuracy: 0.7812\n"
     ]
    }
   ],
   "source": [
    "history = model.fit(x_train, y_train_encoded, \n",
    "                    batch_size=batch_size, epochs=n_epochs, verbose=2,\n",
    "                    validation_data=(x_val, y_val_encoded))"
   ]
  },
  {
   "cell_type": "code",
   "execution_count": 27,
   "metadata": {
    "scrolled": true
   },
   "outputs": [
    {
     "data": {
      "image/png": "[encoded data removed]",
      "text/plain": [
       "<Figure size 1008x432 with 1 Axes>"
      ]
     },
     "metadata": {
      "needs_background": "light"
     },
     "output_type": "display_data"
    }
   ],
   "source": [
    "import matplotlib.pyplot as plt\n",
    "\n",
    "plt.figure(figsize=(14, 6))\n",
    "plt.rc('font', size=18)\n",
    "\n",
    "plt.plot(history.history[\"accuracy\"])\n",
    "plt.plot(history.history[\"val_accuracy\"])\n",
    "plt.ylabel(\"accuracy\")\n",
    "plt.xlabel(\"epoch\")\n",
    "plt.legend([\"train_accuracy\", \"val_accuracy\"])\n",
    "plt.show()"
   ]
  },
  {
   "cell_type": "code",
   "execution_count": 28,
   "metadata": {
    "scrolled": true
   },
   "outputs": [
    {
     "name": "stdout",
     "output_type": "stream",
     "text": [
      "Predict : 2017019740001_kwakjuheon , Real : 2017019740001_kwakjuheon\n",
      "Predict : 2017019740001_kwakjuheon , Real : 2017019740001_kwakjuheon\n",
      "Predict : 2017019740001_kwakjuheon , Real : 2017019740001_kwakjuheon\n",
      "Predict : 2017019740001_kwakjuheon , Real : 2017019740001_kwakjuheon\n",
      "Predict : 2017019740005_moonyeonwoo , Real : 2017019740001_kwakjuheon\n",
      "Predict : 2017019770001_kwonyuna , Real : 2017019770001_kwonyuna\n",
      "Predict : 2017019770001_kwonyuna , Real : 2017019770001_kwonyuna\n",
      "Predict : 2017019770001_kwonyuna , Real : 2017019770001_kwonyuna\n",
      "Predict : 2017019770001_kwonyuna , Real : 2017019770001_kwonyuna\n",
      "Predict : 2017019770001_kwonyuna , Real : 2017019770001_kwonyuna\n",
      "Predict : 2017019880001_kimsubin , Real : 2017019880001_kimsubin\n",
      "Predict : 2017019880001_kimsubin , Real : 2017019880001_kimsubin\n",
      "Predict : 2017019880001_kimsubin , Real : 2017019880001_kimsubin\n",
      "Predict : 2017019880001_kimsubin , Real : 2017019880001_kimsubin\n",
      "Predict : 2017019880001_kimsubin , Real : 2017019880001_kimsubin\n",
      "0.9333333333333333\n"
     ]
    }
   ],
   "source": [
    "from sklearn.metrics import accuracy_score\n",
    "\n",
    "x_validation_list=[]\n",
    "y_validation_list=[]\n",
    "\n",
    "val_file_path = \"../feature/feature_fbank_validation/\"\n",
    "val_class_names = os.listdir(val_file_path)\n",
    "val_class_names.sort()\n",
    "val_fname=[]\n",
    "X_TF_pred = []\n",
    "y_TF_pred = []\n",
    "\n",
    "for i in range(0,len(val_class_names)):\n",
    "    val_files=os.listdir(val_file_path+val_class_names[i])\n",
    "    val_files = [file for file in val_files if file.endswith(\".npy\")]\n",
    "    for j in range(0, len(val_files)):\n",
    "        val_fname.append(val_file_path+val_class_names[i]+\"/\"+val_files[j])\n",
    "        \n",
    "\n",
    "for i,fname in zip(range(0,len(val_fname)), val_fname):\n",
    "    tempX = np.load(val_fname[i])\n",
    "    tempX = tempX.T\n",
    "    x_validation_list.append(tempX)\n",
    "    y_validation_list.append(val_class_names.index(fname.split('/')[3]))\n",
    "    \n",
    "X_TF_pred = np.array(x_validation_list)\n",
    "y_TF_real_pred = np.array(y_validation_list)\n",
    "\n",
    "pred_out = model.predict(X_TF_pred)\n",
    "\n",
    "real =[]\n",
    "pred_out_idex=[]\n",
    "\n",
    "\n",
    "for i,pred in zip(range(0, len(pred_out)), pred_out) :\n",
    "   \n",
    "    print(\"Predict :\",class_names[np.argmax(pred)], \", Real :\", val_class_names[y_TF_real_pred[i]])\n",
    "    real.append(class_names.index(val_class_names[y_TF_real_pred[i]]))\n",
    "    pred_out_idex.append(np.argmax(pred))\n",
    "    \n",
    "# get the accuracy\n",
    "print (accuracy_score(real, pred_out_idex))\n",
    "\n"
   ]
  },
  {
   "cell_type": "code",
   "execution_count": null,
   "metadata": {},
   "outputs": [],
   "source": []
  },
  {
   "cell_type": "code",
   "execution_count": 29,
   "metadata": {},
   "outputs": [],
   "source": [
    "from tensorflow.keras.layers import LSTM, Dense, Dropout, Flatten, Activation\n",
    "from tensorflow.keras.models import Sequential\n",
    "from tensorflow.keras.optimizers import Adam\n",
    "from tensorflow.keras.callbacks import EarlyStopping, ModelCheckpoint\n",
    "\n",
    "model2 = Sequential()\n",
    "model2.add(LSTM(\n",
    "      256,\n",
    "      input_shape=input_shape,\n",
    "      return_sequences=True\n",
    "))\n",
    "model2.add(Dropout(dropout))\n",
    "model2.add(LSTM(512, return_sequences=True))\n",
    "model2.add(Dropout(dropout))\n",
    "model2.add(LSTM(256))\n",
    "model2.add(Dense(256))\n",
    "model2.add(Dropout(dropout))\n",
    "model2.add(Dense(n_classes))\n",
    "model2.add(Activation('softmax'))\n",
    "#odel2.compile(loss='categorical_crossentropy', optimizer='rmsprop')"
   ]
  },
  {
   "cell_type": "code",
   "execution_count": 30,
   "metadata": {},
   "outputs": [],
   "source": [
    "model2.compile(loss=tf.keras.losses.categorical_crossentropy, metrics=[\"accuracy\"], optimizer=keras.optimizers.SGD(lr=0.01, momentum=0.0, decay=0.0, nesterov=False))"
   ]
  },
  {
   "cell_type": "code",
   "execution_count": 31,
   "metadata": {},
   "outputs": [
    {
     "name": "stdout",
     "output_type": "stream",
     "text": [
      "Model: \"sequential_2\"\n",
      "_________________________________________________________________\n",
      "Layer (type)                 Output Shape              Param #   \n",
      "=================================================================\n",
      "lstm_8 (LSTM)                (None, 469, 256)          304128    \n",
      "_________________________________________________________________\n",
      "dropout_10 (Dropout)         (None, 469, 256)          0         \n",
      "_________________________________________________________________\n",
      "lstm_9 (LSTM)                (None, 469, 512)          1574912   \n",
      "_________________________________________________________________\n",
      "dropout_11 (Dropout)         (None, 469, 512)          0         \n",
      "_________________________________________________________________\n",
      "lstm_10 (LSTM)               (None, 256)               787456    \n",
      "_________________________________________________________________\n",
      "dense_4 (Dense)              (None, 256)               65792     \n",
      "_________________________________________________________________\n",
      "dropout_12 (Dropout)         (None, 256)               0         \n",
      "_________________________________________________________________\n",
      "dense_5 (Dense)              (None, 64)                16448     \n",
      "_________________________________________________________________\n",
      "activation (Activation)      (None, 64)                0         \n",
      "=================================================================\n",
      "Total params: 2,748,736\n",
      "Trainable params: 2,748,736\n",
      "Non-trainable params: 0\n",
      "_________________________________________________________________\n"
     ]
    }
   ],
   "source": [
    "model2.summary()"
   ]
  },
  {
   "cell_type": "code",
   "execution_count": 32,
   "metadata": {
    "scrolled": true
   },
   "outputs": [
    {
     "name": "stdout",
     "output_type": "stream",
     "text": [
      "Train on 256 samples, validate on 64 samples\n",
      "Epoch 1/50\n",
      "256/256 - 4s - loss: 4.1855 - accuracy: 0.0195 - val_loss: 4.0983 - val_accuracy: 0.0156\n",
      "Epoch 2/50\n",
      "256/256 - 2s - loss: 4.0790 - accuracy: 0.0586 - val_loss: 4.0222 - val_accuracy: 0.1406\n",
      "Epoch 3/50\n",
      "256/256 - 2s - loss: 4.0083 - accuracy: 0.0938 - val_loss: 3.9560 - val_accuracy: 0.1562\n",
      "Epoch 4/50\n",
      "256/256 - 2s - loss: 3.9190 - accuracy: 0.1445 - val_loss: 3.8894 - val_accuracy: 0.2031\n",
      "Epoch 5/50\n",
      "256/256 - 2s - loss: 3.8350 - accuracy: 0.1914 - val_loss: 3.8108 - val_accuracy: 0.2188\n",
      "Epoch 6/50\n",
      "256/256 - 2s - loss: 3.7541 - accuracy: 0.2578 - val_loss: 3.7305 - val_accuracy: 0.2656\n",
      "Epoch 7/50\n",
      "256/256 - 2s - loss: 3.6679 - accuracy: 0.2891 - val_loss: 3.6383 - val_accuracy: 0.2656\n",
      "Epoch 8/50\n",
      "256/256 - 2s - loss: 3.5549 - accuracy: 0.3320 - val_loss: 3.5517 - val_accuracy: 0.3281\n",
      "Epoch 9/50\n",
      "256/256 - 2s - loss: 3.4560 - accuracy: 0.3359 - val_loss: 3.4494 - val_accuracy: 0.2812\n",
      "Epoch 10/50\n",
      "256/256 - 2s - loss: 3.3524 - accuracy: 0.4297 - val_loss: 3.3470 - val_accuracy: 0.3281\n",
      "Epoch 11/50\n",
      "256/256 - 2s - loss: 3.2520 - accuracy: 0.4062 - val_loss: 3.2393 - val_accuracy: 0.3594\n",
      "Epoch 12/50\n",
      "256/256 - 2s - loss: 3.1005 - accuracy: 0.5234 - val_loss: 3.1325 - val_accuracy: 0.4844\n",
      "Epoch 13/50\n",
      "256/256 - 2s - loss: 3.0481 - accuracy: 0.4766 - val_loss: 3.0393 - val_accuracy: 0.4844\n",
      "Epoch 14/50\n",
      "256/256 - 2s - loss: 2.9083 - accuracy: 0.5117 - val_loss: 2.9504 - val_accuracy: 0.5625\n",
      "Epoch 15/50\n",
      "256/256 - 2s - loss: 2.7685 - accuracy: 0.5508 - val_loss: 2.8331 - val_accuracy: 0.5000\n",
      "Epoch 16/50\n",
      "256/256 - 2s - loss: 2.6851 - accuracy: 0.5469 - val_loss: 2.7225 - val_accuracy: 0.5625\n",
      "Epoch 17/50\n",
      "256/256 - 2s - loss: 2.5192 - accuracy: 0.6289 - val_loss: 2.6203 - val_accuracy: 0.5469\n",
      "Epoch 18/50\n",
      "256/256 - 2s - loss: 2.4231 - accuracy: 0.6523 - val_loss: 2.5009 - val_accuracy: 0.5781\n",
      "Epoch 19/50\n",
      "256/256 - 2s - loss: 2.2692 - accuracy: 0.7344 - val_loss: 2.3941 - val_accuracy: 0.6094\n",
      "Epoch 20/50\n",
      "256/256 - 2s - loss: 2.1621 - accuracy: 0.6953 - val_loss: 2.3221 - val_accuracy: 0.5781\n",
      "Epoch 21/50\n",
      "256/256 - 2s - loss: 2.0337 - accuracy: 0.7070 - val_loss: 2.1869 - val_accuracy: 0.6094\n",
      "Epoch 22/50\n",
      "256/256 - 2s - loss: 1.9192 - accuracy: 0.7305 - val_loss: 2.0480 - val_accuracy: 0.6094\n",
      "Epoch 23/50\n",
      "256/256 - 2s - loss: 1.7701 - accuracy: 0.7695 - val_loss: 1.9318 - val_accuracy: 0.6562\n",
      "Epoch 24/50\n",
      "256/256 - 2s - loss: 1.5935 - accuracy: 0.8125 - val_loss: 1.8120 - val_accuracy: 0.6719\n",
      "Epoch 25/50\n",
      "256/256 - 2s - loss: 1.4783 - accuracy: 0.8164 - val_loss: 1.7779 - val_accuracy: 0.7188\n",
      "Epoch 26/50\n",
      "256/256 - 2s - loss: 1.3787 - accuracy: 0.8711 - val_loss: 1.5960 - val_accuracy: 0.7031\n",
      "Epoch 27/50\n",
      "256/256 - 2s - loss: 1.2005 - accuracy: 0.8828 - val_loss: 1.5193 - val_accuracy: 0.7188\n",
      "Epoch 28/50\n",
      "256/256 - 2s - loss: 1.1493 - accuracy: 0.8828 - val_loss: 1.7804 - val_accuracy: 0.6406\n",
      "Epoch 29/50\n",
      "256/256 - 2s - loss: 1.1747 - accuracy: 0.8789 - val_loss: 1.4642 - val_accuracy: 0.7188\n",
      "Epoch 30/50\n",
      "256/256 - 2s - loss: 0.9738 - accuracy: 0.9219 - val_loss: 1.3639 - val_accuracy: 0.7812\n",
      "Epoch 31/50\n",
      "256/256 - 2s - loss: 0.8870 - accuracy: 0.9258 - val_loss: 1.3029 - val_accuracy: 0.7188\n",
      "Epoch 32/50\n",
      "256/256 - 2s - loss: 0.7383 - accuracy: 0.9453 - val_loss: 1.1900 - val_accuracy: 0.7344\n",
      "Epoch 33/50\n",
      "256/256 - 2s - loss: 0.7079 - accuracy: 0.9297 - val_loss: 1.1079 - val_accuracy: 0.7969\n",
      "Epoch 34/50\n",
      "256/256 - 2s - loss: 0.8238 - accuracy: 0.8828 - val_loss: 1.1379 - val_accuracy: 0.7656\n",
      "Epoch 35/50\n",
      "256/256 - 2s - loss: 0.7791 - accuracy: 0.8984 - val_loss: 1.0788 - val_accuracy: 0.8125\n",
      "Epoch 36/50\n",
      "256/256 - 2s - loss: 0.6886 - accuracy: 0.8984 - val_loss: 1.0120 - val_accuracy: 0.7969\n",
      "Epoch 37/50\n",
      "256/256 - 2s - loss: 0.5118 - accuracy: 0.9688 - val_loss: 0.9147 - val_accuracy: 0.8281\n",
      "Epoch 38/50\n",
      "256/256 - 2s - loss: 0.4456 - accuracy: 0.9648 - val_loss: 0.8884 - val_accuracy: 0.7812\n",
      "Epoch 39/50\n",
      "256/256 - 2s - loss: 0.3498 - accuracy: 0.9727 - val_loss: 0.8217 - val_accuracy: 0.7812\n",
      "Epoch 40/50\n",
      "256/256 - 2s - loss: 0.2998 - accuracy: 0.9766 - val_loss: 0.7985 - val_accuracy: 0.7812\n",
      "Epoch 41/50\n",
      "256/256 - 2s - loss: 0.2863 - accuracy: 0.9688 - val_loss: 0.7310 - val_accuracy: 0.8281\n",
      "Epoch 42/50\n",
      "256/256 - 2s - loss: 0.2926 - accuracy: 0.9609 - val_loss: 0.8418 - val_accuracy: 0.8125\n",
      "Epoch 43/50\n",
      "256/256 - 2s - loss: 0.2500 - accuracy: 0.9883 - val_loss: 0.7399 - val_accuracy: 0.8125\n",
      "Epoch 44/50\n",
      "256/256 - 2s - loss: 0.2105 - accuracy: 0.9805 - val_loss: 0.6690 - val_accuracy: 0.8281\n",
      "Epoch 45/50\n",
      "256/256 - 2s - loss: 0.1819 - accuracy: 0.9883 - val_loss: 0.6075 - val_accuracy: 0.8438\n",
      "Epoch 46/50\n",
      "256/256 - 2s - loss: 0.1688 - accuracy: 0.9844 - val_loss: 0.5800 - val_accuracy: 0.8438\n",
      "Epoch 47/50\n",
      "256/256 - 2s - loss: 0.1588 - accuracy: 0.9766 - val_loss: 0.5775 - val_accuracy: 0.8438\n",
      "Epoch 48/50\n",
      "256/256 - 2s - loss: 0.1325 - accuracy: 0.9922 - val_loss: 0.5964 - val_accuracy: 0.8438\n",
      "Epoch 49/50\n",
      "256/256 - 2s - loss: 0.1319 - accuracy: 0.9805 - val_loss: 0.5929 - val_accuracy: 0.8281\n",
      "Epoch 50/50\n",
      "256/256 - 2s - loss: 0.1280 - accuracy: 0.9805 - val_loss: 0.5578 - val_accuracy: 0.8438\n"
     ]
    }
   ],
   "source": [
    "history2 = model2.fit(x_train, y_train_encoded, \n",
    "                    batch_size=batch_size, epochs=n_epochs, verbose=2,\n",
    "                    validation_data=(x_val, y_val_encoded))"
   ]
  },
  {
   "cell_type": "code",
   "execution_count": 33,
   "metadata": {},
   "outputs": [
    {
     "data": {
      "image/png": "[encoded data removed]",
      "text/plain": [
       "<Figure size 1008x432 with 1 Axes>"
      ]
     },
     "metadata": {
      "needs_background": "light"
     },
     "output_type": "display_data"
    }
   ],
   "source": [
    "import matplotlib.pyplot as plt\n",
    "\n",
    "plt.figure(figsize=(14, 6))\n",
    "plt.rc('font', size=18)\n",
    "\n",
    "plt.plot(history2.history[\"accuracy\"])\n",
    "plt.plot(history2.history[\"val_accuracy\"])\n",
    "plt.ylabel(\"accuracy\")\n",
    "plt.xlabel(\"epoch\")\n",
    "plt.legend([\"train_accuracy\", \"val_accuracy\"])\n",
    "plt.show()"
   ]
  },
  {
   "cell_type": "code",
   "execution_count": 34,
   "metadata": {},
   "outputs": [
    {
     "name": "stdout",
     "output_type": "stream",
     "text": [
      "Predict : 2017019770001_kwonyuna , Real : 2017019740001_kwakjuheon\n",
      "Predict : 2017019740005_moonyeonwoo , Real : 2017019740001_kwakjuheon\n",
      "Predict : 2017019740005_moonyeonwoo , Real : 2017019740001_kwakjuheon\n",
      "Predict : 2017019740001_kwakjuheon , Real : 2017019740001_kwakjuheon\n",
      "Predict : 2017019770022_heojaemin , Real : 2017019740001_kwakjuheon\n",
      "Predict : 2017019770001_kwonyuna , Real : 2017019770001_kwonyuna\n",
      "Predict : 2017019770001_kwonyuna , Real : 2017019770001_kwonyuna\n",
      "Predict : 2017019770001_kwonyuna , Real : 2017019770001_kwonyuna\n",
      "Predict : 2017019770001_kwonyuna , Real : 2017019770001_kwonyuna\n",
      "Predict : 2017019770001_kwonyuna , Real : 2017019770001_kwonyuna\n",
      "Predict : 2017019770021_heoyoonjung , Real : 2017019880001_kimsubin\n",
      "Predict : 2017019770021_heoyoonjung , Real : 2017019880001_kimsubin\n",
      "Predict : 2017019740001_kwakjuheon , Real : 2017019880001_kimsubin\n",
      "Predict : 2017019880005_kimjihyeon , Real : 2017019880001_kimsubin\n",
      "Predict : 2017019770017_hansohee , Real : 2017019880001_kimsubin\n",
      "0.4\n"
     ]
    }
   ],
   "source": [
    "from sklearn.metrics import accuracy_score\n",
    "\n",
    "x_validation_list=[]\n",
    "y_validation_list=[]\n",
    "\n",
    "val_file_path = \"../feature/feature_fbank_validation/\"\n",
    "val_class_names = os.listdir(val_file_path)\n",
    "val_class_names.sort()\n",
    "val_fname=[]\n",
    "X_TF_pred = []\n",
    "y_TF_pred = []\n",
    "\n",
    "for i in range(0,len(val_class_names)):\n",
    "    val_files=os.listdir(val_file_path+val_class_names[i])\n",
    "    val_files = [file for file in val_files if file.endswith(\".npy\")]\n",
    "    for j in range(0, len(val_files)):\n",
    "        val_fname.append(val_file_path+val_class_names[i]+\"/\"+val_files[j])\n",
    "        \n",
    "\n",
    "for i,fname in zip(range(0,len(val_fname)), val_fname):\n",
    "    tempX = np.load(val_fname[i])\n",
    "    tempX = tempX.T\n",
    "    x_validation_list.append(tempX)\n",
    "    y_validation_list.append(val_class_names.index(fname.split('/')[3]))\n",
    "    \n",
    "X_TF_pred = np.array(x_validation_list)\n",
    "y_TF_real_pred = np.array(y_validation_list)\n",
    "\n",
    "pred_out = model2.predict(X_TF_pred)\n",
    "\n",
    "real =[]\n",
    "pred_out_idex=[]\n",
    "\n",
    "for i,pred in zip(range(0, len(pred_out)), pred_out) :\n",
    "   \n",
    "    print(\"Predict :\",class_names[np.argmax(pred)], \", Real :\", val_class_names[y_TF_real_pred[i]])\n",
    "    real.append(class_names.index(val_class_names[y_TF_real_pred[i]]))\n",
    "    pred_out_idex.append(np.argmax(pred))\n",
    "    \n",
    "# get the accuracy\n",
    "print (accuracy_score(real, pred_out_idex))\n"
   ]
  },
  {
   "cell_type": "code",
   "execution_count": null,
   "metadata": {},
   "outputs": [],
   "source": []
  },
  {
   "cell_type": "code",
   "execution_count": null,
   "metadata": {},
   "outputs": [],
   "source": []
  }
 ],
 "metadata": {
  "kernelspec": {
   "display_name": "Python(py36)",
   "language": "python",
   "name": "py36"
  },
  "language_info": {
   "codemirror_mode": {
    "name": "ipython",
    "version": 3
   },
   "file_extension": ".py",
   "mimetype": "text/x-python",
   "name": "python",
   "nbconvert_exporter": "python",
   "pygments_lexer": "ipython3",
   "version": "3.6.10"
  }
 },
 "nbformat": 4,
 "nbformat_minor": 2
}
