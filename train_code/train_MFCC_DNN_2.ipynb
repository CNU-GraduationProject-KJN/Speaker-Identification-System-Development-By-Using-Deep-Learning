{
 "cells": [
  {
   "cell_type": "code",
   "execution_count": 1,
   "metadata": {},
   "outputs": [],
   "source": [
    "try:\n",
    "    %tensorflow_version 2.x\n",
    "except Exception:\n",
    "    pass"
   ]
  },
  {
   "cell_type": "code",
   "execution_count": 2,
   "metadata": {},
   "outputs": [
    {
     "name": "stdout",
     "output_type": "stream",
     "text": [
      "2.1.0\n"
     ]
    }
   ],
   "source": [
    "from __future__ import absolute_import, division, print_function, unicode_literals, unicode_literals\n",
    "\n",
    "# tensorflow와 tf.keras를 import\n",
    "import tensorflow as tf\n",
    "from tensorflow import keras as kr\n",
    "\n",
    "import numpy as np\n",
    "import matplotlib.pyplot as plt\n",
    "import os\n",
    "# import pandas as pd\n",
    "import random\n",
    "\n",
    "print(tf.__version__)"
   ]
  },
  {
   "cell_type": "code",
   "execution_count": 3,
   "metadata": {},
   "outputs": [
    {
     "name": "stdout",
     "output_type": "stream",
     "text": [
      "['2017019740001_kwakjuheon', '2017019740002_kimjiho', '2017019740003_songyejin', '2017019740004_parksohui', '2017019740005_moonyeonwoo', '2017019740006_kangsubin', '2017019740007_leekyeongeun', '2017019740008_chochaeyeon', '2017019740009_shindonghwan', '2017019740010_kwakmirae', '2017019740011_kimhyeryeong', '2017019740012_chaeminjoon', '2017019740013_kwakyiheon', '2017019740014_leesumin', '2017019740015_choihayoung', '2017019740016_kangyeseo', '2017019740017_kwakmihyang', '2017019740018_eundano', '2017019740019_limjinju', '2017019740020_kimseongje', '2017019740021_kwakbokyeong', '2017019770001_kwonyuna', '2017019770002_kwoneunkyung', '2017019770003_johaesu', '2017019770004_leebyeongjin', '2017019770005_hyeonsanghyeok', '2017019770006_jennie', '2017019770007_simseungmin', '2017019770008_parksomi', '2017019770009_yuminji', '2017019770010_parksojin', '2017019770011_kwonyeonwoo', '2017019770012_ladakyeong', '2017019770013_janghyomin', '2017019770014_parkeunbi', '2017019770015_parkdayeung', '2017019770016_parkjongae', '2017019770017_hansohee', '2017019770018_janggyeoul', '2017019770019_leewooju', '2017019770020_nomyungok', '2017019770021_heoyoonjung', '2017019770022_heojaemin', '2017019770023_kimsoyung', '2017019770024_chuminha', '2017019770025_kimhyeonsu', '2017019770026_chaesonghwa', '2017019770027_kwonyulim', '2017019770028_kimminyoung', '2017019770029_jueunhong', '2017019770030_leejeongju', '2017019770031_kwonnahui', '2017019770032_kimdayeong', '2017019770033_kwonsundo', '2017019770034_kimhyeona', '2017019770035_leehyojin', '2017019770036_yuminji', '2017019770037_jeonghojun', '2017019770038_kanghyeyun', '2017019880001_kimsubin', '2017019880002_kimkihyeon', '2017019880003_kimminji', '2017019880004_myeongjaewon', '2017019880005_kimjihyeon']\n"
     ]
    },
    {
     "data": {
      "text/plain": [
       "64"
      ]
     },
     "execution_count": 3,
     "metadata": {},
     "output_type": "execute_result"
    }
   ],
   "source": [
    "class_names = os.listdir(\"../feature/feature_mfcc/\")\n",
    "class_names.sort()\n",
    "\n",
    "print(class_names)\n",
    "len(class_names)"
   ]
  },
  {
   "cell_type": "code",
   "execution_count": 4,
   "metadata": {},
   "outputs": [],
   "source": [
    "from tensorflow.keras.models import Sequential\n",
    "from tensorflow.keras.layers import Dense \n",
    "from tensorflow.keras.models import Model\n",
    "from tensorflow.keras.layers import Dense, Embedding, Input, Activation, Dropout, Reshape, concatenate\n",
    "from tensorflow.keras import regularizers\n",
    "from tensorflow.keras.wrappers.scikit_learn import KerasClassifier \n",
    "import sklearn\n",
    "from sklearn.model_selection import KFold, StratifiedKFold\n",
    "from sklearn.model_selection import cross_validate, cross_val_predict\n",
    "from tensorflow.keras.layers import Conv1D, Conv2D, GlobalAveragePooling2D\n",
    "from tensorflow.keras.layers import MaxPooling1D, MaxPooling3D, MaxPooling2D\n",
    "from tensorflow.keras.layers import Flatten\n",
    "from tensorflow.keras.optimizers import Adadelta\n",
    "import numpy\n"
   ]
  },
  {
   "cell_type": "code",
   "execution_count": 5,
   "metadata": {},
   "outputs": [],
   "source": [
    "x_list = []\n",
    "y_list = []\n",
    "\n",
    "for i in range(0,len(class_names)):\n",
    "    files=os.listdir(\"../feature/feature_mfcc/\"+class_names[i])\n",
    "    files = [file for file in files if file.endswith(\".npy\")]\n",
    "    #print(class_names[i].split('_')[0])\n",
    "\n",
    "    for j in range(0, len(files)):\n",
    "        #print(files[j], j)\n",
    "        x = np.load(\"../feature/feature_mfcc/\"+class_names[i]+\"/\"+files[j])\n",
    "        x_list.append(x)\n",
    "        y_list.append(i)\n",
    "        \n",
    "cv_scores, model_history = list(), list()\n",
    "from tensorflow.keras.utils import to_categorical\n",
    "from sklearn.model_selection import train_test_split\n",
    "\n",
    "x_train = np.array(x_list)\n",
    "y_train = np.array(y_list)\n"
   ]
  },
  {
   "cell_type": "code",
   "execution_count": 6,
   "metadata": {},
   "outputs": [
    {
     "name": "stdout",
     "output_type": "stream",
     "text": [
      "y_train:  (320,)\n"
     ]
    }
   ],
   "source": [
    "print(\"y_train: \", y_train.shape)"
   ]
  },
  {
   "cell_type": "code",
   "execution_count": 7,
   "metadata": {},
   "outputs": [
    {
     "name": "stdout",
     "output_type": "stream",
     "text": [
      "x_train:  (256, 469, 12)\n",
      "y_train:  (256,)\n",
      "x_val:  (64, 469, 12)\n",
      "y_val:  (64,)\n"
     ]
    }
   ],
   "source": [
    "x_train, x_val, y_train, y_val = train_test_split(x_train, y_train, stratify=y_train, test_size=0.2, random_state = 42, shuffle=True)\n",
    "print(\"x_train: \", x_train.shape)\n",
    "print(\"y_train: \", y_train.shape)\n",
    "print(\"x_val: \", x_val.shape)\n",
    "print(\"y_val: \", y_val.shape)"
   ]
  },
  {
   "cell_type": "code",
   "execution_count": 8,
   "metadata": {},
   "outputs": [
    {
     "name": "stdout",
     "output_type": "stream",
     "text": [
      "x_train:  (256, 469, 12, 1)\n",
      "x_val:  (64, 469, 12, 1)\n",
      "y_train_encoded: (256, 64)\n",
      "y_val_encoded: (64, 64)\n",
      "-----------------------\n"
     ]
    }
   ],
   "source": [
    "y_train_encoded = tf.keras.utils.to_categorical(y_train)\n",
    "y_val_encoded = tf.keras.utils.to_categorical(y_val)\n",
    "    \n",
    "    \n",
    "x_train = x_train.reshape(-1, x_train.shape[1], x_train.shape[2], 1)\n",
    "x_val   = x_val.reshape(-1, x_val.shape[1], x_val.shape[2], 1)\n",
    "\n",
    "\n",
    "x_train = x_train - np.min(x_train)\n",
    "\n",
    "x_train = x_train / np.max(x_train)\n",
    "\n",
    "x_val = x_val - np.min(x_val)\n",
    "x_val = x_val / np.max(x_val)\n",
    "print(\"x_train: \", x_train.shape)\n",
    "print(\"x_val: \", x_val.shape)\n",
    "print(\"y_train_encoded:\", y_train_encoded.shape)\n",
    "print(\"y_val_encoded:\", y_val_encoded.shape)\n",
    "print(\"-----------------------\")"
   ]
  },
  {
   "cell_type": "markdown",
   "metadata": {},
   "source": [
    "*** 수정필요 ***\n",
    "\n",
    "num_rows = 40\n",
    "num_columns = 174\n",
    "\n",
    "x_train = x_train.reshape(x_train.shape[0], x, num_columns, 1)\n",
    "x_test = x_test.reshape(x_test.shape[0], num_rows, num_columns, 1)\n",
    "\n",
    "num_labels = yy.shape[1]\n",
    "filter_size = 2\n",
    "\n",
    "*** 여기까지 ***"
   ]
  },
  {
   "cell_type": "markdown",
   "metadata": {},
   "source": [
    "대부분 Conv2D는 영상처리에서 많이 사용한다.\n",
    "\n",
    "Input: Batch Size (N) x Height (H) x Width (W) x Channels (C)\n",
    "\n",
    "Filter: Height x Width x Input Channels(channel) x Output Channel(# of filters)   // 커널이라고 부르기도 함\n",
    "\n",
    "Pooling은 feature map의 차원 수를 감소시켜서 특징을 추출하고, 수행 시간을 감소시키는 역할을 한다"
   ]
  },
  {
   "cell_type": "code",
   "execution_count": 9,
   "metadata": {},
   "outputs": [],
   "source": [
    "# Construct model \n",
    "def create_model(X_train, X_val, y_train, y_val): \n",
    "    model = Sequential()\n",
    "    print(X_train.shape)\n",
    "    model.add(Conv2D(filters=128, kernel_size=1, input_shape=(X_train.shape[1], X_train.shape[2], 1), activation='relu'))\n",
    "    model.add(MaxPooling2D(pool_size=2))\n",
    "#     model.add(Dropout(0.2))\n",
    "    model.add(Conv2D(filters=64, kernel_size=1, activation='relu'))\n",
    "#     model.add(MaxPooling2D(pool_size=2))\n",
    "    model.add(Dropout(0.2))\n",
    "\n",
    "    model.add(Conv2D(filters=32, kernel_size=1, activation='relu'))\n",
    "#     model.add(MaxPooling2D(pool_size=2))\n",
    "    model.add(Dropout(0.2))\n",
    "\n",
    "    model.add(Conv2D(filters=16, kernel_size=1, activation='relu'))\n",
    "#     model.add(MaxPooling2D(pool_size=2))\n",
    "    model.add(Dropout(0.2))\n",
    "#     model.add(GlobalAveragePooling2D())\n",
    "    model.add(Flatten())\n",
    "\n",
    "    model.add(Dense(y_val.shape[1], activation='softmax'))\n",
    "    model.summary()\n",
    "    model.compile(loss='categorical_crossentropy', optimizer='adam', metrics=['accuracy'])\n",
    "\n",
    "    val_acc = model.evaluate(X_val, y_val, batch_size=16, verbose = 1)\n",
    "    history = model.fit(X_train, y_train, batch_size=4, epochs=50, verbose=1, validation_data=(x_val, y_val_encoded))\n",
    "    return model, val_acc, history"
   ]
  },
  {
   "cell_type": "code",
   "execution_count": 10,
   "metadata": {},
   "outputs": [
    {
     "name": "stdout",
     "output_type": "stream",
     "text": [
      "(256, 469, 12, 1)\n",
      "Model: \"sequential\"\n",
      "_________________________________________________________________\n",
      "Layer (type)                 Output Shape              Param #   \n",
      "=================================================================\n",
      "conv2d (Conv2D)              (None, 469, 12, 128)      256       \n",
      "_________________________________________________________________\n",
      "max_pooling2d (MaxPooling2D) (None, 234, 6, 128)       0         \n",
      "_________________________________________________________________\n",
      "conv2d_1 (Conv2D)            (None, 234, 6, 64)        8256      \n",
      "_________________________________________________________________\n",
      "dropout (Dropout)            (None, 234, 6, 64)        0         \n",
      "_________________________________________________________________\n",
      "conv2d_2 (Conv2D)            (None, 234, 6, 32)        2080      \n",
      "_________________________________________________________________\n",
      "dropout_1 (Dropout)          (None, 234, 6, 32)        0         \n",
      "_________________________________________________________________\n",
      "conv2d_3 (Conv2D)            (None, 234, 6, 16)        528       \n",
      "_________________________________________________________________\n",
      "dropout_2 (Dropout)          (None, 234, 6, 16)        0         \n",
      "_________________________________________________________________\n",
      "flatten (Flatten)            (None, 22464)             0         \n",
      "_________________________________________________________________\n",
      "dense (Dense)                (None, 64)                1437760   \n",
      "=================================================================\n",
      "Total params: 1,448,880\n",
      "Trainable params: 1,448,880\n",
      "Non-trainable params: 0\n",
      "_________________________________________________________________\n",
      "64/64 [==============================] - 1s 13ms/sample - loss: 4.1599 - accuracy: 0.0156\n",
      "Train on 256 samples, validate on 64 samples\n",
      "Epoch 1/50\n",
      "256/256 [==============================] - 1s 3ms/sample - loss: 4.1746 - accuracy: 0.0117 - val_loss: 4.1589 - val_accuracy: 0.0156\n",
      "Epoch 2/50\n",
      "256/256 [==============================] - 0s 980us/sample - loss: 4.1603 - accuracy: 0.0039 - val_loss: 4.1589 - val_accuracy: 0.0156\n",
      "Epoch 3/50\n",
      "256/256 [==============================] - 0s 1ms/sample - loss: 4.1606 - accuracy: 0.0117 - val_loss: 4.1589 - val_accuracy: 0.0156\n",
      "Epoch 4/50\n",
      "256/256 [==============================] - 0s 1ms/sample - loss: 4.1602 - accuracy: 0.0078 - val_loss: 4.1589 - val_accuracy: 0.0156\n",
      "Epoch 5/50\n",
      "256/256 [==============================] - 0s 1ms/sample - loss: 4.1603 - accuracy: 0.0117 - val_loss: 4.1589 - val_accuracy: 0.0156\n",
      "Epoch 6/50\n",
      "256/256 [==============================] - 0s 1ms/sample - loss: 4.1603 - accuracy: 0.0078 - val_loss: 4.1589 - val_accuracy: 0.0156\n",
      "Epoch 7/50\n",
      "256/256 [==============================] - 0s 1ms/sample - loss: 4.1605 - accuracy: 0.0078 - val_loss: 4.1589 - val_accuracy: 0.0156\n",
      "Epoch 8/50\n",
      "256/256 [==============================] - 0s 1ms/sample - loss: 4.1603 - accuracy: 0.0039 - val_loss: 4.1589 - val_accuracy: 0.0156\n",
      "Epoch 9/50\n",
      "256/256 [==============================] - 0s 1ms/sample - loss: 4.1603 - accuracy: 0.0000e+00 - val_loss: 4.1589 - val_accuracy: 0.0156\n",
      "Epoch 10/50\n",
      "256/256 [==============================] - 0s 1ms/sample - loss: 4.1604 - accuracy: 0.0117 - val_loss: 4.1589 - val_accuracy: 0.0156\n",
      "Epoch 11/50\n",
      "256/256 [==============================] - 0s 1ms/sample - loss: 4.1604 - accuracy: 0.0000e+00 - val_loss: 4.1589 - val_accuracy: 0.0156\n",
      "Epoch 12/50\n",
      "256/256 [==============================] - 0s 1ms/sample - loss: 4.1603 - accuracy: 0.0039 - val_loss: 4.1589 - val_accuracy: 0.0156\n",
      "Epoch 13/50\n",
      "256/256 [==============================] - 0s 1ms/sample - loss: 4.1604 - accuracy: 0.0039 - val_loss: 4.1589 - val_accuracy: 0.0156\n",
      "Epoch 14/50\n",
      "256/256 [==============================] - 0s 1ms/sample - loss: 4.1604 - accuracy: 0.0000e+00 - val_loss: 4.1589 - val_accuracy: 0.0156\n",
      "Epoch 15/50\n",
      "256/256 [==============================] - 0s 981us/sample - loss: 4.1604 - accuracy: 0.0039 - val_loss: 4.1589 - val_accuracy: 0.0156\n",
      "Epoch 16/50\n",
      "256/256 [==============================] - 0s 1ms/sample - loss: 4.1604 - accuracy: 0.0000e+00 - val_loss: 4.1589 - val_accuracy: 0.0156\n",
      "Epoch 17/50\n",
      "256/256 [==============================] - 0s 1ms/sample - loss: 4.1604 - accuracy: 0.0117 - val_loss: 4.1589 - val_accuracy: 0.0156\n",
      "Epoch 18/50\n",
      "256/256 [==============================] - 0s 1ms/sample - loss: 4.1603 - accuracy: 0.0117 - val_loss: 4.1589 - val_accuracy: 0.0156\n",
      "Epoch 19/50\n",
      "256/256 [==============================] - 0s 1ms/sample - loss: 4.1604 - accuracy: 0.0078 - val_loss: 4.1589 - val_accuracy: 0.0156\n",
      "Epoch 20/50\n",
      "256/256 [==============================] - 0s 1ms/sample - loss: 4.1604 - accuracy: 0.0000e+00 - val_loss: 4.1589 - val_accuracy: 0.0156\n",
      "Epoch 21/50\n",
      "256/256 [==============================] - 0s 1ms/sample - loss: 4.1604 - accuracy: 0.0039 - val_loss: 4.1589 - val_accuracy: 0.0156\n",
      "Epoch 22/50\n",
      "256/256 [==============================] - 0s 1ms/sample - loss: 4.1604 - accuracy: 0.0000e+00 - val_loss: 4.1589 - val_accuracy: 0.0156\n",
      "Epoch 23/50\n",
      "256/256 [==============================] - 0s 1ms/sample - loss: 4.1604 - accuracy: 0.0078 - val_loss: 4.1589 - val_accuracy: 0.0156\n",
      "Epoch 24/50\n",
      "256/256 [==============================] - 0s 1ms/sample - loss: 4.1605 - accuracy: 0.0000e+00 - val_loss: 4.1589 - val_accuracy: 0.0156\n",
      "Epoch 25/50\n",
      "256/256 [==============================] - 0s 1ms/sample - loss: 4.1604 - accuracy: 0.0078 - val_loss: 4.1589 - val_accuracy: 0.0156\n",
      "Epoch 26/50\n",
      "256/256 [==============================] - 0s 1ms/sample - loss: 4.1605 - accuracy: 0.0039 - val_loss: 4.1589 - val_accuracy: 0.0156\n",
      "Epoch 27/50\n",
      "256/256 [==============================] - 0s 1ms/sample - loss: 4.1603 - accuracy: 0.0078 - val_loss: 4.1589 - val_accuracy: 0.0156\n",
      "Epoch 28/50\n",
      "256/256 [==============================] - 0s 1ms/sample - loss: 4.1602 - accuracy: 0.0039 - val_loss: 4.1589 - val_accuracy: 0.0156\n",
      "Epoch 29/50\n",
      "256/256 [==============================] - 0s 1ms/sample - loss: 4.1603 - accuracy: 0.0000e+00 - val_loss: 4.1589 - val_accuracy: 0.0156\n",
      "Epoch 30/50\n",
      "256/256 [==============================] - 0s 1ms/sample - loss: 4.1607 - accuracy: 0.0039 - val_loss: 4.1589 - val_accuracy: 0.0156\n",
      "Epoch 31/50\n",
      "256/256 [==============================] - 0s 1ms/sample - loss: 4.1633 - accuracy: 0.0039 - val_loss: 4.1589 - val_accuracy: 0.0156\n",
      "Epoch 32/50\n",
      "256/256 [==============================] - 0s 1ms/sample - loss: 4.1607 - accuracy: 0.0117 - val_loss: 4.1589 - val_accuracy: 0.0156\n",
      "Epoch 33/50\n",
      "256/256 [==============================] - 0s 1ms/sample - loss: 4.1605 - accuracy: 0.0039 - val_loss: 4.1589 - val_accuracy: 0.0156\n",
      "Epoch 34/50\n",
      "256/256 [==============================] - 0s 1ms/sample - loss: 4.1604 - accuracy: 0.0039 - val_loss: 4.1589 - val_accuracy: 0.0156\n",
      "Epoch 35/50\n",
      "256/256 [==============================] - 0s 1ms/sample - loss: 4.1603 - accuracy: 0.0078 - val_loss: 4.1589 - val_accuracy: 0.0156\n",
      "Epoch 36/50\n",
      "256/256 [==============================] - 0s 1ms/sample - loss: 4.1604 - accuracy: 0.0039 - val_loss: 4.1589 - val_accuracy: 0.0156\n",
      "Epoch 37/50\n",
      "256/256 [==============================] - 0s 1ms/sample - loss: 4.1605 - accuracy: 0.0078 - val_loss: 4.1589 - val_accuracy: 0.0156\n",
      "Epoch 38/50\n",
      "256/256 [==============================] - 0s 1ms/sample - loss: 4.1604 - accuracy: 0.0039 - val_loss: 4.1589 - val_accuracy: 0.0156\n",
      "Epoch 39/50\n",
      "256/256 [==============================] - 0s 1ms/sample - loss: 4.1604 - accuracy: 0.0039 - val_loss: 4.1589 - val_accuracy: 0.0156\n",
      "Epoch 40/50\n",
      "256/256 [==============================] - 0s 1ms/sample - loss: 4.1603 - accuracy: 0.0078 - val_loss: 4.1589 - val_accuracy: 0.0156\n",
      "Epoch 41/50\n",
      "256/256 [==============================] - 0s 1ms/sample - loss: 4.1604 - accuracy: 0.0078 - val_loss: 4.1589 - val_accuracy: 0.0156\n",
      "Epoch 42/50\n",
      "256/256 [==============================] - 0s 1ms/sample - loss: 4.1605 - accuracy: 0.0078 - val_loss: 4.1589 - val_accuracy: 0.0156\n",
      "Epoch 43/50\n",
      "256/256 [==============================] - 0s 1ms/sample - loss: 4.1604 - accuracy: 0.0000e+00 - val_loss: 4.1589 - val_accuracy: 0.0156\n",
      "Epoch 44/50\n"
     ]
    },
    {
     "name": "stdout",
     "output_type": "stream",
     "text": [
      "256/256 [==============================] - 0s 1ms/sample - loss: 4.1603 - accuracy: 0.0000e+00 - val_loss: 4.1589 - val_accuracy: 0.0156\n",
      "Epoch 45/50\n",
      "256/256 [==============================] - 0s 1ms/sample - loss: 4.1604 - accuracy: 0.0078 - val_loss: 4.1589 - val_accuracy: 0.0156\n",
      "Epoch 46/50\n",
      "256/256 [==============================] - 0s 1ms/sample - loss: 4.1604 - accuracy: 0.0078 - val_loss: 4.1589 - val_accuracy: 0.0156\n",
      "Epoch 47/50\n",
      "256/256 [==============================] - 0s 1ms/sample - loss: 4.1605 - accuracy: 0.0039 - val_loss: 4.1589 - val_accuracy: 0.0156\n",
      "Epoch 48/50\n",
      "256/256 [==============================] - 0s 1ms/sample - loss: 4.1604 - accuracy: 0.0000e+00 - val_loss: 4.1589 - val_accuracy: 0.0156\n",
      "Epoch 49/50\n",
      "256/256 [==============================] - 0s 1ms/sample - loss: 4.1602 - accuracy: 0.0039 - val_loss: 4.1589 - val_accuracy: 0.0156\n",
      "Epoch 50/50\n",
      "256/256 [==============================] - 0s 1ms/sample - loss: 4.1605 - accuracy: 0.0078 - val_loss: 4.1589 - val_accuracy: 0.0156\n",
      "val_acc :  [4.159865140914917, 0.015625]\n",
      "Estimated Accuracy 2.088 (2.072)\n"
     ]
    }
   ],
   "source": [
    "model, val_acc, history = create_model(x_train, x_val, y_train_encoded, y_val_encoded)\n",
    "print(\"val_acc : \", val_acc)\n",
    "\n",
    "cv_scores.append(val_acc)\n",
    "model_history.append(model)\n",
    "print('Estimated Accuracy %.3f (%.3f)' % (np.mean(cv_scores), np.std(cv_scores)))"
   ]
  },
  {
   "cell_type": "code",
   "execution_count": 11,
   "metadata": {},
   "outputs": [
    {
     "data": {
      "image/png": "[encoded data removed]",
      "text/plain": [
       "<Figure size 1008x432 with 1 Axes>"
      ]
     },
     "metadata": {
      "needs_background": "light"
     },
     "output_type": "display_data"
    }
   ],
   "source": [
    "plt.figure(figsize=(14, 6))\n",
    "plt.rc('font', size=18)\n",
    "\n",
    "plt.plot(history.history[\"accuracy\"])\n",
    "plt.plot(history.history[\"val_accuracy\"])\n",
    "plt.ylabel(\"accuracy\")\n",
    "plt.xlabel(\"epoch\")\n",
    "plt.legend([\"train_accuracy\", \"val_accuracy\"])\n",
    "plt.show()"
   ]
  },
  {
   "cell_type": "code",
   "execution_count": 12,
   "metadata": {},
   "outputs": [
    {
     "name": "stdout",
     "output_type": "stream",
     "text": [
      "Training Accuracy:  [4.158890008926392, 0.015625]\n",
      "Testing Accuracy:  [4.158890008926392, 0.015625]\n"
     ]
    }
   ],
   "source": [
    "# Evaluating the model on the training and testing set\n",
    "score = model.evaluate(x_train, y_train_encoded, verbose=0)\n",
    "print(\"Training Accuracy: \", score)\n",
    "\n",
    "score = model.evaluate(x_val, y_val_encoded, verbose=0)\n",
    "print(\"Testing Accuracy: \", score)"
   ]
  },
  {
   "cell_type": "code",
   "execution_count": 13,
   "metadata": {},
   "outputs": [
    {
     "name": "stdout",
     "output_type": "stream",
     "text": [
      "['2017019740001_kwakjuheon', '2017019770001_kwonyuna', '2017019880001_kimsubin']\n"
     ]
    },
    {
     "data": {
      "text/plain": [
       "3"
      ]
     },
     "execution_count": 13,
     "metadata": {},
     "output_type": "execute_result"
    }
   ],
   "source": [
    "class_names_1 = os.listdir(\"../feature/feature_mfcc_validation/\")\n",
    "class_names_1.sort()\n",
    "\n",
    "print(class_names_1)\n",
    "len(class_names_1)"
   ]
  },
  {
   "cell_type": "code",
   "execution_count": 14,
   "metadata": {},
   "outputs": [
    {
     "name": "stdout",
     "output_type": "stream",
     "text": [
      "Predict : 2017019770016_parkjongae , Real : 2017019740001_kwakjuheon\n",
      "Predict : 2017019770016_parkjongae , Real : 2017019740001_kwakjuheon\n",
      "Predict : 2017019770016_parkjongae , Real : 2017019740001_kwakjuheon\n",
      "Predict : 2017019770016_parkjongae , Real : 2017019740001_kwakjuheon\n",
      "Predict : 2017019770016_parkjongae , Real : 2017019740001_kwakjuheon\n",
      "Predict : 2017019770016_parkjongae , Real : 2017019770001_kwonyuna\n",
      "Predict : 2017019770016_parkjongae , Real : 2017019770001_kwonyuna\n",
      "Predict : 2017019770016_parkjongae , Real : 2017019770001_kwonyuna\n",
      "Predict : 2017019770016_parkjongae , Real : 2017019770001_kwonyuna\n",
      "Predict : 2017019770016_parkjongae , Real : 2017019770001_kwonyuna\n",
      "Predict : 2017019770016_parkjongae , Real : 2017019880001_kimsubin\n",
      "Predict : 2017019770016_parkjongae , Real : 2017019880001_kimsubin\n",
      "Predict : 2017019770016_parkjongae , Real : 2017019880001_kimsubin\n",
      "Predict : 2017019770016_parkjongae , Real : 2017019880001_kimsubin\n",
      "Predict : 2017019770016_parkjongae , Real : 2017019880001_kimsubin\n",
      "0.0\n"
     ]
    }
   ],
   "source": [
    "from sklearn.metrics import accuracy_score\n",
    "\n",
    "x_validation_list=[]\n",
    "y_validation_list=[]\n",
    "\n",
    "val_file_path = \"../feature/feature_mfcc_validation/\"\n",
    "val_class_names = os.listdir(val_file_path)\n",
    "val_class_names.sort()\n",
    "val_fname=[]\n",
    "X_TF_pred = []\n",
    "y_TF_pred = []\n",
    "\n",
    "for i in range(0,len(val_class_names)):\n",
    "    val_files=os.listdir(val_file_path+val_class_names[i])\n",
    "    val_files = [file for file in val_files if file.endswith(\".npy\")]\n",
    "    for j in range(0, len(val_files)):\n",
    "        val_fname.append(val_file_path+val_class_names[i]+\"/\"+val_files[j])\n",
    "        \n",
    "\n",
    "for i,fname in zip(range(0,len(val_fname)), val_fname):\n",
    "    tempX = np.load(val_fname[i])\n",
    "    x_validation_list.append(tempX)\n",
    "    y_validation_list.append(val_class_names.index(fname.split('/')[3]))\n",
    "    \n",
    "X_TF_pred = np.array(x_validation_list)\n",
    "y_TF_real_pred = np.array(y_validation_list)\n",
    "\n",
    "X_TF_pred = X_TF_pred.reshape(-1, X_TF_pred.shape[1], X_TF_pred.shape[2], 1)\n",
    "\n",
    "X_TF_pred = X_TF_pred - np.min(X_TF_pred)\n",
    "X_TF_pred = X_TF_pred / np.max(X_TF_pred)\n",
    "\n",
    "pred_out = model.predict(X_TF_pred)\n",
    "\n",
    "real =[]\n",
    "pred_out_idex=[]\n",
    "\n",
    "\n",
    "for i,pred in zip(range(0, len(pred_out)), pred_out) :\n",
    "   \n",
    "    print(\"Predict :\",class_names[np.argmax(pred)], \", Real :\", val_class_names[y_TF_real_pred[i]])\n",
    "    real.append(class_names.index(val_class_names[y_TF_real_pred[i]]))\n",
    "    pred_out_idex.append(np.argmax(pred))\n",
    "    \n",
    "# get the accuracy\n",
    "print (accuracy_score(real, pred_out_idex))\n"
   ]
  },
  {
   "cell_type": "code",
   "execution_count": null,
   "metadata": {},
   "outputs": [],
   "source": []
  },
  {
   "cell_type": "code",
   "execution_count": null,
   "metadata": {},
   "outputs": [],
   "source": []
  }
 ],
 "metadata": {
  "kernelspec": {
   "display_name": "Python(py36)",
   "language": "python",
   "name": "py36"
  },
  "language_info": {
   "codemirror_mode": {
    "name": "ipython",
    "version": 3
   },
   "file_extension": ".py",
   "mimetype": "text/x-python",
   "name": "python",
   "nbconvert_exporter": "python",
   "pygments_lexer": "ipython3",
   "version": "3.6.10"
  }
 },
 "nbformat": 4,
 "nbformat_minor": 4
}
