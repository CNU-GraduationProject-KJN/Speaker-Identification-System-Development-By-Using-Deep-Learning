{
 "cells": [
  {
   "cell_type": "code",
   "execution_count": 431,
   "metadata": {},
   "outputs": [],
   "source": [
    "try:\n",
    "    %tensorflow_version 2.x\n",
    "except Exception:\n",
    "    pass"
   ]
  },
  {
   "cell_type": "code",
   "execution_count": 432,
   "metadata": {},
   "outputs": [
    {
     "name": "stdout",
     "output_type": "stream",
     "text": [
      "2.2.0\n"
     ]
    }
   ],
   "source": [
    "from __future__ import absolute_import, division, print_function, unicode_literals, unicode_literals\n",
    "\n",
    "# tensorflow와 tf.keras를 import\n",
    "import tensorflow as tf\n",
    "from tensorflow import keras as kr\n",
    "\n",
    "import numpy as np\n",
    "import matplotlib.pyplot as plt\n",
    "import os\n",
    "# import pandas as pd\n",
    "import random\n",
    "\n",
    "print(tf.__version__)"
   ]
  },
  {
   "cell_type": "code",
   "execution_count": 433,
   "metadata": {},
   "outputs": [
    {
     "name": "stdout",
     "output_type": "stream",
     "text": [
      "['2017019740001_kwakjuheon', '2017019740002_kimjiho', '2017019740003_songyejin', '2017019740004_parksohui', '2017019740005_moonyeonwoo', '2017019740006_kangsubin', '2017019740007_leekyeongeun', '2017019740008_chochaeyeon', '2017019740009_shindonghwan', '2017019740010_kwakmirae', '2017019740011_kimhyeryeong', '2017019740012_chaeminjoon', '2017019740013_kwakyiheon', '2017019740014_leesumin', '2017019740015_choihayoung', '2017019740016_kangyeseo', '2017019740017_kwakmihyang', '2017019740018_eundano', '2017019740019_limjinju', '2017019770001_kwonyuna', '2017019770002_kwoneunkyung', '2017019770003_johaesu', '2017019770004_leebyeongjin', '2017019770005_hyeonsanghyeok', '2017019770006_jennie', '2017019770007_simseungmin', '2017019770008_parksomi', '2017019770009_yuminji', '2017019770010_parksojin', '2017019770011_kwonyeonwoo', '2017019770012_ladakyeong', '2017019770013_janghyomin', '2017019770014_parkeunbi', '2017019770015_parkdayeung', '2017019770016_parkjongae', '2017019770017_hansohee', '2017019770018_janggyeoul', '2017019770019_leewooju', '2017019770020_nomyungok', '2017019770021_heoyoonjung', '2017019770022_heojaemin', '2017019770023_kimsoyung', '2017019770024_chuminha', '2017019770025_kimhyeonsu', '2017019770026_chaesonghwa', '2017019770027_kwonyulim', '2017019770028_kimminyoung', '2017019770029_jueunhong', '2017019770030_leejeongju', '2017019880001_kimsubin', '2017019880002_kimkihyeon', '2017019880003_kimminji', '2017019880004_myeongjaewon', '2017019880005_kimjihyeon']\n"
     ]
    },
    {
     "data": {
      "text/plain": [
       "54"
      ]
     },
     "execution_count": 433,
     "metadata": {},
     "output_type": "execute_result"
    }
   ],
   "source": [
    "class_names = os.listdir(\"./feature/feature_mfcc/\")\n",
    "class_names.sort()\n",
    "\n",
    "print(class_names)\n",
    "len(class_names)"
   ]
  },
  {
   "cell_type": "code",
   "execution_count": 434,
   "metadata": {},
   "outputs": [],
   "source": [
    "from tensorflow.keras.models import Sequential\n",
    "from tensorflow.keras.layers import Dense \n",
    "from tensorflow.keras.models import Model\n",
    "from tensorflow.keras.layers import Dense, Embedding, Input, Activation, Dropout, Reshape, concatenate\n",
    "from tensorflow.keras import regularizers\n",
    "from tensorflow.keras.wrappers.scikit_learn import KerasClassifier \n",
    "import sklearn\n",
    "from sklearn.model_selection import KFold, StratifiedKFold\n",
    "from sklearn.model_selection import cross_validate, cross_val_predict\n",
    "from tensorflow.keras.layers import Conv1D, Conv2D, GlobalAveragePooling2D\n",
    "from tensorflow.keras.layers import MaxPooling1D, MaxPooling3D, MaxPooling2D\n",
    "from tensorflow.keras.layers import Flatten\n",
    "from tensorflow.keras.optimizers import Adadelta\n",
    "import numpy\n"
   ]
  },
  {
   "cell_type": "code",
   "execution_count": 435,
   "metadata": {},
   "outputs": [
    {
     "name": "stdout",
     "output_type": "stream",
     "text": [
      "2017019740001\n",
      "2017019740001_kwakjuheon_4.npy 0\n",
      "2017019740001_kwakjuheon_1.npy 1\n",
      "2017019740001_kwakjuheon_0.npy 2\n",
      "2017019740001_kwakjuheon_2.npy 3\n",
      "2017019740001_kwakjuheon_3.npy 4\n",
      "2017019740002\n",
      "2017019740002_kimjiho_3.npy 0\n",
      "2017019740002_kimjiho_1.npy 1\n",
      "2017019740002_kimjiho_2.npy 2\n",
      "2017019740002_kimjiho_4.npy 3\n",
      "2017019740002_kimjiho_0.npy 4\n",
      "2017019740003\n",
      "2017019740003_songyejin_2.npy 0\n",
      "2017019740003_songyejin_3.npy 1\n",
      "2017019740003_songyejin_4.npy 2\n",
      "2017019740003_songyejin_1.npy 3\n",
      "2017019740003_songyejin_0.npy 4\n",
      "2017019740004\n",
      "2017019740004_parksohui_2.npy 0\n",
      "2017019740004_parksohui_1.npy 1\n",
      "2017019740004_parksohui_3.npy 2\n",
      "2017019740004_parksohui_0.npy 3\n",
      "2017019740004_parksohui_4.npy 4\n",
      "2017019740005\n",
      "2017019740005_moonyeonwoo_3.npy 0\n",
      "2017019740005_moonyeonwoo_2.npy 1\n",
      "2017019740005_moonyeonwoo_0.npy 2\n",
      "2017019740005_moonyeonwoo_4.npy 3\n",
      "2017019740005_moonyeonwoo_1.npy 4\n",
      "2017019740006\n",
      "2017019740006_kangsubin_3.npy 0\n",
      "2017019740006_kangsubin_1.npy 1\n",
      "2017019740006_kangsubin_4.npy 2\n",
      "2017019740006_kangsubin_2.npy 3\n",
      "2017019740006_kangsubin_0.npy 4\n",
      "2017019740007\n",
      "2017019740007_leekyeongeun_2.npy 0\n",
      "2017019740007_leekyeongeun_4.npy 1\n",
      "2017019740007_leekyeongeun_0.npy 2\n",
      "2017019740007_leekyeongeun_3.npy 3\n",
      "2017019740007_leekyeongeun_1.npy 4\n",
      "2017019740008\n",
      "2017019740008_chochaeyeon_4.npy 0\n",
      "2017019740008_chochaeyeon_3.npy 1\n",
      "2017019740008_chochaeyeon_2.npy 2\n",
      "2017019740008_chochaeyeon_1.npy 3\n",
      "2017019740008_chochaeyeon_0.npy 4\n",
      "2017019740009\n",
      "2017019740009_shindonghwan_1.npy 0\n",
      "2017019740009_shindonghwan_2.npy 1\n",
      "2017019740009_shindonghwan_4.npy 2\n",
      "2017019740009_shindonghwan_0.npy 3\n",
      "2017019740009_shindonghwan_3.npy 4\n",
      "2017019740010\n",
      "2017019740010_kwakmirae_4.npy 0\n",
      "2017019740010_kwakmirae_0.npy 1\n",
      "2017019740010_kwakmirae_1.npy 2\n",
      "2017019740010_kwakmirae_2.npy 3\n",
      "2017019740010_kwakmirae_3.npy 4\n",
      "2017019740011\n",
      "2017019740011_kimhyeryeong_1.npy 0\n",
      "2017019740011_kimhyeryeong_3.npy 1\n",
      "2017019740011_kimhyeryeong_0.npy 2\n",
      "2017019740011_kimhyeryeong_4.npy 3\n",
      "2017019740011_kimhyeryeong_2.npy 4\n",
      "2017019740012\n",
      "2017019740012_chaeminjoon_0.npy 0\n",
      "2017019740012_chaeminjoon_4.npy 1\n",
      "2017019740012_chaeminjoon_1.npy 2\n",
      "2017019740012_chaeminjoon_2.npy 3\n",
      "2017019740012_chaeminjoon_3.npy 4\n",
      "2017019740013\n",
      "2017019740013_kwakyiheon_0.npy 0\n",
      "2017019740013_kwakyiheon_1.npy 1\n",
      "2017019740013_kwakyiheon_4.npy 2\n",
      "2017019740013_kwakyiheon_2.npy 3\n",
      "2017019740013_kwakyiheon_3.npy 4\n",
      "2017019740014\n",
      "2017019740014_leesumin_0.npy 0\n",
      "2017019740014_leesumin_4.npy 1\n",
      "2017019740014_leesumin_2.npy 2\n",
      "2017019740014_leesumin_1.npy 3\n",
      "2017019740014_leesumin_3.npy 4\n",
      "2017019740015\n",
      "2017019740015_choihayoung_3.npy 0\n",
      "2017019740015_choihayoung_1.npy 1\n",
      "2017019740015_choihayoung_4.npy 2\n",
      "2017019740015_choihayoung_2.npy 3\n",
      "2017019740015_choihayoung_0.npy 4\n",
      "2017019740016\n",
      "2017019740016_kangyeseo_0.npy 0\n",
      "2017019740016_kangyeseo_3.npy 1\n",
      "2017019740016_kangyeseo_2.npy 2\n",
      "2017019740016_kangyeseo_4.npy 3\n",
      "2017019740016_kangyeseo_1.npy 4\n",
      "2017019740017\n",
      "2017019740017_kwakmihyang_3.npy 0\n",
      "2017019740017_kwakmihyang_2.npy 1\n",
      "2017019740017_kwakmihyang_1.npy 2\n",
      "2017019740017_kwakmihyang_4.npy 3\n",
      "2017019740017_kwakmihyang_0.npy 4\n",
      "2017019740018\n",
      "2017019740018_eundano_0.npy 0\n",
      "2017019740018_eundano_4.npy 1\n",
      "2017019740018_eundano_1.npy 2\n",
      "2017019740018_eundano_3.npy 3\n",
      "2017019740018_eundano_2.npy 4\n",
      "2017019740019\n",
      "2017019740019_limjinju_1.npy 0\n",
      "2017019740019_limjinju_3.npy 1\n",
      "2017019740019_limjinju_4.npy 2\n",
      "2017019740019_limjinju_2.npy 3\n",
      "2017019740019_limjinju_0.npy 4\n",
      "2017019770001\n",
      "2017019770001_kwonyuna_1.npy 0\n",
      "2017019770001_kwonyuna_0.npy 1\n",
      "2017019770001_kwonyuna_3.npy 2\n",
      "2017019770001_kwonyuna_2.npy 3\n",
      "2017019770001_kwonyuna_4.npy 4\n",
      "2017019770002\n",
      "2017019770002_kwoneunkyung_3.npy 0\n",
      "2017019770002_kwoneunkyung_2.npy 1\n",
      "2017019770002_kwoneunkyung_0.npy 2\n",
      "2017019770002_kwoneunkyung_1.npy 3\n",
      "2017019770002_kwoneunkyung_4.npy 4\n",
      "2017019770003\n",
      "2017019770003_johaesu_4.npy 0\n",
      "2017019770003_johaesu_0.npy 1\n",
      "2017019770003_johaesu_1.npy 2\n",
      "2017019770003_johaesu_2.npy 3\n",
      "2017019770003_johaesu_3.npy 4\n",
      "2017019770004\n",
      "2017019770004_leebyeongjin_4.npy 0\n",
      "2017019770004_leebyeongjin_3.npy 1\n",
      "2017019770004_leebyeongjin_0.npy 2\n",
      "2017019770004_leebyeongjin_2.npy 3\n",
      "2017019770004_leebyeongjin_1.npy 4\n",
      "2017019770005\n",
      "2017019770005_hyeonsanghyeok_1.npy 0\n",
      "2017019770005_hyeonsanghyeok_2.npy 1\n",
      "2017019770005_hyeonsanghyeok_4.npy 2\n",
      "2017019770005_hyeonsanghyeok_0.npy 3\n",
      "2017019770005_hyeonsanghyeok_3.npy 4\n",
      "2017019770006\n",
      "2017019770006_jennie_4.npy 0\n",
      "2017019770006_jennie_0.npy 1\n",
      "2017019770006_jennie_1.npy 2\n",
      "2017019770006_jennie_2.npy 3\n",
      "2017019770006_jennie_3.npy 4\n",
      "2017019770007\n",
      "2017019770007_simseungmin_3.npy 0\n",
      "2017019770007_simseungmin_2.npy 1\n",
      "2017019770007_simseungmin_1.npy 2\n",
      "2017019770007_simseungmin_4.npy 3\n",
      "2017019770007_simseungmin_0.npy 4\n",
      "2017019770008\n",
      "2017019770008_parksomi_2.npy 0\n",
      "2017019770008_parksomi_1.npy 1\n",
      "2017019770008_parksomi_3.npy 2\n",
      "2017019770008_parksomi_0.npy 3\n",
      "2017019770008_parksomi_4.npy 4\n",
      "2017019770009\n",
      "2017019770009_yuminji_3.npy 0\n",
      "2017019770009_yuminji_4.npy 1\n",
      "2017019770009_yuminji_0.npy 2\n",
      "2017019770009_yuminji_1.npy 3\n",
      "2017019770009_yuminji_2.npy 4\n",
      "2017019770010\n",
      "2017019770010_parksojin_1.npy 0\n",
      "2017019770010_parksojin_4.npy 1\n",
      "2017019770010_parksojin_0.npy 2\n",
      "2017019770010_parksojin_3.npy 3\n",
      "2017019770010_parksojin_2.npy 4\n",
      "2017019770011\n",
      "2017019770011_kwonyeonwoo_0.npy 0\n",
      "2017019770011_kwonyeonwoo_2.npy 1\n",
      "2017019770011_kwonyeonwoo_3.npy 2\n",
      "2017019770011_kwonyeonwoo_4.npy 3\n",
      "2017019770011_kwonyeonwoo_1.npy 4\n",
      "2017019770012\n",
      "2017019770012_ladakyeong_1.npy 0\n",
      "2017019770012_ladakyeong_4.npy 1\n",
      "2017019770012_ladakyeong_3.npy 2\n",
      "2017019770012_ladakyeong_0.npy 3\n",
      "2017019770012_ladakyeong_2.npy 4\n",
      "2017019770013\n",
      "2017019770013_janghyomin_2.npy 0\n",
      "2017019770013_janghyomin_3.npy 1\n",
      "2017019770013_janghyomin_0.npy 2\n",
      "2017019770013_janghyomin_1.npy 3\n",
      "2017019770013_janghyomin_4.npy 4\n",
      "2017019770014\n",
      "2017019770014_parkeunbi_3.npy 0\n",
      "2017019770014_parkeunbi_2.npy 1\n",
      "2017019770014_parkeunbi_0.npy 2\n",
      "2017019770014_parkeunbi_1.npy 3\n",
      "2017019770014_parkeunbi_4.npy 4\n",
      "2017019770015\n",
      "2017019770015_parkdayeung_4.npy 0\n",
      "2017019770015_parkdayeung_2.npy 1\n",
      "2017019770015_parkdayeung_3.npy 2\n",
      "2017019770015_parkdayeung_1.npy 3\n",
      "2017019770015_parkdayeung_0.npy 4\n",
      "2017019770016\n",
      "2017019770016_parkjongae_4.npy 0\n",
      "2017019770016_parkjongae_2.npy 1\n",
      "2017019770016_parkjongae_3.npy 2\n",
      "2017019770016_parkjongae_0.npy 3\n",
      "2017019770016_parkjongae_1.npy 4\n",
      "2017019770017\n",
      "2017019770017_hansohee_3.npy 0\n",
      "2017019770017_hansohee_1.npy 1\n",
      "2017019770017_hansohee_0.npy 2\n",
      "2017019770017_hansohee_2.npy 3\n",
      "2017019770017_hansohee_4.npy 4\n",
      "2017019770018\n",
      "2017019770018_janggyeoul_4.npy 0\n",
      "2017019770018_janggyeoul_3.npy 1\n",
      "2017019770018_janggyeoul_2.npy 2\n",
      "2017019770018_janggyeoul_1.npy 3\n",
      "2017019770018_janggyeoul_0.npy 4\n",
      "2017019770019\n",
      "2017019770019_leewooju_3.npy 0\n",
      "2017019770019_leewooju_4.npy 1\n",
      "2017019770019_leewooju_1.npy 2\n",
      "2017019770019_leewooju_2.npy 3\n",
      "2017019770019_leewooju_0.npy 4\n",
      "2017019770020\n",
      "2017019770020_nomyungok_4.npy 0\n",
      "2017019770020_nomyungok_1.npy 1\n",
      "2017019770020_nomyungok_0.npy 2\n",
      "2017019770020_nomyungok_2.npy 3\n",
      "2017019770020_nomyungok_3.npy 4\n",
      "2017019770021\n",
      "2017019770021_heoyoonjung_4.npy 0\n",
      "2017019770021_heoyoonjung_2.npy 1\n",
      "2017019770021_heoyoonjung_3.npy 2\n",
      "2017019770021_heoyoonjung_1.npy 3\n",
      "2017019770021_heoyoonjung_0.npy 4\n",
      "2017019770022\n",
      "2017019770022_heojaemin_4.npy 0\n",
      "2017019770022_heojaemin_1.npy 1\n",
      "2017019770022_heojaemin_2.npy 2\n",
      "2017019770022_heojaemin_0.npy 3\n",
      "2017019770022_heojaemin_3.npy 4\n",
      "2017019770023\n",
      "2017019770023_kimsoyung_4.npy 0\n",
      "2017019770023_kimsoyung_0.npy 1\n",
      "2017019770023_kimsoyung_1.npy 2\n",
      "2017019770023_kimsoyung_2.npy 3\n",
      "2017019770023_kimsoyung_3.npy 4\n",
      "2017019770024\n",
      "2017019770024_chuminha_0.npy 0\n",
      "2017019770024_chuminha_4.npy 1\n",
      "2017019770024_chuminha_2.npy 2\n",
      "2017019770024_chuminha_3.npy 3\n",
      "2017019770024_chuminha_1.npy 4\n",
      "2017019770025\n",
      "2017019770025_kimhyeonsu_1.npy 0\n",
      "2017019770025_kimhyeonsu_2.npy 1\n",
      "2017019770025_kimhyeonsu_4.npy 2\n",
      "2017019770025_kimhyeonsu_0.npy 3\n",
      "2017019770025_kimhyeonsu_3.npy 4\n",
      "2017019770026\n",
      "2017019770026_chaesonghwa_2.npy 0\n",
      "2017019770026_chaesonghwa_0.npy 1\n",
      "2017019770026_chaesonghwa_1.npy 2\n",
      "2017019770026_chaesonghwa_4.npy 3\n",
      "2017019770026_chaesonghwa_3.npy 4\n",
      "2017019770027\n",
      "2017019770027_kwonyulim_2.npy 0\n",
      "2017019770027_kwonyulim_3.npy 1\n",
      "2017019770027_kwonyulim_4.npy 2\n",
      "2017019770027_kwonyulim_1.npy 3\n",
      "2017019770027_kwonyulim_0.npy 4\n",
      "2017019770028\n",
      "2017019770028_kimminyoung_3.npy 0\n",
      "2017019770028_kimminyoung_2.npy 1\n",
      "2017019770028_kimminyoung_4.npy 2\n",
      "2017019770028_kimminyoung_0.npy 3\n",
      "2017019770028_kimminyoung_1.npy 4\n",
      "2017019770029\n",
      "2017019770029_jueunhong_4.npy 0\n",
      "2017019770029_jueunhong_0.npy 1\n",
      "2017019770029_jueunhong_3.npy 2\n",
      "2017019770029_jueunhong_1.npy 3\n",
      "2017019770029_jueunhong_2.npy 4\n",
      "2017019770030\n",
      "2017019770030_leejeongju_1.npy 0\n",
      "2017019770030_leejeongju_0.npy 1\n",
      "2017019770030_leejeongju_2.npy 2\n",
      "2017019770030_leejeongju_4.npy 3\n",
      "2017019770030_leejeongju_3.npy 4\n",
      "2017019880001\n",
      "2017019880001_kimsubin_1.npy 0\n",
      "2017019880001_kimsubin_4.npy 1\n",
      "2017019880001_kimsubin_3.npy 2\n",
      "2017019880001_kimsubin_0.npy 3\n",
      "2017019880001_kimsubin_2.npy 4\n",
      "2017019880002\n",
      "2017019880002_kimkihyeon_0.npy 0\n",
      "2017019880002_kimkihyeon_3.npy 1\n",
      "2017019880002_kimkihyeon_4.npy 2\n",
      "2017019880002_kimkihyeon_2.npy 3\n",
      "2017019880002_kimkihyeon_1.npy 4\n",
      "2017019880003\n",
      "2017019880003_kimminji_1.npy 0\n",
      "2017019880003_kimminji_4.npy 1\n",
      "2017019880003_kimminji_2.npy 2\n",
      "2017019880003_kimminji_0.npy 3\n",
      "2017019880003_kimminji_3.npy 4\n",
      "2017019880004\n",
      "2017019880004_myeongjaewon_2.npy 0\n",
      "2017019880004_myeongjaewon_1.npy 1\n",
      "2017019880004_myeongjaewon_0.npy 2\n",
      "2017019880004_myeongjaewon_4.npy 3\n",
      "2017019880004_myeongjaewon_3.npy 4\n",
      "2017019880005\n",
      "2017019880005_kimjihyeon_1.npy 0\n",
      "2017019880005_kimjihyeon_0.npy 1\n",
      "2017019880005_kimjihyeon_4.npy 2\n",
      "2017019880005_kimjihyeon_3.npy 3\n",
      "2017019880005_kimjihyeon_2.npy 4\n"
     ]
    }
   ],
   "source": [
    "x_list = []\n",
    "y_list = []\n",
    "\n",
    "for i in range(0,len(class_names)):\n",
    "    files=os.listdir(\"./feature/feature_mfcc/\"+class_names[i])\n",
    "    files = [file for file in files if file.endswith(\".npy\")]\n",
    "    print(class_names[i].split('_')[0])\n",
    "\n",
    "    for j in range(0, len(files)):\n",
    "        print(files[j], j)\n",
    "        x = np.load(\"./feature/feature_mfcc/\"+class_names[i]+\"/\"+files[j])\n",
    "        x_list.append(x)\n",
    "        y_list.append(i)\n",
    "        \n",
    "cv_scores, model_history = list(), list()\n",
    "from tensorflow.keras.utils import to_categorical\n",
    "from sklearn.model_selection import train_test_split\n",
    "\n",
    "x_train = np.array(x_list)\n",
    "y_train = np.array(y_list)\n"
   ]
  },
  {
   "cell_type": "code",
   "execution_count": 436,
   "metadata": {},
   "outputs": [
    {
     "name": "stdout",
     "output_type": "stream",
     "text": [
      "y_train:  (270,)\n"
     ]
    }
   ],
   "source": [
    "print(\"y_train: \", y_train.shape)"
   ]
  },
  {
   "cell_type": "code",
   "execution_count": 437,
   "metadata": {},
   "outputs": [
    {
     "name": "stdout",
     "output_type": "stream",
     "text": [
      "x_train:  (216, 469, 12)\n",
      "y_train:  (216,)\n",
      "x_val:  (54, 469, 12)\n",
      "y_val:  (54,)\n"
     ]
    }
   ],
   "source": [
    "x_train, x_val, y_train, y_val = train_test_split(x_train, y_train, stratify=y_train, test_size=0.2, random_state = 42, shuffle=True)\n",
    "print(\"x_train: \", x_train.shape)\n",
    "print(\"y_train: \", y_train.shape)\n",
    "print(\"x_val: \", x_val.shape)\n",
    "print(\"y_val: \", y_val.shape)"
   ]
  },
  {
   "cell_type": "code",
   "execution_count": 438,
   "metadata": {},
   "outputs": [
    {
     "name": "stdout",
     "output_type": "stream",
     "text": [
      "x_train:  (216, 469, 12, 1)\n",
      "x_val:  (54, 469, 12, 1)\n",
      "y_train_encoded: (216, 54)\n",
      "y_val_encoded: (54, 54)\n",
      "-----------------------\n"
     ]
    }
   ],
   "source": [
    "y_train_encoded = tf.keras.utils.to_categorical(y_train)\n",
    "y_val_encoded = tf.keras.utils.to_categorical(y_val)\n",
    "    \n",
    "    \n",
    "x_train = x_train.reshape(-1, x_train.shape[1], x_train.shape[2], 1)\n",
    "x_val   = x_val.reshape(-1, x_val.shape[1], x_val.shape[2], 1)\n",
    "\n",
    "\n",
    "x_train = x_train - np.min(x_train)\n",
    "\n",
    "x_train = x_train / np.max(x_train)\n",
    "\n",
    "x_val = x_val - np.min(x_val)\n",
    "x_val = x_val / np.max(x_val)\n",
    "print(\"x_train: \", x_train.shape)\n",
    "print(\"x_val: \", x_val.shape)\n",
    "print(\"y_train_encoded:\", y_train_encoded.shape)\n",
    "print(\"y_val_encoded:\", y_val_encoded.shape)\n",
    "print(\"-----------------------\")"
   ]
  },
  {
   "cell_type": "markdown",
   "metadata": {},
   "source": [
    "*** 수정필요 ***\n",
    "\n",
    "num_rows = 40\n",
    "num_columns = 174\n",
    "\n",
    "x_train = x_train.reshape(x_train.shape[0], x, num_columns, 1)\n",
    "x_test = x_test.reshape(x_test.shape[0], num_rows, num_columns, 1)\n",
    "\n",
    "num_labels = yy.shape[1]\n",
    "filter_size = 2\n",
    "\n",
    "*** 여기까지 ***"
   ]
  },
  {
   "cell_type": "markdown",
   "metadata": {},
   "source": [
    "대부분 Conv2D는 영상처리에서 많이 사용한다.\n",
    "\n",
    "Input: Batch Size (N) x Height (H) x Width (W) x Channels (C)\n",
    "\n",
    "Filter: Height x Width x Input Channels(channel) x Output Channel(# of filters)   // 커널이라고 부르기도 함\n",
    "\n",
    "Pooling은 feature map의 차원 수를 감소시켜서 특징을 추출하고, 수행 시간을 감소시키는 역할을 한다"
   ]
  },
  {
   "cell_type": "code",
   "execution_count": 439,
   "metadata": {},
   "outputs": [],
   "source": [
    "# Construct model \n",
    "def create_model(X_train, X_val, y_train, y_val): \n",
    "    model = Sequential()\n",
    "    print(X_train.shape)\n",
    "    model.add(Conv2D(filters=128, kernel_size=1, input_shape=(X_train.shape[1], X_train.shape[2], 1), activation='relu'))\n",
    "    model.add(MaxPooling2D(pool_size=2))\n",
    "#     model.add(Dropout(0.2))\n",
    "    model.add(Conv2D(filters=64, kernel_size=1, activation='relu'))\n",
    "#     model.add(MaxPooling2D(pool_size=2))\n",
    "    model.add(Dropout(0.2))\n",
    "\n",
    "    model.add(Conv2D(filters=32, kernel_size=1, activation='relu'))\n",
    "#     model.add(MaxPooling2D(pool_size=2))\n",
    "    model.add(Dropout(0.2))\n",
    "\n",
    "    model.add(Conv2D(filters=16, kernel_size=1, activation='relu'))\n",
    "#     model.add(MaxPooling2D(pool_size=2))\n",
    "    model.add(Dropout(0.2))\n",
    "#     model.add(GlobalAveragePooling2D())\n",
    "    model.add(Flatten())\n",
    "\n",
    "    model.add(Dense(y_val.shape[1], activation='softmax'))\n",
    "    model.summary()\n",
    "    model.compile(loss='categorical_crossentropy', optimizer='adam', metrics=['accuracy'])\n",
    "\n",
    "#     val_acc = model.evaluate(X_val, y_val, batch_size=16, verbose = 1)\n",
    "    history = model.fit(X_val, y_val, batch_size=4, epochs=50, verbose=1, validation_data=(x_val, y_val_encoded))\n",
    "    return model, val_acc, history"
   ]
  },
  {
   "cell_type": "code",
   "execution_count": 440,
   "metadata": {},
   "outputs": [
    {
     "name": "stdout",
     "output_type": "stream",
     "text": [
      "(216, 469, 12, 1)\n",
      "Model: \"sequential_64\"\n",
      "_________________________________________________________________\n",
      "Layer (type)                 Output Shape              Param #   \n",
      "=================================================================\n",
      "conv2d_222 (Conv2D)          (None, 469, 12, 128)      256       \n",
      "_________________________________________________________________\n",
      "max_pooling2d_127 (MaxPoolin (None, 234, 6, 128)       0         \n",
      "_________________________________________________________________\n",
      "conv2d_223 (Conv2D)          (None, 234, 6, 64)        8256      \n",
      "_________________________________________________________________\n",
      "dropout_164 (Dropout)        (None, 234, 6, 64)        0         \n",
      "_________________________________________________________________\n",
      "conv2d_224 (Conv2D)          (None, 234, 6, 32)        2080      \n",
      "_________________________________________________________________\n",
      "dropout_165 (Dropout)        (None, 234, 6, 32)        0         \n",
      "_________________________________________________________________\n",
      "conv2d_225 (Conv2D)          (None, 234, 6, 16)        528       \n",
      "_________________________________________________________________\n",
      "dropout_166 (Dropout)        (None, 234, 6, 16)        0         \n",
      "_________________________________________________________________\n",
      "flatten_18 (Flatten)         (None, 22464)             0         \n",
      "_________________________________________________________________\n",
      "dense_39 (Dense)             (None, 54)                1213110   \n",
      "=================================================================\n",
      "Total params: 1,224,230\n",
      "Trainable params: 1,224,230\n",
      "Non-trainable params: 0\n",
      "_________________________________________________________________\n",
      "Epoch 1/50\n",
      "14/14 [==============================] - 0s 24ms/step - loss: 4.0788 - accuracy: 0.0000e+00 - val_loss: 3.9890 - val_accuracy: 0.0185\n",
      "Epoch 2/50\n",
      "14/14 [==============================] - 0s 20ms/step - loss: 3.9939 - accuracy: 0.0000e+00 - val_loss: 3.9890 - val_accuracy: 0.0185\n",
      "Epoch 3/50\n",
      "14/14 [==============================] - 0s 20ms/step - loss: 3.9900 - accuracy: 0.0000e+00 - val_loss: 3.9890 - val_accuracy: 0.0185\n",
      "Epoch 4/50\n",
      "14/14 [==============================] - 0s 20ms/step - loss: 3.9894 - accuracy: 0.0185 - val_loss: 3.9890 - val_accuracy: 0.0185\n",
      "Epoch 5/50\n",
      "14/14 [==============================] - 0s 19ms/step - loss: 3.9890 - accuracy: 0.0000e+00 - val_loss: 3.9890 - val_accuracy: 0.0185\n",
      "Epoch 6/50\n",
      "14/14 [==============================] - 0s 20ms/step - loss: 3.9911 - accuracy: 0.0000e+00 - val_loss: 3.9890 - val_accuracy: 0.0185\n",
      "Epoch 7/50\n",
      "14/14 [==============================] - 0s 20ms/step - loss: 3.9886 - accuracy: 0.0000e+00 - val_loss: 3.9890 - val_accuracy: 0.0185\n",
      "Epoch 8/50\n",
      "14/14 [==============================] - 0s 22ms/step - loss: 3.9888 - accuracy: 0.0185 - val_loss: 3.9890 - val_accuracy: 0.0185\n",
      "Epoch 9/50\n",
      "14/14 [==============================] - 0s 22ms/step - loss: 3.9907 - accuracy: 0.0556 - val_loss: 3.9827 - val_accuracy: 0.2222\n",
      "Epoch 10/50\n",
      "14/14 [==============================] - 0s 22ms/step - loss: 3.9860 - accuracy: 0.0556 - val_loss: 3.9876 - val_accuracy: 0.0741\n",
      "Epoch 11/50\n",
      "14/14 [==============================] - 0s 21ms/step - loss: 3.9869 - accuracy: 0.0556 - val_loss: 3.9561 - val_accuracy: 0.1667\n",
      "Epoch 12/50\n",
      "14/14 [==============================] - 0s 20ms/step - loss: 3.9730 - accuracy: 0.0741 - val_loss: 3.9313 - val_accuracy: 0.2963\n",
      "Epoch 13/50\n",
      "14/14 [==============================] - 0s 20ms/step - loss: 3.9109 - accuracy: 0.1296 - val_loss: 3.7764 - val_accuracy: 0.6481\n",
      "Epoch 14/50\n",
      "14/14 [==============================] - 0s 20ms/step - loss: 3.7090 - accuracy: 0.1667 - val_loss: 3.6360 - val_accuracy: 0.9630\n",
      "Epoch 15/50\n",
      "14/14 [==============================] - 0s 20ms/step - loss: 2.9595 - accuracy: 0.7407 - val_loss: 1.4495 - val_accuracy: 1.0000\n",
      "Epoch 16/50\n",
      "14/14 [==============================] - 0s 21ms/step - loss: 0.9561 - accuracy: 0.9259 - val_loss: 0.0859 - val_accuracy: 1.0000\n",
      "Epoch 17/50\n",
      "14/14 [==============================] - 0s 21ms/step - loss: 0.0273 - accuracy: 1.0000 - val_loss: 0.0019 - val_accuracy: 1.0000\n",
      "Epoch 18/50\n",
      "14/14 [==============================] - 0s 20ms/step - loss: 0.0024 - accuracy: 1.0000 - val_loss: 8.3312e-04 - val_accuracy: 1.0000\n",
      "Epoch 19/50\n",
      "14/14 [==============================] - 0s 20ms/step - loss: 0.0012 - accuracy: 1.0000 - val_loss: 4.3832e-04 - val_accuracy: 1.0000\n",
      "Epoch 20/50\n",
      "14/14 [==============================] - 0s 20ms/step - loss: 4.3837e-04 - accuracy: 1.0000 - val_loss: 2.9564e-04 - val_accuracy: 1.0000\n",
      "Epoch 21/50\n",
      "14/14 [==============================] - 0s 22ms/step - loss: 3.6941e-04 - accuracy: 1.0000 - val_loss: 2.3502e-04 - val_accuracy: 1.0000\n",
      "Epoch 22/50\n",
      "14/14 [==============================] - 0s 20ms/step - loss: 2.9463e-04 - accuracy: 1.0000 - val_loss: 2.0108e-04 - val_accuracy: 1.0000\n",
      "Epoch 23/50\n",
      "14/14 [==============================] - 0s 20ms/step - loss: 2.5194e-04 - accuracy: 1.0000 - val_loss: 1.7852e-04 - val_accuracy: 1.0000\n",
      "Epoch 24/50\n",
      "14/14 [==============================] - 0s 21ms/step - loss: 1.9290e-04 - accuracy: 1.0000 - val_loss: 1.6165e-04 - val_accuracy: 1.0000\n",
      "Epoch 25/50\n",
      "14/14 [==============================] - 0s 21ms/step - loss: 1.8120e-04 - accuracy: 1.0000 - val_loss: 1.4849e-04 - val_accuracy: 1.0000\n",
      "Epoch 26/50\n",
      "14/14 [==============================] - 0s 21ms/step - loss: 1.7473e-04 - accuracy: 1.0000 - val_loss: 1.3658e-04 - val_accuracy: 1.0000\n",
      "Epoch 27/50\n",
      "14/14 [==============================] - 0s 20ms/step - loss: 1.8264e-04 - accuracy: 1.0000 - val_loss: 1.2511e-04 - val_accuracy: 1.0000\n",
      "Epoch 28/50\n",
      "14/14 [==============================] - 0s 20ms/step - loss: 1.6409e-04 - accuracy: 1.0000 - val_loss: 1.1397e-04 - val_accuracy: 1.0000\n",
      "Epoch 29/50\n",
      "14/14 [==============================] - 0s 20ms/step - loss: 1.0496e-04 - accuracy: 1.0000 - val_loss: 1.0818e-04 - val_accuracy: 1.0000\n",
      "Epoch 30/50\n",
      "14/14 [==============================] - 0s 19ms/step - loss: 1.3436e-04 - accuracy: 1.0000 - val_loss: 1.0111e-04 - val_accuracy: 1.0000\n",
      "Epoch 31/50\n",
      "14/14 [==============================] - 0s 19ms/step - loss: 1.0193e-04 - accuracy: 1.0000 - val_loss: 9.5401e-05 - val_accuracy: 1.0000\n",
      "Epoch 32/50\n",
      "14/14 [==============================] - 0s 20ms/step - loss: 1.4508e-04 - accuracy: 1.0000 - val_loss: 8.9258e-05 - val_accuracy: 1.0000\n",
      "Epoch 33/50\n",
      "14/14 [==============================] - 0s 21ms/step - loss: 1.3605e-04 - accuracy: 1.0000 - val_loss: 8.2991e-05 - val_accuracy: 1.0000\n",
      "Epoch 34/50\n",
      "14/14 [==============================] - 0s 20ms/step - loss: 1.4795e-04 - accuracy: 1.0000 - val_loss: 7.7699e-05 - val_accuracy: 1.0000\n",
      "Epoch 35/50\n",
      "14/14 [==============================] - 0s 21ms/step - loss: 9.8661e-05 - accuracy: 1.0000 - val_loss: 7.2196e-05 - val_accuracy: 1.0000\n",
      "Epoch 36/50\n",
      "14/14 [==============================] - 0s 20ms/step - loss: 8.1585e-05 - accuracy: 1.0000 - val_loss: 6.8041e-05 - val_accuracy: 1.0000\n",
      "Epoch 37/50\n",
      "14/14 [==============================] - 0s 21ms/step - loss: 6.8628e-05 - accuracy: 1.0000 - val_loss: 6.5130e-05 - val_accuracy: 1.0000\n",
      "Epoch 38/50\n",
      "14/14 [==============================] - 0s 22ms/step - loss: 8.0030e-05 - accuracy: 1.0000 - val_loss: 6.2519e-05 - val_accuracy: 1.0000\n",
      "Epoch 39/50\n",
      "14/14 [==============================] - 0s 22ms/step - loss: 7.3595e-05 - accuracy: 1.0000 - val_loss: 5.9398e-05 - val_accuracy: 1.0000\n",
      "Epoch 40/50\n",
      "14/14 [==============================] - 0s 22ms/step - loss: 7.6576e-05 - accuracy: 1.0000 - val_loss: 5.6874e-05 - val_accuracy: 1.0000\n",
      "Epoch 41/50\n",
      "14/14 [==============================] - 0s 20ms/step - loss: 7.8556e-05 - accuracy: 1.0000 - val_loss: 5.4424e-05 - val_accuracy: 1.0000\n",
      "Epoch 42/50\n",
      "14/14 [==============================] - 0s 21ms/step - loss: 5.1548e-05 - accuracy: 1.0000 - val_loss: 5.2459e-05 - val_accuracy: 1.0000\n",
      "Epoch 43/50\n",
      "14/14 [==============================] - 0s 20ms/step - loss: 5.5406e-05 - accuracy: 1.0000 - val_loss: 5.0742e-05 - val_accuracy: 1.0000\n",
      "Epoch 44/50\n",
      "14/14 [==============================] - 0s 20ms/step - loss: 7.2216e-05 - accuracy: 1.0000 - val_loss: 4.8941e-05 - val_accuracy: 1.0000\n",
      "Epoch 45/50\n"
     ]
    },
    {
     "name": "stdout",
     "output_type": "stream",
     "text": [
      "14/14 [==============================] - 0s 20ms/step - loss: 5.5654e-05 - accuracy: 1.0000 - val_loss: 4.7176e-05 - val_accuracy: 1.0000\n",
      "Epoch 46/50\n",
      "14/14 [==============================] - 0s 21ms/step - loss: 5.3068e-05 - accuracy: 1.0000 - val_loss: 4.5598e-05 - val_accuracy: 1.0000\n",
      "Epoch 47/50\n",
      "14/14 [==============================] - 0s 21ms/step - loss: 6.0835e-05 - accuracy: 1.0000 - val_loss: 4.3726e-05 - val_accuracy: 1.0000\n",
      "Epoch 48/50\n",
      "14/14 [==============================] - 0s 21ms/step - loss: 5.1638e-05 - accuracy: 1.0000 - val_loss: 4.2194e-05 - val_accuracy: 1.0000\n",
      "Epoch 49/50\n",
      "14/14 [==============================] - 0s 21ms/step - loss: 5.2006e-05 - accuracy: 1.0000 - val_loss: 4.0704e-05 - val_accuracy: 1.0000\n",
      "Epoch 50/50\n",
      "14/14 [==============================] - 0s 22ms/step - loss: 4.4668e-05 - accuracy: 1.0000 - val_loss: 3.9320e-05 - val_accuracy: 1.0000\n",
      "val_acc :  [3.9889559745788574, 0.018518518656492233]\n",
      "Estimated Accuracy 2.004 (1.985)\n"
     ]
    }
   ],
   "source": [
    "model, val_acc, history = create_model(x_train, x_val, y_train_encoded, y_val_encoded)\n",
    "print(\"val_acc : \", val_acc)\n",
    "\n",
    "cv_scores.append(val_acc)\n",
    "model_history.append(model)\n",
    "print('Estimated Accuracy %.3f (%.3f)' % (np.mean(cv_scores), np.std(cv_scores)))"
   ]
  },
  {
   "cell_type": "code",
   "execution_count": 441,
   "metadata": {},
   "outputs": [
    {
     "data": {
      "image/png": "[encoded data removed]",
      "text/plain": [
       "<Figure size 1008x432 with 1 Axes>"
      ]
     },
     "metadata": {
      "needs_background": "light"
     },
     "output_type": "display_data"
    }
   ],
   "source": [
    "plt.figure(figsize=(14, 6))\n",
    "plt.rc('font', size=18)\n",
    "\n",
    "plt.plot(history.history[\"accuracy\"])\n",
    "plt.plot(history.history[\"val_accuracy\"])\n",
    "plt.ylabel(\"accuracy\")\n",
    "plt.xlabel(\"epoch\")\n",
    "plt.legend([\"train_accuracy\", \"val_accuracy\"])\n",
    "plt.show()"
   ]
  },
  {
   "cell_type": "code",
   "execution_count": 442,
   "metadata": {},
   "outputs": [
    {
     "name": "stdout",
     "output_type": "stream",
     "text": [
      "Training Accuracy:  [3.878460645675659, 0.0972222238779068]\n",
      "Testing Accuracy:  [3.9320460928138345e-05, 1.0]\n"
     ]
    }
   ],
   "source": [
    "# Evaluating the model on the training and testing set\n",
    "score = model.evaluate(x_train, y_train_encoded, verbose=0)\n",
    "print(\"Training Accuracy: \", score)\n",
    "\n",
    "score = model.evaluate(x_val, y_val_encoded, verbose=0)\n",
    "print(\"Testing Accuracy: \", score)"
   ]
  },
  {
   "cell_type": "code",
   "execution_count": 445,
   "metadata": {},
   "outputs": [
    {
     "name": "stdout",
     "output_type": "stream",
     "text": [
      "['2017019740001_kwakjuheon', '2017019880001_kimsubin']\n"
     ]
    },
    {
     "data": {
      "text/plain": [
       "2"
      ]
     },
     "execution_count": 445,
     "metadata": {},
     "output_type": "execute_result"
    }
   ],
   "source": [
    "class_names_1 = os.listdir(\"./feature/feature_mfcc_validation/\")\n",
    "class_names_1.sort()\n",
    "\n",
    "print(class_names_1)\n",
    "len(class_names_1)"
   ]
  },
  {
   "cell_type": "code",
   "execution_count": 504,
   "metadata": {},
   "outputs": [
    {
     "name": "stdout",
     "output_type": "stream",
     "text": [
      "2017019740001\n",
      "2017019740001_kwakjuheon_4.npy 0\n",
      "2017019740001_kwakjuheon_1.npy 1\n",
      "2017019740001_kwakjuheon_0.npy 2\n",
      "2017019740001_kwakjuheon_2.npy 3\n",
      "2017019740001_kwakjuheon_3.npy 4\n",
      "2017019880001\n",
      "2017019880001_kimsubin_1.npy 0\n",
      "2017019880001_kimsubin_4.npy 1\n",
      "2017019880001_kimsubin_3.npy 2\n",
      "2017019880001_kimsubin_0.npy 3\n",
      "2017019880001_kimsubin_2.npy 4\n"
     ]
    },
    {
     "data": {
      "text/plain": [
       "(10, 469, 12)"
      ]
     },
     "execution_count": 504,
     "metadata": {},
     "output_type": "execute_result"
    }
   ],
   "source": [
    "new_list = []\n",
    "re_list = []\n",
    "for i in range(0,len(class_names_1)):\n",
    "    files=os.listdir(\"./feature/feature_mfcc_validation/\"+class_names_1[i])\n",
    "    files = [file for file in files if file.endswith(\".npy\")]\n",
    "    print(class_names_1[i].split('_')[0])\n",
    "\n",
    "    for j in range(0, len(files)):\n",
    "        print(files[j], j)\n",
    "        x = np.load(\"./feature/feature_mfcc_validation/\"+class_names_1[i]+\"/\"+files[j])\n",
    "        new_list.append(x)\n",
    "        re_list.append(i)\n",
    "        \n",
    "cv_scoress, model_historys = list(), list()\n",
    "from tensorflow.keras.utils import to_categorical\n",
    "from sklearn.model_selection import train_test_split\n",
    "\n",
    "x_trains = np.array(new_list)\n",
    "y_trains = np.array(re_list)\n",
    "x_trains.shape"
   ]
  },
  {
   "cell_type": "code",
   "execution_count": 506,
   "metadata": {},
   "outputs": [
    {
     "name": "stdout",
     "output_type": "stream",
     "text": [
      "(8, 469, 12, 1)\n",
      "(2, 469, 12, 1)\n"
     ]
    }
   ],
   "source": [
    "x_trains, x_vals = train_test_split(x_trains, stratify=y_trains, test_size=0.2, random_state = 42, shuffle=True)\n",
    "x_trains = x_trains.reshape(-1, x_trains.shape[1], x_trains.shape[2], 1)\n",
    "x_vals   = x_vals.reshape(-1, x_vals.shape[1], x_vals.shape[2], 1)\n",
    "print(x_trains.shape)\n",
    "print(x_vals.shape)"
   ]
  },
  {
   "cell_type": "code",
   "execution_count": 507,
   "metadata": {},
   "outputs": [
    {
     "name": "stdout",
     "output_type": "stream",
     "text": [
      "(8, 469, 12, 1)\n",
      "(2, 469, 12, 1)\n"
     ]
    }
   ],
   "source": [
    "# x_train_encodeds = tf.keras.utils.to_categorical(x_trains)\n",
    "# x_val_encodeds = tf.keras.utils.to_categorical(x_vals)\n",
    "\n",
    "# print(x_train_encodeds.shape)\n",
    "# print(x_val_encodeds.shape)\n",
    "    \n",
    "\n",
    "\n",
    "\n",
    "x_trains = x_trains - np.min(x_trains)\n",
    "\n",
    "x_trains = x_trains / np.max(x_trains)\n",
    "\n",
    "x_vals = x_vals - np.min(x_vals)\n",
    "x_vals = x_vals / np.max(x_vals)\n",
    "print(x_trains.shape)\n",
    "print(x_vals.shape)"
   ]
  },
  {
   "cell_type": "code",
   "execution_count": 508,
   "metadata": {},
   "outputs": [
    {
     "name": "stdout",
     "output_type": "stream",
     "text": [
      "0.018518519\n"
     ]
    }
   ],
   "source": [
    "results = model.predict(x_vals)\n",
    "print(results.mean())"
   ]
  },
  {
   "cell_type": "code",
   "execution_count": 510,
   "metadata": {},
   "outputs": [
    {
     "ename": "ValueError",
     "evalue": "Data cardinality is ambiguous:\n  x sizes: 216\n  y sizes: 8\nPlease provide data which shares the same first dimension.",
     "output_type": "error",
     "traceback": [
      "\u001b[0;31m---------------------------------------------------------------------------\u001b[0m",
      "\u001b[0;31mValueError\u001b[0m                                Traceback (most recent call last)",
      "\u001b[0;32m<ipython-input-510-73828b34a380>\u001b[0m in \u001b[0;36m<module>\u001b[0;34m\u001b[0m\n\u001b[1;32m      1\u001b[0m \u001b[0;31m# models, val_accs, historys = create_model(x_train, x_val, x_train_encodeds, x_val_encodeds)\u001b[0m\u001b[0;34m\u001b[0m\u001b[0;34m\u001b[0m\u001b[0;34m\u001b[0m\u001b[0m\n\u001b[1;32m      2\u001b[0m \u001b[0;34m\u001b[0m\u001b[0m\n\u001b[0;32m----> 3\u001b[0;31m \u001b[0mval_accs\u001b[0m \u001b[0;34m=\u001b[0m \u001b[0mmodel\u001b[0m\u001b[0;34m.\u001b[0m\u001b[0mevaluate\u001b[0m\u001b[0;34m(\u001b[0m\u001b[0mx_train\u001b[0m\u001b[0;34m,\u001b[0m \u001b[0mx_trains\u001b[0m\u001b[0;34m,\u001b[0m \u001b[0mbatch_size\u001b[0m\u001b[0;34m=\u001b[0m\u001b[0;36m16\u001b[0m\u001b[0;34m,\u001b[0m \u001b[0mverbose\u001b[0m \u001b[0;34m=\u001b[0m \u001b[0;36m1\u001b[0m\u001b[0;34m)\u001b[0m\u001b[0;34m\u001b[0m\u001b[0;34m\u001b[0m\u001b[0m\n\u001b[0m\u001b[1;32m      4\u001b[0m \u001b[0mprint\u001b[0m\u001b[0;34m(\u001b[0m\u001b[0;34m\"val_acc : \"\u001b[0m\u001b[0;34m,\u001b[0m \u001b[0mval_accs\u001b[0m\u001b[0;34m)\u001b[0m\u001b[0;34m\u001b[0m\u001b[0;34m\u001b[0m\u001b[0m\n\u001b[1;32m      5\u001b[0m \u001b[0;31m# cv_scoress.append(val_accs)\u001b[0m\u001b[0;34m\u001b[0m\u001b[0;34m\u001b[0m\u001b[0;34m\u001b[0m\u001b[0m\n",
      "\u001b[0;32m/usr/local/lib/python3.8/dist-packages/tensorflow/python/keras/engine/training.py\u001b[0m in \u001b[0;36m_method_wrapper\u001b[0;34m(self, *args, **kwargs)\u001b[0m\n\u001b[1;32m     64\u001b[0m   \u001b[0;32mdef\u001b[0m \u001b[0m_method_wrapper\u001b[0m\u001b[0;34m(\u001b[0m\u001b[0mself\u001b[0m\u001b[0;34m,\u001b[0m \u001b[0;34m*\u001b[0m\u001b[0margs\u001b[0m\u001b[0;34m,\u001b[0m \u001b[0;34m**\u001b[0m\u001b[0mkwargs\u001b[0m\u001b[0;34m)\u001b[0m\u001b[0;34m:\u001b[0m\u001b[0;34m\u001b[0m\u001b[0;34m\u001b[0m\u001b[0m\n\u001b[1;32m     65\u001b[0m     \u001b[0;32mif\u001b[0m \u001b[0;32mnot\u001b[0m \u001b[0mself\u001b[0m\u001b[0;34m.\u001b[0m\u001b[0m_in_multi_worker_mode\u001b[0m\u001b[0;34m(\u001b[0m\u001b[0;34m)\u001b[0m\u001b[0;34m:\u001b[0m  \u001b[0;31m# pylint: disable=protected-access\u001b[0m\u001b[0;34m\u001b[0m\u001b[0;34m\u001b[0m\u001b[0m\n\u001b[0;32m---> 66\u001b[0;31m       \u001b[0;32mreturn\u001b[0m \u001b[0mmethod\u001b[0m\u001b[0;34m(\u001b[0m\u001b[0mself\u001b[0m\u001b[0;34m,\u001b[0m \u001b[0;34m*\u001b[0m\u001b[0margs\u001b[0m\u001b[0;34m,\u001b[0m \u001b[0;34m**\u001b[0m\u001b[0mkwargs\u001b[0m\u001b[0;34m)\u001b[0m\u001b[0;34m\u001b[0m\u001b[0;34m\u001b[0m\u001b[0m\n\u001b[0m\u001b[1;32m     67\u001b[0m \u001b[0;34m\u001b[0m\u001b[0m\n\u001b[1;32m     68\u001b[0m     \u001b[0;31m# Running inside `run_distribute_coordinator` already.\u001b[0m\u001b[0;34m\u001b[0m\u001b[0;34m\u001b[0m\u001b[0;34m\u001b[0m\u001b[0m\n",
      "\u001b[0;32m/usr/local/lib/python3.8/dist-packages/tensorflow/python/keras/engine/training.py\u001b[0m in \u001b[0;36mevaluate\u001b[0;34m(self, x, y, batch_size, verbose, sample_weight, steps, callbacks, max_queue_size, workers, use_multiprocessing, return_dict)\u001b[0m\n\u001b[1;32m   1044\u001b[0m     \u001b[0;32mwith\u001b[0m \u001b[0mself\u001b[0m\u001b[0;34m.\u001b[0m\u001b[0mdistribute_strategy\u001b[0m\u001b[0;34m.\u001b[0m\u001b[0mscope\u001b[0m\u001b[0;34m(\u001b[0m\u001b[0;34m)\u001b[0m\u001b[0;34m:\u001b[0m\u001b[0;34m\u001b[0m\u001b[0;34m\u001b[0m\u001b[0m\n\u001b[1;32m   1045\u001b[0m       \u001b[0;31m# Creates a `tf.data.Dataset` and handles batch and epoch iteration.\u001b[0m\u001b[0;34m\u001b[0m\u001b[0;34m\u001b[0m\u001b[0;34m\u001b[0m\u001b[0m\n\u001b[0;32m-> 1046\u001b[0;31m       data_handler = data_adapter.DataHandler(\n\u001b[0m\u001b[1;32m   1047\u001b[0m           \u001b[0mx\u001b[0m\u001b[0;34m=\u001b[0m\u001b[0mx\u001b[0m\u001b[0;34m,\u001b[0m\u001b[0;34m\u001b[0m\u001b[0;34m\u001b[0m\u001b[0m\n\u001b[1;32m   1048\u001b[0m           \u001b[0my\u001b[0m\u001b[0;34m=\u001b[0m\u001b[0my\u001b[0m\u001b[0;34m,\u001b[0m\u001b[0;34m\u001b[0m\u001b[0;34m\u001b[0m\u001b[0m\n",
      "\u001b[0;32m/usr/local/lib/python3.8/dist-packages/tensorflow/python/keras/engine/data_adapter.py\u001b[0m in \u001b[0;36m__init__\u001b[0;34m(self, x, y, sample_weight, batch_size, steps_per_epoch, initial_epoch, epochs, shuffle, class_weight, max_queue_size, workers, use_multiprocessing, model)\u001b[0m\n\u001b[1;32m   1098\u001b[0m \u001b[0;34m\u001b[0m\u001b[0m\n\u001b[1;32m   1099\u001b[0m     \u001b[0madapter_cls\u001b[0m \u001b[0;34m=\u001b[0m \u001b[0mselect_data_adapter\u001b[0m\u001b[0;34m(\u001b[0m\u001b[0mx\u001b[0m\u001b[0;34m,\u001b[0m \u001b[0my\u001b[0m\u001b[0;34m)\u001b[0m\u001b[0;34m\u001b[0m\u001b[0;34m\u001b[0m\u001b[0m\n\u001b[0;32m-> 1100\u001b[0;31m     self._adapter = adapter_cls(\n\u001b[0m\u001b[1;32m   1101\u001b[0m         \u001b[0mx\u001b[0m\u001b[0;34m,\u001b[0m\u001b[0;34m\u001b[0m\u001b[0;34m\u001b[0m\u001b[0m\n\u001b[1;32m   1102\u001b[0m         \u001b[0my\u001b[0m\u001b[0;34m,\u001b[0m\u001b[0;34m\u001b[0m\u001b[0;34m\u001b[0m\u001b[0m\n",
      "\u001b[0;32m/usr/local/lib/python3.8/dist-packages/tensorflow/python/keras/engine/data_adapter.py\u001b[0m in \u001b[0;36m__init__\u001b[0;34m(self, x, y, sample_weights, sample_weight_modes, batch_size, epochs, steps, shuffle, **kwargs)\u001b[0m\n\u001b[1;32m    280\u001b[0m             label, \", \".join(str(i.shape[0]) for i in nest.flatten(data)))\n\u001b[1;32m    281\u001b[0m       \u001b[0mmsg\u001b[0m \u001b[0;34m+=\u001b[0m \u001b[0;34m\"Please provide data which shares the same first dimension.\"\u001b[0m\u001b[0;34m\u001b[0m\u001b[0;34m\u001b[0m\u001b[0m\n\u001b[0;32m--> 282\u001b[0;31m       \u001b[0;32mraise\u001b[0m \u001b[0mValueError\u001b[0m\u001b[0;34m(\u001b[0m\u001b[0mmsg\u001b[0m\u001b[0;34m)\u001b[0m\u001b[0;34m\u001b[0m\u001b[0;34m\u001b[0m\u001b[0m\n\u001b[0m\u001b[1;32m    283\u001b[0m     \u001b[0mnum_samples\u001b[0m \u001b[0;34m=\u001b[0m \u001b[0mnum_samples\u001b[0m\u001b[0;34m.\u001b[0m\u001b[0mpop\u001b[0m\u001b[0;34m(\u001b[0m\u001b[0;34m)\u001b[0m\u001b[0;34m\u001b[0m\u001b[0;34m\u001b[0m\u001b[0m\n\u001b[1;32m    284\u001b[0m \u001b[0;34m\u001b[0m\u001b[0m\n",
      "\u001b[0;31mValueError\u001b[0m: Data cardinality is ambiguous:\n  x sizes: 216\n  y sizes: 8\nPlease provide data which shares the same first dimension."
     ]
    }
   ],
   "source": [
    "# models, val_accs, historys = create_model(x_train, x_val, x_train_encodeds, x_val_encodeds)\n",
    "\n",
    "val_accs = model.evaluate(x_train, x_trains, batch_size=16, verbose = 1)\n",
    "print(\"val_acc : \", val_accs)\n",
    "# cv_scoress.append(val_accs)\n",
    "# model_history.append(models)\n",
    "# print('Estimated Accuracy %.3f (%.3f)' % (np.mean(cv_scoress), np.std(cv_scoress)))"
   ]
  },
  {
   "cell_type": "code",
   "execution_count": 396,
   "metadata": {},
   "outputs": [
    {
     "ename": "TypeError",
     "evalue": "'History' object is not subscriptable",
     "output_type": "error",
     "traceback": [
      "\u001b[0;31m---------------------------------------------------------------------------\u001b[0m",
      "\u001b[0;31mTypeError\u001b[0m                                 Traceback (most recent call last)",
      "\u001b[0;32m<ipython-input-396-2aebd62aa69f>\u001b[0m in \u001b[0;36m<module>\u001b[0;34m\u001b[0m\n\u001b[1;32m     10\u001b[0m \u001b[0;34m\u001b[0m\u001b[0m\n\u001b[1;32m     11\u001b[0m \u001b[0mplt\u001b[0m\u001b[0;34m.\u001b[0m\u001b[0mplot\u001b[0m\u001b[0;34m(\u001b[0m\u001b[0mnp\u001b[0m\u001b[0;34m.\u001b[0m\u001b[0marange\u001b[0m\u001b[0;34m(\u001b[0m\u001b[0mlook\u001b[0m\u001b[0;34m)\u001b[0m\u001b[0;34m,\u001b[0m\u001b[0mpredictions\u001b[0m\u001b[0;34m,\u001b[0m\u001b[0;34m'r'\u001b[0m\u001b[0;34m,\u001b[0m\u001b[0mlabel\u001b[0m\u001b[0;34m=\u001b[0m\u001b[0;34m\"prediction\"\u001b[0m\u001b[0;34m)\u001b[0m\u001b[0;34m\u001b[0m\u001b[0;34m\u001b[0m\u001b[0m\n\u001b[0;32m---> 12\u001b[0;31m \u001b[0mplt\u001b[0m\u001b[0;34m.\u001b[0m\u001b[0mplot\u001b[0m\u001b[0;34m(\u001b[0m\u001b[0mnp\u001b[0m\u001b[0;34m.\u001b[0m\u001b[0marange\u001b[0m\u001b[0;34m(\u001b[0m\u001b[0mlook\u001b[0m\u001b[0;34m)\u001b[0m\u001b[0;34m,\u001b[0m\u001b[0mhistory\u001b[0m\u001b[0;34m[\u001b[0m\u001b[0;34m:\u001b[0m\u001b[0mlook\u001b[0m\u001b[0;34m]\u001b[0m\u001b[0;34m,\u001b[0m\u001b[0mlabel\u001b[0m\u001b[0;34m=\u001b[0m\u001b[0;34m\"test function\"\u001b[0m\u001b[0;34m)\u001b[0m\u001b[0;34m\u001b[0m\u001b[0;34m\u001b[0m\u001b[0m\n\u001b[0m\u001b[1;32m     13\u001b[0m \u001b[0mplt\u001b[0m\u001b[0;34m.\u001b[0m\u001b[0mlegend\u001b[0m\u001b[0;34m(\u001b[0m\u001b[0;34m)\u001b[0m\u001b[0;34m\u001b[0m\u001b[0;34m\u001b[0m\u001b[0m\n\u001b[1;32m     14\u001b[0m \u001b[0mplt\u001b[0m\u001b[0;34m.\u001b[0m\u001b[0mshow\u001b[0m\u001b[0;34m(\u001b[0m\u001b[0;34m)\u001b[0m\u001b[0;34m\u001b[0m\u001b[0;34m\u001b[0m\u001b[0m\n",
      "\u001b[0;31mTypeError\u001b[0m: 'History' object is not subscriptable"
     ]
    },
    {
     "data": {
      "image/png": "[encoded data removed]",
      "text/plain": [
       "<Figure size 1008x432 with 1 Axes>"
      ]
     },
     "metadata": {
      "needs_background": "light"
     },
     "output_type": "display_data"
    }
   ],
   "source": [
    "plt.figure(figsize=(14, 6))\n",
    "plt.rc('font', size=18)\n",
    "\n",
    "plt.plot(historys.history[\"accuracy\"])\n",
    "plt.plot(historys.history[\"val_accuracy\"])\n",
    "plt.ylabel(\"accuracy\")\n",
    "plt.xlabel(\"epoch\")\n",
    "plt.legend([\"train_accuracy\", \"val_accuracy\"])\n",
    "plt.show()"
   ]
  },
  {
   "cell_type": "code",
   "execution_count": null,
   "metadata": {},
   "outputs": [],
   "source": []
  }
 ],
 "metadata": {
  "kernelspec": {
   "display_name": "Python 3",
   "language": "python",
   "name": "python3"
  },
  "language_info": {
   "codemirror_mode": {
    "name": "ipython",
    "version": 3
   },
   "file_extension": ".py",
   "mimetype": "text/x-python",
   "name": "python",
   "nbconvert_exporter": "python",
   "pygments_lexer": "ipython3",
   "version": "3.8.2"
  }
 },
 "nbformat": 4,
 "nbformat_minor": 4
}
