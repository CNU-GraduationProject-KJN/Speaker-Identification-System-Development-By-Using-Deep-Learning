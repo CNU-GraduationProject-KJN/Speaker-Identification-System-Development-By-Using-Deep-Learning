{
 "cells": [
  {
   "cell_type": "code",
   "execution_count": 15,
   "metadata": {
    "scrolled": false
   },
   "outputs": [
    {
     "name": "stdout",
     "output_type": "stream",
     "text": [
      "2.1.0\n"
     ]
    }
   ],
   "source": [
    "import glob\n",
    "import numpy as np\n",
    "import random\n",
    "import librosa\n",
    "import os\n",
    "from sklearn.model_selection import train_test_split\n",
    "from sklearn.preprocessing import LabelBinarizer\n",
    "\n",
    "import tensorflow as tf\n",
    "from tensorflow import keras\n",
    "\n",
    "print(tf.__version__)"
   ]
  },
  {
   "cell_type": "code",
   "execution_count": null,
   "metadata": {},
   "outputs": [],
   "source": []
  },
  {
   "cell_type": "code",
   "execution_count": 16,
   "metadata": {},
   "outputs": [
    {
     "name": "stdout",
     "output_type": "stream",
     "text": [
      "['2017019740001_kwakjuheon', '2017019740002_kimjiho', '2017019740003_songyejin', '2017019740004_parksohui', '2017019740005_moonyeonwoo', '2017019740006_kangsubin', '2017019740007_leekyeongeun', '2017019740008_chochaeyeon', '2017019740009_shindonghwan', '2017019740010_kwakmirae', '2017019740011_kimhyeryeong', '2017019740012_chaeminjoon', '2017019740013_kwakyiheon', '2017019740014_leesumin', '2017019740015_choihayoung', '2017019740016_kangyeseo', '2017019740017_kwakmihyang', '2017019740018_eundano', '2017019740019_limjinju', '2017019740020_kimseongje', '2017019740021_kwakbokyeong', '2017019770001_kwonyuna', '2017019770002_kwoneunkyung', '2017019770003_johaesu', '2017019770004_leebyeongjin', '2017019770005_hyeonsanghyeok', '2017019770006_jennie', '2017019770007_simseungmin', '2017019770008_parksomi', '2017019770009_yuminji', '2017019770010_parksojin', '2017019770011_kwonyeonwoo', '2017019770012_ladakyeong', '2017019770013_janghyomin', '2017019770014_parkeunbi', '2017019770015_parkdayeung', '2017019770016_parkjongae', '2017019770017_hansohee', '2017019770018_janggyeoul', '2017019770019_leewooju', '2017019770020_nomyungok', '2017019770021_heoyoonjung', '2017019770022_heojaemin', '2017019770023_kimsoyung', '2017019770024_chuminha', '2017019770025_kimhyeonsu', '2017019770026_chaesonghwa', '2017019770027_kwonyulim', '2017019770028_kimminyoung', '2017019770029_jueunhong', '2017019770030_leejeongju', '2017019770031_kwonnahui', '2017019770032_kimdayeong', '2017019770033_kwonsundo', '2017019770034_kimhyeona', '2017019770035_leehyojin', '2017019770036_yuminji', '2017019770037_jeonghojun', '2017019770038_kanghyeyun', '2017019880001_kimsubin', '2017019880002_kimkihyeon', '2017019880003_kimminji', '2017019880004_myeongjaewon', '2017019880005_kimjihyeon']\n"
     ]
    }
   ],
   "source": [
    "class_names = os.listdir(\"../feature/feature_mfcc/\")\n",
    "class_names.sort()\n",
    "\n",
    "print(class_names)\n",
    "\n",
    "x_list = []\n",
    "y_list = []\n",
    "\n",
    "for i in range(0,len(class_names)):\n",
    "    files=os.listdir(\"../feature/feature_mfcc/\"+class_names[i])\n",
    "    files = [file for file in files if file.endswith(\".npy\")]\n",
    "\n",
    "    for j in range(0, len(files)):\n",
    "        x = np.load(\"../feature/feature_mfcc/\"+class_names[i]+\"/\"+files[j])\n",
    "        x_list.append(x)\n",
    "        y_list.append(i)\n"
   ]
  },
  {
   "cell_type": "code",
   "execution_count": 17,
   "metadata": {},
   "outputs": [
    {
     "name": "stdout",
     "output_type": "stream",
     "text": [
      "x_train: (320, 469, 12)\n",
      "y_train: (320,)\n"
     ]
    }
   ],
   "source": [
    "x_train = np.array(x_list)\n",
    "y_train = np.array(y_list)\n",
    "\n",
    "print(\"x_train:\", x_train.shape)\n",
    "print(\"y_train:\", y_train.shape)"
   ]
  },
  {
   "cell_type": "code",
   "execution_count": 18,
   "metadata": {
    "scrolled": true
   },
   "outputs": [],
   "source": [
    "from sklearn.model_selection import train_test_split\n",
    "x_train, x_val, y_train, y_val = train_test_split(x_train, y_train, stratify=y_train, test_size=0.2, random_state=42)"
   ]
  },
  {
   "cell_type": "code",
   "execution_count": 19,
   "metadata": {},
   "outputs": [],
   "source": [
    "from tensorflow.keras.utils import to_categorical\n",
    "y_train_encoded = tf.keras.utils.to_categorical(y_train)\n",
    "y_val_encoded = tf.keras.utils.to_categorical(y_val)"
   ]
  },
  {
   "cell_type": "code",
   "execution_count": 20,
   "metadata": {
    "scrolled": false
   },
   "outputs": [
    {
     "name": "stdout",
     "output_type": "stream",
     "text": [
      "x_train: (256, 469, 12)\n",
      "y_train: (256, 64)\n",
      "x_val: (64, 469, 12)\n",
      "y_val: (64, 64)\n"
     ]
    }
   ],
   "source": [
    "print(\"x_train:\", x_train.shape)\n",
    "print(\"y_train:\", y_train_encoded.shape)\n",
    "print(\"x_val:\", x_val.shape)\n",
    "print(\"y_val:\", y_val_encoded.shape)"
   ]
  },
  {
   "cell_type": "code",
   "execution_count": 21,
   "metadata": {},
   "outputs": [],
   "source": [
    "from tensorflow.keras.layers import LSTM, Dense, Dropout, Flatten\n",
    "from tensorflow.keras.models import Sequential\n",
    "from tensorflow.keras.optimizers import Adam\n",
    "from tensorflow.keras.callbacks import EarlyStopping, ModelCheckpoint"
   ]
  },
  {
   "cell_type": "code",
   "execution_count": 22,
   "metadata": {},
   "outputs": [],
   "source": [
    "n_features = x_train.shape[1]\n",
    "max_length = x_train.shape[2]\n",
    "input_shape = (n_features, max_length)\n",
    "dropout = 0.25\n",
    "n_classes = len(class_names)\n",
    "n_epochs = 50\n",
    "batch_size = 16"
   ]
  },
  {
   "cell_type": "code",
   "execution_count": 23,
   "metadata": {},
   "outputs": [],
   "source": [
    "model = Sequential()\n",
    "\n",
    "model.add(LSTM(256, return_sequences=True, input_shape=input_shape,dropout=dropout))\n",
    "model.add(Dropout(dropout))\n",
    "model.add(LSTM(128, return_sequences=True))\n",
    "model.add(Dropout(dropout))\n",
    "model.add(LSTM(64, return_sequences=True))\n",
    "model.add(Dropout(dropout))\n",
    "model.add(LSTM(64, return_sequences=True))\n",
    "model.add(Dropout(dropout))\n",
    "model.add(Flatten())\n",
    "model.add(Dense(64, activation='relu'))\n",
    "model.add(Dropout(dropout))\n",
    "model.add(Dense(n_classes, activation='softmax'))"
   ]
  },
  {
   "cell_type": "code",
   "execution_count": 24,
   "metadata": {
    "scrolled": true
   },
   "outputs": [
    {
     "name": "stdout",
     "output_type": "stream",
     "text": [
      "Model: \"sequential_1\"\n",
      "_________________________________________________________________\n",
      "Layer (type)                 Output Shape              Param #   \n",
      "=================================================================\n",
      "lstm_4 (LSTM)                (None, 469, 256)          275456    \n",
      "_________________________________________________________________\n",
      "dropout_5 (Dropout)          (None, 469, 256)          0         \n",
      "_________________________________________________________________\n",
      "lstm_5 (LSTM)                (None, 469, 128)          197120    \n",
      "_________________________________________________________________\n",
      "dropout_6 (Dropout)          (None, 469, 128)          0         \n",
      "_________________________________________________________________\n",
      "lstm_6 (LSTM)                (None, 469, 64)           49408     \n",
      "_________________________________________________________________\n",
      "dropout_7 (Dropout)          (None, 469, 64)           0         \n",
      "_________________________________________________________________\n",
      "lstm_7 (LSTM)                (None, 469, 64)           33024     \n",
      "_________________________________________________________________\n",
      "dropout_8 (Dropout)          (None, 469, 64)           0         \n",
      "_________________________________________________________________\n",
      "flatten_1 (Flatten)          (None, 30016)             0         \n",
      "_________________________________________________________________\n",
      "dense_2 (Dense)              (None, 64)                1921088   \n",
      "_________________________________________________________________\n",
      "dropout_9 (Dropout)          (None, 64)                0         \n",
      "_________________________________________________________________\n",
      "dense_3 (Dense)              (None, 64)                4160      \n",
      "=================================================================\n",
      "Total params: 2,480,256\n",
      "Trainable params: 2,480,256\n",
      "Non-trainable params: 0\n",
      "_________________________________________________________________\n"
     ]
    }
   ],
   "source": [
    "model.summary()"
   ]
  },
  {
   "cell_type": "code",
   "execution_count": 25,
   "metadata": {},
   "outputs": [],
   "source": [
    "model.compile(loss=tf.keras.losses.categorical_crossentropy, metrics=[\"accuracy\"], optimizer=keras.optimizers.SGD(lr=0.01, momentum=0.0, decay=0.0, nesterov=False))"
   ]
  },
  {
   "cell_type": "code",
   "execution_count": 26,
   "metadata": {
    "scrolled": true
   },
   "outputs": [
    {
     "name": "stdout",
     "output_type": "stream",
     "text": [
      "Train on 256 samples, validate on 64 samples\n",
      "Epoch 1/50\n",
      "256/256 - 4s - loss: 4.1672 - accuracy: 0.0195 - val_loss: 4.1407 - val_accuracy: 0.0156\n",
      "Epoch 2/50\n",
      "256/256 - 1s - loss: 4.1457 - accuracy: 0.0352 - val_loss: 4.1248 - val_accuracy: 0.0312\n",
      "Epoch 3/50\n",
      "256/256 - 1s - loss: 4.1164 - accuracy: 0.0352 - val_loss: 4.1001 - val_accuracy: 0.0781\n",
      "Epoch 4/50\n",
      "256/256 - 1s - loss: 4.0921 - accuracy: 0.0625 - val_loss: 4.0733 - val_accuracy: 0.0938\n",
      "Epoch 5/50\n",
      "256/256 - 1s - loss: 4.0405 - accuracy: 0.0820 - val_loss: 4.0346 - val_accuracy: 0.1094\n",
      "Epoch 6/50\n",
      "256/256 - 1s - loss: 4.0076 - accuracy: 0.1094 - val_loss: 3.9854 - val_accuracy: 0.1875\n",
      "Epoch 7/50\n",
      "256/256 - 1s - loss: 3.9142 - accuracy: 0.1523 - val_loss: 3.9221 - val_accuracy: 0.2344\n",
      "Epoch 8/50\n",
      "256/256 - 1s - loss: 3.8484 - accuracy: 0.1953 - val_loss: 3.8396 - val_accuracy: 0.2656\n",
      "Epoch 9/50\n",
      "256/256 - 1s - loss: 3.7140 - accuracy: 0.2656 - val_loss: 3.7383 - val_accuracy: 0.2812\n",
      "Epoch 10/50\n",
      "256/256 - 1s - loss: 3.5747 - accuracy: 0.2344 - val_loss: 3.6223 - val_accuracy: 0.2812\n",
      "Epoch 11/50\n",
      "256/256 - 1s - loss: 3.3851 - accuracy: 0.3164 - val_loss: 3.4803 - val_accuracy: 0.2969\n",
      "Epoch 12/50\n",
      "256/256 - 1s - loss: 3.1985 - accuracy: 0.3711 - val_loss: 3.3291 - val_accuracy: 0.3125\n",
      "Epoch 13/50\n",
      "256/256 - 1s - loss: 2.9598 - accuracy: 0.3438 - val_loss: 3.1666 - val_accuracy: 0.3906\n",
      "Epoch 14/50\n",
      "256/256 - 1s - loss: 2.6638 - accuracy: 0.4570 - val_loss: 2.9757 - val_accuracy: 0.3750\n",
      "Epoch 15/50\n",
      "256/256 - 1s - loss: 2.3893 - accuracy: 0.5078 - val_loss: 2.8156 - val_accuracy: 0.3594\n",
      "Epoch 16/50\n",
      "256/256 - 1s - loss: 2.1023 - accuracy: 0.5703 - val_loss: 2.6308 - val_accuracy: 0.4062\n",
      "Epoch 17/50\n",
      "256/256 - 1s - loss: 1.8240 - accuracy: 0.6211 - val_loss: 2.4477 - val_accuracy: 0.4688\n",
      "Epoch 18/50\n",
      "256/256 - 1s - loss: 1.5973 - accuracy: 0.7070 - val_loss: 2.2839 - val_accuracy: 0.5000\n",
      "Epoch 19/50\n",
      "256/256 - 1s - loss: 1.4645 - accuracy: 0.6797 - val_loss: 2.1560 - val_accuracy: 0.5312\n",
      "Epoch 20/50\n",
      "256/256 - 1s - loss: 1.2051 - accuracy: 0.7539 - val_loss: 2.0269 - val_accuracy: 0.5469\n",
      "Epoch 21/50\n",
      "256/256 - 1s - loss: 1.0333 - accuracy: 0.8008 - val_loss: 1.9365 - val_accuracy: 0.5625\n",
      "Epoch 22/50\n",
      "256/256 - 1s - loss: 0.9236 - accuracy: 0.8242 - val_loss: 1.9123 - val_accuracy: 0.5938\n",
      "Epoch 23/50\n",
      "256/256 - 1s - loss: 0.8176 - accuracy: 0.8438 - val_loss: 1.8970 - val_accuracy: 0.5625\n",
      "Epoch 24/50\n",
      "256/256 - 1s - loss: 0.7372 - accuracy: 0.8867 - val_loss: 1.8612 - val_accuracy: 0.6094\n",
      "Epoch 25/50\n",
      "256/256 - 1s - loss: 0.6260 - accuracy: 0.8789 - val_loss: 1.8228 - val_accuracy: 0.6094\n",
      "Epoch 26/50\n",
      "256/256 - 1s - loss: 0.5754 - accuracy: 0.8906 - val_loss: 1.7529 - val_accuracy: 0.5625\n",
      "Epoch 27/50\n",
      "256/256 - 1s - loss: 0.4884 - accuracy: 0.9219 - val_loss: 1.7628 - val_accuracy: 0.5938\n",
      "Epoch 28/50\n",
      "256/256 - 1s - loss: 0.3720 - accuracy: 0.9414 - val_loss: 1.7465 - val_accuracy: 0.5938\n",
      "Epoch 29/50\n",
      "256/256 - 1s - loss: 0.4339 - accuracy: 0.9258 - val_loss: 1.7049 - val_accuracy: 0.6094\n",
      "Epoch 30/50\n",
      "256/256 - 1s - loss: 0.3336 - accuracy: 0.9453 - val_loss: 1.7470 - val_accuracy: 0.5938\n",
      "Epoch 31/50\n",
      "256/256 - 1s - loss: 0.3466 - accuracy: 0.9336 - val_loss: 1.7242 - val_accuracy: 0.5938\n",
      "Epoch 32/50\n",
      "256/256 - 1s - loss: 0.3440 - accuracy: 0.9453 - val_loss: 1.6940 - val_accuracy: 0.6250\n",
      "Epoch 33/50\n",
      "256/256 - 1s - loss: 0.2664 - accuracy: 0.9609 - val_loss: 1.6912 - val_accuracy: 0.6094\n",
      "Epoch 34/50\n",
      "256/256 - 1s - loss: 0.3040 - accuracy: 0.9414 - val_loss: 1.7118 - val_accuracy: 0.5938\n",
      "Epoch 35/50\n",
      "256/256 - 1s - loss: 0.2577 - accuracy: 0.9453 - val_loss: 1.6633 - val_accuracy: 0.5938\n",
      "Epoch 36/50\n",
      "256/256 - 1s - loss: 0.2716 - accuracy: 0.9531 - val_loss: 1.6395 - val_accuracy: 0.5781\n",
      "Epoch 37/50\n",
      "256/256 - 1s - loss: 0.2703 - accuracy: 0.9414 - val_loss: 1.6046 - val_accuracy: 0.5938\n",
      "Epoch 38/50\n",
      "256/256 - 1s - loss: 0.2339 - accuracy: 0.9727 - val_loss: 1.6278 - val_accuracy: 0.6094\n",
      "Epoch 39/50\n",
      "256/256 - 1s - loss: 0.2124 - accuracy: 0.9609 - val_loss: 1.5871 - val_accuracy: 0.6094\n",
      "Epoch 40/50\n",
      "256/256 - 1s - loss: 0.1901 - accuracy: 0.9805 - val_loss: 1.6159 - val_accuracy: 0.5469\n",
      "Epoch 41/50\n",
      "256/256 - 1s - loss: 0.2181 - accuracy: 0.9492 - val_loss: 1.5604 - val_accuracy: 0.6094\n",
      "Epoch 42/50\n",
      "256/256 - 1s - loss: 0.2043 - accuracy: 0.9609 - val_loss: 1.5488 - val_accuracy: 0.5938\n",
      "Epoch 43/50\n",
      "256/256 - 1s - loss: 0.1895 - accuracy: 0.9570 - val_loss: 1.5338 - val_accuracy: 0.5781\n",
      "Epoch 44/50\n",
      "256/256 - 1s - loss: 0.2021 - accuracy: 0.9570 - val_loss: 1.5213 - val_accuracy: 0.6094\n",
      "Epoch 45/50\n",
      "256/256 - 1s - loss: 0.1544 - accuracy: 0.9844 - val_loss: 1.5303 - val_accuracy: 0.5625\n",
      "Epoch 46/50\n",
      "256/256 - 1s - loss: 0.1717 - accuracy: 0.9688 - val_loss: 1.5048 - val_accuracy: 0.5938\n",
      "Epoch 47/50\n",
      "256/256 - 1s - loss: 0.1470 - accuracy: 0.9805 - val_loss: 1.5499 - val_accuracy: 0.5938\n",
      "Epoch 48/50\n",
      "256/256 - 1s - loss: 0.1461 - accuracy: 0.9766 - val_loss: 1.5558 - val_accuracy: 0.5938\n",
      "Epoch 49/50\n",
      "256/256 - 1s - loss: 0.1559 - accuracy: 0.9609 - val_loss: 1.6149 - val_accuracy: 0.5625\n",
      "Epoch 50/50\n",
      "256/256 - 1s - loss: 0.1716 - accuracy: 0.9531 - val_loss: 1.5282 - val_accuracy: 0.5781\n"
     ]
    }
   ],
   "source": [
    "history = model.fit(x_train, y_train_encoded, \n",
    "                    batch_size=batch_size, epochs=n_epochs, verbose=2,\n",
    "                    validation_data=(x_val, y_val_encoded))"
   ]
  },
  {
   "cell_type": "code",
   "execution_count": 27,
   "metadata": {},
   "outputs": [
    {
     "data": {
      "image/png": "[encoded data removed]",
      "text/plain": [
       "<Figure size 1008x432 with 1 Axes>"
      ]
     },
     "metadata": {
      "needs_background": "light"
     },
     "output_type": "display_data"
    }
   ],
   "source": [
    "import matplotlib.pyplot as plt\n",
    "\n",
    "plt.figure(figsize=(14, 6))\n",
    "plt.rc('font', size=18)\n",
    "\n",
    "plt.plot(history.history[\"accuracy\"])\n",
    "plt.plot(history.history[\"val_accuracy\"])\n",
    "plt.ylabel(\"accuracy\")\n",
    "plt.xlabel(\"epoch\")\n",
    "plt.legend([\"train_accuracy\", \"val_accuracy\"])\n",
    "plt.show()"
   ]
  },
  {
   "cell_type": "code",
   "execution_count": 30,
   "metadata": {},
   "outputs": [
    {
     "name": "stdout",
     "output_type": "stream",
     "text": [
      "Predict : 2017019740001_kwakjuheon , Real : 2017019740001_kwakjuheon\n",
      "Predict : 2017019880004_myeongjaewon , Real : 2017019740001_kwakjuheon\n",
      "Predict : 2017019770015_parkdayeung , Real : 2017019740001_kwakjuheon\n",
      "Predict : 2017019770018_janggyeoul , Real : 2017019740001_kwakjuheon\n",
      "Predict : 2017019740019_limjinju , Real : 2017019740001_kwakjuheon\n",
      "Predict : 2017019770001_kwonyuna , Real : 2017019770001_kwonyuna\n",
      "Predict : 2017019770001_kwonyuna , Real : 2017019770001_kwonyuna\n",
      "Predict : 2017019770001_kwonyuna , Real : 2017019770001_kwonyuna\n",
      "Predict : 2017019770001_kwonyuna , Real : 2017019770001_kwonyuna\n",
      "Predict : 2017019770001_kwonyuna , Real : 2017019770001_kwonyuna\n",
      "Predict : 2017019880001_kimsubin , Real : 2017019880001_kimsubin\n",
      "Predict : 2017019880001_kimsubin , Real : 2017019880001_kimsubin\n",
      "Predict : 2017019880001_kimsubin , Real : 2017019880001_kimsubin\n",
      "Predict : 2017019880001_kimsubin , Real : 2017019880001_kimsubin\n",
      "Predict : 2017019770018_janggyeoul , Real : 2017019880001_kimsubin\n",
      "0.6666666666666666\n"
     ]
    }
   ],
   "source": [
    "from sklearn.metrics import accuracy_score\n",
    "\n",
    "x_validation_list=[]\n",
    "y_validation_list=[]\n",
    "\n",
    "val_file_path = \"../feature/feature_mfcc_validation/\"\n",
    "val_class_names = os.listdir(val_file_path)\n",
    "val_class_names.sort()\n",
    "val_fname=[]\n",
    "X_TF_pred = []\n",
    "y_TF_pred = []\n",
    "\n",
    "for i in range(0,len(val_class_names)):\n",
    "    val_files=os.listdir(val_file_path+val_class_names[i])\n",
    "    val_files = [file for file in val_files if file.endswith(\".npy\")]\n",
    "    for j in range(0, len(val_files)):\n",
    "        val_fname.append(val_file_path+val_class_names[i]+\"/\"+val_files[j])\n",
    "        \n",
    "\n",
    "for i,fname in zip(range(0,len(val_fname)), val_fname):\n",
    "    #print(i,fname)\n",
    "    tempX = np.load(val_fname[i])\n",
    "    x_validation_list.append(tempX)\n",
    "    y_validation_list.append(val_class_names.index(fname.split('/')[3]))\n",
    "    \n",
    "X_TF_pred = np.array(x_validation_list)\n",
    "y_TF_real_pred = np.array(y_validation_list)\n",
    "\n",
    "pred_out = model.predict(X_TF_pred)\n",
    "\n",
    "real =[]\n",
    "pred_out_idex=[]\n",
    "\n",
    "\n",
    "for i,pred in zip(range(0, len(pred_out)), pred_out) :\n",
    "   \n",
    "    print(\"Predict :\",class_names[np.argmax(pred)], \", Real :\", val_class_names[y_TF_real_pred[i]])\n",
    "    real.append(class_names.index(val_class_names[y_TF_real_pred[i]]))\n",
    "    pred_out_idex.append(np.argmax(pred))\n",
    "    \n",
    "# get the accuracy\n",
    "print (accuracy_score(real, pred_out_idex))\n",
    "\n"
   ]
  },
  {
   "cell_type": "code",
   "execution_count": null,
   "metadata": {},
   "outputs": [],
   "source": []
  },
  {
   "cell_type": "code",
   "execution_count": 31,
   "metadata": {},
   "outputs": [],
   "source": [
    "from tensorflow.keras.layers import LSTM, Dense, Dropout, Flatten, Activation\n",
    "from tensorflow.keras.models import Sequential\n",
    "from tensorflow.keras.optimizers import Adam\n",
    "from tensorflow.keras.callbacks import EarlyStopping, ModelCheckpoint\n",
    "\n",
    "model2 = Sequential()\n",
    "model2.add(LSTM(\n",
    "      256,\n",
    "      input_shape=input_shape,\n",
    "      return_sequences=True\n",
    "))\n",
    "model2.add(Dropout(dropout))\n",
    "model2.add(LSTM(512, return_sequences=True))\n",
    "model2.add(Dropout(dropout))\n",
    "model2.add(LSTM(256))\n",
    "model2.add(Dense(256))\n",
    "model2.add(Dropout(dropout))\n",
    "model2.add(Dense(n_classes))\n",
    "model2.add(Activation('softmax'))"
   ]
  },
  {
   "cell_type": "code",
   "execution_count": 32,
   "metadata": {},
   "outputs": [],
   "source": [
    "model2.compile(loss=tf.keras.losses.categorical_crossentropy, metrics=[\"accuracy\"], optimizer=keras.optimizers.SGD(lr=0.01, momentum=0.0, decay=0.0, nesterov=False))"
   ]
  },
  {
   "cell_type": "code",
   "execution_count": 33,
   "metadata": {},
   "outputs": [
    {
     "name": "stdout",
     "output_type": "stream",
     "text": [
      "Model: \"sequential_2\"\n",
      "_________________________________________________________________\n",
      "Layer (type)                 Output Shape              Param #   \n",
      "=================================================================\n",
      "lstm_8 (LSTM)                (None, 469, 256)          275456    \n",
      "_________________________________________________________________\n",
      "dropout_10 (Dropout)         (None, 469, 256)          0         \n",
      "_________________________________________________________________\n",
      "lstm_9 (LSTM)                (None, 469, 512)          1574912   \n",
      "_________________________________________________________________\n",
      "dropout_11 (Dropout)         (None, 469, 512)          0         \n",
      "_________________________________________________________________\n",
      "lstm_10 (LSTM)               (None, 256)               787456    \n",
      "_________________________________________________________________\n",
      "dense_4 (Dense)              (None, 256)               65792     \n",
      "_________________________________________________________________\n",
      "dropout_12 (Dropout)         (None, 256)               0         \n",
      "_________________________________________________________________\n",
      "dense_5 (Dense)              (None, 64)                16448     \n",
      "_________________________________________________________________\n",
      "activation (Activation)      (None, 64)                0         \n",
      "=================================================================\n",
      "Total params: 2,720,064\n",
      "Trainable params: 2,720,064\n",
      "Non-trainable params: 0\n",
      "_________________________________________________________________\n"
     ]
    }
   ],
   "source": [
    "model2.summary()"
   ]
  },
  {
   "cell_type": "code",
   "execution_count": 34,
   "metadata": {
    "scrolled": true
   },
   "outputs": [
    {
     "name": "stdout",
     "output_type": "stream",
     "text": [
      "Train on 256 samples, validate on 64 samples\n",
      "Epoch 1/50\n",
      "256/256 - 4s - loss: 4.1645 - accuracy: 0.0117 - val_loss: 4.1436 - val_accuracy: 0.0312\n",
      "Epoch 2/50\n",
      "256/256 - 2s - loss: 4.1194 - accuracy: 0.0391 - val_loss: 4.1275 - val_accuracy: 0.0312\n",
      "Epoch 3/50\n",
      "256/256 - 2s - loss: 4.0577 - accuracy: 0.0586 - val_loss: 4.1111 - val_accuracy: 0.0469\n",
      "Epoch 4/50\n",
      "256/256 - 2s - loss: 4.0155 - accuracy: 0.1523 - val_loss: 4.0966 - val_accuracy: 0.0469\n",
      "Epoch 5/50\n",
      "256/256 - 2s - loss: 3.9595 - accuracy: 0.2305 - val_loss: 4.0804 - val_accuracy: 0.0625\n",
      "Epoch 6/50\n",
      "256/256 - 2s - loss: 3.9197 - accuracy: 0.3008 - val_loss: 4.0632 - val_accuracy: 0.0625\n",
      "Epoch 7/50\n",
      "256/256 - 2s - loss: 3.8763 - accuracy: 0.3438 - val_loss: 4.0479 - val_accuracy: 0.0938\n",
      "Epoch 8/50\n",
      "256/256 - 2s - loss: 3.8297 - accuracy: 0.4414 - val_loss: 4.0325 - val_accuracy: 0.1094\n",
      "Epoch 9/50\n",
      "256/256 - 2s - loss: 3.7768 - accuracy: 0.4961 - val_loss: 4.0154 - val_accuracy: 0.1250\n",
      "Epoch 10/50\n",
      "256/256 - 2s - loss: 3.7407 - accuracy: 0.5000 - val_loss: 3.9946 - val_accuracy: 0.1250\n",
      "Epoch 11/50\n",
      "256/256 - 2s - loss: 3.6930 - accuracy: 0.5352 - val_loss: 3.9757 - val_accuracy: 0.1250\n",
      "Epoch 12/50\n",
      "256/256 - 2s - loss: 3.6458 - accuracy: 0.5547 - val_loss: 3.9540 - val_accuracy: 0.1406\n",
      "Epoch 13/50\n",
      "256/256 - 2s - loss: 3.5959 - accuracy: 0.6055 - val_loss: 3.9299 - val_accuracy: 0.1406\n",
      "Epoch 14/50\n",
      "256/256 - 2s - loss: 3.5336 - accuracy: 0.6367 - val_loss: 3.9081 - val_accuracy: 0.1562\n",
      "Epoch 15/50\n",
      "256/256 - 2s - loss: 3.4852 - accuracy: 0.6641 - val_loss: 3.8827 - val_accuracy: 0.1562\n",
      "Epoch 16/50\n",
      "256/256 - 2s - loss: 3.4167 - accuracy: 0.6602 - val_loss: 3.8528 - val_accuracy: 0.1406\n",
      "Epoch 17/50\n",
      "256/256 - 2s - loss: 3.3620 - accuracy: 0.6953 - val_loss: 3.8253 - val_accuracy: 0.1406\n",
      "Epoch 18/50\n",
      "256/256 - 2s - loss: 3.2974 - accuracy: 0.6875 - val_loss: 3.7947 - val_accuracy: 0.1406\n",
      "Epoch 19/50\n",
      "256/256 - 2s - loss: 3.2275 - accuracy: 0.7188 - val_loss: 3.7652 - val_accuracy: 0.1406\n",
      "Epoch 20/50\n",
      "256/256 - 2s - loss: 3.1516 - accuracy: 0.7070 - val_loss: 3.7312 - val_accuracy: 0.1406\n",
      "Epoch 21/50\n",
      "256/256 - 2s - loss: 3.0868 - accuracy: 0.7227 - val_loss: 3.6945 - val_accuracy: 0.1406\n",
      "Epoch 22/50\n",
      "256/256 - 2s - loss: 3.0103 - accuracy: 0.6953 - val_loss: 3.6582 - val_accuracy: 0.1406\n",
      "Epoch 23/50\n",
      "256/256 - 2s - loss: 2.9385 - accuracy: 0.7266 - val_loss: 3.6204 - val_accuracy: 0.1406\n",
      "Epoch 24/50\n",
      "256/256 - 2s - loss: 2.8623 - accuracy: 0.7227 - val_loss: 3.5800 - val_accuracy: 0.1406\n",
      "Epoch 25/50\n",
      "256/256 - 2s - loss: 2.7461 - accuracy: 0.7773 - val_loss: 3.5315 - val_accuracy: 0.1875\n",
      "Epoch 26/50\n",
      "256/256 - 2s - loss: 2.6900 - accuracy: 0.7422 - val_loss: 3.4867 - val_accuracy: 0.2031\n",
      "Epoch 27/50\n",
      "256/256 - 2s - loss: 2.5867 - accuracy: 0.7656 - val_loss: 3.4412 - val_accuracy: 0.1875\n",
      "Epoch 28/50\n",
      "256/256 - 2s - loss: 2.4785 - accuracy: 0.7891 - val_loss: 3.3895 - val_accuracy: 0.2188\n",
      "Epoch 29/50\n",
      "256/256 - 2s - loss: 2.3949 - accuracy: 0.7656 - val_loss: 3.3404 - val_accuracy: 0.2344\n",
      "Epoch 30/50\n",
      "256/256 - 2s - loss: 2.2855 - accuracy: 0.8203 - val_loss: 3.2887 - val_accuracy: 0.2344\n",
      "Epoch 31/50\n",
      "256/256 - 2s - loss: 2.1783 - accuracy: 0.8242 - val_loss: 3.2426 - val_accuracy: 0.2500\n",
      "Epoch 32/50\n",
      "256/256 - 2s - loss: 2.1064 - accuracy: 0.8438 - val_loss: 3.1824 - val_accuracy: 0.2812\n",
      "Epoch 33/50\n",
      "256/256 - 2s - loss: 1.9854 - accuracy: 0.8516 - val_loss: 3.1336 - val_accuracy: 0.2969\n",
      "Epoch 34/50\n",
      "256/256 - 2s - loss: 1.8991 - accuracy: 0.8711 - val_loss: 3.0729 - val_accuracy: 0.3125\n",
      "Epoch 35/50\n",
      "256/256 - 2s - loss: 1.7498 - accuracy: 0.9062 - val_loss: 3.0290 - val_accuracy: 0.3125\n",
      "Epoch 36/50\n",
      "256/256 - 2s - loss: 1.6740 - accuracy: 0.8984 - val_loss: 2.9635 - val_accuracy: 0.3125\n",
      "Epoch 37/50\n",
      "256/256 - 2s - loss: 1.5896 - accuracy: 0.9219 - val_loss: 2.9240 - val_accuracy: 0.3281\n",
      "Epoch 38/50\n",
      "256/256 - 2s - loss: 1.4869 - accuracy: 0.9062 - val_loss: 2.8628 - val_accuracy: 0.3438\n",
      "Epoch 39/50\n",
      "256/256 - 2s - loss: 1.3863 - accuracy: 0.9258 - val_loss: 2.7982 - val_accuracy: 0.3438\n",
      "Epoch 40/50\n",
      "256/256 - 2s - loss: 1.2622 - accuracy: 0.9570 - val_loss: 2.7441 - val_accuracy: 0.3438\n",
      "Epoch 41/50\n",
      "256/256 - 2s - loss: 1.1920 - accuracy: 0.9648 - val_loss: 2.6972 - val_accuracy: 0.3438\n",
      "Epoch 42/50\n",
      "256/256 - 2s - loss: 1.1036 - accuracy: 0.9570 - val_loss: 2.6504 - val_accuracy: 0.3906\n",
      "Epoch 43/50\n",
      "256/256 - 2s - loss: 1.0140 - accuracy: 0.9609 - val_loss: 2.6039 - val_accuracy: 0.3906\n",
      "Epoch 44/50\n",
      "256/256 - 2s - loss: 0.9340 - accuracy: 0.9844 - val_loss: 2.5658 - val_accuracy: 0.3750\n",
      "Epoch 45/50\n",
      "256/256 - 2s - loss: 0.8201 - accuracy: 0.9805 - val_loss: 2.5084 - val_accuracy: 0.4062\n",
      "Epoch 46/50\n",
      "256/256 - 2s - loss: 0.7482 - accuracy: 0.9844 - val_loss: 2.4723 - val_accuracy: 0.4375\n",
      "Epoch 47/50\n",
      "256/256 - 2s - loss: 0.6738 - accuracy: 0.9766 - val_loss: 2.4250 - val_accuracy: 0.3750\n",
      "Epoch 48/50\n",
      "256/256 - 2s - loss: 0.6096 - accuracy: 0.9766 - val_loss: 2.4060 - val_accuracy: 0.3750\n",
      "Epoch 49/50\n",
      "256/256 - 2s - loss: 0.5538 - accuracy: 0.9844 - val_loss: 2.3416 - val_accuracy: 0.4531\n",
      "Epoch 50/50\n",
      "256/256 - 2s - loss: 0.5117 - accuracy: 0.9805 - val_loss: 2.3290 - val_accuracy: 0.4219\n"
     ]
    }
   ],
   "source": [
    "history2 = model2.fit(x_train, y_train_encoded, \n",
    "                    batch_size=batch_size, epochs=n_epochs, verbose=2,\n",
    "                    validation_data=(x_val, y_val_encoded))"
   ]
  },
  {
   "cell_type": "code",
   "execution_count": 35,
   "metadata": {},
   "outputs": [
    {
     "data": {
      "image/png": "[encoded data removed]",
      "text/plain": [
       "<Figure size 1008x432 with 1 Axes>"
      ]
     },
     "metadata": {
      "needs_background": "light"
     },
     "output_type": "display_data"
    }
   ],
   "source": [
    "import matplotlib.pyplot as plt\n",
    "\n",
    "plt.figure(figsize=(14, 6))\n",
    "plt.rc('font', size=18)\n",
    "\n",
    "plt.plot(history2.history[\"accuracy\"])\n",
    "plt.plot(history2.history[\"val_accuracy\"])\n",
    "plt.ylabel(\"accuracy\")\n",
    "plt.xlabel(\"epoch\")\n",
    "plt.legend([\"train_accuracy\", \"val_accuracy\"])\n",
    "plt.show()"
   ]
  },
  {
   "cell_type": "code",
   "execution_count": 36,
   "metadata": {},
   "outputs": [
    {
     "name": "stdout",
     "output_type": "stream",
     "text": [
      "Predict : 2017019740016_kangyeseo , Real : 2017019740001_kwakjuheon\n",
      "Predict : 2017019880004_myeongjaewon , Real : 2017019740001_kwakjuheon\n",
      "Predict : 2017019770002_kwoneunkyung , Real : 2017019740001_kwakjuheon\n",
      "Predict : 2017019880004_myeongjaewon , Real : 2017019740001_kwakjuheon\n",
      "Predict : 2017019770024_chuminha , Real : 2017019740001_kwakjuheon\n",
      "Predict : 2017019770001_kwonyuna , Real : 2017019770001_kwonyuna\n",
      "Predict : 2017019770001_kwonyuna , Real : 2017019770001_kwonyuna\n",
      "Predict : 2017019770001_kwonyuna , Real : 2017019770001_kwonyuna\n",
      "Predict : 2017019770001_kwonyuna , Real : 2017019770001_kwonyuna\n",
      "Predict : 2017019770001_kwonyuna , Real : 2017019770001_kwonyuna\n",
      "Predict : 2017019740012_chaeminjoon , Real : 2017019880001_kimsubin\n",
      "Predict : 2017019740013_kwakyiheon , Real : 2017019880001_kimsubin\n",
      "Predict : 2017019880001_kimsubin , Real : 2017019880001_kimsubin\n",
      "Predict : 2017019880001_kimsubin , Real : 2017019880001_kimsubin\n",
      "Predict : 2017019770005_hyeonsanghyeok , Real : 2017019880001_kimsubin\n",
      "0.4666666666666667\n"
     ]
    }
   ],
   "source": [
    "from sklearn.metrics import accuracy_score\n",
    "\n",
    "x_validation_list=[]\n",
    "y_validation_list=[]\n",
    "\n",
    "val_file_path = \"../feature/feature_mfcc_validation/\"\n",
    "val_class_names = os.listdir(val_file_path)\n",
    "val_class_names.sort()\n",
    "val_fname=[]\n",
    "X_TF_pred = []\n",
    "y_TF_pred = []\n",
    "\n",
    "for i in range(0,len(val_class_names)):\n",
    "    val_files=os.listdir(val_file_path+val_class_names[i])\n",
    "    val_files = [file for file in val_files if file.endswith(\".npy\")]\n",
    "    for j in range(0, len(val_files)):\n",
    "        val_fname.append(val_file_path+val_class_names[i]+\"/\"+val_files[j])\n",
    "        \n",
    "\n",
    "for i,fname in zip(range(0,len(val_fname)), val_fname):\n",
    "    tempX = np.load(val_fname[i])\n",
    "    x_validation_list.append(tempX)\n",
    "    y_validation_list.append(val_class_names.index(fname.split('/')[3]))\n",
    "    \n",
    "X_TF_pred = np.array(x_validation_list)\n",
    "y_TF_real_pred = np.array(y_validation_list)\n",
    "\n",
    "pred_out = model2.predict(X_TF_pred)\n",
    "\n",
    "real =[]\n",
    "pred_out_idex=[]\n",
    "\n",
    "for i,pred in zip(range(0, len(pred_out)), pred_out) :\n",
    "   \n",
    "    print(\"Predict :\",class_names[np.argmax(pred)], \", Real :\", val_class_names[y_TF_real_pred[i]])\n",
    "    real.append(class_names.index(val_class_names[y_TF_real_pred[i]]))\n",
    "    pred_out_idex.append(np.argmax(pred))\n",
    "    \n",
    "# get the accuracy\n",
    "print (accuracy_score(real, pred_out_idex))\n"
   ]
  },
  {
   "cell_type": "code",
   "execution_count": null,
   "metadata": {},
   "outputs": [],
   "source": []
  }
 ],
 "metadata": {
  "kernelspec": {
   "display_name": "Python(py36)",
   "language": "python",
   "name": "py36"
  },
  "language_info": {
   "codemirror_mode": {
    "name": "ipython",
    "version": 3
   },
   "file_extension": ".py",
   "mimetype": "text/x-python",
   "name": "python",
   "nbconvert_exporter": "python",
   "pygments_lexer": "ipython3",
   "version": "3.6.10"
  }
 },
 "nbformat": 4,
 "nbformat_minor": 2
}
