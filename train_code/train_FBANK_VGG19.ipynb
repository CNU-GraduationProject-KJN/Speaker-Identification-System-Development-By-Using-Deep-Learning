{
 "cells": [
  {
   "cell_type": "code",
   "execution_count": 1,
   "metadata": {},
   "outputs": [
    {
     "name": "stdout",
     "output_type": "stream",
     "text": [
      "2.2.0\n"
     ]
    }
   ],
   "source": [
    "import os\n",
    "import tensorflow as tf\n",
    "from tensorflow.keras.applications.vgg19 import VGG19\n",
    "from tensorflow.keras.preprocessing import image\n",
    "from tensorflow.keras.applications.vgg19 import preprocess_input\n",
    "from tensorflow.keras.models import Model\n",
    "import numpy as np\n",
    "\n",
    "\n",
    "print(tf.__version__)"
   ]
  },
  {
   "cell_type": "markdown",
   "metadata": {},
   "source": [
    "## Load VGG19 Model"
   ]
  },
  {
   "cell_type": "code",
   "execution_count": 2,
   "metadata": {},
   "outputs": [],
   "source": [
    "'''\n",
    "VGG19 parameters \n",
    "- include_top = Boolean, whether to include the 3-FC layers at the top of the network\n",
    "- weights = path to wieghts file, 'imagenet'(pre-training on ImageNet), None\n",
    "- input_tensor = optinal Keras tensor to use as image input for the model\n",
    "- input_shape = It should have 3 input channels \n",
    "- pooling = Optional pooling mode for feature extraction when include_top is False.\n",
    "- classes = optional number of classes to classify images into, \n",
    "        only to be specified if include_top is True, \n",
    "        and if no weights argument is specified.\n",
    "- classifier_activation = str or callable, Ignored unless include_top=True. ex) softmax\n",
    "\n",
    "VGG19 returns keras.Model instance\n",
    "'''\n",
    "base_model = VGG19(weights='imagenet')"
   ]
  },
  {
   "cell_type": "code",
   "execution_count": 3,
   "metadata": {
    "scrolled": true
   },
   "outputs": [],
   "source": [
    "model = Model(inputs=base_model.input, outputs=base_model.get_layer('flatten').output)"
   ]
  },
  {
   "cell_type": "code",
   "execution_count": 4,
   "metadata": {
    "collapsed": true
   },
   "outputs": [
    {
     "name": "stdout",
     "output_type": "stream",
     "text": [
      "Model: \"model\"\n",
      "_________________________________________________________________\n",
      "Layer (type)                 Output Shape              Param #   \n",
      "=================================================================\n",
      "input_1 (InputLayer)         [(None, 224, 224, 3)]     0         \n",
      "_________________________________________________________________\n",
      "block1_conv1 (Conv2D)        (None, 224, 224, 64)      1792      \n",
      "_________________________________________________________________\n",
      "block1_conv2 (Conv2D)        (None, 224, 224, 64)      36928     \n",
      "_________________________________________________________________\n",
      "block1_pool (MaxPooling2D)   (None, 112, 112, 64)      0         \n",
      "_________________________________________________________________\n",
      "block2_conv1 (Conv2D)        (None, 112, 112, 128)     73856     \n",
      "_________________________________________________________________\n",
      "block2_conv2 (Conv2D)        (None, 112, 112, 128)     147584    \n",
      "_________________________________________________________________\n",
      "block2_pool (MaxPooling2D)   (None, 56, 56, 128)       0         \n",
      "_________________________________________________________________\n",
      "block3_conv1 (Conv2D)        (None, 56, 56, 256)       295168    \n",
      "_________________________________________________________________\n",
      "block3_conv2 (Conv2D)        (None, 56, 56, 256)       590080    \n",
      "_________________________________________________________________\n",
      "block3_conv3 (Conv2D)        (None, 56, 56, 256)       590080    \n",
      "_________________________________________________________________\n",
      "block3_conv4 (Conv2D)        (None, 56, 56, 256)       590080    \n",
      "_________________________________________________________________\n",
      "block3_pool (MaxPooling2D)   (None, 28, 28, 256)       0         \n",
      "_________________________________________________________________\n",
      "block4_conv1 (Conv2D)        (None, 28, 28, 512)       1180160   \n",
      "_________________________________________________________________\n",
      "block4_conv2 (Conv2D)        (None, 28, 28, 512)       2359808   \n",
      "_________________________________________________________________\n",
      "block4_conv3 (Conv2D)        (None, 28, 28, 512)       2359808   \n",
      "_________________________________________________________________\n",
      "block4_conv4 (Conv2D)        (None, 28, 28, 512)       2359808   \n",
      "_________________________________________________________________\n",
      "block4_pool (MaxPooling2D)   (None, 14, 14, 512)       0         \n",
      "_________________________________________________________________\n",
      "block5_conv1 (Conv2D)        (None, 14, 14, 512)       2359808   \n",
      "_________________________________________________________________\n",
      "block5_conv2 (Conv2D)        (None, 14, 14, 512)       2359808   \n",
      "_________________________________________________________________\n",
      "block5_conv3 (Conv2D)        (None, 14, 14, 512)       2359808   \n",
      "_________________________________________________________________\n",
      "block5_conv4 (Conv2D)        (None, 14, 14, 512)       2359808   \n",
      "_________________________________________________________________\n",
      "block5_pool (MaxPooling2D)   (None, 7, 7, 512)         0         \n",
      "_________________________________________________________________\n",
      "flatten (Flatten)            (None, 25088)             0         \n",
      "=================================================================\n",
      "Total params: 20,024,384\n",
      "Trainable params: 20,024,384\n",
      "Non-trainable params: 0\n",
      "_________________________________________________________________\n"
     ]
    }
   ],
   "source": [
    "model.summary()"
   ]
  },
  {
   "cell_type": "code",
   "execution_count": 5,
   "metadata": {},
   "outputs": [],
   "source": [
    "def get_features(img_path):\n",
    "    img = image.load_img(img_path, target_size=(224, 224))\n",
    "    x = image.img_to_array(img)\n",
    "    x = np.expand_dims(x, axis=0)\n",
    "    x = preprocess_input(x)\n",
    "    flatten = model.predict(x)\n",
    "    return list(flatten[0])"
   ]
  },
  {
   "cell_type": "code",
   "execution_count": 6,
   "metadata": {
    "scrolled": true
   },
   "outputs": [
    {
     "name": "stdout",
     "output_type": "stream",
     "text": [
      "['kwakjuheon', 'kimjiho', 'songyejin', 'parksohui', 'moonyeonwoo', 'kangsubin', 'leekyeongeun', 'chochaeyeon', 'shindonghwan', 'kwakmirae', 'kimhyeryeong', 'chaeminjoon', 'kwakyiheon', 'leesumin', 'choihayoung', 'kangyeseo', 'kwakmihyang', 'eundano', 'limjinju', 'kwonyuna', 'kwoneunkyung', 'johaesu', 'leebyeongjin', 'hyeonsanghyeok', 'jennie', 'simseungmin', 'parksomi', 'yuminji', 'parksojin', 'kwonyeonwoo', 'ladakyeong', 'janghyomin', 'parkeunbi', 'parkdayeung', 'parkjongae', 'hansohee', 'janggyeoul', 'leewooju', 'nomyungok', 'heoyoonjung', 'heojaemin', 'kimsoyung', 'chuminha', 'kimhyeonsu', 'chaesonghwa', 'kwonyulim', 'kimminyoung', 'jueunhong', 'leejeongju', 'kimsubin', 'kimkihyeon', 'kimminji', 'myeongjaewon', 'kimjihyeon']\n"
     ]
    }
   ],
   "source": [
    "class_names = os.listdir(\"../feature/feature_fbank/\")\n",
    "class_names.sort()\n",
    "   \n",
    "forPrintList = [class_name.split('_')[1] for class_name in class_names]\n",
    "print(forPrintList)"
   ]
  },
  {
   "cell_type": "code",
   "execution_count": 7,
   "metadata": {
    "scrolled": true
   },
   "outputs": [
    {
     "name": "stdout",
     "output_type": "stream",
     "text": [
      "2017019740001\n",
      "2017019740001_kwakjuheon_4.npy 0\n",
      "2017019740001_kwakjuheon_1.npy 1\n",
      "2017019740001_kwakjuheon_0.npy 2\n",
      "2017019740001_kwakjuheon_2.npy 3\n",
      "2017019740001_kwakjuheon_3.npy 4\n",
      "2017019740002\n",
      "2017019740002_kimjiho_3.npy 0\n",
      "2017019740002_kimjiho_1.npy 1\n",
      "2017019740002_kimjiho_2.npy 2\n",
      "2017019740002_kimjiho_4.npy 3\n",
      "2017019740002_kimjiho_0.npy 4\n",
      "2017019740003\n",
      "2017019740003_songyejin_2.npy 0\n",
      "2017019740003_songyejin_3.npy 1\n",
      "2017019740003_songyejin_4.npy 2\n",
      "2017019740003_songyejin_1.npy 3\n",
      "2017019740003_songyejin_0.npy 4\n",
      "2017019740004\n",
      "2017019740004_parksohui_2.npy 0\n",
      "2017019740004_parksohui_1.npy 1\n",
      "2017019740004_parksohui_3.npy 2\n",
      "2017019740004_parksohui_0.npy 3\n",
      "2017019740004_parksohui_4.npy 4\n",
      "2017019740005\n",
      "2017019740005_moonyeonwoo_3.npy 0\n",
      "2017019740005_moonyeonwoo_2.npy 1\n",
      "2017019740005_moonyeonwoo_0.npy 2\n",
      "2017019740005_moonyeonwoo_4.npy 3\n",
      "2017019740005_moonyeonwoo_1.npy 4\n",
      "2017019740006\n",
      "2017019740006_kangsubin_3.npy 0\n",
      "2017019740006_kangsubin_1.npy 1\n",
      "2017019740006_kangsubin_4.npy 2\n",
      "2017019740006_kangsubin_2.npy 3\n",
      "2017019740006_kangsubin_0.npy 4\n",
      "2017019740007\n",
      "2017019740007_leekyeongeun_2.npy 0\n",
      "2017019740007_leekyeongeun_4.npy 1\n",
      "2017019740007_leekyeongeun_0.npy 2\n",
      "2017019740007_leekyeongeun_3.npy 3\n",
      "2017019740007_leekyeongeun_1.npy 4\n",
      "2017019740008\n",
      "2017019740008_chochaeyeon_4.npy 0\n",
      "2017019740008_chochaeyeon_3.npy 1\n",
      "2017019740008_chochaeyeon_2.npy 2\n",
      "2017019740008_chochaeyeon_1.npy 3\n",
      "2017019740008_chochaeyeon_0.npy 4\n",
      "2017019740009\n",
      "2017019740009_shindonghwan_1.npy 0\n",
      "2017019740009_shindonghwan_2.npy 1\n",
      "2017019740009_shindonghwan_4.npy 2\n",
      "2017019740009_shindonghwan_0.npy 3\n",
      "2017019740009_shindonghwan_3.npy 4\n",
      "2017019740010\n",
      "2017019740010_kwakmirae_4.npy 0\n",
      "2017019740010_kwakmirae_0.npy 1\n",
      "2017019740010_kwakmirae_1.npy 2\n",
      "2017019740010_kwakmirae_2.npy 3\n",
      "2017019740010_kwakmirae_3.npy 4\n",
      "2017019740011\n",
      "2017019740011_kimhyeryeong_1.npy 0\n",
      "2017019740011_kimhyeryeong_3.npy 1\n",
      "2017019740011_kimhyeryeong_0.npy 2\n",
      "2017019740011_kimhyeryeong_4.npy 3\n",
      "2017019740011_kimhyeryeong_2.npy 4\n",
      "2017019740012\n",
      "2017019740012_chaeminjoon_0.npy 0\n",
      "2017019740012_chaeminjoon_4.npy 1\n",
      "2017019740012_chaeminjoon_1.npy 2\n",
      "2017019740012_chaeminjoon_2.npy 3\n",
      "2017019740012_chaeminjoon_3.npy 4\n",
      "2017019740013\n",
      "2017019740013_kwakyiheon_0.npy 0\n",
      "2017019740013_kwakyiheon_1.npy 1\n",
      "2017019740013_kwakyiheon_4.npy 2\n",
      "2017019740013_kwakyiheon_2.npy 3\n",
      "2017019740013_kwakyiheon_3.npy 4\n",
      "2017019740014\n",
      "2017019740014_leesumin_0.npy 0\n",
      "2017019740014_leesumin_4.npy 1\n",
      "2017019740014_leesumin_2.npy 2\n",
      "2017019740014_leesumin_1.npy 3\n",
      "2017019740014_leesumin_3.npy 4\n",
      "2017019740015\n",
      "2017019740015_choihayoung_3.npy 0\n",
      "2017019740015_choihayoung_1.npy 1\n",
      "2017019740015_choihayoung_4.npy 2\n",
      "2017019740015_choihayoung_2.npy 3\n",
      "2017019740015_choihayoung_0.npy 4\n",
      "2017019740016\n",
      "2017019740016_kangyeseo_0.npy 0\n",
      "2017019740016_kangyeseo_3.npy 1\n",
      "2017019740016_kangyeseo_2.npy 2\n",
      "2017019740016_kangyeseo_4.npy 3\n",
      "2017019740016_kangyeseo_1.npy 4\n",
      "2017019740017\n",
      "2017019740017_kwakmihyang_3.npy 0\n",
      "2017019740017_kwakmihyang_2.npy 1\n",
      "2017019740017_kwakmihyang_1.npy 2\n",
      "2017019740017_kwakmihyang_4.npy 3\n",
      "2017019740017_kwakmihyang_0.npy 4\n",
      "2017019740018\n",
      "2017019740018_eundano_0.npy 0\n",
      "2017019740018_eundano_4.npy 1\n",
      "2017019740018_eundano_1.npy 2\n",
      "2017019740018_eundano_3.npy 3\n",
      "2017019740018_eundano_2.npy 4\n",
      "2017019740019\n",
      "2017019740019_limjinju_1.npy 0\n",
      "2017019740019_limjinju_3.npy 1\n",
      "2017019740019_limjinju_4.npy 2\n",
      "2017019740019_limjinju_2.npy 3\n",
      "2017019740019_limjinju_0.npy 4\n",
      "2017019770001\n",
      "2017019770001_kwonyuna_1.npy 0\n",
      "2017019770001_kwonyuna_0.npy 1\n",
      "2017019770001_kwonyuna_3.npy 2\n",
      "2017019770001_kwonyuna_2.npy 3\n",
      "2017019770001_kwonyuna_4.npy 4\n",
      "2017019770002\n",
      "2017019770002_kwoneunkyung_3.npy 0\n",
      "2017019770002_kwoneunkyung_2.npy 1\n",
      "2017019770002_kwoneunkyung_0.npy 2\n",
      "2017019770002_kwoneunkyung_1.npy 3\n",
      "2017019770002_kwoneunkyung_4.npy 4\n",
      "2017019770003\n",
      "2017019770003_johaesu_4.npy 0\n",
      "2017019770003_johaesu_0.npy 1\n",
      "2017019770003_johaesu_1.npy 2\n",
      "2017019770003_johaesu_2.npy 3\n",
      "2017019770003_johaesu_3.npy 4\n",
      "2017019770004\n",
      "2017019770004_leebyeongjin_4.npy 0\n",
      "2017019770004_leebyeongjin_3.npy 1\n",
      "2017019770004_leebyeongjin_0.npy 2\n",
      "2017019770004_leebyeongjin_2.npy 3\n",
      "2017019770004_leebyeongjin_1.npy 4\n",
      "2017019770005\n",
      "2017019770005_hyeonsanghyeok_1.npy 0\n",
      "2017019770005_hyeonsanghyeok_2.npy 1\n",
      "2017019770005_hyeonsanghyeok_4.npy 2\n",
      "2017019770005_hyeonsanghyeok_0.npy 3\n",
      "2017019770005_hyeonsanghyeok_3.npy 4\n",
      "2017019770006\n",
      "2017019770006_jennie_4.npy 0\n",
      "2017019770006_jennie_0.npy 1\n",
      "2017019770006_jennie_1.npy 2\n",
      "2017019770006_jennie_2.npy 3\n",
      "2017019770006_jennie_3.npy 4\n",
      "2017019770007\n",
      "2017019770007_simseungmin_3.npy 0\n",
      "2017019770007_simseungmin_2.npy 1\n",
      "2017019770007_simseungmin_1.npy 2\n",
      "2017019770007_simseungmin_4.npy 3\n",
      "2017019770007_simseungmin_0.npy 4\n",
      "2017019770008\n",
      "2017019770008_parksomi_2.npy 0\n",
      "2017019770008_parksomi_1.npy 1\n",
      "2017019770008_parksomi_3.npy 2\n",
      "2017019770008_parksomi_0.npy 3\n",
      "2017019770008_parksomi_4.npy 4\n",
      "2017019770009\n",
      "2017019770009_yuminji_3.npy 0\n",
      "2017019770009_yuminji_4.npy 1\n",
      "2017019770009_yuminji_0.npy 2\n",
      "2017019770009_yuminji_1.npy 3\n",
      "2017019770009_yuminji_2.npy 4\n",
      "2017019770010\n",
      "2017019770010_parksojin_1.npy 0\n",
      "2017019770010_parksojin_4.npy 1\n",
      "2017019770010_parksojin_0.npy 2\n",
      "2017019770010_parksojin_3.npy 3\n",
      "2017019770010_parksojin_2.npy 4\n",
      "2017019770011\n",
      "2017019770011_kwonyeonwoo_0.npy 0\n",
      "2017019770011_kwonyeonwoo_2.npy 1\n",
      "2017019770011_kwonyeonwoo_3.npy 2\n",
      "2017019770011_kwonyeonwoo_4.npy 3\n",
      "2017019770011_kwonyeonwoo_1.npy 4\n",
      "2017019770012\n",
      "2017019770012_ladakyeong_1.npy 0\n",
      "2017019770012_ladakyeong_4.npy 1\n",
      "2017019770012_ladakyeong_3.npy 2\n",
      "2017019770012_ladakyeong_0.npy 3\n",
      "2017019770012_ladakyeong_2.npy 4\n",
      "2017019770013\n",
      "2017019770013_janghyomin_2.npy 0\n",
      "2017019770013_janghyomin_3.npy 1\n",
      "2017019770013_janghyomin_0.npy 2\n",
      "2017019770013_janghyomin_1.npy 3\n",
      "2017019770013_janghyomin_4.npy 4\n",
      "2017019770014\n",
      "2017019770014_parkeunbi_3.npy 0\n",
      "2017019770014_parkeunbi_2.npy 1\n",
      "2017019770014_parkeunbi_0.npy 2\n",
      "2017019770014_parkeunbi_1.npy 3\n",
      "2017019770014_parkeunbi_4.npy 4\n",
      "2017019770015\n",
      "2017019770015_parkdayeung_4.npy 0\n",
      "2017019770015_parkdayeung_2.npy 1\n",
      "2017019770015_parkdayeung_3.npy 2\n",
      "2017019770015_parkdayeung_1.npy 3\n",
      "2017019770015_parkdayeung_0.npy 4\n",
      "2017019770016\n",
      "2017019770016_parkjongae_4.npy 0\n",
      "2017019770016_parkjongae_2.npy 1\n",
      "2017019770016_parkjongae_3.npy 2\n",
      "2017019770016_parkjongae_0.npy 3\n",
      "2017019770016_parkjongae_1.npy 4\n",
      "2017019770017\n",
      "2017019770017_hansohee_3.npy 0\n",
      "2017019770017_hansohee_1.npy 1\n",
      "2017019770017_hansohee_0.npy 2\n",
      "2017019770017_hansohee_2.npy 3\n",
      "2017019770017_hansohee_4.npy 4\n",
      "2017019770018\n",
      "2017019770018_janggyeoul_4.npy 0\n",
      "2017019770018_janggyeoul_3.npy 1\n",
      "2017019770018_janggyeoul_2.npy 2\n",
      "2017019770018_janggyeoul_1.npy 3\n",
      "2017019770018_janggyeoul_0.npy 4\n",
      "2017019770019\n",
      "2017019770019_leewooju_3.npy 0\n",
      "2017019770019_leewooju_4.npy 1\n",
      "2017019770019_leewooju_1.npy 2\n",
      "2017019770019_leewooju_2.npy 3\n",
      "2017019770019_leewooju_0.npy 4\n",
      "2017019770020\n",
      "2017019770020_nomyungok_4.npy 0\n",
      "2017019770020_nomyungok_1.npy 1\n",
      "2017019770020_nomyungok_0.npy 2\n",
      "2017019770020_nomyungok_2.npy 3\n",
      "2017019770020_nomyungok_3.npy 4\n",
      "2017019770021\n",
      "2017019770021_heoyoonjung_4.npy 0\n",
      "2017019770021_heoyoonjung_2.npy 1\n",
      "2017019770021_heoyoonjung_3.npy 2\n",
      "2017019770021_heoyoonjung_1.npy 3\n",
      "2017019770021_heoyoonjung_0.npy 4\n",
      "2017019770022\n",
      "2017019770022_heojaemin_4.npy 0\n",
      "2017019770022_heojaemin_1.npy 1\n",
      "2017019770022_heojaemin_2.npy 2\n",
      "2017019770022_heojaemin_0.npy 3\n",
      "2017019770022_heojaemin_3.npy 4\n",
      "2017019770023\n",
      "2017019770023_kimsoyung_4.npy 0\n",
      "2017019770023_kimsoyung_0.npy 1\n",
      "2017019770023_kimsoyung_1.npy 2\n",
      "2017019770023_kimsoyung_2.npy 3\n",
      "2017019770023_kimsoyung_3.npy 4\n",
      "2017019770024\n",
      "2017019770024_chuminha_0.npy 0\n",
      "2017019770024_chuminha_4.npy 1\n",
      "2017019770024_chuminha_2.npy 2\n",
      "2017019770024_chuminha_3.npy 3\n",
      "2017019770024_chuminha_1.npy 4\n",
      "2017019770025\n",
      "2017019770025_kimhyeonsu_1.npy 0\n",
      "2017019770025_kimhyeonsu_2.npy 1\n",
      "2017019770025_kimhyeonsu_4.npy 2\n",
      "2017019770025_kimhyeonsu_0.npy 3\n",
      "2017019770025_kimhyeonsu_3.npy 4\n",
      "2017019770026\n",
      "2017019770026_chaesonghwa_2.npy 0\n",
      "2017019770026_chaesonghwa_0.npy 1\n",
      "2017019770026_chaesonghwa_1.npy 2\n",
      "2017019770026_chaesonghwa_4.npy 3\n",
      "2017019770026_chaesonghwa_3.npy 4\n",
      "2017019770027\n",
      "2017019770027_kwonyulim_2.npy 0\n",
      "2017019770027_kwonyulim_3.npy 1\n",
      "2017019770027_kwonyulim_4.npy 2\n",
      "2017019770027_kwonyulim_1.npy 3\n",
      "2017019770027_kwonyulim_0.npy 4\n",
      "2017019770028\n",
      "2017019770028_kimminyoung_3.npy 0\n",
      "2017019770028_kimminyoung_2.npy 1\n",
      "2017019770028_kimminyoung_4.npy 2\n",
      "2017019770028_kimminyoung_0.npy 3\n",
      "2017019770028_kimminyoung_1.npy 4\n",
      "2017019770029\n",
      "2017019770029_jueunhong_4.npy 0\n",
      "2017019770029_jueunhong_0.npy 1\n",
      "2017019770029_jueunhong_3.npy 2\n",
      "2017019770029_jueunhong_1.npy 3\n",
      "2017019770029_jueunhong_2.npy 4\n",
      "2017019770030\n",
      "2017019770030_leejeongju_1.npy 0\n",
      "2017019770030_leejeongju_0.npy 1\n",
      "2017019770030_leejeongju_2.npy 2\n",
      "2017019770030_leejeongju_4.npy 3\n",
      "2017019770030_leejeongju_3.npy 4\n",
      "2017019880001\n",
      "2017019880001_kimsubin_1.npy 0\n",
      "2017019880001_kimsubin_4.npy 1\n",
      "2017019880001_kimsubin_3.npy 2\n",
      "2017019880001_kimsubin_0.npy 3\n",
      "2017019880001_kimsubin_2.npy 4\n",
      "2017019880002\n",
      "2017019880002_kimkihyeon_0.npy 0\n",
      "2017019880002_kimkihyeon_3.npy 1\n",
      "2017019880002_kimkihyeon_4.npy 2\n",
      "2017019880002_kimkihyeon_2.npy 3\n",
      "2017019880002_kimkihyeon_1.npy 4\n",
      "2017019880003\n",
      "2017019880003_kimminji_1.npy 0\n",
      "2017019880003_kimminji_4.npy 1\n",
      "2017019880003_kimminji_2.npy 2\n",
      "2017019880003_kimminji_0.npy 3\n",
      "2017019880003_kimminji_3.npy 4\n",
      "2017019880004\n",
      "2017019880004_myeongjaewon_2.npy 0\n",
      "2017019880004_myeongjaewon_1.npy 1\n",
      "2017019880004_myeongjaewon_0.npy 2\n",
      "2017019880004_myeongjaewon_4.npy 3\n",
      "2017019880004_myeongjaewon_3.npy 4\n",
      "2017019880005\n",
      "2017019880005_kimjihyeon_1.npy 0\n",
      "2017019880005_kimjihyeon_0.npy 1\n",
      "2017019880005_kimjihyeon_4.npy 2\n",
      "2017019880005_kimjihyeon_3.npy 3\n",
      "2017019880005_kimjihyeon_2.npy 4\n",
      "<class 'numpy.ndarray'>\n",
      "[0, 0, 0, 0, 0, 1, 1, 1, 1, 1, 2, 2, 2, 2, 2, 3, 3, 3, 3, 3, 4, 4, 4, 4, 4, 5, 5, 5, 5, 5, 6, 6, 6, 6, 6, 7, 7, 7, 7, 7, 8, 8, 8, 8, 8, 9, 9, 9, 9, 9, 10, 10, 10, 10, 10, 11, 11, 11, 11, 11, 12, 12, 12, 12, 12, 13, 13, 13, 13, 13, 14, 14, 14, 14, 14, 15, 15, 15, 15, 15, 16, 16, 16, 16, 16, 17, 17, 17, 17, 17, 18, 18, 18, 18, 18, 19, 19, 19, 19, 19, 20, 20, 20, 20, 20, 21, 21, 21, 21, 21, 22, 22, 22, 22, 22, 23, 23, 23, 23, 23, 24, 24, 24, 24, 24, 25, 25, 25, 25, 25, 26, 26, 26, 26, 26, 27, 27, 27, 27, 27, 28, 28, 28, 28, 28, 29, 29, 29, 29, 29, 30, 30, 30, 30, 30, 31, 31, 31, 31, 31, 32, 32, 32, 32, 32, 33, 33, 33, 33, 33, 34, 34, 34, 34, 34, 35, 35, 35, 35, 35, 36, 36, 36, 36, 36, 37, 37, 37, 37, 37, 38, 38, 38, 38, 38, 39, 39, 39, 39, 39, 40, 40, 40, 40, 40, 41, 41, 41, 41, 41, 42, 42, 42, 42, 42, 43, 43, 43, 43, 43, 44, 44, 44, 44, 44, 45, 45, 45, 45, 45, 46, 46, 46, 46, 46, 47, 47, 47, 47, 47, 48, 48, 48, 48, 48, 49, 49, 49, 49, 49, 50, 50, 50, 50, 50, 51, 51, 51, 51, 51, 52, 52, 52, 52, 52, 53, 53, 53, 53, 53]\n"
     ]
    }
   ],
   "source": [
    "x_list = []\n",
    "y_list = []\n",
    "fname_list =[]\n",
    "for i in range(0,len(class_names)):\n",
    "    files=os.listdir(\"../feature/feature_fbank/\"+class_names[i])\n",
    "    files = [file for file in files if file.endswith(\".npy\")]\n",
    "    print(class_names[i].split('_')[0])\n",
    "\n",
    "    for j in range(0, len(files)):\n",
    "        print(files[j], j)\n",
    "        x = np.load(\"../feature/feature_fbank/\"+class_names[i]+\"/\"+files[j])\n",
    "        fname_list.append(\"../feature/feature_fbank/\"+class_names[i]+\"/\"+files[j])\n",
    "        x_list.append(x)\n",
    "        y_list.append(i)\n",
    "print(type(x))\n",
    "print(y_list)\n",
    "# print(x_list)"
   ]
  },
  {
   "cell_type": "markdown",
   "metadata": {},
   "source": [
    "### Convert Feature Numpy Array to PNG image"
   ]
  },
  {
   "cell_type": "code",
   "execution_count": 8,
   "metadata": {
    "scrolled": true
   },
   "outputs": [],
   "source": [
    "import imageio\n",
    "import os\n",
    "def npy_2_png (cname,fname):\n",
    "    if not os.path.exists(\"../feature/feature_fbank_png/\"):\n",
    "        os.makedirs(\"../feature/feature_fbank_png/\")\n",
    "    if not os.path.exists(\"../feature/feature_fbank_png/\"+cname) :\n",
    "        os.makedirs(\"../feature/feature_fbank_png/\"+cname)\n",
    "    \n",
    "    array = np.load(\"../feature/feature_fbank/\"+cname+\"/\"+fname)\n",
    "    \n",
    "    array = array - np.min(array)\n",
    "    array = array / np.max(array)\n",
    "    array = array * 255.0\n",
    "    \n",
    "    i = fname.split('_')[2].split('.')[0]\n",
    "    if os.path.exists(\"../feature/feature_fbank_png/\"+cname+\"/{}.png\".format(i)):\n",
    "        os.remove(\"../feature/feature_fbank_png/\"+cname+\"/{}.png\".format(i))\n",
    "        \n",
    "    imageio.imwrite(\"../feature/feature_fbank_png/\"+cname+\"/{}.png\".format(i),array)\n",
    "    return \"../feature/feature_fbank_png/\"+cname+\"/{}.png\".format(i)"
   ]
  },
  {
   "cell_type": "code",
   "execution_count": 9,
   "metadata": {
    "scrolled": true
   },
   "outputs": [
    {
     "name": "stderr",
     "output_type": "stream",
     "text": [
      "Lossy conversion from float32 to uint8. Range [0.0, 255.0]. Convert image to uint8 prior to saving to suppress this warning.\n"
     ]
    },
    {
     "name": "stdout",
     "output_type": "stream",
     "text": [
      "0 ../feature/feature_fbank/2017019740001_kwakjuheon/2017019740001_kwakjuheon_4.npy\n"
     ]
    },
    {
     "name": "stderr",
     "output_type": "stream",
     "text": [
      "Lossy conversion from float32 to uint8. Range [0.0, 255.0]. Convert image to uint8 prior to saving to suppress this warning.\n",
      "Lossy conversion from float32 to uint8. Range [0.0, 255.0]. Convert image to uint8 prior to saving to suppress this warning.\n",
      "Lossy conversion from float32 to uint8. Range [0.0, 255.0]. Convert image to uint8 prior to saving to suppress this warning.\n"
     ]
    },
    {
     "name": "stdout",
     "output_type": "stream",
     "text": [
      "1 ../feature/feature_fbank/2017019740001_kwakjuheon/2017019740001_kwakjuheon_1.npy\n",
      "2 ../feature/feature_fbank/2017019740001_kwakjuheon/2017019740001_kwakjuheon_0.npy\n",
      "3 ../feature/feature_fbank/2017019740001_kwakjuheon/2017019740001_kwakjuheon_2.npy\n"
     ]
    },
    {
     "name": "stderr",
     "output_type": "stream",
     "text": [
      "Lossy conversion from float32 to uint8. Range [0.0, 255.0]. Convert image to uint8 prior to saving to suppress this warning.\n",
      "Lossy conversion from float32 to uint8. Range [0.0, 255.0]. Convert image to uint8 prior to saving to suppress this warning.\n",
      "Lossy conversion from float32 to uint8. Range [0.0, 255.0]. Convert image to uint8 prior to saving to suppress this warning.\n"
     ]
    },
    {
     "name": "stdout",
     "output_type": "stream",
     "text": [
      "4 ../feature/feature_fbank/2017019740001_kwakjuheon/2017019740001_kwakjuheon_3.npy\n",
      "5 ../feature/feature_fbank/2017019740002_kimjiho/2017019740002_kimjiho_3.npy\n",
      "6 ../feature/feature_fbank/2017019740002_kimjiho/2017019740002_kimjiho_1.npy\n"
     ]
    },
    {
     "name": "stderr",
     "output_type": "stream",
     "text": [
      "Lossy conversion from float32 to uint8. Range [0.0, 255.0]. Convert image to uint8 prior to saving to suppress this warning.\n",
      "Lossy conversion from float32 to uint8. Range [0.0, 255.0]. Convert image to uint8 prior to saving to suppress this warning.\n",
      "Lossy conversion from float32 to uint8. Range [0.0, 255.0]. Convert image to uint8 prior to saving to suppress this warning.\n"
     ]
    },
    {
     "name": "stdout",
     "output_type": "stream",
     "text": [
      "7 ../feature/feature_fbank/2017019740002_kimjiho/2017019740002_kimjiho_2.npy\n",
      "8 ../feature/feature_fbank/2017019740002_kimjiho/2017019740002_kimjiho_4.npy\n",
      "9 ../feature/feature_fbank/2017019740002_kimjiho/2017019740002_kimjiho_0.npy\n"
     ]
    },
    {
     "name": "stderr",
     "output_type": "stream",
     "text": [
      "Lossy conversion from float32 to uint8. Range [0.0, 255.0]. Convert image to uint8 prior to saving to suppress this warning.\n",
      "Lossy conversion from float32 to uint8. Range [0.0, 255.0]. Convert image to uint8 prior to saving to suppress this warning.\n",
      "Lossy conversion from float32 to uint8. Range [0.0, 255.0]. Convert image to uint8 prior to saving to suppress this warning.\n"
     ]
    },
    {
     "name": "stdout",
     "output_type": "stream",
     "text": [
      "10 ../feature/feature_fbank/2017019740003_songyejin/2017019740003_songyejin_2.npy\n",
      "11 ../feature/feature_fbank/2017019740003_songyejin/2017019740003_songyejin_3.npy\n",
      "12 ../feature/feature_fbank/2017019740003_songyejin/2017019740003_songyejin_4.npy\n"
     ]
    },
    {
     "name": "stderr",
     "output_type": "stream",
     "text": [
      "Lossy conversion from float32 to uint8. Range [0.0, 255.0]. Convert image to uint8 prior to saving to suppress this warning.\n",
      "Lossy conversion from float32 to uint8. Range [0.0, 255.0]. Convert image to uint8 prior to saving to suppress this warning.\n",
      "Lossy conversion from float32 to uint8. Range [0.0, 255.0]. Convert image to uint8 prior to saving to suppress this warning.\n"
     ]
    },
    {
     "name": "stdout",
     "output_type": "stream",
     "text": [
      "13 ../feature/feature_fbank/2017019740003_songyejin/2017019740003_songyejin_1.npy\n",
      "14 ../feature/feature_fbank/2017019740003_songyejin/2017019740003_songyejin_0.npy\n",
      "15 ../feature/feature_fbank/2017019740004_parksohui/2017019740004_parksohui_2.npy\n"
     ]
    },
    {
     "name": "stderr",
     "output_type": "stream",
     "text": [
      "Lossy conversion from float32 to uint8. Range [0.0, 255.0]. Convert image to uint8 prior to saving to suppress this warning.\n",
      "Lossy conversion from float32 to uint8. Range [0.0, 255.0]. Convert image to uint8 prior to saving to suppress this warning.\n",
      "Lossy conversion from float32 to uint8. Range [0.0, 255.0]. Convert image to uint8 prior to saving to suppress this warning.\n"
     ]
    },
    {
     "name": "stdout",
     "output_type": "stream",
     "text": [
      "16 ../feature/feature_fbank/2017019740004_parksohui/2017019740004_parksohui_1.npy\n",
      "17 ../feature/feature_fbank/2017019740004_parksohui/2017019740004_parksohui_3.npy\n",
      "18 ../feature/feature_fbank/2017019740004_parksohui/2017019740004_parksohui_0.npy\n"
     ]
    },
    {
     "name": "stderr",
     "output_type": "stream",
     "text": [
      "Lossy conversion from float32 to uint8. Range [0.0, 255.0]. Convert image to uint8 prior to saving to suppress this warning.\n",
      "Lossy conversion from float32 to uint8. Range [0.0, 255.0]. Convert image to uint8 prior to saving to suppress this warning.\n",
      "Lossy conversion from float32 to uint8. Range [0.0, 255.0]. Convert image to uint8 prior to saving to suppress this warning.\n"
     ]
    },
    {
     "name": "stdout",
     "output_type": "stream",
     "text": [
      "19 ../feature/feature_fbank/2017019740004_parksohui/2017019740004_parksohui_4.npy\n",
      "20 ../feature/feature_fbank/2017019740005_moonyeonwoo/2017019740005_moonyeonwoo_3.npy\n",
      "21 ../feature/feature_fbank/2017019740005_moonyeonwoo/2017019740005_moonyeonwoo_2.npy\n"
     ]
    },
    {
     "name": "stderr",
     "output_type": "stream",
     "text": [
      "Lossy conversion from float32 to uint8. Range [0.0, 255.0]. Convert image to uint8 prior to saving to suppress this warning.\n",
      "Lossy conversion from float32 to uint8. Range [0.0, 255.0]. Convert image to uint8 prior to saving to suppress this warning.\n",
      "Lossy conversion from float32 to uint8. Range [0.0, 255.0]. Convert image to uint8 prior to saving to suppress this warning.\n"
     ]
    },
    {
     "name": "stdout",
     "output_type": "stream",
     "text": [
      "22 ../feature/feature_fbank/2017019740005_moonyeonwoo/2017019740005_moonyeonwoo_0.npy\n",
      "23 ../feature/feature_fbank/2017019740005_moonyeonwoo/2017019740005_moonyeonwoo_4.npy\n",
      "24 ../feature/feature_fbank/2017019740005_moonyeonwoo/2017019740005_moonyeonwoo_1.npy\n"
     ]
    },
    {
     "name": "stderr",
     "output_type": "stream",
     "text": [
      "Lossy conversion from float32 to uint8. Range [0.0, 255.0]. Convert image to uint8 prior to saving to suppress this warning.\n",
      "Lossy conversion from float32 to uint8. Range [0.0, 255.0]. Convert image to uint8 prior to saving to suppress this warning.\n",
      "Lossy conversion from float32 to uint8. Range [0.0, 255.0]. Convert image to uint8 prior to saving to suppress this warning.\n"
     ]
    },
    {
     "name": "stdout",
     "output_type": "stream",
     "text": [
      "25 ../feature/feature_fbank/2017019740006_kangsubin/2017019740006_kangsubin_3.npy\n",
      "26 ../feature/feature_fbank/2017019740006_kangsubin/2017019740006_kangsubin_1.npy\n",
      "27 ../feature/feature_fbank/2017019740006_kangsubin/2017019740006_kangsubin_4.npy\n"
     ]
    },
    {
     "name": "stderr",
     "output_type": "stream",
     "text": [
      "Lossy conversion from float32 to uint8. Range [0.0, 255.0]. Convert image to uint8 prior to saving to suppress this warning.\n",
      "Lossy conversion from float32 to uint8. Range [0.0, 255.0]. Convert image to uint8 prior to saving to suppress this warning.\n",
      "Lossy conversion from float32 to uint8. Range [0.0, 255.0]. Convert image to uint8 prior to saving to suppress this warning.\n"
     ]
    },
    {
     "name": "stdout",
     "output_type": "stream",
     "text": [
      "28 ../feature/feature_fbank/2017019740006_kangsubin/2017019740006_kangsubin_2.npy\n",
      "29 ../feature/feature_fbank/2017019740006_kangsubin/2017019740006_kangsubin_0.npy\n",
      "30 ../feature/feature_fbank/2017019740007_leekyeongeun/2017019740007_leekyeongeun_2.npy\n"
     ]
    },
    {
     "name": "stderr",
     "output_type": "stream",
     "text": [
      "Lossy conversion from float32 to uint8. Range [0.0, 255.0]. Convert image to uint8 prior to saving to suppress this warning.\n",
      "Lossy conversion from float32 to uint8. Range [0.0, 255.0]. Convert image to uint8 prior to saving to suppress this warning.\n",
      "Lossy conversion from float32 to uint8. Range [0.0, 255.0]. Convert image to uint8 prior to saving to suppress this warning.\n"
     ]
    },
    {
     "name": "stdout",
     "output_type": "stream",
     "text": [
      "31 ../feature/feature_fbank/2017019740007_leekyeongeun/2017019740007_leekyeongeun_4.npy\n",
      "32 ../feature/feature_fbank/2017019740007_leekyeongeun/2017019740007_leekyeongeun_0.npy\n",
      "33 ../feature/feature_fbank/2017019740007_leekyeongeun/2017019740007_leekyeongeun_3.npy\n"
     ]
    },
    {
     "name": "stderr",
     "output_type": "stream",
     "text": [
      "Lossy conversion from float32 to uint8. Range [0.0, 255.0]. Convert image to uint8 prior to saving to suppress this warning.\n",
      "Lossy conversion from float32 to uint8. Range [0.0, 255.0]. Convert image to uint8 prior to saving to suppress this warning.\n",
      "Lossy conversion from float32 to uint8. Range [0.0, 255.0]. Convert image to uint8 prior to saving to suppress this warning.\n"
     ]
    },
    {
     "name": "stdout",
     "output_type": "stream",
     "text": [
      "34 ../feature/feature_fbank/2017019740007_leekyeongeun/2017019740007_leekyeongeun_1.npy\n",
      "35 ../feature/feature_fbank/2017019740008_chochaeyeon/2017019740008_chochaeyeon_4.npy\n",
      "36 ../feature/feature_fbank/2017019740008_chochaeyeon/2017019740008_chochaeyeon_3.npy\n"
     ]
    },
    {
     "name": "stderr",
     "output_type": "stream",
     "text": [
      "Lossy conversion from float32 to uint8. Range [0.0, 255.0]. Convert image to uint8 prior to saving to suppress this warning.\n",
      "Lossy conversion from float32 to uint8. Range [0.0, 255.0]. Convert image to uint8 prior to saving to suppress this warning.\n",
      "Lossy conversion from float32 to uint8. Range [0.0, 255.0]. Convert image to uint8 prior to saving to suppress this warning.\n"
     ]
    },
    {
     "name": "stdout",
     "output_type": "stream",
     "text": [
      "37 ../feature/feature_fbank/2017019740008_chochaeyeon/2017019740008_chochaeyeon_2.npy\n",
      "38 ../feature/feature_fbank/2017019740008_chochaeyeon/2017019740008_chochaeyeon_1.npy\n",
      "39 ../feature/feature_fbank/2017019740008_chochaeyeon/2017019740008_chochaeyeon_0.npy\n"
     ]
    },
    {
     "name": "stderr",
     "output_type": "stream",
     "text": [
      "Lossy conversion from float32 to uint8. Range [0.0, 255.0]. Convert image to uint8 prior to saving to suppress this warning.\n",
      "Lossy conversion from float32 to uint8. Range [0.0, 255.0]. Convert image to uint8 prior to saving to suppress this warning.\n",
      "Lossy conversion from float32 to uint8. Range [0.0, 255.0]. Convert image to uint8 prior to saving to suppress this warning.\n"
     ]
    },
    {
     "name": "stdout",
     "output_type": "stream",
     "text": [
      "40 ../feature/feature_fbank/2017019740009_shindonghwan/2017019740009_shindonghwan_1.npy\n",
      "41 ../feature/feature_fbank/2017019740009_shindonghwan/2017019740009_shindonghwan_2.npy\n",
      "42 ../feature/feature_fbank/2017019740009_shindonghwan/2017019740009_shindonghwan_4.npy\n"
     ]
    },
    {
     "name": "stderr",
     "output_type": "stream",
     "text": [
      "Lossy conversion from float32 to uint8. Range [0.0, 255.0]. Convert image to uint8 prior to saving to suppress this warning.\n",
      "Lossy conversion from float32 to uint8. Range [0.0, 255.0]. Convert image to uint8 prior to saving to suppress this warning.\n",
      "Lossy conversion from float32 to uint8. Range [0.0, 255.0]. Convert image to uint8 prior to saving to suppress this warning.\n"
     ]
    },
    {
     "name": "stdout",
     "output_type": "stream",
     "text": [
      "43 ../feature/feature_fbank/2017019740009_shindonghwan/2017019740009_shindonghwan_0.npy\n",
      "44 ../feature/feature_fbank/2017019740009_shindonghwan/2017019740009_shindonghwan_3.npy\n",
      "45 ../feature/feature_fbank/2017019740010_kwakmirae/2017019740010_kwakmirae_4.npy\n"
     ]
    },
    {
     "name": "stderr",
     "output_type": "stream",
     "text": [
      "Lossy conversion from float32 to uint8. Range [0.0, 255.0]. Convert image to uint8 prior to saving to suppress this warning.\n",
      "Lossy conversion from float32 to uint8. Range [0.0, 255.0]. Convert image to uint8 prior to saving to suppress this warning.\n",
      "Lossy conversion from float32 to uint8. Range [0.0, 255.0]. Convert image to uint8 prior to saving to suppress this warning.\n"
     ]
    },
    {
     "name": "stdout",
     "output_type": "stream",
     "text": [
      "46 ../feature/feature_fbank/2017019740010_kwakmirae/2017019740010_kwakmirae_0.npy\n",
      "47 ../feature/feature_fbank/2017019740010_kwakmirae/2017019740010_kwakmirae_1.npy\n",
      "48 ../feature/feature_fbank/2017019740010_kwakmirae/2017019740010_kwakmirae_2.npy\n"
     ]
    },
    {
     "name": "stderr",
     "output_type": "stream",
     "text": [
      "Lossy conversion from float32 to uint8. Range [0.0, 255.0]. Convert image to uint8 prior to saving to suppress this warning.\n",
      "Lossy conversion from float32 to uint8. Range [0.0, 255.0]. Convert image to uint8 prior to saving to suppress this warning.\n",
      "Lossy conversion from float32 to uint8. Range [0.0, 255.0]. Convert image to uint8 prior to saving to suppress this warning.\n"
     ]
    },
    {
     "name": "stdout",
     "output_type": "stream",
     "text": [
      "49 ../feature/feature_fbank/2017019740010_kwakmirae/2017019740010_kwakmirae_3.npy\n",
      "50 ../feature/feature_fbank/2017019740011_kimhyeryeong/2017019740011_kimhyeryeong_1.npy\n",
      "51 ../feature/feature_fbank/2017019740011_kimhyeryeong/2017019740011_kimhyeryeong_3.npy\n"
     ]
    },
    {
     "name": "stderr",
     "output_type": "stream",
     "text": [
      "Lossy conversion from float32 to uint8. Range [0.0, 255.0]. Convert image to uint8 prior to saving to suppress this warning.\n",
      "Lossy conversion from float32 to uint8. Range [0.0, 255.0]. Convert image to uint8 prior to saving to suppress this warning.\n",
      "Lossy conversion from float32 to uint8. Range [0.0, 255.0]. Convert image to uint8 prior to saving to suppress this warning.\n"
     ]
    },
    {
     "name": "stdout",
     "output_type": "stream",
     "text": [
      "52 ../feature/feature_fbank/2017019740011_kimhyeryeong/2017019740011_kimhyeryeong_0.npy\n",
      "53 ../feature/feature_fbank/2017019740011_kimhyeryeong/2017019740011_kimhyeryeong_4.npy\n",
      "54 ../feature/feature_fbank/2017019740011_kimhyeryeong/2017019740011_kimhyeryeong_2.npy\n"
     ]
    },
    {
     "name": "stderr",
     "output_type": "stream",
     "text": [
      "Lossy conversion from float32 to uint8. Range [0.0, 255.0]. Convert image to uint8 prior to saving to suppress this warning.\n",
      "Lossy conversion from float32 to uint8. Range [0.0, 255.0]. Convert image to uint8 prior to saving to suppress this warning.\n",
      "Lossy conversion from float32 to uint8. Range [0.0, 255.0]. Convert image to uint8 prior to saving to suppress this warning.\n"
     ]
    },
    {
     "name": "stdout",
     "output_type": "stream",
     "text": [
      "55 ../feature/feature_fbank/2017019740012_chaeminjoon/2017019740012_chaeminjoon_0.npy\n",
      "56 ../feature/feature_fbank/2017019740012_chaeminjoon/2017019740012_chaeminjoon_4.npy\n",
      "57 ../feature/feature_fbank/2017019740012_chaeminjoon/2017019740012_chaeminjoon_1.npy\n"
     ]
    },
    {
     "name": "stderr",
     "output_type": "stream",
     "text": [
      "Lossy conversion from float32 to uint8. Range [0.0, 255.0]. Convert image to uint8 prior to saving to suppress this warning.\n",
      "Lossy conversion from float32 to uint8. Range [0.0, 255.0]. Convert image to uint8 prior to saving to suppress this warning.\n",
      "Lossy conversion from float32 to uint8. Range [0.0, 255.0]. Convert image to uint8 prior to saving to suppress this warning.\n"
     ]
    },
    {
     "name": "stdout",
     "output_type": "stream",
     "text": [
      "58 ../feature/feature_fbank/2017019740012_chaeminjoon/2017019740012_chaeminjoon_2.npy\n",
      "59 ../feature/feature_fbank/2017019740012_chaeminjoon/2017019740012_chaeminjoon_3.npy\n",
      "60 ../feature/feature_fbank/2017019740013_kwakyiheon/2017019740013_kwakyiheon_0.npy\n"
     ]
    },
    {
     "name": "stderr",
     "output_type": "stream",
     "text": [
      "Lossy conversion from float32 to uint8. Range [0.0, 255.0]. Convert image to uint8 prior to saving to suppress this warning.\n",
      "Lossy conversion from float32 to uint8. Range [0.0, 255.0]. Convert image to uint8 prior to saving to suppress this warning.\n",
      "Lossy conversion from float32 to uint8. Range [0.0, 255.0]. Convert image to uint8 prior to saving to suppress this warning.\n"
     ]
    },
    {
     "name": "stdout",
     "output_type": "stream",
     "text": [
      "61 ../feature/feature_fbank/2017019740013_kwakyiheon/2017019740013_kwakyiheon_1.npy\n",
      "62 ../feature/feature_fbank/2017019740013_kwakyiheon/2017019740013_kwakyiheon_4.npy\n",
      "63 ../feature/feature_fbank/2017019740013_kwakyiheon/2017019740013_kwakyiheon_2.npy\n"
     ]
    },
    {
     "name": "stderr",
     "output_type": "stream",
     "text": [
      "Lossy conversion from float32 to uint8. Range [0.0, 255.0]. Convert image to uint8 prior to saving to suppress this warning.\n",
      "Lossy conversion from float32 to uint8. Range [0.0, 255.0]. Convert image to uint8 prior to saving to suppress this warning.\n",
      "Lossy conversion from float32 to uint8. Range [0.0, 255.0]. Convert image to uint8 prior to saving to suppress this warning.\n"
     ]
    },
    {
     "name": "stdout",
     "output_type": "stream",
     "text": [
      "64 ../feature/feature_fbank/2017019740013_kwakyiheon/2017019740013_kwakyiheon_3.npy\n",
      "65 ../feature/feature_fbank/2017019740014_leesumin/2017019740014_leesumin_0.npy\n",
      "66 ../feature/feature_fbank/2017019740014_leesumin/2017019740014_leesumin_4.npy\n"
     ]
    },
    {
     "name": "stderr",
     "output_type": "stream",
     "text": [
      "Lossy conversion from float32 to uint8. Range [0.0, 255.0]. Convert image to uint8 prior to saving to suppress this warning.\n",
      "Lossy conversion from float32 to uint8. Range [0.0, 255.0]. Convert image to uint8 prior to saving to suppress this warning.\n",
      "Lossy conversion from float32 to uint8. Range [0.0, 255.0]. Convert image to uint8 prior to saving to suppress this warning.\n"
     ]
    },
    {
     "name": "stdout",
     "output_type": "stream",
     "text": [
      "67 ../feature/feature_fbank/2017019740014_leesumin/2017019740014_leesumin_2.npy\n",
      "68 ../feature/feature_fbank/2017019740014_leesumin/2017019740014_leesumin_1.npy\n",
      "69 ../feature/feature_fbank/2017019740014_leesumin/2017019740014_leesumin_3.npy\n"
     ]
    },
    {
     "name": "stderr",
     "output_type": "stream",
     "text": [
      "Lossy conversion from float32 to uint8. Range [0.0, 255.0]. Convert image to uint8 prior to saving to suppress this warning.\n",
      "Lossy conversion from float32 to uint8. Range [0.0, 255.0]. Convert image to uint8 prior to saving to suppress this warning.\n",
      "Lossy conversion from float32 to uint8. Range [0.0, 255.0]. Convert image to uint8 prior to saving to suppress this warning.\n"
     ]
    },
    {
     "name": "stdout",
     "output_type": "stream",
     "text": [
      "70 ../feature/feature_fbank/2017019740015_choihayoung/2017019740015_choihayoung_3.npy\n",
      "71 ../feature/feature_fbank/2017019740015_choihayoung/2017019740015_choihayoung_1.npy\n",
      "72 ../feature/feature_fbank/2017019740015_choihayoung/2017019740015_choihayoung_4.npy\n"
     ]
    },
    {
     "name": "stderr",
     "output_type": "stream",
     "text": [
      "Lossy conversion from float32 to uint8. Range [0.0, 255.0]. Convert image to uint8 prior to saving to suppress this warning.\n",
      "Lossy conversion from float32 to uint8. Range [0.0, 255.0]. Convert image to uint8 prior to saving to suppress this warning.\n",
      "Lossy conversion from float32 to uint8. Range [0.0, 255.0]. Convert image to uint8 prior to saving to suppress this warning.\n"
     ]
    },
    {
     "name": "stdout",
     "output_type": "stream",
     "text": [
      "73 ../feature/feature_fbank/2017019740015_choihayoung/2017019740015_choihayoung_2.npy\n",
      "74 ../feature/feature_fbank/2017019740015_choihayoung/2017019740015_choihayoung_0.npy\n",
      "75 ../feature/feature_fbank/2017019740016_kangyeseo/2017019740016_kangyeseo_0.npy\n"
     ]
    },
    {
     "name": "stderr",
     "output_type": "stream",
     "text": [
      "Lossy conversion from float32 to uint8. Range [0.0, 255.0]. Convert image to uint8 prior to saving to suppress this warning.\n",
      "Lossy conversion from float32 to uint8. Range [0.0, 255.0]. Convert image to uint8 prior to saving to suppress this warning.\n",
      "Lossy conversion from float32 to uint8. Range [0.0, 255.0]. Convert image to uint8 prior to saving to suppress this warning.\n"
     ]
    },
    {
     "name": "stdout",
     "output_type": "stream",
     "text": [
      "76 ../feature/feature_fbank/2017019740016_kangyeseo/2017019740016_kangyeseo_3.npy\n",
      "77 ../feature/feature_fbank/2017019740016_kangyeseo/2017019740016_kangyeseo_2.npy\n",
      "78 ../feature/feature_fbank/2017019740016_kangyeseo/2017019740016_kangyeseo_4.npy\n"
     ]
    },
    {
     "name": "stderr",
     "output_type": "stream",
     "text": [
      "Lossy conversion from float32 to uint8. Range [0.0, 255.0]. Convert image to uint8 prior to saving to suppress this warning.\n",
      "Lossy conversion from float32 to uint8. Range [0.0, 255.0]. Convert image to uint8 prior to saving to suppress this warning.\n",
      "Lossy conversion from float32 to uint8. Range [0.0, 255.0]. Convert image to uint8 prior to saving to suppress this warning.\n"
     ]
    },
    {
     "name": "stdout",
     "output_type": "stream",
     "text": [
      "79 ../feature/feature_fbank/2017019740016_kangyeseo/2017019740016_kangyeseo_1.npy\n",
      "80 ../feature/feature_fbank/2017019740017_kwakmihyang/2017019740017_kwakmihyang_3.npy\n",
      "81 ../feature/feature_fbank/2017019740017_kwakmihyang/2017019740017_kwakmihyang_2.npy\n"
     ]
    },
    {
     "name": "stderr",
     "output_type": "stream",
     "text": [
      "Lossy conversion from float32 to uint8. Range [0.0, 255.0]. Convert image to uint8 prior to saving to suppress this warning.\n",
      "Lossy conversion from float32 to uint8. Range [0.0, 255.0]. Convert image to uint8 prior to saving to suppress this warning.\n",
      "Lossy conversion from float32 to uint8. Range [0.0, 255.0]. Convert image to uint8 prior to saving to suppress this warning.\n"
     ]
    },
    {
     "name": "stdout",
     "output_type": "stream",
     "text": [
      "82 ../feature/feature_fbank/2017019740017_kwakmihyang/2017019740017_kwakmihyang_1.npy\n",
      "83 ../feature/feature_fbank/2017019740017_kwakmihyang/2017019740017_kwakmihyang_4.npy\n",
      "84 ../feature/feature_fbank/2017019740017_kwakmihyang/2017019740017_kwakmihyang_0.npy\n"
     ]
    },
    {
     "name": "stderr",
     "output_type": "stream",
     "text": [
      "Lossy conversion from float32 to uint8. Range [0.0, 255.0]. Convert image to uint8 prior to saving to suppress this warning.\n",
      "Lossy conversion from float32 to uint8. Range [0.0, 255.0]. Convert image to uint8 prior to saving to suppress this warning.\n",
      "Lossy conversion from float32 to uint8. Range [0.0, 255.0]. Convert image to uint8 prior to saving to suppress this warning.\n"
     ]
    },
    {
     "name": "stdout",
     "output_type": "stream",
     "text": [
      "85 ../feature/feature_fbank/2017019740018_eundano/2017019740018_eundano_0.npy\n",
      "86 ../feature/feature_fbank/2017019740018_eundano/2017019740018_eundano_4.npy\n",
      "87 ../feature/feature_fbank/2017019740018_eundano/2017019740018_eundano_1.npy\n"
     ]
    },
    {
     "name": "stderr",
     "output_type": "stream",
     "text": [
      "Lossy conversion from float32 to uint8. Range [0.0, 255.0]. Convert image to uint8 prior to saving to suppress this warning.\n",
      "Lossy conversion from float32 to uint8. Range [0.0, 255.0]. Convert image to uint8 prior to saving to suppress this warning.\n",
      "Lossy conversion from float32 to uint8. Range [0.0, 255.0]. Convert image to uint8 prior to saving to suppress this warning.\n"
     ]
    },
    {
     "name": "stdout",
     "output_type": "stream",
     "text": [
      "88 ../feature/feature_fbank/2017019740018_eundano/2017019740018_eundano_3.npy\n",
      "89 ../feature/feature_fbank/2017019740018_eundano/2017019740018_eundano_2.npy\n",
      "90 ../feature/feature_fbank/2017019740019_limjinju/2017019740019_limjinju_1.npy\n"
     ]
    },
    {
     "name": "stderr",
     "output_type": "stream",
     "text": [
      "Lossy conversion from float32 to uint8. Range [0.0, 255.0]. Convert image to uint8 prior to saving to suppress this warning.\n",
      "Lossy conversion from float32 to uint8. Range [0.0, 255.0]. Convert image to uint8 prior to saving to suppress this warning.\n",
      "Lossy conversion from float32 to uint8. Range [0.0, 255.0]. Convert image to uint8 prior to saving to suppress this warning.\n"
     ]
    },
    {
     "name": "stdout",
     "output_type": "stream",
     "text": [
      "91 ../feature/feature_fbank/2017019740019_limjinju/2017019740019_limjinju_3.npy\n",
      "92 ../feature/feature_fbank/2017019740019_limjinju/2017019740019_limjinju_4.npy\n",
      "93 ../feature/feature_fbank/2017019740019_limjinju/2017019740019_limjinju_2.npy\n"
     ]
    },
    {
     "name": "stderr",
     "output_type": "stream",
     "text": [
      "Lossy conversion from float32 to uint8. Range [0.0, 255.0]. Convert image to uint8 prior to saving to suppress this warning.\n",
      "Lossy conversion from float32 to uint8. Range [0.0, 255.0]. Convert image to uint8 prior to saving to suppress this warning.\n",
      "Lossy conversion from float32 to uint8. Range [0.0, 255.0]. Convert image to uint8 prior to saving to suppress this warning.\n"
     ]
    },
    {
     "name": "stdout",
     "output_type": "stream",
     "text": [
      "94 ../feature/feature_fbank/2017019740019_limjinju/2017019740019_limjinju_0.npy\n",
      "95 ../feature/feature_fbank/2017019770001_kwonyuna/2017019770001_kwonyuna_1.npy\n",
      "96 ../feature/feature_fbank/2017019770001_kwonyuna/2017019770001_kwonyuna_0.npy\n"
     ]
    },
    {
     "name": "stderr",
     "output_type": "stream",
     "text": [
      "Lossy conversion from float32 to uint8. Range [0.0, 255.0]. Convert image to uint8 prior to saving to suppress this warning.\n",
      "Lossy conversion from float32 to uint8. Range [0.0, 255.0]. Convert image to uint8 prior to saving to suppress this warning.\n",
      "Lossy conversion from float32 to uint8. Range [0.0, 255.0]. Convert image to uint8 prior to saving to suppress this warning.\n"
     ]
    },
    {
     "name": "stdout",
     "output_type": "stream",
     "text": [
      "97 ../feature/feature_fbank/2017019770001_kwonyuna/2017019770001_kwonyuna_3.npy\n",
      "98 ../feature/feature_fbank/2017019770001_kwonyuna/2017019770001_kwonyuna_2.npy\n",
      "99 ../feature/feature_fbank/2017019770001_kwonyuna/2017019770001_kwonyuna_4.npy\n"
     ]
    },
    {
     "name": "stderr",
     "output_type": "stream",
     "text": [
      "Lossy conversion from float32 to uint8. Range [0.0, 255.0]. Convert image to uint8 prior to saving to suppress this warning.\n",
      "Lossy conversion from float32 to uint8. Range [0.0, 255.0]. Convert image to uint8 prior to saving to suppress this warning.\n",
      "Lossy conversion from float32 to uint8. Range [0.0, 255.0]. Convert image to uint8 prior to saving to suppress this warning.\n"
     ]
    },
    {
     "name": "stdout",
     "output_type": "stream",
     "text": [
      "100 ../feature/feature_fbank/2017019770002_kwoneunkyung/2017019770002_kwoneunkyung_3.npy\n",
      "101 ../feature/feature_fbank/2017019770002_kwoneunkyung/2017019770002_kwoneunkyung_2.npy\n",
      "102 ../feature/feature_fbank/2017019770002_kwoneunkyung/2017019770002_kwoneunkyung_0.npy\n"
     ]
    },
    {
     "name": "stderr",
     "output_type": "stream",
     "text": [
      "Lossy conversion from float32 to uint8. Range [0.0, 255.0]. Convert image to uint8 prior to saving to suppress this warning.\n",
      "Lossy conversion from float32 to uint8. Range [0.0, 255.0]. Convert image to uint8 prior to saving to suppress this warning.\n",
      "Lossy conversion from float32 to uint8. Range [0.0, 255.0]. Convert image to uint8 prior to saving to suppress this warning.\n"
     ]
    },
    {
     "name": "stdout",
     "output_type": "stream",
     "text": [
      "103 ../feature/feature_fbank/2017019770002_kwoneunkyung/2017019770002_kwoneunkyung_1.npy\n",
      "104 ../feature/feature_fbank/2017019770002_kwoneunkyung/2017019770002_kwoneunkyung_4.npy\n",
      "105 ../feature/feature_fbank/2017019770003_johaesu/2017019770003_johaesu_4.npy\n"
     ]
    },
    {
     "name": "stderr",
     "output_type": "stream",
     "text": [
      "Lossy conversion from float32 to uint8. Range [0.0, 255.0]. Convert image to uint8 prior to saving to suppress this warning.\n",
      "Lossy conversion from float32 to uint8. Range [0.0, 255.0]. Convert image to uint8 prior to saving to suppress this warning.\n",
      "Lossy conversion from float32 to uint8. Range [0.0, 255.0]. Convert image to uint8 prior to saving to suppress this warning.\n"
     ]
    },
    {
     "name": "stdout",
     "output_type": "stream",
     "text": [
      "106 ../feature/feature_fbank/2017019770003_johaesu/2017019770003_johaesu_0.npy\n",
      "107 ../feature/feature_fbank/2017019770003_johaesu/2017019770003_johaesu_1.npy\n",
      "108 ../feature/feature_fbank/2017019770003_johaesu/2017019770003_johaesu_2.npy\n"
     ]
    },
    {
     "name": "stderr",
     "output_type": "stream",
     "text": [
      "Lossy conversion from float32 to uint8. Range [0.0, 255.0]. Convert image to uint8 prior to saving to suppress this warning.\n",
      "Lossy conversion from float32 to uint8. Range [0.0, 255.0]. Convert image to uint8 prior to saving to suppress this warning.\n",
      "Lossy conversion from float32 to uint8. Range [0.0, 255.0]. Convert image to uint8 prior to saving to suppress this warning.\n"
     ]
    },
    {
     "name": "stdout",
     "output_type": "stream",
     "text": [
      "109 ../feature/feature_fbank/2017019770003_johaesu/2017019770003_johaesu_3.npy\n",
      "110 ../feature/feature_fbank/2017019770004_leebyeongjin/2017019770004_leebyeongjin_4.npy\n",
      "111 ../feature/feature_fbank/2017019770004_leebyeongjin/2017019770004_leebyeongjin_3.npy\n"
     ]
    },
    {
     "name": "stderr",
     "output_type": "stream",
     "text": [
      "Lossy conversion from float32 to uint8. Range [0.0, 255.0]. Convert image to uint8 prior to saving to suppress this warning.\n",
      "Lossy conversion from float32 to uint8. Range [0.0, 255.0]. Convert image to uint8 prior to saving to suppress this warning.\n",
      "Lossy conversion from float32 to uint8. Range [0.0, 255.0]. Convert image to uint8 prior to saving to suppress this warning.\n"
     ]
    },
    {
     "name": "stdout",
     "output_type": "stream",
     "text": [
      "112 ../feature/feature_fbank/2017019770004_leebyeongjin/2017019770004_leebyeongjin_0.npy\n",
      "113 ../feature/feature_fbank/2017019770004_leebyeongjin/2017019770004_leebyeongjin_2.npy\n",
      "114 ../feature/feature_fbank/2017019770004_leebyeongjin/2017019770004_leebyeongjin_1.npy\n"
     ]
    },
    {
     "name": "stderr",
     "output_type": "stream",
     "text": [
      "Lossy conversion from float32 to uint8. Range [0.0, 255.0]. Convert image to uint8 prior to saving to suppress this warning.\n",
      "Lossy conversion from float32 to uint8. Range [0.0, 255.0]. Convert image to uint8 prior to saving to suppress this warning.\n",
      "Lossy conversion from float32 to uint8. Range [0.0, 255.0]. Convert image to uint8 prior to saving to suppress this warning.\n"
     ]
    },
    {
     "name": "stdout",
     "output_type": "stream",
     "text": [
      "115 ../feature/feature_fbank/2017019770005_hyeonsanghyeok/2017019770005_hyeonsanghyeok_1.npy\n",
      "116 ../feature/feature_fbank/2017019770005_hyeonsanghyeok/2017019770005_hyeonsanghyeok_2.npy\n",
      "117 ../feature/feature_fbank/2017019770005_hyeonsanghyeok/2017019770005_hyeonsanghyeok_4.npy\n"
     ]
    },
    {
     "name": "stderr",
     "output_type": "stream",
     "text": [
      "Lossy conversion from float32 to uint8. Range [0.0, 255.0]. Convert image to uint8 prior to saving to suppress this warning.\n",
      "Lossy conversion from float32 to uint8. Range [0.0, 255.0]. Convert image to uint8 prior to saving to suppress this warning.\n",
      "Lossy conversion from float32 to uint8. Range [0.0, 255.0]. Convert image to uint8 prior to saving to suppress this warning.\n"
     ]
    },
    {
     "name": "stdout",
     "output_type": "stream",
     "text": [
      "118 ../feature/feature_fbank/2017019770005_hyeonsanghyeok/2017019770005_hyeonsanghyeok_0.npy\n",
      "119 ../feature/feature_fbank/2017019770005_hyeonsanghyeok/2017019770005_hyeonsanghyeok_3.npy\n",
      "120 ../feature/feature_fbank/2017019770006_jennie/2017019770006_jennie_4.npy\n"
     ]
    },
    {
     "name": "stderr",
     "output_type": "stream",
     "text": [
      "Lossy conversion from float32 to uint8. Range [0.0, 255.0]. Convert image to uint8 prior to saving to suppress this warning.\n",
      "Lossy conversion from float32 to uint8. Range [0.0, 255.0]. Convert image to uint8 prior to saving to suppress this warning.\n",
      "Lossy conversion from float32 to uint8. Range [0.0, 255.0]. Convert image to uint8 prior to saving to suppress this warning.\n"
     ]
    },
    {
     "name": "stdout",
     "output_type": "stream",
     "text": [
      "121 ../feature/feature_fbank/2017019770006_jennie/2017019770006_jennie_0.npy\n",
      "122 ../feature/feature_fbank/2017019770006_jennie/2017019770006_jennie_1.npy\n",
      "123 ../feature/feature_fbank/2017019770006_jennie/2017019770006_jennie_2.npy\n"
     ]
    },
    {
     "name": "stderr",
     "output_type": "stream",
     "text": [
      "Lossy conversion from float32 to uint8. Range [0.0, 255.0]. Convert image to uint8 prior to saving to suppress this warning.\n",
      "Lossy conversion from float32 to uint8. Range [0.0, 255.0]. Convert image to uint8 prior to saving to suppress this warning.\n",
      "Lossy conversion from float32 to uint8. Range [0.0, 255.0]. Convert image to uint8 prior to saving to suppress this warning.\n"
     ]
    },
    {
     "name": "stdout",
     "output_type": "stream",
     "text": [
      "124 ../feature/feature_fbank/2017019770006_jennie/2017019770006_jennie_3.npy\n",
      "125 ../feature/feature_fbank/2017019770007_simseungmin/2017019770007_simseungmin_3.npy\n",
      "126 ../feature/feature_fbank/2017019770007_simseungmin/2017019770007_simseungmin_2.npy\n"
     ]
    },
    {
     "name": "stderr",
     "output_type": "stream",
     "text": [
      "Lossy conversion from float32 to uint8. Range [0.0, 255.0]. Convert image to uint8 prior to saving to suppress this warning.\n",
      "Lossy conversion from float32 to uint8. Range [0.0, 255.0]. Convert image to uint8 prior to saving to suppress this warning.\n",
      "Lossy conversion from float32 to uint8. Range [0.0, 255.0]. Convert image to uint8 prior to saving to suppress this warning.\n"
     ]
    },
    {
     "name": "stdout",
     "output_type": "stream",
     "text": [
      "127 ../feature/feature_fbank/2017019770007_simseungmin/2017019770007_simseungmin_1.npy\n",
      "128 ../feature/feature_fbank/2017019770007_simseungmin/2017019770007_simseungmin_4.npy\n",
      "129 ../feature/feature_fbank/2017019770007_simseungmin/2017019770007_simseungmin_0.npy\n"
     ]
    },
    {
     "name": "stderr",
     "output_type": "stream",
     "text": [
      "Lossy conversion from float32 to uint8. Range [0.0, 255.0]. Convert image to uint8 prior to saving to suppress this warning.\n",
      "Lossy conversion from float32 to uint8. Range [0.0, 255.0]. Convert image to uint8 prior to saving to suppress this warning.\n",
      "Lossy conversion from float32 to uint8. Range [0.0, 255.0]. Convert image to uint8 prior to saving to suppress this warning.\n"
     ]
    },
    {
     "name": "stdout",
     "output_type": "stream",
     "text": [
      "130 ../feature/feature_fbank/2017019770008_parksomi/2017019770008_parksomi_2.npy\n",
      "131 ../feature/feature_fbank/2017019770008_parksomi/2017019770008_parksomi_1.npy\n",
      "132 ../feature/feature_fbank/2017019770008_parksomi/2017019770008_parksomi_3.npy\n"
     ]
    },
    {
     "name": "stderr",
     "output_type": "stream",
     "text": [
      "Lossy conversion from float32 to uint8. Range [0.0, 255.0]. Convert image to uint8 prior to saving to suppress this warning.\n",
      "Lossy conversion from float32 to uint8. Range [0.0, 255.0]. Convert image to uint8 prior to saving to suppress this warning.\n",
      "Lossy conversion from float32 to uint8. Range [0.0, 255.0]. Convert image to uint8 prior to saving to suppress this warning.\n"
     ]
    },
    {
     "name": "stdout",
     "output_type": "stream",
     "text": [
      "133 ../feature/feature_fbank/2017019770008_parksomi/2017019770008_parksomi_0.npy\n",
      "134 ../feature/feature_fbank/2017019770008_parksomi/2017019770008_parksomi_4.npy\n",
      "135 ../feature/feature_fbank/2017019770009_yuminji/2017019770009_yuminji_3.npy\n"
     ]
    },
    {
     "name": "stderr",
     "output_type": "stream",
     "text": [
      "Lossy conversion from float32 to uint8. Range [0.0, 255.0]. Convert image to uint8 prior to saving to suppress this warning.\n",
      "Lossy conversion from float32 to uint8. Range [0.0, 255.0]. Convert image to uint8 prior to saving to suppress this warning.\n",
      "Lossy conversion from float32 to uint8. Range [0.0, 255.0]. Convert image to uint8 prior to saving to suppress this warning.\n"
     ]
    },
    {
     "name": "stdout",
     "output_type": "stream",
     "text": [
      "136 ../feature/feature_fbank/2017019770009_yuminji/2017019770009_yuminji_4.npy\n",
      "137 ../feature/feature_fbank/2017019770009_yuminji/2017019770009_yuminji_0.npy\n",
      "138 ../feature/feature_fbank/2017019770009_yuminji/2017019770009_yuminji_1.npy\n"
     ]
    },
    {
     "name": "stderr",
     "output_type": "stream",
     "text": [
      "Lossy conversion from float32 to uint8. Range [0.0, 255.0]. Convert image to uint8 prior to saving to suppress this warning.\n",
      "Lossy conversion from float32 to uint8. Range [0.0, 255.0]. Convert image to uint8 prior to saving to suppress this warning.\n",
      "Lossy conversion from float32 to uint8. Range [0.0, 255.0]. Convert image to uint8 prior to saving to suppress this warning.\n"
     ]
    },
    {
     "name": "stdout",
     "output_type": "stream",
     "text": [
      "139 ../feature/feature_fbank/2017019770009_yuminji/2017019770009_yuminji_2.npy\n",
      "140 ../feature/feature_fbank/2017019770010_parksojin/2017019770010_parksojin_1.npy\n",
      "141 ../feature/feature_fbank/2017019770010_parksojin/2017019770010_parksojin_4.npy\n"
     ]
    },
    {
     "name": "stderr",
     "output_type": "stream",
     "text": [
      "Lossy conversion from float32 to uint8. Range [0.0, 255.0]. Convert image to uint8 prior to saving to suppress this warning.\n",
      "Lossy conversion from float32 to uint8. Range [0.0, 255.0]. Convert image to uint8 prior to saving to suppress this warning.\n",
      "Lossy conversion from float32 to uint8. Range [0.0, 255.0]. Convert image to uint8 prior to saving to suppress this warning.\n"
     ]
    },
    {
     "name": "stdout",
     "output_type": "stream",
     "text": [
      "142 ../feature/feature_fbank/2017019770010_parksojin/2017019770010_parksojin_0.npy\n",
      "143 ../feature/feature_fbank/2017019770010_parksojin/2017019770010_parksojin_3.npy\n",
      "144 ../feature/feature_fbank/2017019770010_parksojin/2017019770010_parksojin_2.npy\n"
     ]
    },
    {
     "name": "stderr",
     "output_type": "stream",
     "text": [
      "Lossy conversion from float32 to uint8. Range [0.0, 255.0]. Convert image to uint8 prior to saving to suppress this warning.\n",
      "Lossy conversion from float32 to uint8. Range [0.0, 255.0]. Convert image to uint8 prior to saving to suppress this warning.\n",
      "Lossy conversion from float32 to uint8. Range [0.0, 255.0]. Convert image to uint8 prior to saving to suppress this warning.\n"
     ]
    },
    {
     "name": "stdout",
     "output_type": "stream",
     "text": [
      "145 ../feature/feature_fbank/2017019770011_kwonyeonwoo/2017019770011_kwonyeonwoo_0.npy\n",
      "146 ../feature/feature_fbank/2017019770011_kwonyeonwoo/2017019770011_kwonyeonwoo_2.npy\n",
      "147 ../feature/feature_fbank/2017019770011_kwonyeonwoo/2017019770011_kwonyeonwoo_3.npy\n"
     ]
    },
    {
     "name": "stderr",
     "output_type": "stream",
     "text": [
      "Lossy conversion from float32 to uint8. Range [0.0, 255.0]. Convert image to uint8 prior to saving to suppress this warning.\n",
      "Lossy conversion from float32 to uint8. Range [0.0, 255.0]. Convert image to uint8 prior to saving to suppress this warning.\n",
      "Lossy conversion from float32 to uint8. Range [0.0, 255.0]. Convert image to uint8 prior to saving to suppress this warning.\n"
     ]
    },
    {
     "name": "stdout",
     "output_type": "stream",
     "text": [
      "148 ../feature/feature_fbank/2017019770011_kwonyeonwoo/2017019770011_kwonyeonwoo_4.npy\n",
      "149 ../feature/feature_fbank/2017019770011_kwonyeonwoo/2017019770011_kwonyeonwoo_1.npy\n",
      "150 ../feature/feature_fbank/2017019770012_ladakyeong/2017019770012_ladakyeong_1.npy\n"
     ]
    },
    {
     "name": "stderr",
     "output_type": "stream",
     "text": [
      "Lossy conversion from float32 to uint8. Range [0.0, 255.0]. Convert image to uint8 prior to saving to suppress this warning.\n",
      "Lossy conversion from float32 to uint8. Range [0.0, 255.0]. Convert image to uint8 prior to saving to suppress this warning.\n",
      "Lossy conversion from float32 to uint8. Range [0.0, 255.0]. Convert image to uint8 prior to saving to suppress this warning.\n"
     ]
    },
    {
     "name": "stdout",
     "output_type": "stream",
     "text": [
      "151 ../feature/feature_fbank/2017019770012_ladakyeong/2017019770012_ladakyeong_4.npy\n",
      "152 ../feature/feature_fbank/2017019770012_ladakyeong/2017019770012_ladakyeong_3.npy\n",
      "153 ../feature/feature_fbank/2017019770012_ladakyeong/2017019770012_ladakyeong_0.npy\n"
     ]
    },
    {
     "name": "stderr",
     "output_type": "stream",
     "text": [
      "Lossy conversion from float32 to uint8. Range [0.0, 255.0]. Convert image to uint8 prior to saving to suppress this warning.\n",
      "Lossy conversion from float32 to uint8. Range [0.0, 255.0]. Convert image to uint8 prior to saving to suppress this warning.\n",
      "Lossy conversion from float32 to uint8. Range [0.0, 255.0]. Convert image to uint8 prior to saving to suppress this warning.\n"
     ]
    },
    {
     "name": "stdout",
     "output_type": "stream",
     "text": [
      "154 ../feature/feature_fbank/2017019770012_ladakyeong/2017019770012_ladakyeong_2.npy\n",
      "155 ../feature/feature_fbank/2017019770013_janghyomin/2017019770013_janghyomin_2.npy\n",
      "156 ../feature/feature_fbank/2017019770013_janghyomin/2017019770013_janghyomin_3.npy\n"
     ]
    },
    {
     "name": "stderr",
     "output_type": "stream",
     "text": [
      "Lossy conversion from float32 to uint8. Range [0.0, 255.0]. Convert image to uint8 prior to saving to suppress this warning.\n",
      "Lossy conversion from float32 to uint8. Range [0.0, 255.0]. Convert image to uint8 prior to saving to suppress this warning.\n",
      "Lossy conversion from float32 to uint8. Range [0.0, 255.0]. Convert image to uint8 prior to saving to suppress this warning.\n"
     ]
    },
    {
     "name": "stdout",
     "output_type": "stream",
     "text": [
      "157 ../feature/feature_fbank/2017019770013_janghyomin/2017019770013_janghyomin_0.npy\n",
      "158 ../feature/feature_fbank/2017019770013_janghyomin/2017019770013_janghyomin_1.npy\n",
      "159 ../feature/feature_fbank/2017019770013_janghyomin/2017019770013_janghyomin_4.npy\n"
     ]
    },
    {
     "name": "stderr",
     "output_type": "stream",
     "text": [
      "Lossy conversion from float32 to uint8. Range [0.0, 255.0]. Convert image to uint8 prior to saving to suppress this warning.\n",
      "Lossy conversion from float32 to uint8. Range [0.0, 255.0]. Convert image to uint8 prior to saving to suppress this warning.\n",
      "Lossy conversion from float32 to uint8. Range [0.0, 255.0]. Convert image to uint8 prior to saving to suppress this warning.\n"
     ]
    },
    {
     "name": "stdout",
     "output_type": "stream",
     "text": [
      "160 ../feature/feature_fbank/2017019770014_parkeunbi/2017019770014_parkeunbi_3.npy\n",
      "161 ../feature/feature_fbank/2017019770014_parkeunbi/2017019770014_parkeunbi_2.npy\n",
      "162 ../feature/feature_fbank/2017019770014_parkeunbi/2017019770014_parkeunbi_0.npy\n"
     ]
    },
    {
     "name": "stderr",
     "output_type": "stream",
     "text": [
      "Lossy conversion from float32 to uint8. Range [0.0, 255.0]. Convert image to uint8 prior to saving to suppress this warning.\n",
      "Lossy conversion from float32 to uint8. Range [0.0, 255.0]. Convert image to uint8 prior to saving to suppress this warning.\n",
      "Lossy conversion from float32 to uint8. Range [0.0, 255.0]. Convert image to uint8 prior to saving to suppress this warning.\n"
     ]
    },
    {
     "name": "stdout",
     "output_type": "stream",
     "text": [
      "163 ../feature/feature_fbank/2017019770014_parkeunbi/2017019770014_parkeunbi_1.npy\n",
      "164 ../feature/feature_fbank/2017019770014_parkeunbi/2017019770014_parkeunbi_4.npy\n",
      "165 ../feature/feature_fbank/2017019770015_parkdayeung/2017019770015_parkdayeung_4.npy\n"
     ]
    },
    {
     "name": "stderr",
     "output_type": "stream",
     "text": [
      "Lossy conversion from float32 to uint8. Range [0.0, 255.0]. Convert image to uint8 prior to saving to suppress this warning.\n",
      "Lossy conversion from float32 to uint8. Range [0.0, 255.0]. Convert image to uint8 prior to saving to suppress this warning.\n",
      "Lossy conversion from float32 to uint8. Range [0.0, 255.0]. Convert image to uint8 prior to saving to suppress this warning.\n"
     ]
    },
    {
     "name": "stdout",
     "output_type": "stream",
     "text": [
      "166 ../feature/feature_fbank/2017019770015_parkdayeung/2017019770015_parkdayeung_2.npy\n",
      "167 ../feature/feature_fbank/2017019770015_parkdayeung/2017019770015_parkdayeung_3.npy\n",
      "168 ../feature/feature_fbank/2017019770015_parkdayeung/2017019770015_parkdayeung_1.npy\n"
     ]
    },
    {
     "name": "stderr",
     "output_type": "stream",
     "text": [
      "Lossy conversion from float32 to uint8. Range [0.0, 255.0]. Convert image to uint8 prior to saving to suppress this warning.\n",
      "Lossy conversion from float32 to uint8. Range [0.0, 255.0]. Convert image to uint8 prior to saving to suppress this warning.\n",
      "Lossy conversion from float32 to uint8. Range [0.0, 255.0]. Convert image to uint8 prior to saving to suppress this warning.\n"
     ]
    },
    {
     "name": "stdout",
     "output_type": "stream",
     "text": [
      "169 ../feature/feature_fbank/2017019770015_parkdayeung/2017019770015_parkdayeung_0.npy\n",
      "170 ../feature/feature_fbank/2017019770016_parkjongae/2017019770016_parkjongae_4.npy\n",
      "171 ../feature/feature_fbank/2017019770016_parkjongae/2017019770016_parkjongae_2.npy\n"
     ]
    },
    {
     "name": "stderr",
     "output_type": "stream",
     "text": [
      "Lossy conversion from float32 to uint8. Range [0.0, 255.0]. Convert image to uint8 prior to saving to suppress this warning.\n",
      "Lossy conversion from float32 to uint8. Range [0.0, 255.0]. Convert image to uint8 prior to saving to suppress this warning.\n",
      "Lossy conversion from float32 to uint8. Range [0.0, 255.0]. Convert image to uint8 prior to saving to suppress this warning.\n"
     ]
    },
    {
     "name": "stdout",
     "output_type": "stream",
     "text": [
      "172 ../feature/feature_fbank/2017019770016_parkjongae/2017019770016_parkjongae_3.npy\n",
      "173 ../feature/feature_fbank/2017019770016_parkjongae/2017019770016_parkjongae_0.npy\n",
      "174 ../feature/feature_fbank/2017019770016_parkjongae/2017019770016_parkjongae_1.npy\n"
     ]
    },
    {
     "name": "stderr",
     "output_type": "stream",
     "text": [
      "Lossy conversion from float32 to uint8. Range [0.0, 255.0]. Convert image to uint8 prior to saving to suppress this warning.\n",
      "Lossy conversion from float32 to uint8. Range [0.0, 255.0]. Convert image to uint8 prior to saving to suppress this warning.\n",
      "Lossy conversion from float32 to uint8. Range [0.0, 255.0]. Convert image to uint8 prior to saving to suppress this warning.\n"
     ]
    },
    {
     "name": "stdout",
     "output_type": "stream",
     "text": [
      "175 ../feature/feature_fbank/2017019770017_hansohee/2017019770017_hansohee_3.npy\n",
      "176 ../feature/feature_fbank/2017019770017_hansohee/2017019770017_hansohee_1.npy\n",
      "177 ../feature/feature_fbank/2017019770017_hansohee/2017019770017_hansohee_0.npy\n"
     ]
    },
    {
     "name": "stderr",
     "output_type": "stream",
     "text": [
      "Lossy conversion from float32 to uint8. Range [0.0, 255.0]. Convert image to uint8 prior to saving to suppress this warning.\n",
      "Lossy conversion from float32 to uint8. Range [0.0, 255.0]. Convert image to uint8 prior to saving to suppress this warning.\n",
      "Lossy conversion from float32 to uint8. Range [0.0, 255.0]. Convert image to uint8 prior to saving to suppress this warning.\n"
     ]
    },
    {
     "name": "stdout",
     "output_type": "stream",
     "text": [
      "178 ../feature/feature_fbank/2017019770017_hansohee/2017019770017_hansohee_2.npy\n",
      "179 ../feature/feature_fbank/2017019770017_hansohee/2017019770017_hansohee_4.npy\n",
      "180 ../feature/feature_fbank/2017019770018_janggyeoul/2017019770018_janggyeoul_4.npy\n"
     ]
    },
    {
     "name": "stderr",
     "output_type": "stream",
     "text": [
      "Lossy conversion from float32 to uint8. Range [0.0, 255.0]. Convert image to uint8 prior to saving to suppress this warning.\n",
      "Lossy conversion from float32 to uint8. Range [0.0, 255.0]. Convert image to uint8 prior to saving to suppress this warning.\n",
      "Lossy conversion from float32 to uint8. Range [0.0, 255.0]. Convert image to uint8 prior to saving to suppress this warning.\n"
     ]
    },
    {
     "name": "stdout",
     "output_type": "stream",
     "text": [
      "181 ../feature/feature_fbank/2017019770018_janggyeoul/2017019770018_janggyeoul_3.npy\n",
      "182 ../feature/feature_fbank/2017019770018_janggyeoul/2017019770018_janggyeoul_2.npy\n",
      "183 ../feature/feature_fbank/2017019770018_janggyeoul/2017019770018_janggyeoul_1.npy\n"
     ]
    },
    {
     "name": "stderr",
     "output_type": "stream",
     "text": [
      "Lossy conversion from float32 to uint8. Range [0.0, 255.0]. Convert image to uint8 prior to saving to suppress this warning.\n",
      "Lossy conversion from float32 to uint8. Range [0.0, 255.0]. Convert image to uint8 prior to saving to suppress this warning.\n",
      "Lossy conversion from float32 to uint8. Range [0.0, 255.0]. Convert image to uint8 prior to saving to suppress this warning.\n"
     ]
    },
    {
     "name": "stdout",
     "output_type": "stream",
     "text": [
      "184 ../feature/feature_fbank/2017019770018_janggyeoul/2017019770018_janggyeoul_0.npy\n",
      "185 ../feature/feature_fbank/2017019770019_leewooju/2017019770019_leewooju_3.npy\n",
      "186 ../feature/feature_fbank/2017019770019_leewooju/2017019770019_leewooju_4.npy\n"
     ]
    },
    {
     "name": "stderr",
     "output_type": "stream",
     "text": [
      "Lossy conversion from float32 to uint8. Range [0.0, 255.0]. Convert image to uint8 prior to saving to suppress this warning.\n",
      "Lossy conversion from float32 to uint8. Range [0.0, 255.0]. Convert image to uint8 prior to saving to suppress this warning.\n",
      "Lossy conversion from float32 to uint8. Range [0.0, 255.0]. Convert image to uint8 prior to saving to suppress this warning.\n"
     ]
    },
    {
     "name": "stdout",
     "output_type": "stream",
     "text": [
      "187 ../feature/feature_fbank/2017019770019_leewooju/2017019770019_leewooju_1.npy\n",
      "188 ../feature/feature_fbank/2017019770019_leewooju/2017019770019_leewooju_2.npy\n",
      "189 ../feature/feature_fbank/2017019770019_leewooju/2017019770019_leewooju_0.npy\n"
     ]
    },
    {
     "name": "stderr",
     "output_type": "stream",
     "text": [
      "Lossy conversion from float32 to uint8. Range [0.0, 255.0]. Convert image to uint8 prior to saving to suppress this warning.\n",
      "Lossy conversion from float32 to uint8. Range [0.0, 255.0]. Convert image to uint8 prior to saving to suppress this warning.\n",
      "Lossy conversion from float32 to uint8. Range [0.0, 255.0]. Convert image to uint8 prior to saving to suppress this warning.\n"
     ]
    },
    {
     "name": "stdout",
     "output_type": "stream",
     "text": [
      "190 ../feature/feature_fbank/2017019770020_nomyungok/2017019770020_nomyungok_4.npy\n",
      "191 ../feature/feature_fbank/2017019770020_nomyungok/2017019770020_nomyungok_1.npy\n",
      "192 ../feature/feature_fbank/2017019770020_nomyungok/2017019770020_nomyungok_0.npy\n"
     ]
    },
    {
     "name": "stderr",
     "output_type": "stream",
     "text": [
      "Lossy conversion from float32 to uint8. Range [0.0, 255.0]. Convert image to uint8 prior to saving to suppress this warning.\n",
      "Lossy conversion from float32 to uint8. Range [0.0, 255.0]. Convert image to uint8 prior to saving to suppress this warning.\n",
      "Lossy conversion from float32 to uint8. Range [0.0, 255.0]. Convert image to uint8 prior to saving to suppress this warning.\n"
     ]
    },
    {
     "name": "stdout",
     "output_type": "stream",
     "text": [
      "193 ../feature/feature_fbank/2017019770020_nomyungok/2017019770020_nomyungok_2.npy\n",
      "194 ../feature/feature_fbank/2017019770020_nomyungok/2017019770020_nomyungok_3.npy\n",
      "195 ../feature/feature_fbank/2017019770021_heoyoonjung/2017019770021_heoyoonjung_4.npy\n"
     ]
    },
    {
     "name": "stderr",
     "output_type": "stream",
     "text": [
      "Lossy conversion from float32 to uint8. Range [0.0, 255.0]. Convert image to uint8 prior to saving to suppress this warning.\n",
      "Lossy conversion from float32 to uint8. Range [0.0, 255.0]. Convert image to uint8 prior to saving to suppress this warning.\n",
      "Lossy conversion from float32 to uint8. Range [0.0, 255.0]. Convert image to uint8 prior to saving to suppress this warning.\n"
     ]
    },
    {
     "name": "stdout",
     "output_type": "stream",
     "text": [
      "196 ../feature/feature_fbank/2017019770021_heoyoonjung/2017019770021_heoyoonjung_2.npy\n",
      "197 ../feature/feature_fbank/2017019770021_heoyoonjung/2017019770021_heoyoonjung_3.npy\n",
      "198 ../feature/feature_fbank/2017019770021_heoyoonjung/2017019770021_heoyoonjung_1.npy\n"
     ]
    },
    {
     "name": "stderr",
     "output_type": "stream",
     "text": [
      "Lossy conversion from float32 to uint8. Range [0.0, 255.0]. Convert image to uint8 prior to saving to suppress this warning.\n",
      "Lossy conversion from float32 to uint8. Range [0.0, 255.0]. Convert image to uint8 prior to saving to suppress this warning.\n",
      "Lossy conversion from float32 to uint8. Range [0.0, 255.0]. Convert image to uint8 prior to saving to suppress this warning.\n"
     ]
    },
    {
     "name": "stdout",
     "output_type": "stream",
     "text": [
      "199 ../feature/feature_fbank/2017019770021_heoyoonjung/2017019770021_heoyoonjung_0.npy\n",
      "200 ../feature/feature_fbank/2017019770022_heojaemin/2017019770022_heojaemin_4.npy\n",
      "201 ../feature/feature_fbank/2017019770022_heojaemin/2017019770022_heojaemin_1.npy\n"
     ]
    },
    {
     "name": "stderr",
     "output_type": "stream",
     "text": [
      "Lossy conversion from float32 to uint8. Range [0.0, 255.0]. Convert image to uint8 prior to saving to suppress this warning.\n",
      "Lossy conversion from float32 to uint8. Range [0.0, 255.0]. Convert image to uint8 prior to saving to suppress this warning.\n",
      "Lossy conversion from float32 to uint8. Range [0.0, 255.0]. Convert image to uint8 prior to saving to suppress this warning.\n"
     ]
    },
    {
     "name": "stdout",
     "output_type": "stream",
     "text": [
      "202 ../feature/feature_fbank/2017019770022_heojaemin/2017019770022_heojaemin_2.npy\n",
      "203 ../feature/feature_fbank/2017019770022_heojaemin/2017019770022_heojaemin_0.npy\n",
      "204 ../feature/feature_fbank/2017019770022_heojaemin/2017019770022_heojaemin_3.npy\n"
     ]
    },
    {
     "name": "stderr",
     "output_type": "stream",
     "text": [
      "Lossy conversion from float32 to uint8. Range [0.0, 255.0]. Convert image to uint8 prior to saving to suppress this warning.\n",
      "Lossy conversion from float32 to uint8. Range [0.0, 255.0]. Convert image to uint8 prior to saving to suppress this warning.\n",
      "Lossy conversion from float32 to uint8. Range [0.0, 255.0]. Convert image to uint8 prior to saving to suppress this warning.\n"
     ]
    },
    {
     "name": "stdout",
     "output_type": "stream",
     "text": [
      "205 ../feature/feature_fbank/2017019770023_kimsoyung/2017019770023_kimsoyung_4.npy\n",
      "206 ../feature/feature_fbank/2017019770023_kimsoyung/2017019770023_kimsoyung_0.npy\n",
      "207 ../feature/feature_fbank/2017019770023_kimsoyung/2017019770023_kimsoyung_1.npy\n"
     ]
    },
    {
     "name": "stderr",
     "output_type": "stream",
     "text": [
      "Lossy conversion from float32 to uint8. Range [0.0, 255.0]. Convert image to uint8 prior to saving to suppress this warning.\n",
      "Lossy conversion from float32 to uint8. Range [0.0, 255.0]. Convert image to uint8 prior to saving to suppress this warning.\n",
      "Lossy conversion from float32 to uint8. Range [0.0, 255.0]. Convert image to uint8 prior to saving to suppress this warning.\n"
     ]
    },
    {
     "name": "stdout",
     "output_type": "stream",
     "text": [
      "208 ../feature/feature_fbank/2017019770023_kimsoyung/2017019770023_kimsoyung_2.npy\n",
      "209 ../feature/feature_fbank/2017019770023_kimsoyung/2017019770023_kimsoyung_3.npy\n",
      "210 ../feature/feature_fbank/2017019770024_chuminha/2017019770024_chuminha_0.npy\n"
     ]
    },
    {
     "name": "stderr",
     "output_type": "stream",
     "text": [
      "Lossy conversion from float32 to uint8. Range [0.0, 255.0]. Convert image to uint8 prior to saving to suppress this warning.\n",
      "Lossy conversion from float32 to uint8. Range [0.0, 255.0]. Convert image to uint8 prior to saving to suppress this warning.\n",
      "Lossy conversion from float32 to uint8. Range [0.0, 255.0]. Convert image to uint8 prior to saving to suppress this warning.\n"
     ]
    },
    {
     "name": "stdout",
     "output_type": "stream",
     "text": [
      "211 ../feature/feature_fbank/2017019770024_chuminha/2017019770024_chuminha_4.npy\n",
      "212 ../feature/feature_fbank/2017019770024_chuminha/2017019770024_chuminha_2.npy\n",
      "213 ../feature/feature_fbank/2017019770024_chuminha/2017019770024_chuminha_3.npy\n"
     ]
    },
    {
     "name": "stderr",
     "output_type": "stream",
     "text": [
      "Lossy conversion from float32 to uint8. Range [0.0, 255.0]. Convert image to uint8 prior to saving to suppress this warning.\n",
      "Lossy conversion from float32 to uint8. Range [0.0, 255.0]. Convert image to uint8 prior to saving to suppress this warning.\n",
      "Lossy conversion from float32 to uint8. Range [0.0, 255.0]. Convert image to uint8 prior to saving to suppress this warning.\n"
     ]
    },
    {
     "name": "stdout",
     "output_type": "stream",
     "text": [
      "214 ../feature/feature_fbank/2017019770024_chuminha/2017019770024_chuminha_1.npy\n",
      "215 ../feature/feature_fbank/2017019770025_kimhyeonsu/2017019770025_kimhyeonsu_1.npy\n",
      "216 ../feature/feature_fbank/2017019770025_kimhyeonsu/2017019770025_kimhyeonsu_2.npy\n"
     ]
    },
    {
     "name": "stderr",
     "output_type": "stream",
     "text": [
      "Lossy conversion from float32 to uint8. Range [0.0, 255.0]. Convert image to uint8 prior to saving to suppress this warning.\n",
      "Lossy conversion from float32 to uint8. Range [0.0, 255.0]. Convert image to uint8 prior to saving to suppress this warning.\n",
      "Lossy conversion from float32 to uint8. Range [0.0, 255.0]. Convert image to uint8 prior to saving to suppress this warning.\n"
     ]
    },
    {
     "name": "stdout",
     "output_type": "stream",
     "text": [
      "217 ../feature/feature_fbank/2017019770025_kimhyeonsu/2017019770025_kimhyeonsu_4.npy\n",
      "218 ../feature/feature_fbank/2017019770025_kimhyeonsu/2017019770025_kimhyeonsu_0.npy\n",
      "219 ../feature/feature_fbank/2017019770025_kimhyeonsu/2017019770025_kimhyeonsu_3.npy\n"
     ]
    },
    {
     "name": "stderr",
     "output_type": "stream",
     "text": [
      "Lossy conversion from float32 to uint8. Range [0.0, 255.0]. Convert image to uint8 prior to saving to suppress this warning.\n",
      "Lossy conversion from float32 to uint8. Range [0.0, 255.0]. Convert image to uint8 prior to saving to suppress this warning.\n",
      "Lossy conversion from float32 to uint8. Range [0.0, 255.0]. Convert image to uint8 prior to saving to suppress this warning.\n"
     ]
    },
    {
     "name": "stdout",
     "output_type": "stream",
     "text": [
      "220 ../feature/feature_fbank/2017019770026_chaesonghwa/2017019770026_chaesonghwa_2.npy\n",
      "221 ../feature/feature_fbank/2017019770026_chaesonghwa/2017019770026_chaesonghwa_0.npy\n",
      "222 ../feature/feature_fbank/2017019770026_chaesonghwa/2017019770026_chaesonghwa_1.npy\n"
     ]
    },
    {
     "name": "stderr",
     "output_type": "stream",
     "text": [
      "Lossy conversion from float32 to uint8. Range [0.0, 255.0]. Convert image to uint8 prior to saving to suppress this warning.\n",
      "Lossy conversion from float32 to uint8. Range [0.0, 255.0]. Convert image to uint8 prior to saving to suppress this warning.\n",
      "Lossy conversion from float32 to uint8. Range [0.0, 255.0]. Convert image to uint8 prior to saving to suppress this warning.\n"
     ]
    },
    {
     "name": "stdout",
     "output_type": "stream",
     "text": [
      "223 ../feature/feature_fbank/2017019770026_chaesonghwa/2017019770026_chaesonghwa_4.npy\n",
      "224 ../feature/feature_fbank/2017019770026_chaesonghwa/2017019770026_chaesonghwa_3.npy\n",
      "225 ../feature/feature_fbank/2017019770027_kwonyulim/2017019770027_kwonyulim_2.npy\n"
     ]
    },
    {
     "name": "stderr",
     "output_type": "stream",
     "text": [
      "Lossy conversion from float32 to uint8. Range [0.0, 255.0]. Convert image to uint8 prior to saving to suppress this warning.\n",
      "Lossy conversion from float32 to uint8. Range [0.0, 255.0]. Convert image to uint8 prior to saving to suppress this warning.\n",
      "Lossy conversion from float32 to uint8. Range [0.0, 255.0]. Convert image to uint8 prior to saving to suppress this warning.\n"
     ]
    },
    {
     "name": "stdout",
     "output_type": "stream",
     "text": [
      "226 ../feature/feature_fbank/2017019770027_kwonyulim/2017019770027_kwonyulim_3.npy\n",
      "227 ../feature/feature_fbank/2017019770027_kwonyulim/2017019770027_kwonyulim_4.npy\n",
      "228 ../feature/feature_fbank/2017019770027_kwonyulim/2017019770027_kwonyulim_1.npy\n"
     ]
    },
    {
     "name": "stderr",
     "output_type": "stream",
     "text": [
      "Lossy conversion from float32 to uint8. Range [0.0, 255.0]. Convert image to uint8 prior to saving to suppress this warning.\n",
      "Lossy conversion from float32 to uint8. Range [0.0, 255.0]. Convert image to uint8 prior to saving to suppress this warning.\n",
      "Lossy conversion from float32 to uint8. Range [0.0, 255.0]. Convert image to uint8 prior to saving to suppress this warning.\n"
     ]
    },
    {
     "name": "stdout",
     "output_type": "stream",
     "text": [
      "229 ../feature/feature_fbank/2017019770027_kwonyulim/2017019770027_kwonyulim_0.npy\n",
      "230 ../feature/feature_fbank/2017019770028_kimminyoung/2017019770028_kimminyoung_3.npy\n",
      "231 ../feature/feature_fbank/2017019770028_kimminyoung/2017019770028_kimminyoung_2.npy\n"
     ]
    },
    {
     "name": "stderr",
     "output_type": "stream",
     "text": [
      "Lossy conversion from float32 to uint8. Range [0.0, 255.0]. Convert image to uint8 prior to saving to suppress this warning.\n",
      "Lossy conversion from float32 to uint8. Range [0.0, 255.0]. Convert image to uint8 prior to saving to suppress this warning.\n",
      "Lossy conversion from float32 to uint8. Range [0.0, 255.0]. Convert image to uint8 prior to saving to suppress this warning.\n"
     ]
    },
    {
     "name": "stdout",
     "output_type": "stream",
     "text": [
      "232 ../feature/feature_fbank/2017019770028_kimminyoung/2017019770028_kimminyoung_4.npy\n",
      "233 ../feature/feature_fbank/2017019770028_kimminyoung/2017019770028_kimminyoung_0.npy\n",
      "234 ../feature/feature_fbank/2017019770028_kimminyoung/2017019770028_kimminyoung_1.npy\n"
     ]
    },
    {
     "name": "stderr",
     "output_type": "stream",
     "text": [
      "Lossy conversion from float32 to uint8. Range [0.0, 255.0]. Convert image to uint8 prior to saving to suppress this warning.\n",
      "Lossy conversion from float32 to uint8. Range [0.0, 255.0]. Convert image to uint8 prior to saving to suppress this warning.\n",
      "Lossy conversion from float32 to uint8. Range [0.0, 255.0]. Convert image to uint8 prior to saving to suppress this warning.\n"
     ]
    },
    {
     "name": "stdout",
     "output_type": "stream",
     "text": [
      "235 ../feature/feature_fbank/2017019770029_jueunhong/2017019770029_jueunhong_4.npy\n",
      "236 ../feature/feature_fbank/2017019770029_jueunhong/2017019770029_jueunhong_0.npy\n",
      "237 ../feature/feature_fbank/2017019770029_jueunhong/2017019770029_jueunhong_3.npy\n"
     ]
    },
    {
     "name": "stderr",
     "output_type": "stream",
     "text": [
      "Lossy conversion from float32 to uint8. Range [0.0, 255.0]. Convert image to uint8 prior to saving to suppress this warning.\n",
      "Lossy conversion from float32 to uint8. Range [0.0, 255.0]. Convert image to uint8 prior to saving to suppress this warning.\n",
      "Lossy conversion from float32 to uint8. Range [0.0, 255.0]. Convert image to uint8 prior to saving to suppress this warning.\n"
     ]
    },
    {
     "name": "stdout",
     "output_type": "stream",
     "text": [
      "238 ../feature/feature_fbank/2017019770029_jueunhong/2017019770029_jueunhong_1.npy\n",
      "239 ../feature/feature_fbank/2017019770029_jueunhong/2017019770029_jueunhong_2.npy\n",
      "240 ../feature/feature_fbank/2017019770030_leejeongju/2017019770030_leejeongju_1.npy\n"
     ]
    },
    {
     "name": "stderr",
     "output_type": "stream",
     "text": [
      "Lossy conversion from float32 to uint8. Range [0.0, 255.0]. Convert image to uint8 prior to saving to suppress this warning.\n",
      "Lossy conversion from float32 to uint8. Range [0.0, 255.0]. Convert image to uint8 prior to saving to suppress this warning.\n",
      "Lossy conversion from float32 to uint8. Range [0.0, 255.0]. Convert image to uint8 prior to saving to suppress this warning.\n"
     ]
    },
    {
     "name": "stdout",
     "output_type": "stream",
     "text": [
      "241 ../feature/feature_fbank/2017019770030_leejeongju/2017019770030_leejeongju_0.npy\n",
      "242 ../feature/feature_fbank/2017019770030_leejeongju/2017019770030_leejeongju_2.npy\n",
      "243 ../feature/feature_fbank/2017019770030_leejeongju/2017019770030_leejeongju_4.npy\n"
     ]
    },
    {
     "name": "stderr",
     "output_type": "stream",
     "text": [
      "Lossy conversion from float32 to uint8. Range [0.0, 255.0]. Convert image to uint8 prior to saving to suppress this warning.\n",
      "Lossy conversion from float32 to uint8. Range [0.0, 255.0]. Convert image to uint8 prior to saving to suppress this warning.\n",
      "Lossy conversion from float32 to uint8. Range [0.0, 255.0]. Convert image to uint8 prior to saving to suppress this warning.\n"
     ]
    },
    {
     "name": "stdout",
     "output_type": "stream",
     "text": [
      "244 ../feature/feature_fbank/2017019770030_leejeongju/2017019770030_leejeongju_3.npy\n",
      "245 ../feature/feature_fbank/2017019880001_kimsubin/2017019880001_kimsubin_1.npy\n",
      "246 ../feature/feature_fbank/2017019880001_kimsubin/2017019880001_kimsubin_4.npy\n"
     ]
    },
    {
     "name": "stderr",
     "output_type": "stream",
     "text": [
      "Lossy conversion from float32 to uint8. Range [0.0, 255.0]. Convert image to uint8 prior to saving to suppress this warning.\n",
      "Lossy conversion from float32 to uint8. Range [0.0, 255.0]. Convert image to uint8 prior to saving to suppress this warning.\n",
      "Lossy conversion from float32 to uint8. Range [0.0, 255.0]. Convert image to uint8 prior to saving to suppress this warning.\n"
     ]
    },
    {
     "name": "stdout",
     "output_type": "stream",
     "text": [
      "247 ../feature/feature_fbank/2017019880001_kimsubin/2017019880001_kimsubin_3.npy\n",
      "248 ../feature/feature_fbank/2017019880001_kimsubin/2017019880001_kimsubin_0.npy\n",
      "249 ../feature/feature_fbank/2017019880001_kimsubin/2017019880001_kimsubin_2.npy\n"
     ]
    },
    {
     "name": "stderr",
     "output_type": "stream",
     "text": [
      "Lossy conversion from float32 to uint8. Range [0.0, 255.0]. Convert image to uint8 prior to saving to suppress this warning.\n",
      "Lossy conversion from float32 to uint8. Range [0.0, 255.0]. Convert image to uint8 prior to saving to suppress this warning.\n",
      "Lossy conversion from float32 to uint8. Range [0.0, 255.0]. Convert image to uint8 prior to saving to suppress this warning.\n"
     ]
    },
    {
     "name": "stdout",
     "output_type": "stream",
     "text": [
      "250 ../feature/feature_fbank/2017019880002_kimkihyeon/2017019880002_kimkihyeon_0.npy\n",
      "251 ../feature/feature_fbank/2017019880002_kimkihyeon/2017019880002_kimkihyeon_3.npy\n",
      "252 ../feature/feature_fbank/2017019880002_kimkihyeon/2017019880002_kimkihyeon_4.npy\n"
     ]
    },
    {
     "name": "stderr",
     "output_type": "stream",
     "text": [
      "Lossy conversion from float32 to uint8. Range [0.0, 255.0]. Convert image to uint8 prior to saving to suppress this warning.\n",
      "Lossy conversion from float32 to uint8. Range [0.0, 255.0]. Convert image to uint8 prior to saving to suppress this warning.\n",
      "Lossy conversion from float32 to uint8. Range [0.0, 255.0]. Convert image to uint8 prior to saving to suppress this warning.\n"
     ]
    },
    {
     "name": "stdout",
     "output_type": "stream",
     "text": [
      "253 ../feature/feature_fbank/2017019880002_kimkihyeon/2017019880002_kimkihyeon_2.npy\n",
      "254 ../feature/feature_fbank/2017019880002_kimkihyeon/2017019880002_kimkihyeon_1.npy\n",
      "255 ../feature/feature_fbank/2017019880003_kimminji/2017019880003_kimminji_1.npy\n"
     ]
    },
    {
     "name": "stderr",
     "output_type": "stream",
     "text": [
      "Lossy conversion from float32 to uint8. Range [0.0, 255.0]. Convert image to uint8 prior to saving to suppress this warning.\n",
      "Lossy conversion from float32 to uint8. Range [0.0, 255.0]. Convert image to uint8 prior to saving to suppress this warning.\n",
      "Lossy conversion from float32 to uint8. Range [0.0, 255.0]. Convert image to uint8 prior to saving to suppress this warning.\n"
     ]
    },
    {
     "name": "stdout",
     "output_type": "stream",
     "text": [
      "256 ../feature/feature_fbank/2017019880003_kimminji/2017019880003_kimminji_4.npy\n",
      "257 ../feature/feature_fbank/2017019880003_kimminji/2017019880003_kimminji_2.npy\n",
      "258 ../feature/feature_fbank/2017019880003_kimminji/2017019880003_kimminji_0.npy\n"
     ]
    },
    {
     "name": "stderr",
     "output_type": "stream",
     "text": [
      "Lossy conversion from float32 to uint8. Range [0.0, 255.0]. Convert image to uint8 prior to saving to suppress this warning.\n",
      "Lossy conversion from float32 to uint8. Range [0.0, 255.0]. Convert image to uint8 prior to saving to suppress this warning.\n",
      "Lossy conversion from float32 to uint8. Range [0.0, 255.0]. Convert image to uint8 prior to saving to suppress this warning.\n"
     ]
    },
    {
     "name": "stdout",
     "output_type": "stream",
     "text": [
      "259 ../feature/feature_fbank/2017019880003_kimminji/2017019880003_kimminji_3.npy\n",
      "260 ../feature/feature_fbank/2017019880004_myeongjaewon/2017019880004_myeongjaewon_2.npy\n",
      "261 ../feature/feature_fbank/2017019880004_myeongjaewon/2017019880004_myeongjaewon_1.npy\n"
     ]
    },
    {
     "name": "stderr",
     "output_type": "stream",
     "text": [
      "Lossy conversion from float32 to uint8. Range [0.0, 255.0]. Convert image to uint8 prior to saving to suppress this warning.\n",
      "Lossy conversion from float32 to uint8. Range [0.0, 255.0]. Convert image to uint8 prior to saving to suppress this warning.\n",
      "Lossy conversion from float32 to uint8. Range [0.0, 255.0]. Convert image to uint8 prior to saving to suppress this warning.\n"
     ]
    },
    {
     "name": "stdout",
     "output_type": "stream",
     "text": [
      "262 ../feature/feature_fbank/2017019880004_myeongjaewon/2017019880004_myeongjaewon_0.npy\n",
      "263 ../feature/feature_fbank/2017019880004_myeongjaewon/2017019880004_myeongjaewon_4.npy\n",
      "264 ../feature/feature_fbank/2017019880004_myeongjaewon/2017019880004_myeongjaewon_3.npy\n"
     ]
    },
    {
     "name": "stderr",
     "output_type": "stream",
     "text": [
      "Lossy conversion from float32 to uint8. Range [0.0, 255.0]. Convert image to uint8 prior to saving to suppress this warning.\n",
      "Lossy conversion from float32 to uint8. Range [0.0, 255.0]. Convert image to uint8 prior to saving to suppress this warning.\n",
      "Lossy conversion from float32 to uint8. Range [0.0, 255.0]. Convert image to uint8 prior to saving to suppress this warning.\n"
     ]
    },
    {
     "name": "stdout",
     "output_type": "stream",
     "text": [
      "265 ../feature/feature_fbank/2017019880005_kimjihyeon/2017019880005_kimjihyeon_1.npy\n",
      "266 ../feature/feature_fbank/2017019880005_kimjihyeon/2017019880005_kimjihyeon_0.npy\n",
      "267 ../feature/feature_fbank/2017019880005_kimjihyeon/2017019880005_kimjihyeon_4.npy\n"
     ]
    },
    {
     "name": "stderr",
     "output_type": "stream",
     "text": [
      "Lossy conversion from float32 to uint8. Range [0.0, 255.0]. Convert image to uint8 prior to saving to suppress this warning.\n",
      "Lossy conversion from float32 to uint8. Range [0.0, 255.0]. Convert image to uint8 prior to saving to suppress this warning.\n"
     ]
    },
    {
     "name": "stdout",
     "output_type": "stream",
     "text": [
      "268 ../feature/feature_fbank/2017019880005_kimjihyeon/2017019880005_kimjihyeon_3.npy\n",
      "269 ../feature/feature_fbank/2017019880005_kimjihyeon/2017019880005_kimjihyeon_2.npy\n"
     ]
    }
   ],
   "source": [
    "X_TF = []\n",
    "y_TF = []\n",
    "for i,fname in zip(range(0,len(fname_list)), fname_list):\n",
    "    print(i,fname)\n",
    "    \n",
    "    fbank = image.load_img(npy_2_png(fname.split('/')[3],fname.split('/')[4]), target_size=(224,224))\n",
    "    tempX = image.img_to_array(fbank)\n",
    "    tempX = np.expand_dims(tempX, axis=0)\n",
    "    tempX = preprocess_input(tempX)\n",
    "    \n",
    "    flatten = model.predict(tempX)\n",
    "    \n",
    "    X_TF.append(list(flatten[0]))\n",
    "    y_TF.append(class_names.index(fname.split('/')[3]))"
   ]
  },
  {
   "cell_type": "code",
   "execution_count": 10,
   "metadata": {},
   "outputs": [],
   "source": [
    "from sklearn.model_selection import train_test_split\n",
    "from sklearn.svm import LinearSVC\n",
    "from sklearn.metrics import accuracy_score\n",
    "\n",
    "X_TF_train = np.array(X_TF)\n",
    "y_TF_train = np.array(y_TF)\n",
    "\n",
    "X_TF_train, X_TF_test, y_TF_train, y_TF_test = train_test_split(X_TF_train, y_TF_train, test_size=0.30, random_state=42, stratify=y_TF_train)\n",
    "\n",
    "from tensorflow.keras.utils import to_categorical\n",
    "y_TF_train_encoded = tf.keras.utils.to_categorical(y_TF_train)\n",
    "y_TF_test_encoded = tf.keras.utils.to_categorical(y_TF_test)\n",
    "\n",
    "X_TF_train_reshape = X_TF_train.reshape(-1, X_TF_train.shape[1], 1)\n",
    "X_TF_test_reshape   = X_TF_test.reshape(-1, X_TF_test.shape[1], 1)"
   ]
  },
  {
   "cell_type": "code",
   "execution_count": 11,
   "metadata": {
    "scrolled": true
   },
   "outputs": [
    {
     "name": "stdout",
     "output_type": "stream",
     "text": [
      "(189, 25088, 1)\n",
      "(81, 25088, 1)\n",
      "(189, 54)\n",
      "(81, 54)\n"
     ]
    }
   ],
   "source": [
    "print(X_TF_train_reshape.shape)\n",
    "print(X_TF_test_reshape.shape)\n",
    "\n",
    "print(y_TF_train_encoded.shape)\n",
    "print(y_TF_test_encoded.shape)"
   ]
  },
  {
   "cell_type": "markdown",
   "metadata": {},
   "source": [
    "## Classifier Learninig "
   ]
  },
  {
   "cell_type": "markdown",
   "metadata": {},
   "source": [
    "#### Fully Connected Layer"
   ]
  },
  {
   "cell_type": "code",
   "execution_count": 168,
   "metadata": {},
   "outputs": [],
   "source": [
    "from tensorflow.keras.layers import Conv1D, MaxPooling1D, Flatten, Dense\n",
    "from tensorflow.keras.layers import Dropout, LSTM, Embedding\n",
    "\n",
    "model2 = tf.keras.Sequential()\n",
    "model2.add(Conv1D(filters=1, kernel_size=1, padding='same', activation='relu',\n",
    "                         input_shape=(X_TF_train_reshape.shape[1], 1)))\n",
    "model2.add(MaxPooling1D(pool_size=4))\n",
    "model2.add(Dropout(0.5))\n",
    "model2.add(Flatten())\n",
    "model2.add(Dense(y_TF_train_encoded.shape[1], activation=\"softmax\"))"
   ]
  },
  {
   "cell_type": "code",
   "execution_count": 169,
   "metadata": {},
   "outputs": [
    {
     "name": "stdout",
     "output_type": "stream",
     "text": [
      "Model: \"sequential_36\"\n",
      "_________________________________________________________________\n",
      "Layer (type)                 Output Shape              Param #   \n",
      "=================================================================\n",
      "conv1d_30 (Conv1D)           (None, 25088, 1)          2         \n",
      "_________________________________________________________________\n",
      "max_pooling1d_20 (MaxPooling (None, 6272, 1)           0         \n",
      "_________________________________________________________________\n",
      "dropout_43 (Dropout)         (None, 6272, 1)           0         \n",
      "_________________________________________________________________\n",
      "flatten_15 (Flatten)         (None, 6272)              0         \n",
      "_________________________________________________________________\n",
      "dense_43 (Dense)             (None, 54)                338742    \n",
      "=================================================================\n",
      "Total params: 338,744\n",
      "Trainable params: 338,744\n",
      "Non-trainable params: 0\n",
      "_________________________________________________________________\n"
     ]
    }
   ],
   "source": [
    "model2.summary()"
   ]
  },
  {
   "cell_type": "code",
   "execution_count": 170,
   "metadata": {},
   "outputs": [],
   "source": [
    "model2.compile(optimizer=tf.keras.optimizers.SGD(lr=0.01, momentum=0.0, decay=0.0, nesterov=False), loss=tf.keras.losses.categorical_crossentropy, metrics=[\"accuracy\"])"
   ]
  },
  {
   "cell_type": "code",
   "execution_count": 171,
   "metadata": {
    "scrolled": true
   },
   "outputs": [
    {
     "name": "stdout",
     "output_type": "stream",
     "text": [
      "Epoch 1/20\n",
      "48/48 [==============================] - 0s 8ms/step - loss: 13.5486 - accuracy: 0.0053 - val_loss: 3.9894 - val_accuracy: 0.0123\n",
      "Epoch 2/20\n",
      "48/48 [==============================] - 1s 11ms/step - loss: 3.9899 - accuracy: 0.0159 - val_loss: 3.9898 - val_accuracy: 0.0123\n",
      "Epoch 3/20\n",
      "48/48 [==============================] - 1s 11ms/step - loss: 3.9898 - accuracy: 0.0212 - val_loss: 3.9902 - val_accuracy: 0.0123\n",
      "Epoch 4/20\n",
      "48/48 [==============================] - 1s 16ms/step - loss: 3.9896 - accuracy: 0.0159 - val_loss: 3.9905 - val_accuracy: 0.0123\n",
      "Epoch 5/20\n",
      "48/48 [==============================] - 0s 10ms/step - loss: 3.9894 - accuracy: 0.0106 - val_loss: 3.9910 - val_accuracy: 0.0123\n",
      "Epoch 6/20\n",
      "48/48 [==============================] - 1s 12ms/step - loss: 3.9893 - accuracy: 0.0053 - val_loss: 3.9915 - val_accuracy: 0.0123\n",
      "Epoch 7/20\n",
      "48/48 [==============================] - 1s 21ms/step - loss: 3.9891 - accuracy: 0.0106 - val_loss: 3.9919 - val_accuracy: 0.0123\n",
      "Epoch 8/20\n",
      "48/48 [==============================] - 1s 13ms/step - loss: 3.9889 - accuracy: 0.0000e+00 - val_loss: 3.9923 - val_accuracy: 0.0123\n",
      "Epoch 9/20\n",
      "48/48 [==============================] - 1s 16ms/step - loss: 3.9888 - accuracy: 0.0106 - val_loss: 3.9927 - val_accuracy: 0.0123\n",
      "Epoch 10/20\n",
      "48/48 [==============================] - 1s 11ms/step - loss: 3.9886 - accuracy: 0.0000e+00 - val_loss: 3.9931 - val_accuracy: 0.0123\n",
      "Epoch 11/20\n",
      "48/48 [==============================] - 1s 11ms/step - loss: 3.9885 - accuracy: 0.0159 - val_loss: 3.9935 - val_accuracy: 0.0123\n",
      "Epoch 12/20\n",
      "48/48 [==============================] - 1s 13ms/step - loss: 3.9883 - accuracy: 0.0106 - val_loss: 3.9939 - val_accuracy: 0.0123\n",
      "Epoch 13/20\n",
      "48/48 [==============================] - 1s 15ms/step - loss: 3.9881 - accuracy: 0.0106 - val_loss: 3.9944 - val_accuracy: 0.0123\n",
      "Epoch 14/20\n",
      "48/48 [==============================] - 0s 10ms/step - loss: 3.9880 - accuracy: 0.0053 - val_loss: 3.9948 - val_accuracy: 0.0123\n",
      "Epoch 15/20\n",
      "48/48 [==============================] - 1s 14ms/step - loss: 3.9879 - accuracy: 0.0053 - val_loss: 3.9952 - val_accuracy: 0.0123\n",
      "Epoch 16/20\n",
      "48/48 [==============================] - 1s 12ms/step - loss: 3.9877 - accuracy: 0.0053 - val_loss: 3.9957 - val_accuracy: 0.0123\n",
      "Epoch 17/20\n",
      "48/48 [==============================] - 0s 10ms/step - loss: 3.9875 - accuracy: 0.0212 - val_loss: 3.9960 - val_accuracy: 0.0123\n",
      "Epoch 18/20\n",
      "48/48 [==============================] - 1s 13ms/step - loss: 3.9874 - accuracy: 0.0212 - val_loss: 3.9964 - val_accuracy: 0.0123\n",
      "Epoch 19/20\n",
      "48/48 [==============================] - 0s 8ms/step - loss: 3.9873 - accuracy: 0.0159 - val_loss: 3.9968 - val_accuracy: 0.0123\n",
      "Epoch 20/20\n",
      "48/48 [==============================] - 1s 13ms/step - loss: 3.9872 - accuracy: 0.0159 - val_loss: 3.9973 - val_accuracy: 0.0123\n"
     ]
    }
   ],
   "source": [
    "history = model2.fit(X_TF_train_reshape, y_TF_train_encoded, epochs=20, verbose=1,batch_size=4, validation_data=(X_TF_test_reshape, y_TF_test_encoded))"
   ]
  },
  {
   "cell_type": "code",
   "execution_count": 167,
   "metadata": {},
   "outputs": [
    {
     "data": {
      "image/png": "[encoded data removed]",
      "text/plain": [
       "<Figure size 1008x432 with 1 Axes>"
      ]
     },
     "metadata": {
      "needs_background": "light"
     },
     "output_type": "display_data"
    }
   ],
   "source": [
    "import matplotlib.pyplot as plt\n",
    "plt.figure(figsize=(14, 6))\n",
    "plt.rc('font', size=18)\n",
    "\n",
    "plt.plot(history.history[\"accuracy\"])\n",
    "plt.plot(history.history[\"val_accuracy\"])\n",
    "plt.ylabel(\"accuracy\")\n",
    "plt.xlabel(\"epoch\")\n",
    "plt.legend([\"train_accuracy\", \"val_accuracy\"])\n",
    "plt.show()"
   ]
  },
  {
   "cell_type": "code",
   "execution_count": 15,
   "metadata": {},
   "outputs": [],
   "source": [
    "def val_npy_2_png (cname,fname):\n",
    "    if not os.path.exists(\"../feature/feature_fbank_validation_png/\"):\n",
    "        os.makedirs(\"../feature/feature_fbank_validation_png/\")\n",
    "    if not os.path.exists(\"../feature/feature_fbank_validation_png/\"+cname) :\n",
    "        os.makedirs(\"../feature/feature_fbank_validation_png/\"+cname)\n",
    "    \n",
    "    array = np.load(\"../feature/feature_fbank_validation/\"+cname+\"/\"+fname)\n",
    "    array = array - np.min(array)\n",
    "    array = array / np.max(array)\n",
    "    array = array * 255.0\n",
    "    \n",
    "    i = fname.split('_')[2].split('.')[0]\n",
    "    if os.path.exists(\"../feature/feature_fbank_validation_png/\"+cname+\"/{}.png\".format(i)):\n",
    "        os.remove(\"../feature/feature_fbank_validation_png/\"+cname+\"/{}.png\".format(i))\n",
    "        \n",
    "    imageio.imwrite(\"../feature/feature_fbank_validation_png/\"+cname+\"/{}.png\".format(i),array)\n",
    "    return \"../feature/feature_fbank_validation_png/\"+cname+\"/{}.png\".format(i)"
   ]
  },
  {
   "cell_type": "markdown",
   "metadata": {},
   "source": [
    "#### Linear SVM"
   ]
  },
  {
   "cell_type": "code",
   "execution_count": 172,
   "metadata": {},
   "outputs": [
    {
     "name": "stdout",
     "output_type": "stream",
     "text": [
      "(81, 25088)\n",
      "0.9753086419753086\n"
     ]
    }
   ],
   "source": [
    "clf = LinearSVC(random_state=0, tol=1e-5)\n",
    "clf.fit(X_TF_train, y_TF_train)\n",
    "\n",
    "predicted = clf.predict(X_TF_test)\n",
    "print(X_TF_test.shape)\n",
    "\n",
    "# get the accuracy\n",
    "print (accuracy_score(y_TF_test, predicted))"
   ]
  },
  {
   "cell_type": "code",
   "execution_count": 175,
   "metadata": {
    "scrolled": true
   },
   "outputs": [
    {
     "name": "stdout",
     "output_type": "stream",
     "text": [
      "                precision    recall  f1-score   support\n",
      "\n",
      "    kwakjuheon       1.00      1.00      1.00         2\n",
      "       kimjiho       1.00      1.00      1.00         2\n",
      "     songyejin       1.00      1.00      1.00         2\n",
      "     parksohui       1.00      1.00      1.00         1\n",
      "   moonyeonwoo       1.00      1.00      1.00         1\n",
      "     kangsubin       1.00      1.00      1.00         1\n",
      "  leekyeongeun       1.00      1.00      1.00         1\n",
      "   chochaeyeon       1.00      0.50      0.67         2\n",
      "  shindonghwan       1.00      1.00      1.00         1\n",
      "     kwakmirae       1.00      1.00      1.00         1\n",
      "  kimhyeryeong       1.00      1.00      1.00         2\n",
      "   chaeminjoon       1.00      1.00      1.00         2\n",
      "    kwakyiheon       1.00      1.00      1.00         1\n",
      "      leesumin       1.00      1.00      1.00         1\n",
      "   choihayoung       1.00      1.00      1.00         2\n",
      "     kangyeseo       1.00      1.00      1.00         1\n",
      "   kwakmihyang       1.00      1.00      1.00         1\n",
      "       eundano       1.00      1.00      1.00         1\n",
      "      limjinju       1.00      1.00      1.00         2\n",
      "      kwonyuna       1.00      1.00      1.00         1\n",
      "  kwoneunkyung       1.00      1.00      1.00         2\n",
      "       johaesu       1.00      1.00      1.00         2\n",
      "  leebyeongjin       1.00      1.00      1.00         2\n",
      "hyeonsanghyeok       1.00      0.50      0.67         2\n",
      "        jennie       1.00      1.00      1.00         1\n",
      "   simseungmin       1.00      1.00      1.00         1\n",
      "      parksomi       0.50      1.00      0.67         1\n",
      "       yuminji       1.00      1.00      1.00         2\n",
      "     parksojin       1.00      1.00      1.00         2\n",
      "   kwonyeonwoo       1.00      1.00      1.00         2\n",
      "    ladakyeong       1.00      1.00      1.00         1\n",
      "    janghyomin       1.00      1.00      1.00         2\n",
      "     parkeunbi       1.00      1.00      1.00         1\n",
      "   parkdayeung       1.00      1.00      1.00         1\n",
      "    parkjongae       1.00      1.00      1.00         1\n",
      "      hansohee       1.00      1.00      1.00         2\n",
      "    janggyeoul       1.00      1.00      1.00         1\n",
      "      leewooju       1.00      1.00      1.00         1\n",
      "     nomyungok       1.00      1.00      1.00         2\n",
      "   heoyoonjung       1.00      1.00      1.00         2\n",
      "     heojaemin       1.00      1.00      1.00         2\n",
      "     kimsoyung       1.00      1.00      1.00         2\n",
      "      chuminha       1.00      1.00      1.00         2\n",
      "    kimhyeonsu       1.00      1.00      1.00         2\n",
      "   chaesonghwa       1.00      1.00      1.00         1\n",
      "     kwonyulim       0.50      1.00      0.67         1\n",
      "   kimminyoung       1.00      1.00      1.00         2\n",
      "     jueunhong       1.00      1.00      1.00         2\n",
      "    leejeongju       1.00      1.00      1.00         1\n",
      "      kimsubin       1.00      1.00      1.00         1\n",
      "    kimkihyeon       1.00      1.00      1.00         1\n",
      "      kimminji       1.00      1.00      1.00         2\n",
      "  myeongjaewon       1.00      1.00      1.00         1\n",
      "    kimjihyeon       1.00      1.00      1.00         2\n",
      "\n",
      "      accuracy                           0.98        81\n",
      "     macro avg       0.98      0.98      0.98        81\n",
      "  weighted avg       0.99      0.98      0.98        81\n",
      "\n"
     ]
    }
   ],
   "source": [
    "from sklearn.metrics import classification_report\n",
    "target_names = [class_name.split('_')[1] for class_name in class_names]\n",
    "print(classification_report(y_TF_test, predicted, target_names=target_names))"
   ]
  },
  {
   "cell_type": "code",
   "execution_count": 200,
   "metadata": {},
   "outputs": [],
   "source": [
    "from sklearn.metrics import roc_curve, auc\n",
    "\n",
    "fpr = dict()\n",
    "tpr = dict()\n",
    "roc_auc = dict()\n",
    "y_TF_score = clf.fit(X_TF_train, y_TF_train).decision_function(X_TF_test)"
   ]
  },
  {
   "cell_type": "code",
   "execution_count": 186,
   "metadata": {},
   "outputs": [],
   "source": [
    "for i in range(0, len(class_names)):\n",
    "    fpr[i], tpr[i], _ = roc_curve(y_TF_test_encoded[:, i], y_TF_score[:, i])\n",
    "    roc_auc[i] = auc(fpr[i], tpr[i])\n",
    "    \n",
    "fpr[\"micro\"], tpr[\"micro\"], _ = roc_curve(y_TF_test_encoded.ravel(), y_TF_score.ravel())\n",
    "roc_auc[\"micro\"] = auc(fpr[\"micro\"], tpr[\"micro\"])"
   ]
  },
  {
   "cell_type": "code",
   "execution_count": 199,
   "metadata": {},
   "outputs": [
    {
     "name": "stderr",
     "output_type": "stream",
     "text": [
      "/usr/local/lib/python3.6/dist-packages/ipykernel_launcher.py:9: DeprecationWarning: scipy.interp is deprecated and will be removed in SciPy 2.0.0, use numpy.interp instead\n",
      "  if __name__ == '__main__':\n"
     ]
    },
    {
     "data": {
      "image/png": "[encoded data removed]",
      "text/plain": [
       "<Figure size 1008x720 with 1 Axes>"
      ]
     },
     "metadata": {
      "needs_background": "light"
     },
     "output_type": "display_data"
    }
   ],
   "source": [
    "from scipy import interp\n",
    "from itertools import cycle\n",
    "\n",
    "all_fpr = np.unique(np.concatenate([fpr[i] for i in range(0, len(class_names))]))\n",
    "\n",
    "# Then interpolate all ROC curves at this points\n",
    "mean_tpr = np.zeros_like(all_fpr)\n",
    "for i in range(0, len(class_names)):\n",
    "    mean_tpr += interp(all_fpr, fpr[i], tpr[i])\n",
    "\n",
    "# Finally average it and compute AUC\n",
    "mean_tpr /= len(class_names)\n",
    "\n",
    "fpr[\"macro\"] = all_fpr\n",
    "tpr[\"macro\"] = mean_tpr\n",
    "roc_auc[\"macro\"] = auc(fpr[\"macro\"], tpr[\"macro\"])\n",
    "\n",
    "# Plot all ROC curves\n",
    "plt.figure(figsize = (14,10))\n",
    "plt.plot(fpr[\"micro\"], tpr[\"micro\"],\n",
    "         label='micro-average ROC curve (area = {0:0.2f})'\n",
    "               ''.format(roc_auc[\"micro\"]),\n",
    "         color='deeppink', linestyle=':', linewidth=4)\n",
    "\n",
    "plt.plot(fpr[\"macro\"], tpr[\"macro\"],\n",
    "         label='macro-average ROC curve (area = {0:0.2f})'\n",
    "               ''.format(roc_auc[\"macro\"]),\n",
    "         color='navy', linestyle=':', linewidth=4)\n",
    "\n",
    "colors = cycle(['aqua', 'darkorange', 'cornflowerblue'])\n",
    "lw =2\n",
    "for i, color in zip(range(len(class_names)), colors):\n",
    "    plt.plot(fpr[i], tpr[i], color=color, lw=lw,\n",
    "             label='ROC curve of class {0} (area = {1:0.2f})'\n",
    "             ''.format(i, roc_auc[i]))\n",
    "\n",
    "# plt.plot([0, 1], [0, 1], 'k--', lw=lw)\n",
    "plt.xlim([0.0, 1.0])\n",
    "plt.ylim([0.0, 1.05])\n",
    "plt.xlabel('False Positive Rate')\n",
    "plt.ylabel('True Positive Rate')\n",
    "plt.title('ROC Curve for VGG19-SVM Model')\n",
    "# plt.legend(loc=\"lower right\")\n",
    "plt.show()"
   ]
  },
  {
   "cell_type": "code",
   "execution_count": 17,
   "metadata": {
    "collapsed": true
   },
   "outputs": [
    {
     "name": "stderr",
     "output_type": "stream",
     "text": [
      "Lossy conversion from float32 to uint8. Range [0.0, 255.0]. Convert image to uint8 prior to saving to suppress this warning.\n",
      "Lossy conversion from float32 to uint8. Range [0.0, 255.0]. Convert image to uint8 prior to saving to suppress this warning.\n",
      "Lossy conversion from float32 to uint8. Range [0.0, 255.0]. Convert image to uint8 prior to saving to suppress this warning.\n"
     ]
    },
    {
     "name": "stdout",
     "output_type": "stream",
     "text": [
      "0 ../feature/feature_fbank_validation/2017019740001_kwakjuheon/2017019740001_kwakjuheon_4.npy\n",
      "1 ../feature/feature_fbank_validation/2017019740001_kwakjuheon/2017019740001_kwakjuheon_1.npy\n",
      "2 ../feature/feature_fbank_validation/2017019740001_kwakjuheon/2017019740001_kwakjuheon_0.npy\n"
     ]
    },
    {
     "name": "stderr",
     "output_type": "stream",
     "text": [
      "Lossy conversion from float32 to uint8. Range [0.0, 255.0]. Convert image to uint8 prior to saving to suppress this warning.\n",
      "Lossy conversion from float32 to uint8. Range [0.0, 255.0]. Convert image to uint8 prior to saving to suppress this warning.\n",
      "Lossy conversion from float32 to uint8. Range [0.0, 255.0]. Convert image to uint8 prior to saving to suppress this warning.\n"
     ]
    },
    {
     "name": "stdout",
     "output_type": "stream",
     "text": [
      "3 ../feature/feature_fbank_validation/2017019740001_kwakjuheon/2017019740001_kwakjuheon_2.npy\n",
      "4 ../feature/feature_fbank_validation/2017019740001_kwakjuheon/2017019740001_kwakjuheon_3.npy\n",
      "5 ../feature/feature_fbank_validation/2017019880001_kimsubin/2017019880001_kimsubin_1.npy\n"
     ]
    },
    {
     "name": "stderr",
     "output_type": "stream",
     "text": [
      "Lossy conversion from float32 to uint8. Range [0.0, 255.0]. Convert image to uint8 prior to saving to suppress this warning.\n",
      "Lossy conversion from float32 to uint8. Range [0.0, 255.0]. Convert image to uint8 prior to saving to suppress this warning.\n",
      "Lossy conversion from float32 to uint8. Range [0.0, 255.0]. Convert image to uint8 prior to saving to suppress this warning.\n"
     ]
    },
    {
     "name": "stdout",
     "output_type": "stream",
     "text": [
      "6 ../feature/feature_fbank_validation/2017019880001_kimsubin/2017019880001_kimsubin_4.npy\n",
      "7 ../feature/feature_fbank_validation/2017019880001_kimsubin/2017019880001_kimsubin_3.npy\n",
      "8 ../feature/feature_fbank_validation/2017019880001_kimsubin/2017019880001_kimsubin_0.npy\n"
     ]
    },
    {
     "name": "stderr",
     "output_type": "stream",
     "text": [
      "Lossy conversion from float32 to uint8. Range [0.0, 255.0]. Convert image to uint8 prior to saving to suppress this warning.\n"
     ]
    },
    {
     "name": "stdout",
     "output_type": "stream",
     "text": [
      "9 ../feature/feature_fbank_validation/2017019880001_kimsubin/2017019880001_kimsubin_2.npy\n",
      "Predict : 2017019740001_kwakjuheon , Real : 2017019740001_kwakjuheon\n",
      "Predict : 2017019740001_kwakjuheon , Real : 2017019740001_kwakjuheon\n",
      "Predict : 2017019740001_kwakjuheon , Real : 2017019740001_kwakjuheon\n",
      "Predict : 2017019740001_kwakjuheon , Real : 2017019740001_kwakjuheon\n",
      "Predict : 2017019740001_kwakjuheon , Real : 2017019740001_kwakjuheon\n",
      "Predict : 2017019880001_kimsubin , Real : 2017019880001_kimsubin\n",
      "Predict : 2017019880001_kimsubin , Real : 2017019880001_kimsubin\n",
      "Predict : 2017019880001_kimsubin , Real : 2017019880001_kimsubin\n",
      "Predict : 2017019880001_kimsubin , Real : 2017019880001_kimsubin\n",
      "Predict : 2017019880001_kimsubin , Real : 2017019880001_kimsubin\n",
      "1.0\n"
     ]
    }
   ],
   "source": [
    "clf = LinearSVC(random_state=0, tol=1e-5)\n",
    "clf.fit(X_TF_train, y_TF_train)\n",
    "\n",
    "x_validation_list=[]\n",
    "y_validation_list=[]\n",
    "\n",
    "val_class_names = os.listdir(\"../feature/feature_fbank_validation/\")\n",
    "val_class_names.sort()\n",
    "val_fname=[]\n",
    "\n",
    "for i in range(0,len(val_class_names)):\n",
    "    val_files=os.listdir(\"../feature/feature_fbank_validation/\"+val_class_names[i])\n",
    "    val_files = [file for file in val_files if file.endswith(\".npy\")]\n",
    "    for j in range(0, len(val_files)):\n",
    "        val_fname.append(\"../feature/feature_fbank_validation/\"+val_class_names[i]+\"/\"+val_files[j])\n",
    "\n",
    "X_TF_pred = []\n",
    "y_TF_pred = []\n",
    "\n",
    "for i,fname in zip(range(0,len(val_fname)), val_fname):\n",
    "    print(i,fname)\n",
    "    \n",
    "    fbank = image.load_img(val_npy_2_png(fname.split('/')[3],fname.split('/')[4]), target_size=(224,224))\n",
    "    tempX = image.img_to_array(fbank)\n",
    "    tempX = np.expand_dims(tempX, axis=0)\n",
    "    tempX = preprocess_input(tempX)\n",
    "    \n",
    "    flatten = model.predict(tempX)\n",
    "    \n",
    "    X_TF_pred.append(list(flatten[0]))\n",
    "    y_TF_pred.append(val_class_names.index(fname.split('/')[3]))\n",
    "\n",
    "    \n",
    "X_TF_pred = np.array(X_TF_pred)\n",
    "y_TF_pred = np.array(y_TF_pred)\n",
    "y_TF_pred_encode = tf.keras.utils.to_categorical(y_TF_pred)\n",
    "\n",
    "predicted = clf.predict(X_TF_pred)\n",
    "real =[]\n",
    "for i,pred in zip(range(0, len(predicted)), predicted) :\n",
    "    print(\"Predict :\",class_names[pred], \", Real :\", val_class_names[y_TF_pred[i]])\n",
    "    real.append(class_names.index(val_class_names[y_TF_pred[i]]))\n",
    "# \n",
    "# get the accuracy\n",
    "print (accuracy_score(real, predicted))"
   ]
  },
  {
   "cell_type": "markdown",
   "metadata": {},
   "source": [
    "### Global Average Pooling"
   ]
  },
  {
   "cell_type": "code",
   "execution_count": null,
   "metadata": {},
   "outputs": [],
   "source": []
  }
 ],
 "metadata": {
  "kernelspec": {
   "display_name": "Python 3",
   "language": "python",
   "name": "python3"
  },
  "language_info": {
   "codemirror_mode": {
    "name": "ipython",
    "version": 3
   },
   "file_extension": ".py",
   "mimetype": "text/x-python",
   "name": "python",
   "nbconvert_exporter": "python",
   "pygments_lexer": "ipython3",
   "version": "3.6.8"
  }
 },
 "nbformat": 4,
 "nbformat_minor": 4
}
