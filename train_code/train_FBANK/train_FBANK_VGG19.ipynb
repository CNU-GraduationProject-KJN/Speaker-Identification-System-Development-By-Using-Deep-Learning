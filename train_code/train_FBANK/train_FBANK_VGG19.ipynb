{
 "cells": [
  {
   "cell_type": "code",
   "execution_count": 259,
   "metadata": {},
   "outputs": [
    {
     "name": "stdout",
     "output_type": "stream",
     "text": [
      "2.2.0\n"
     ]
    }
   ],
   "source": [
    "import os\n",
    "# !pip3 install tensorflow\n",
    "import tensorflow as tf\n",
    "from tensorflow.keras.applications.vgg19 import VGG19\n",
    "from tensorflow.keras.preprocessing import image\n",
    "from tensorflow.keras.applications.vgg19 import preprocess_input\n",
    "from tensorflow.keras.models import Model\n",
    "import numpy as np\n",
    "\n",
    "\n",
    "print(tf.__version__)"
   ]
  },
  {
   "cell_type": "markdown",
   "metadata": {},
   "source": [
    "## Load VGG19 Model"
   ]
  },
  {
   "cell_type": "code",
   "execution_count": 260,
   "metadata": {},
   "outputs": [
    {
     "name": "stdout",
     "output_type": "stream",
     "text": [
      "Model: \"vgg19\"\n",
      "_________________________________________________________________\n",
      "Layer (type)                 Output Shape              Param #   \n",
      "=================================================================\n",
      "input_3 (InputLayer)         [(None, 224, 224, 3)]     0         \n",
      "_________________________________________________________________\n",
      "block1_conv1 (Conv2D)        (None, 224, 224, 64)      1792      \n",
      "_________________________________________________________________\n",
      "block1_conv2 (Conv2D)        (None, 224, 224, 64)      36928     \n",
      "_________________________________________________________________\n",
      "block1_pool (MaxPooling2D)   (None, 112, 112, 64)      0         \n",
      "_________________________________________________________________\n",
      "block2_conv1 (Conv2D)        (None, 112, 112, 128)     73856     \n",
      "_________________________________________________________________\n",
      "block2_conv2 (Conv2D)        (None, 112, 112, 128)     147584    \n",
      "_________________________________________________________________\n",
      "block2_pool (MaxPooling2D)   (None, 56, 56, 128)       0         \n",
      "_________________________________________________________________\n",
      "block3_conv1 (Conv2D)        (None, 56, 56, 256)       295168    \n",
      "_________________________________________________________________\n",
      "block3_conv2 (Conv2D)        (None, 56, 56, 256)       590080    \n",
      "_________________________________________________________________\n",
      "block3_conv3 (Conv2D)        (None, 56, 56, 256)       590080    \n",
      "_________________________________________________________________\n",
      "block3_conv4 (Conv2D)        (None, 56, 56, 256)       590080    \n",
      "_________________________________________________________________\n",
      "block3_pool (MaxPooling2D)   (None, 28, 28, 256)       0         \n",
      "_________________________________________________________________\n",
      "block4_conv1 (Conv2D)        (None, 28, 28, 512)       1180160   \n",
      "_________________________________________________________________\n",
      "block4_conv2 (Conv2D)        (None, 28, 28, 512)       2359808   \n",
      "_________________________________________________________________\n",
      "block4_conv3 (Conv2D)        (None, 28, 28, 512)       2359808   \n",
      "_________________________________________________________________\n",
      "block4_conv4 (Conv2D)        (None, 28, 28, 512)       2359808   \n",
      "_________________________________________________________________\n",
      "block4_pool (MaxPooling2D)   (None, 14, 14, 512)       0         \n",
      "_________________________________________________________________\n",
      "block5_conv1 (Conv2D)        (None, 14, 14, 512)       2359808   \n",
      "_________________________________________________________________\n",
      "block5_conv2 (Conv2D)        (None, 14, 14, 512)       2359808   \n",
      "_________________________________________________________________\n",
      "block5_conv3 (Conv2D)        (None, 14, 14, 512)       2359808   \n",
      "_________________________________________________________________\n",
      "block5_conv4 (Conv2D)        (None, 14, 14, 512)       2359808   \n",
      "_________________________________________________________________\n",
      "block5_pool (MaxPooling2D)   (None, 7, 7, 512)         0         \n",
      "_________________________________________________________________\n",
      "flatten (Flatten)            (None, 25088)             0         \n",
      "_________________________________________________________________\n",
      "fc1 (Dense)                  (None, 4096)              102764544 \n",
      "_________________________________________________________________\n",
      "fc2 (Dense)                  (None, 4096)              16781312  \n",
      "_________________________________________________________________\n",
      "predictions (Dense)          (None, 1000)              4097000   \n",
      "=================================================================\n",
      "Total params: 143,667,240\n",
      "Trainable params: 143,667,240\n",
      "Non-trainable params: 0\n",
      "_________________________________________________________________\n"
     ]
    }
   ],
   "source": [
    "'''\n",
    "VGG19 parameters \n",
    "- include_top = Boolean, whether to include the 3-FC layers at the top of the network\n",
    "- weights = path to wieghts file, 'imagenet'(pre-training on ImageNet), None\n",
    "- input_tensor = optinal Keras tensor to use as image input for the model\n",
    "- input_shape = It should have 3 input channels \n",
    "- pooling = Optional pooling mode for feature extraction when include_top is False.\n",
    "- classes = optional number of classes to classify images into, \n",
    "        only to be specified if include_top is True, \n",
    "        and if no weights argument is specified.\n",
    "- classifier_activation = str or callable, Ignored unless include_top=True. ex) softmax\n",
    "\n",
    "VGG19 returns keras.Model instance\n",
    "'''\n",
    "base_model = VGG19(weights='imagenet')\n",
    "base_model.summary()"
   ]
  },
  {
   "cell_type": "code",
   "execution_count": 261,
   "metadata": {
    "scrolled": true
   },
   "outputs": [],
   "source": [
    "model = Model(inputs=base_model.input, outputs=base_model.get_layer('flatten').output)"
   ]
  },
  {
   "cell_type": "code",
   "execution_count": 262,
   "metadata": {},
   "outputs": [
    {
     "name": "stdout",
     "output_type": "stream",
     "text": [
      "Model: \"model_2\"\n",
      "_________________________________________________________________\n",
      "Layer (type)                 Output Shape              Param #   \n",
      "=================================================================\n",
      "input_3 (InputLayer)         [(None, 224, 224, 3)]     0         \n",
      "_________________________________________________________________\n",
      "block1_conv1 (Conv2D)        (None, 224, 224, 64)      1792      \n",
      "_________________________________________________________________\n",
      "block1_conv2 (Conv2D)        (None, 224, 224, 64)      36928     \n",
      "_________________________________________________________________\n",
      "block1_pool (MaxPooling2D)   (None, 112, 112, 64)      0         \n",
      "_________________________________________________________________\n",
      "block2_conv1 (Conv2D)        (None, 112, 112, 128)     73856     \n",
      "_________________________________________________________________\n",
      "block2_conv2 (Conv2D)        (None, 112, 112, 128)     147584    \n",
      "_________________________________________________________________\n",
      "block2_pool (MaxPooling2D)   (None, 56, 56, 128)       0         \n",
      "_________________________________________________________________\n",
      "block3_conv1 (Conv2D)        (None, 56, 56, 256)       295168    \n",
      "_________________________________________________________________\n",
      "block3_conv2 (Conv2D)        (None, 56, 56, 256)       590080    \n",
      "_________________________________________________________________\n",
      "block3_conv3 (Conv2D)        (None, 56, 56, 256)       590080    \n",
      "_________________________________________________________________\n",
      "block3_conv4 (Conv2D)        (None, 56, 56, 256)       590080    \n",
      "_________________________________________________________________\n",
      "block3_pool (MaxPooling2D)   (None, 28, 28, 256)       0         \n",
      "_________________________________________________________________\n",
      "block4_conv1 (Conv2D)        (None, 28, 28, 512)       1180160   \n",
      "_________________________________________________________________\n",
      "block4_conv2 (Conv2D)        (None, 28, 28, 512)       2359808   \n",
      "_________________________________________________________________\n",
      "block4_conv3 (Conv2D)        (None, 28, 28, 512)       2359808   \n",
      "_________________________________________________________________\n",
      "block4_conv4 (Conv2D)        (None, 28, 28, 512)       2359808   \n",
      "_________________________________________________________________\n",
      "block4_pool (MaxPooling2D)   (None, 14, 14, 512)       0         \n",
      "_________________________________________________________________\n",
      "block5_conv1 (Conv2D)        (None, 14, 14, 512)       2359808   \n",
      "_________________________________________________________________\n",
      "block5_conv2 (Conv2D)        (None, 14, 14, 512)       2359808   \n",
      "_________________________________________________________________\n",
      "block5_conv3 (Conv2D)        (None, 14, 14, 512)       2359808   \n",
      "_________________________________________________________________\n",
      "block5_conv4 (Conv2D)        (None, 14, 14, 512)       2359808   \n",
      "_________________________________________________________________\n",
      "block5_pool (MaxPooling2D)   (None, 7, 7, 512)         0         \n",
      "_________________________________________________________________\n",
      "flatten (Flatten)            (None, 25088)             0         \n",
      "=================================================================\n",
      "Total params: 20,024,384\n",
      "Trainable params: 20,024,384\n",
      "Non-trainable params: 0\n",
      "_________________________________________________________________\n"
     ]
    }
   ],
   "source": [
    "model.summary()"
   ]
  },
  {
   "cell_type": "code",
   "execution_count": 263,
   "metadata": {
    "scrolled": true
   },
   "outputs": [
    {
     "name": "stdout",
     "output_type": "stream",
     "text": [
      "['kwakjuheon', 'kimjiho', 'songyejin', 'parksohui', 'moonyeonwoo', 'kangsubin', 'leekyeongeun', 'chochaeyeon', 'shindonghwan', 'kwakmirae', 'kimhyeryeong', 'chaeminjoon', 'kwakyiheon', 'leesumin', 'choihayoung', 'kangyeseo', 'kwakmihyang', 'eundano', 'limjinju', 'kimseongje', 'kwakbokyeong', 'ahnhyojin', 'heosehun', 'choijiwon', 'ahnjeongsuk', 'parkyeongseon', 'kwaksangpil', 'kodohyeon', 'limdonggeun', 'kanghyeyeon', 'jominseok', 'kwonyuna', 'kwoneunkyung', 'johaesu', 'leebyeongjin', 'hyeonsanghyeok', 'jennie', 'simseungmin', 'parksomi', 'yuminji', 'parksojin', 'kwonyeonwoo', 'ladakyeong', 'janghyomin', 'parkeunbi', 'parkdayeung', 'parkjongae', 'hansohee', 'janggyeoul', 'leewooju', 'nomyungok', 'heoyoonjung', 'heojaemin', 'kimsoyung', 'chuminha', 'kimhyeonsu', 'chaesonghwa', 'kwonyulim', 'kimminyoung', 'jueunhong', 'leejeongju', 'kwonnahui', 'kimdayeong', 'kwonsundo', 'kimhyeona', 'leehyojin', 'yuminji', 'jeonghojun', 'kanghyeyun', 'ohjiwon', 'kimdajeong', 'kimsubin', 'kimkihyeon', 'kimminji', 'myeongjaewon', 'kimjihyeon', 'choisuyeon', 'hwanghyebin', 'jangsoojin', 'kimhongjoo', 'kimhyorin', 'kimjihyun', 'kimsongyi', 'kotaewan', 'leedanbee', 'leejungjoon', 'parkjongkook', 'sungsoohyun', 'wonjoonho', 'wonsonghee', 'yoonhyeeun', 'kimjuyeong', 'kimjaein', 'yoohaekyung', 'hanyukyung', 'yoojungkyun', 'parkjongsang', 'leesol', 'kimsunghan', 'kimminji', 'hanseungoh', 'ahnjiwoo', 'seoyeonjoo', 'kimnoeun', 'leesujung', 'songhyunjin', 'kimjihye', 'jusunghyun', 'baejaehong', 'seojuyeon', 'shinheewook', 'kimdaeun', 'namyeji', 'leegawon', 'yoonsuhyun']\n"
     ]
    }
   ],
   "source": [
    "class_names = os.listdir(\"../../feature/feature_fbank/\")\n",
    "class_names.sort()\n",
    "   \n",
    "forPrintList = [class_name.split('_')[1] for class_name in class_names]\n",
    "print(forPrintList)"
   ]
  },
  {
   "cell_type": "code",
   "execution_count": 264,
   "metadata": {
    "scrolled": true
   },
   "outputs": [
    {
     "name": "stdout",
     "output_type": "stream",
     "text": [
      "2017019740001\n",
      "2017019740001_kwakjuheon_4.npy 0\n",
      "2017019740001_kwakjuheon_1.npy 1\n",
      "2017019740001_kwakjuheon_0.npy 2\n",
      "2017019740001_kwakjuheon_2.npy 3\n",
      "2017019740001_kwakjuheon_3.npy 4\n",
      "2017019740002\n",
      "2017019740002_kimjiho_3.npy 0\n",
      "2017019740002_kimjiho_1.npy 1\n",
      "2017019740002_kimjiho_2.npy 2\n",
      "2017019740002_kimjiho_4.npy 3\n",
      "2017019740002_kimjiho_0.npy 4\n",
      "2017019740003\n",
      "2017019740003_songyejin_2.npy 0\n",
      "2017019740003_songyejin_3.npy 1\n",
      "2017019740003_songyejin_4.npy 2\n",
      "2017019740003_songyejin_1.npy 3\n",
      "2017019740003_songyejin_0.npy 4\n",
      "2017019740004\n",
      "2017019740004_parksohui_2.npy 0\n",
      "2017019740004_parksohui_1.npy 1\n",
      "2017019740004_parksohui_3.npy 2\n",
      "2017019740004_parksohui_0.npy 3\n",
      "2017019740004_parksohui_4.npy 4\n",
      "2017019740005\n",
      "2017019740005_moonyeonwoo_3.npy 0\n",
      "2017019740005_moonyeonwoo_2.npy 1\n",
      "2017019740005_moonyeonwoo_0.npy 2\n",
      "2017019740005_moonyeonwoo_4.npy 3\n",
      "2017019740005_moonyeonwoo_1.npy 4\n",
      "2017019740006\n",
      "2017019740006_kangsubin_3.npy 0\n",
      "2017019740006_kangsubin_1.npy 1\n",
      "2017019740006_kangsubin_4.npy 2\n",
      "2017019740006_kangsubin_2.npy 3\n",
      "2017019740006_kangsubin_0.npy 4\n",
      "2017019740007\n",
      "2017019740007_leekyeongeun_2.npy 0\n",
      "2017019740007_leekyeongeun_4.npy 1\n",
      "2017019740007_leekyeongeun_0.npy 2\n",
      "2017019740007_leekyeongeun_3.npy 3\n",
      "2017019740007_leekyeongeun_1.npy 4\n",
      "2017019740008\n",
      "2017019740008_chochaeyeon_4.npy 0\n",
      "2017019740008_chochaeyeon_3.npy 1\n",
      "2017019740008_chochaeyeon_2.npy 2\n",
      "2017019740008_chochaeyeon_1.npy 3\n",
      "2017019740008_chochaeyeon_0.npy 4\n",
      "2017019740009\n",
      "2017019740009_shindonghwan_1.npy 0\n",
      "2017019740009_shindonghwan_2.npy 1\n",
      "2017019740009_shindonghwan_4.npy 2\n",
      "2017019740009_shindonghwan_0.npy 3\n",
      "2017019740009_shindonghwan_3.npy 4\n",
      "2017019740010\n",
      "2017019740010_kwakmirae_4.npy 0\n",
      "2017019740010_kwakmirae_0.npy 1\n",
      "2017019740010_kwakmirae_1.npy 2\n",
      "2017019740010_kwakmirae_2.npy 3\n",
      "2017019740010_kwakmirae_3.npy 4\n",
      "2017019740011\n",
      "2017019740011_kimhyeryeong_1.npy 0\n",
      "2017019740011_kimhyeryeong_3.npy 1\n",
      "2017019740011_kimhyeryeong_0.npy 2\n",
      "2017019740011_kimhyeryeong_4.npy 3\n",
      "2017019740011_kimhyeryeong_2.npy 4\n",
      "2017019740012\n",
      "2017019740012_chaeminjoon_0.npy 0\n",
      "2017019740012_chaeminjoon_4.npy 1\n",
      "2017019740012_chaeminjoon_1.npy 2\n",
      "2017019740012_chaeminjoon_2.npy 3\n",
      "2017019740012_chaeminjoon_3.npy 4\n",
      "2017019740013\n",
      "2017019740013_kwakyiheon_0.npy 0\n",
      "2017019740013_kwakyiheon_1.npy 1\n",
      "2017019740013_kwakyiheon_4.npy 2\n",
      "2017019740013_kwakyiheon_2.npy 3\n",
      "2017019740013_kwakyiheon_3.npy 4\n",
      "2017019740014\n",
      "2017019740014_leesumin_0.npy 0\n",
      "2017019740014_leesumin_4.npy 1\n",
      "2017019740014_leesumin_2.npy 2\n",
      "2017019740014_leesumin_1.npy 3\n",
      "2017019740014_leesumin_3.npy 4\n",
      "2017019740015\n",
      "2017019740015_choihayoung_3.npy 0\n",
      "2017019740015_choihayoung_1.npy 1\n",
      "2017019740015_choihayoung_4.npy 2\n",
      "2017019740015_choihayoung_2.npy 3\n",
      "2017019740015_choihayoung_0.npy 4\n",
      "2017019740016\n",
      "2017019740016_kangyeseo_0.npy 0\n",
      "2017019740016_kangyeseo_3.npy 1\n",
      "2017019740016_kangyeseo_2.npy 2\n",
      "2017019740016_kangyeseo_4.npy 3\n",
      "2017019740016_kangyeseo_1.npy 4\n",
      "2017019740017\n",
      "2017019740017_kwakmihyang_3.npy 0\n",
      "2017019740017_kwakmihyang_2.npy 1\n",
      "2017019740017_kwakmihyang_1.npy 2\n",
      "2017019740017_kwakmihyang_4.npy 3\n",
      "2017019740017_kwakmihyang_0.npy 4\n",
      "2017019740018\n",
      "2017019740018_eundano_0.npy 0\n",
      "2017019740018_eundano_4.npy 1\n",
      "2017019740018_eundano_1.npy 2\n",
      "2017019740018_eundano_3.npy 3\n",
      "2017019740018_eundano_2.npy 4\n",
      "2017019740019\n",
      "2017019740019_limjinju_1.npy 0\n",
      "2017019740019_limjinju_3.npy 1\n",
      "2017019740019_limjinju_4.npy 2\n",
      "2017019740019_limjinju_2.npy 3\n",
      "2017019740019_limjinju_0.npy 4\n",
      "2017019740020\n",
      "2017019740020_kimseongje_3.npy 0\n",
      "2017019740020_kimseongje_1.npy 1\n",
      "2017019740020_kimseongje_4.npy 2\n",
      "2017019740020_kimseongje_2.npy 3\n",
      "2017019740020_kimseongje_0.npy 4\n",
      "2017019740021\n",
      "2017019740021_kwakbokyeong_3.npy 0\n",
      "2017019740021_kwakbokyeong_2.npy 1\n",
      "2017019740021_kwakbokyeong_0.npy 2\n",
      "2017019740021_kwakbokyeong_1.npy 3\n",
      "2017019740021_kwakbokyeong_4.npy 4\n",
      "2017019740022\n",
      "2017019740022_ahnhyojin_0.npy 0\n",
      "2017019740022_ahnhyojin_1.npy 1\n",
      "2017019740022_ahnhyojin_2.npy 2\n",
      "2017019740022_ahnhyojin_3.npy 3\n",
      "2017019740022_ahnhyojin_4.npy 4\n",
      "2017019740023\n",
      "2017019740023_heosehun_3.npy 0\n",
      "2017019740023_heosehun_0.npy 1\n",
      "2017019740023_heosehun_4.npy 2\n",
      "2017019740023_heosehun_2.npy 3\n",
      "2017019740023_heosehun_1.npy 4\n",
      "2017019740024\n",
      "2017019740024_choijiwon_2.npy 0\n",
      "2017019740024_choijiwon_0.npy 1\n",
      "2017019740024_choijiwon_3.npy 2\n",
      "2017019740024_choijiwon_1.npy 3\n",
      "2017019740024_choijiwon_4.npy 4\n",
      "2017019740025\n",
      "2017019740025_ahnjeongsuk_2.npy 0\n",
      "2017019740025_ahnjeongsuk_4.npy 1\n",
      "2017019740025_ahnjeongsuk_1.npy 2\n",
      "2017019740025_ahnjeongsuk_0.npy 3\n",
      "2017019740025_ahnjeongsuk_3.npy 4\n",
      "2017019740026\n",
      "2017019740026_parkyeongseon_1.npy 0\n",
      "2017019740026_parkyeongseon_0.npy 1\n",
      "2017019740026_parkyeongseon_2.npy 2\n",
      "2017019740026_parkyeongseon_4.npy 3\n",
      "2017019740026_parkyeongseon_3.npy 4\n",
      "2017019740027\n",
      "2017019740027_kwaksangpil_1.npy 0\n",
      "2017019740027_kwaksangpil_3.npy 1\n",
      "2017019740027_kwaksangpil_2.npy 2\n",
      "2017019740027_kwaksangpil_0.npy 3\n",
      "2017019740027_kwaksangpil_4.npy 4\n",
      "2017019740028\n",
      "2017019740028_kodohyeon_2.npy 0\n",
      "2017019740028_kodohyeon_4.npy 1\n",
      "2017019740028_kodohyeon_1.npy 2\n",
      "2017019740028_kodohyeon_3.npy 3\n",
      "2017019740028_kodohyeon_0.npy 4\n",
      "2017019740029\n",
      "2017019740029_limdonggeun_5.npy 0\n",
      "2017019740029_limdonggeun_4.npy 1\n",
      "2017019740029_limdonggeun_2.npy 2\n",
      "2017019740029_limdonggeun_3.npy 3\n",
      "2017019740029_limdonggeun_1.npy 4\n",
      "2017019740029_limdonggeun_0.npy 5\n",
      "2017019740030\n",
      "2017019740030_kanghyeyeon_0.npy 0\n",
      "2017019740030_kanghyeyeon_1.npy 1\n",
      "2017019740030_kanghyeyeon_4.npy 2\n",
      "2017019740030_kanghyeyeon_3.npy 3\n",
      "2017019740030_kanghyeyeon_2.npy 4\n",
      "2017019740031\n",
      "2017019740031_jominseok_0.npy 0\n",
      "2017019740031_jominseok_1.npy 1\n",
      "2017019740031_jominseok_2.npy 2\n",
      "2017019740031_jominseok_4.npy 3\n",
      "2017019740031_jominseok_3.npy 4\n",
      "2017019770001\n",
      "2017019770001_kwonyuna_1.npy 0\n",
      "2017019770001_kwonyuna_0.npy 1\n",
      "2017019770001_kwonyuna_3.npy 2\n",
      "2017019770001_kwonyuna_2.npy 3\n",
      "2017019770001_kwonyuna_4.npy 4\n",
      "2017019770002\n",
      "2017019770002_kwoneunkyung_3.npy 0\n",
      "2017019770002_kwoneunkyung_2.npy 1\n",
      "2017019770002_kwoneunkyung_0.npy 2\n",
      "2017019770002_kwoneunkyung_1.npy 3\n",
      "2017019770002_kwoneunkyung_4.npy 4\n",
      "2017019770003\n",
      "2017019770003_johaesu_4.npy 0\n",
      "2017019770003_johaesu_0.npy 1\n",
      "2017019770003_johaesu_1.npy 2\n",
      "2017019770003_johaesu_2.npy 3\n",
      "2017019770003_johaesu_3.npy 4\n",
      "2017019770004\n",
      "2017019770004_leebyeongjin_4.npy 0\n",
      "2017019770004_leebyeongjin_3.npy 1\n",
      "2017019770004_leebyeongjin_0.npy 2\n",
      "2017019770004_leebyeongjin_2.npy 3\n",
      "2017019770004_leebyeongjin_1.npy 4\n",
      "2017019770005\n",
      "2017019770005_hyeonsanghyeok_1.npy 0\n",
      "2017019770005_hyeonsanghyeok_2.npy 1\n",
      "2017019770005_hyeonsanghyeok_4.npy 2\n",
      "2017019770005_hyeonsanghyeok_0.npy 3\n",
      "2017019770005_hyeonsanghyeok_3.npy 4\n",
      "2017019770006\n",
      "2017019770006_jennie_4.npy 0\n",
      "2017019770006_jennie_0.npy 1\n",
      "2017019770006_jennie_1.npy 2\n",
      "2017019770006_jennie_2.npy 3\n",
      "2017019770006_jennie_3.npy 4\n",
      "2017019770007\n",
      "2017019770007_simseungmin_3.npy 0\n",
      "2017019770007_simseungmin_2.npy 1\n",
      "2017019770007_simseungmin_1.npy 2\n",
      "2017019770007_simseungmin_4.npy 3\n",
      "2017019770007_simseungmin_0.npy 4\n",
      "2017019770008\n",
      "2017019770008_parksomi_2.npy 0\n",
      "2017019770008_parksomi_1.npy 1\n",
      "2017019770008_parksomi_3.npy 2\n",
      "2017019770008_parksomi_0.npy 3\n",
      "2017019770008_parksomi_4.npy 4\n",
      "2017019770009\n",
      "2017019770009_yuminji_3.npy 0\n",
      "2017019770009_yuminji_4.npy 1\n",
      "2017019770009_yuminji_0.npy 2\n",
      "2017019770009_yuminji_1.npy 3\n",
      "2017019770009_yuminji_2.npy 4\n",
      "2017019770010\n",
      "2017019770010_parksojin_1.npy 0\n",
      "2017019770010_parksojin_4.npy 1\n",
      "2017019770010_parksojin_0.npy 2\n",
      "2017019770010_parksojin_3.npy 3\n",
      "2017019770010_parksojin_2.npy 4\n",
      "2017019770011\n",
      "2017019770011_kwonyeonwoo_0.npy 0\n",
      "2017019770011_kwonyeonwoo_2.npy 1\n",
      "2017019770011_kwonyeonwoo_3.npy 2\n",
      "2017019770011_kwonyeonwoo_4.npy 3\n",
      "2017019770011_kwonyeonwoo_1.npy 4\n",
      "2017019770012\n",
      "2017019770012_ladakyeong_1.npy 0\n",
      "2017019770012_ladakyeong_4.npy 1\n",
      "2017019770012_ladakyeong_3.npy 2\n",
      "2017019770012_ladakyeong_0.npy 3\n",
      "2017019770012_ladakyeong_2.npy 4\n",
      "2017019770013\n",
      "2017019770013_janghyomin_2.npy 0\n",
      "2017019770013_janghyomin_3.npy 1\n",
      "2017019770013_janghyomin_0.npy 2\n",
      "2017019770013_janghyomin_1.npy 3\n",
      "2017019770013_janghyomin_4.npy 4\n",
      "2017019770014\n",
      "2017019770014_parkeunbi_3.npy 0\n",
      "2017019770014_parkeunbi_2.npy 1\n",
      "2017019770014_parkeunbi_0.npy 2\n",
      "2017019770014_parkeunbi_1.npy 3\n",
      "2017019770014_parkeunbi_4.npy 4\n",
      "2017019770015\n",
      "2017019770015_parkdayeung_4.npy 0\n",
      "2017019770015_parkdayeung_2.npy 1\n",
      "2017019770015_parkdayeung_3.npy 2\n",
      "2017019770015_parkdayeung_1.npy 3\n",
      "2017019770015_parkdayeung_0.npy 4\n",
      "2017019770016\n",
      "2017019770016_parkjongae_4.npy 0\n",
      "2017019770016_parkjongae_2.npy 1\n",
      "2017019770016_parkjongae_3.npy 2\n",
      "2017019770016_parkjongae_0.npy 3\n",
      "2017019770016_parkjongae_1.npy 4\n",
      "2017019770017\n",
      "2017019770017_hansohee_3.npy 0\n",
      "2017019770017_hansohee_1.npy 1\n",
      "2017019770017_hansohee_0.npy 2\n",
      "2017019770017_hansohee_2.npy 3\n",
      "2017019770017_hansohee_4.npy 4\n",
      "2017019770018\n",
      "2017019770018_janggyeoul_4.npy 0\n",
      "2017019770018_janggyeoul_3.npy 1\n",
      "2017019770018_janggyeoul_2.npy 2\n",
      "2017019770018_janggyeoul_1.npy 3\n",
      "2017019770018_janggyeoul_0.npy 4\n",
      "2017019770019\n",
      "2017019770019_leewooju_3.npy 0\n",
      "2017019770019_leewooju_4.npy 1\n",
      "2017019770019_leewooju_1.npy 2\n",
      "2017019770019_leewooju_2.npy 3\n",
      "2017019770019_leewooju_0.npy 4\n",
      "2017019770020\n",
      "2017019770020_nomyungok_4.npy 0\n",
      "2017019770020_nomyungok_1.npy 1\n",
      "2017019770020_nomyungok_0.npy 2\n",
      "2017019770020_nomyungok_2.npy 3\n",
      "2017019770020_nomyungok_3.npy 4\n",
      "2017019770021\n",
      "2017019770021_heoyoonjung_4.npy 0\n",
      "2017019770021_heoyoonjung_2.npy 1\n",
      "2017019770021_heoyoonjung_3.npy 2\n",
      "2017019770021_heoyoonjung_1.npy 3\n",
      "2017019770021_heoyoonjung_0.npy 4\n",
      "2017019770022\n",
      "2017019770022_heojaemin_4.npy 0\n",
      "2017019770022_heojaemin_1.npy 1\n",
      "2017019770022_heojaemin_2.npy 2\n",
      "2017019770022_heojaemin_0.npy 3\n",
      "2017019770022_heojaemin_3.npy 4\n",
      "2017019770023\n",
      "2017019770023_kimsoyung_4.npy 0\n",
      "2017019770023_kimsoyung_0.npy 1\n",
      "2017019770023_kimsoyung_1.npy 2\n",
      "2017019770023_kimsoyung_2.npy 3\n",
      "2017019770023_kimsoyung_3.npy 4\n",
      "2017019770024\n",
      "2017019770024_chuminha_0.npy 0\n",
      "2017019770024_chuminha_4.npy 1\n",
      "2017019770024_chuminha_2.npy 2\n",
      "2017019770024_chuminha_3.npy 3\n",
      "2017019770024_chuminha_1.npy 4\n",
      "2017019770025\n",
      "2017019770025_kimhyeonsu_1.npy 0\n",
      "2017019770025_kimhyeonsu_2.npy 1\n",
      "2017019770025_kimhyeonsu_4.npy 2\n",
      "2017019770025_kimhyeonsu_0.npy 3\n",
      "2017019770025_kimhyeonsu_3.npy 4\n",
      "2017019770026\n",
      "2017019770026_chaesonghwa_2.npy 0\n",
      "2017019770026_chaesonghwa_0.npy 1\n",
      "2017019770026_chaesonghwa_1.npy 2\n",
      "2017019770026_chaesonghwa_4.npy 3\n",
      "2017019770026_chaesonghwa_3.npy 4\n",
      "2017019770027\n",
      "2017019770027_kwonyulim_2.npy 0\n",
      "2017019770027_kwonyulim_3.npy 1\n",
      "2017019770027_kwonyulim_4.npy 2\n",
      "2017019770027_kwonyulim_1.npy 3\n",
      "2017019770027_kwonyulim_0.npy 4\n",
      "2017019770028\n",
      "2017019770028_kimminyoung_3.npy 0\n",
      "2017019770028_kimminyoung_2.npy 1\n",
      "2017019770028_kimminyoung_4.npy 2\n",
      "2017019770028_kimminyoung_0.npy 3\n",
      "2017019770028_kimminyoung_1.npy 4\n",
      "2017019770029\n",
      "2017019770029_jueunhong_4.npy 0\n",
      "2017019770029_jueunhong_0.npy 1\n",
      "2017019770029_jueunhong_3.npy 2\n",
      "2017019770029_jueunhong_1.npy 3\n",
      "2017019770029_jueunhong_2.npy 4\n",
      "2017019770030\n",
      "2017019770030_leejeongju_1.npy 0\n",
      "2017019770030_leejeongju_0.npy 1\n",
      "2017019770030_leejeongju_2.npy 2\n",
      "2017019770030_leejeongju_4.npy 3\n",
      "2017019770030_leejeongju_3.npy 4\n",
      "2017019770031\n",
      "2017019770031_kwonnahui_1.npy 0\n",
      "2017019770031_kwonnahui_4.npy 1\n",
      "2017019770031_kwonnahui_3.npy 2\n",
      "2017019770031_kwonnahui_2.npy 3\n",
      "2017019770031_kwonnahui_0.npy 4\n",
      "2017019770032\n",
      "2017019770032_kimdayeong_2.npy 0\n",
      "2017019770032_kimdayeong_0.npy 1\n",
      "2017019770032_kimdayeong_1.npy 2\n",
      "2017019770032_kimdayeong_4.npy 3\n",
      "2017019770032_kimdayeong_3.npy 4\n",
      "2017019770033\n",
      "2017019770033_kwonsundo_3.npy 0\n",
      "2017019770033_kwonsundo_1.npy 1\n",
      "2017019770033_kwonsundo_2.npy 2\n",
      "2017019770033_kwonsundo_4.npy 3\n",
      "2017019770033_kwonsundo_0.npy 4\n",
      "2017019770034\n",
      "2017019770034_kimhyeona_2.npy 0\n",
      "2017019770034_kimhyeona_3.npy 1\n",
      "2017019770034_kimhyeona_1.npy 2\n",
      "2017019770034_kimhyeona_0.npy 3\n",
      "2017019770034_kimhyeona_4.npy 4\n",
      "2017019770035\n",
      "2017019770035_leehyojin_4.npy 0\n",
      "2017019770035_leehyojin_1.npy 1\n",
      "2017019770035_leehyojin_3.npy 2\n",
      "2017019770035_leehyojin_2.npy 3\n",
      "2017019770035_leehyojin_0.npy 4\n",
      "2017019770036\n",
      "2017019770036_yuminji_2.npy 0\n",
      "2017019770036_yuminji_1.npy 1\n",
      "2017019770036_yuminji_3.npy 2\n",
      "2017019770036_yuminji_4.npy 3\n",
      "2017019770036_yuminji_0.npy 4\n",
      "2017019770037\n",
      "2017019770037_jeonghojun_0.npy 0\n",
      "2017019770037_jeonghojun_3.npy 1\n",
      "2017019770037_jeonghojun_1.npy 2\n",
      "2017019770037_jeonghojun_2.npy 3\n",
      "2017019770037_jeonghojun_4.npy 4\n",
      "2017019770038\n",
      "2017019770038_kanghyeyun_1.npy 0\n",
      "2017019770038_kanghyeyun_3.npy 1\n",
      "2017019770038_kanghyeyun_2.npy 2\n",
      "2017019770038_kanghyeyun_0.npy 3\n",
      "2017019770038_kanghyeyun_4.npy 4\n",
      "2017019770039\n",
      "2017019770039_ohjiwon_1.npy 0\n",
      "2017019770039_ohjiwon_4.npy 1\n",
      "2017019770039_ohjiwon_0.npy 2\n",
      "2017019770039_ohjiwon_3.npy 3\n",
      "2017019770039_ohjiwon_2.npy 4\n",
      "2017019770040\n",
      "2017019770040_kimdajeong_2.npy 0\n",
      "2017019770040_kimdajeong_0.npy 1\n",
      "2017019770040_kimdajeong_1.npy 2\n",
      "2017019770040_kimdajeong_4.npy 3\n",
      "2017019770040_kimdajeong_3.npy 4\n",
      "2017019880001\n",
      "2017019880001_kimsubin_1.npy 0\n",
      "2017019880001_kimsubin_4.npy 1\n",
      "2017019880001_kimsubin_3.npy 2\n",
      "2017019880001_kimsubin_0.npy 3\n",
      "2017019880001_kimsubin_2.npy 4\n",
      "2017019880002\n",
      "2017019880002_kimkihyeon_0.npy 0\n",
      "2017019880002_kimkihyeon_3.npy 1\n",
      "2017019880002_kimkihyeon_4.npy 2\n",
      "2017019880002_kimkihyeon_2.npy 3\n",
      "2017019880002_kimkihyeon_1.npy 4\n",
      "2017019880003\n",
      "2017019880003_kimminji_1.npy 0\n",
      "2017019880003_kimminji_4.npy 1\n",
      "2017019880003_kimminji_2.npy 2\n",
      "2017019880003_kimminji_0.npy 3\n",
      "2017019880003_kimminji_3.npy 4\n",
      "2017019880004\n",
      "2017019880004_myeongjaewon_2.npy 0\n",
      "2017019880004_myeongjaewon_1.npy 1\n",
      "2017019880004_myeongjaewon_0.npy 2\n",
      "2017019880004_myeongjaewon_4.npy 3\n",
      "2017019880004_myeongjaewon_3.npy 4\n",
      "2017019880005\n",
      "2017019880005_kimjihyeon_1.npy 0\n",
      "2017019880005_kimjihyeon_0.npy 1\n",
      "2017019880005_kimjihyeon_4.npy 2\n",
      "2017019880005_kimjihyeon_3.npy 3\n",
      "2017019880005_kimjihyeon_2.npy 4\n",
      "2017019880006\n",
      "2017019880006_choisuyeon_3.npy 0\n",
      "2017019880006_choisuyeon_4.npy 1\n",
      "2017019880006_choisuyeon_1.npy 2\n"
     ]
    },
    {
     "name": "stdout",
     "output_type": "stream",
     "text": [
      "2017019880006_choisuyeon_2.npy 3\n",
      "2017019880006_choisuyeon_0.npy 4\n",
      "2017019880007\n",
      "2017019880007_hwanghyebin_4.npy 0\n",
      "2017019880007_hwanghyebin_2.npy 1\n",
      "2017019880007_hwanghyebin_1.npy 2\n",
      "2017019880007_hwanghyebin_3.npy 3\n",
      "2017019880007_hwanghyebin_0.npy 4\n",
      "2017019880008\n",
      "2017019880008_jangsoojin_3.npy 0\n",
      "2017019880008_jangsoojin_0.npy 1\n",
      "2017019880008_jangsoojin_1.npy 2\n",
      "2017019880008_jangsoojin_2.npy 3\n",
      "2017019880008_jangsoojin_4.npy 4\n",
      "2017019880009\n",
      "2017019880009_kimhongjoo_3.npy 0\n",
      "2017019880009_kimhongjoo_0.npy 1\n",
      "2017019880009_kimhongjoo_1.npy 2\n",
      "2017019880009_kimhongjoo_4.npy 3\n",
      "2017019880009_kimhongjoo_2.npy 4\n",
      "2017019880010\n",
      "2017019880010_kimhyorin_0.npy 0\n",
      "2017019880010_kimhyorin_1.npy 1\n",
      "2017019880010_kimhyorin_4.npy 2\n",
      "2017019880010_kimhyorin_3.npy 3\n",
      "2017019880010_kimhyorin_2.npy 4\n",
      "2017019880011\n",
      "2017019880011_kimjihyun_1.npy 0\n",
      "2017019880011_kimjihyun_3.npy 1\n",
      "2017019880011_kimjihyun_2.npy 2\n",
      "2017019880011_kimjihyun_0.npy 3\n",
      "2017019880011_kimjihyun_4.npy 4\n",
      "2017019880012\n",
      "2017019880012_kimsongyi_4.npy 0\n",
      "2017019880012_kimsongyi_1.npy 1\n",
      "2017019880012_kimsongyi_3.npy 2\n",
      "2017019880012_kimsongyi_2.npy 3\n",
      "2017019880012_kimsongyi_0.npy 4\n",
      "2017019880013\n",
      "2017019880013_kotaewan_0.npy 0\n",
      "2017019880013_kotaewan_1.npy 1\n",
      "2017019880013_kotaewan_3.npy 2\n",
      "2017019880013_kotaewan_2.npy 3\n",
      "2017019880013_kotaewan_4.npy 4\n",
      "2017019880014\n",
      "2017019880014_leedanbee_1.npy 0\n",
      "2017019880014_leedanbee_2.npy 1\n",
      "2017019880014_leedanbee_4.npy 2\n",
      "2017019880014_leedanbee_0.npy 3\n",
      "2017019880014_leedanbee_3.npy 4\n",
      "2017019880015\n",
      "2017019880015_leejungjoon_3.npy 0\n",
      "2017019880015_leejungjoon_2.npy 1\n",
      "2017019880015_leejungjoon_4.npy 2\n",
      "2017019880015_leejungjoon_1.npy 3\n",
      "2017019880015_leejungjoon_0.npy 4\n",
      "2017019880016\n",
      "2017019880016_parkjongkook_0.npy 0\n",
      "2017019880016_parkjongkook_3.npy 1\n",
      "2017019880016_parkjongkook_4.npy 2\n",
      "2017019880016_parkjongkook_1.npy 3\n",
      "2017019880016_parkjongkook_2.npy 4\n",
      "2017019880017\n",
      "2017019880017_sungsoohyun_0.npy 0\n",
      "2017019880017_sungsoohyun_1.npy 1\n",
      "2017019880017_sungsoohyun_3.npy 2\n",
      "2017019880017_sungsoohyun_4.npy 3\n",
      "2017019880017_sungsoohyun_2.npy 4\n",
      "2017019880018\n",
      "2017019880018_wonjoonho_4.npy 0\n",
      "2017019880018_wonjoonho_0.npy 1\n",
      "2017019880018_wonjoonho_3.npy 2\n",
      "2017019880018_wonjoonho_1.npy 3\n",
      "2017019880018_wonjoonho_2.npy 4\n",
      "2017019880019\n",
      "2017019880019_wonsonghee_2.npy 0\n",
      "2017019880019_wonsonghee_3.npy 1\n",
      "2017019880019_wonsonghee_4.npy 2\n",
      "2017019880019_wonsonghee_1.npy 3\n",
      "2017019880019_wonsonghee_0.npy 4\n",
      "2017019880020\n",
      "2017019880020_yoonhyeeun_4.npy 0\n",
      "2017019880020_yoonhyeeun_1.npy 1\n",
      "2017019880020_yoonhyeeun_0.npy 2\n",
      "2017019880020_yoonhyeeun_2.npy 3\n",
      "2017019880020_yoonhyeeun_3.npy 4\n",
      "2017019880021\n",
      "2017019880021_kimjuyeong_3.npy 0\n",
      "2017019880021_kimjuyeong_4.npy 1\n",
      "2017019880021_kimjuyeong_1.npy 2\n",
      "2017019880021_kimjuyeong_2.npy 3\n",
      "2017019880021_kimjuyeong_0.npy 4\n",
      "2017019880022\n",
      "2017019880022_kimjaein_3.npy 0\n",
      "2017019880022_kimjaein_0.npy 1\n",
      "2017019880022_kimjaein_4.npy 2\n",
      "2017019880022_kimjaein_1.npy 3\n",
      "2017019880022_kimjaein_2.npy 4\n",
      "2017019880023\n",
      "2017019880023_yoohaekyung_0.npy 0\n",
      "2017019880023_yoohaekyung_4.npy 1\n",
      "2017019880023_yoohaekyung_2.npy 2\n",
      "2017019880023_yoohaekyung_1.npy 3\n",
      "2017019880023_yoohaekyung_3.npy 4\n",
      "2017019880024\n",
      "2017019880024_hanyukyung_2.npy 0\n",
      "2017019880024_hanyukyung_0.npy 1\n",
      "2017019880024_hanyukyung_4.npy 2\n",
      "2017019880024_hanyukyung_1.npy 3\n",
      "2017019880024_hanyukyung_3.npy 4\n",
      "2017019880025\n",
      "2017019880025_yoojungkyun_3.npy 0\n",
      "2017019880025_yoojungkyun_2.npy 1\n",
      "2017019880025_yoojungkyun_0.npy 2\n",
      "2017019880025_yoojungkyun_1.npy 3\n",
      "2017019880025_yoojungkyun_4.npy 4\n",
      "2017019880026\n",
      "2017019880026_parkjongsang_1.npy 0\n",
      "2017019880026_parkjongsang_0.npy 1\n",
      "2017019880026_parkjongsang_2.npy 2\n",
      "2017019880026_parkjongsang_4.npy 3\n",
      "2017019880026_parkjongsang_3.npy 4\n",
      "2017019880027\n",
      "2017019880027_leesol_3.npy 0\n",
      "2017019880027_leesol_2.npy 1\n",
      "2017019880027_leesol_0.npy 2\n",
      "2017019880027_leesol_1.npy 3\n",
      "2017019880027_leesol_4.npy 4\n",
      "2017019880028\n",
      "2017019880028_kimsunghan_3.npy 0\n",
      "2017019880028_kimsunghan_0.npy 1\n",
      "2017019880028_kimsunghan_2.npy 2\n",
      "2017019880028_kimsunghan_1.npy 3\n",
      "2017019880028_kimsunghan_4.npy 4\n",
      "2017019880029\n",
      "2017019880029_kimminji_4.npy 0\n",
      "2017019880029_kimminji_1.npy 1\n",
      "2017019880029_kimminji_3.npy 2\n",
      "2017019880029_kimminji_0.npy 3\n",
      "2017019880029_kimminji_2.npy 4\n",
      "2017019880030\n",
      "2017019880030_hanseungoh_2.npy 0\n",
      "2017019880030_hanseungoh_1.npy 1\n",
      "2017019880030_hanseungoh_3.npy 2\n",
      "2017019880030_hanseungoh_4.npy 3\n",
      "2017019880030_hanseungoh_0.npy 4\n",
      "2017019880031\n",
      "2017019880031_ahnjiwoo_4.npy 0\n",
      "2017019880031_ahnjiwoo_2.npy 1\n",
      "2017019880031_ahnjiwoo_1.npy 2\n",
      "2017019880031_ahnjiwoo_3.npy 3\n",
      "2017019880031_ahnjiwoo_0.npy 4\n",
      "2017019880032\n",
      "2017019880032_seoyeonjoo_1.npy 0\n",
      "2017019880032_seoyeonjoo_0.npy 1\n",
      "2017019880032_seoyeonjoo_3.npy 2\n",
      "2017019880032_seoyeonjoo_4.npy 3\n",
      "2017019880032_seoyeonjoo_2.npy 4\n",
      "2017019880033\n",
      "2017019880033_kimnoeun_3.npy 0\n",
      "2017019880033_kimnoeun_0.npy 1\n",
      "2017019880033_kimnoeun_2.npy 2\n",
      "2017019880033_kimnoeun_1.npy 3\n",
      "2017019880033_kimnoeun_4.npy 4\n",
      "2017019880034\n",
      "2017019880034_leesujung_1.npy 0\n",
      "2017019880034_leesujung_2.npy 1\n",
      "2017019880034_leesujung_0.npy 2\n",
      "2017019880034_leesujung_4.npy 3\n",
      "2017019880034_leesujung_3.npy 4\n",
      "2017019880035\n",
      "2017019880035_songhyunjin_0.npy 0\n",
      "2017019880035_songhyunjin_4.npy 1\n",
      "2017019880035_songhyunjin_3.npy 2\n",
      "2017019880035_songhyunjin_2.npy 3\n",
      "2017019880035_songhyunjin_1.npy 4\n",
      "2017019880036\n",
      "2017019880036_kimjihye_1.npy 0\n",
      "2017019880036_kimjihye_2.npy 1\n",
      "2017019880036_kimjihye_4.npy 2\n",
      "2017019880036_kimjihye_3.npy 3\n",
      "2017019880036_kimjihye_0.npy 4\n",
      "2017019880037\n",
      "2017019880037_jusunghyun_2.npy 0\n",
      "2017019880037_jusunghyun_0.npy 1\n",
      "2017019880037_jusunghyun_1.npy 2\n",
      "2017019880037_jusunghyun_4.npy 3\n",
      "2017019880037_jusunghyun_3.npy 4\n",
      "2017019880038\n",
      "2017019880038_baejaehong_1.npy 0\n",
      "2017019880038_baejaehong_4.npy 1\n",
      "2017019880038_baejaehong_3.npy 2\n",
      "2017019880038_baejaehong_2.npy 3\n",
      "2017019880038_baejaehong_0.npy 4\n",
      "2017019880039\n",
      "2017019880039_seojuyeon_2.npy 0\n",
      "2017019880039_seojuyeon_0.npy 1\n",
      "2017019880039_seojuyeon_4.npy 2\n",
      "2017019880039_seojuyeon_1.npy 3\n",
      "2017019880039_seojuyeon_3.npy 4\n",
      "2017019880040\n",
      "2017019880040_shinheewook_4.npy 0\n",
      "2017019880040_shinheewook_0.npy 1\n",
      "2017019880040_shinheewook_2.npy 2\n",
      "2017019880040_shinheewook_3.npy 3\n",
      "2017019880040_shinheewook_1.npy 4\n",
      "2017019880041\n",
      "2017019880041_kimdaeun_4.npy 0\n",
      "2017019880041_kimdaeun_2.npy 1\n",
      "2017019880041_kimdaeun_0.npy 2\n",
      "2017019880041_kimdaeun_1.npy 3\n",
      "2017019880041_kimdaeun_3.npy 4\n",
      "2017019880042\n",
      "2017019880042_namyeji_4.npy 0\n",
      "2017019880042_namyeji_2.npy 1\n",
      "2017019880042_namyeji_0.npy 2\n",
      "2017019880042_namyeji_1.npy 3\n",
      "2017019880042_namyeji_3.npy 4\n",
      "2017019880043\n",
      "2017019880043_leegawon_2.npy 0\n",
      "2017019880043_leegawon_1.npy 1\n",
      "2017019880043_leegawon_3.npy 2\n",
      "2017019880043_leegawon_4.npy 3\n",
      "2017019880043_leegawon_0.npy 4\n",
      "2017019880044\n",
      "2017019880044_yoonsuhyun_1.npy 0\n",
      "2017019880044_yoonsuhyun_3.npy 1\n",
      "2017019880044_yoonsuhyun_4.npy 2\n",
      "2017019880044_yoonsuhyun_2.npy 3\n",
      "2017019880044_yoonsuhyun_0.npy 4\n",
      "<class 'numpy.ndarray'>\n",
      "[0, 0, 0, 0, 0, 1, 1, 1, 1, 1, 2, 2, 2, 2, 2, 3, 3, 3, 3, 3, 4, 4, 4, 4, 4, 5, 5, 5, 5, 5, 6, 6, 6, 6, 6, 7, 7, 7, 7, 7, 8, 8, 8, 8, 8, 9, 9, 9, 9, 9, 10, 10, 10, 10, 10, 11, 11, 11, 11, 11, 12, 12, 12, 12, 12, 13, 13, 13, 13, 13, 14, 14, 14, 14, 14, 15, 15, 15, 15, 15, 16, 16, 16, 16, 16, 17, 17, 17, 17, 17, 18, 18, 18, 18, 18, 19, 19, 19, 19, 19, 20, 20, 20, 20, 20, 21, 21, 21, 21, 21, 22, 22, 22, 22, 22, 23, 23, 23, 23, 23, 24, 24, 24, 24, 24, 25, 25, 25, 25, 25, 26, 26, 26, 26, 26, 27, 27, 27, 27, 27, 28, 28, 28, 28, 28, 28, 29, 29, 29, 29, 29, 30, 30, 30, 30, 30, 31, 31, 31, 31, 31, 32, 32, 32, 32, 32, 33, 33, 33, 33, 33, 34, 34, 34, 34, 34, 35, 35, 35, 35, 35, 36, 36, 36, 36, 36, 37, 37, 37, 37, 37, 38, 38, 38, 38, 38, 39, 39, 39, 39, 39, 40, 40, 40, 40, 40, 41, 41, 41, 41, 41, 42, 42, 42, 42, 42, 43, 43, 43, 43, 43, 44, 44, 44, 44, 44, 45, 45, 45, 45, 45, 46, 46, 46, 46, 46, 47, 47, 47, 47, 47, 48, 48, 48, 48, 48, 49, 49, 49, 49, 49, 50, 50, 50, 50, 50, 51, 51, 51, 51, 51, 52, 52, 52, 52, 52, 53, 53, 53, 53, 53, 54, 54, 54, 54, 54, 55, 55, 55, 55, 55, 56, 56, 56, 56, 56, 57, 57, 57, 57, 57, 58, 58, 58, 58, 58, 59, 59, 59, 59, 59, 60, 60, 60, 60, 60, 61, 61, 61, 61, 61, 62, 62, 62, 62, 62, 63, 63, 63, 63, 63, 64, 64, 64, 64, 64, 65, 65, 65, 65, 65, 66, 66, 66, 66, 66, 67, 67, 67, 67, 67, 68, 68, 68, 68, 68, 69, 69, 69, 69, 69, 70, 70, 70, 70, 70, 71, 71, 71, 71, 71, 72, 72, 72, 72, 72, 73, 73, 73, 73, 73, 74, 74, 74, 74, 74, 75, 75, 75, 75, 75, 76, 76, 76, 76, 76, 77, 77, 77, 77, 77, 78, 78, 78, 78, 78, 79, 79, 79, 79, 79, 80, 80, 80, 80, 80, 81, 81, 81, 81, 81, 82, 82, 82, 82, 82, 83, 83, 83, 83, 83, 84, 84, 84, 84, 84, 85, 85, 85, 85, 85, 86, 86, 86, 86, 86, 87, 87, 87, 87, 87, 88, 88, 88, 88, 88, 89, 89, 89, 89, 89, 90, 90, 90, 90, 90, 91, 91, 91, 91, 91, 92, 92, 92, 92, 92, 93, 93, 93, 93, 93, 94, 94, 94, 94, 94, 95, 95, 95, 95, 95, 96, 96, 96, 96, 96, 97, 97, 97, 97, 97, 98, 98, 98, 98, 98, 99, 99, 99, 99, 99, 100, 100, 100, 100, 100, 101, 101, 101, 101, 101, 102, 102, 102, 102, 102, 103, 103, 103, 103, 103, 104, 104, 104, 104, 104, 105, 105, 105, 105, 105, 106, 106, 106, 106, 106, 107, 107, 107, 107, 107, 108, 108, 108, 108, 108, 109, 109, 109, 109, 109, 110, 110, 110, 110, 110, 111, 111, 111, 111, 111, 112, 112, 112, 112, 112, 113, 113, 113, 113, 113, 114, 114, 114, 114, 114]\n"
     ]
    }
   ],
   "source": [
    "x_list = []\n",
    "y_list = []\n",
    "fname_list =[]\n",
    "for i in range(0,len(class_names)):\n",
    "    files=os.listdir(\"../../feature/feature_fbank/\"+class_names[i])\n",
    "    files = [file for file in files if file.endswith(\".npy\")]\n",
    "    print(class_names[i].split('_')[0])\n",
    "\n",
    "    for j in range(0, len(files)):\n",
    "        print(files[j], j)\n",
    "        x = np.load(\"../../feature/feature_fbank/\"+class_names[i]+\"/\"+files[j])\n",
    "        fname_list.append(\"../../feature/feature_fbank/\"+class_names[i]+\"/\"+files[j])\n",
    "        x_list.append(x)\n",
    "        y_list.append(i)\n",
    "print(type(x))\n",
    "print(y_list)\n",
    "# print(x_list)"
   ]
  },
  {
   "cell_type": "markdown",
   "metadata": {},
   "source": [
    "### Convert Feature Numpy Array to PNG image"
   ]
  },
  {
   "cell_type": "code",
   "execution_count": 265,
   "metadata": {
    "scrolled": true
   },
   "outputs": [],
   "source": [
    "import imageio\n",
    "import os\n",
    "def npy_2_png (cname,fname):\n",
    "    if not os.path.exists(\"../../feature/feature_fbank_png/\"):\n",
    "        os.makedirs(\"../../feature/feature_fbank_png/\")\n",
    "    if not os.path.exists(\"../../feature/feature_fbank_png/\"+cname) :\n",
    "        os.makedirs(\"../../feature/feature_fbank_png/\"+cname)\n",
    "    \n",
    "    array = np.load(\"../../feature/feature_fbank/\"+cname+\"/\"+fname)\n",
    "    \n",
    "    array = array - np.min(array)\n",
    "    array = array / np.max(array)\n",
    "    array = array * 255.0\n",
    "    \n",
    "    i = fname.split('_')[2].split('.')[0]\n",
    "    if os.path.exists(\"../../feature/feature_fbank_png/\"+cname+\"/{}.png\".format(i)):\n",
    "        os.remove(\"../../feature/feature_fbank_png/\"+cname+\"/{}.png\".format(i))\n",
    "        \n",
    "    imageio.imwrite(\"../../feature/feature_fbank_png/\"+cname+\"/{}.png\".format(i),array)\n",
    "    return \"../../feature/feature_fbank_png/\"+cname+\"/{}.png\".format(i)"
   ]
  },
  {
   "cell_type": "code",
   "execution_count": 266,
   "metadata": {
    "scrolled": true
   },
   "outputs": [
    {
     "name": "stderr",
     "output_type": "stream",
     "text": [
      "Lossy conversion from float32 to uint8. Range [0.0, 255.0]. Convert image to uint8 prior to saving to suppress this warning.\n",
      "Lossy conversion from float32 to uint8. Range [0.0, 255.0]. Convert image to uint8 prior to saving to suppress this warning.\n"
     ]
    },
    {
     "name": "stdout",
     "output_type": "stream",
     "text": [
      "0 ../../feature/feature_fbank/2017019740001_kwakjuheon/2017019740001_kwakjuheon_4.npy\n",
      "1 ../../feature/feature_fbank/2017019740001_kwakjuheon/2017019740001_kwakjuheon_1.npy\n"
     ]
    },
    {
     "name": "stderr",
     "output_type": "stream",
     "text": [
      "Lossy conversion from float32 to uint8. Range [0.0, 255.0]. Convert image to uint8 prior to saving to suppress this warning.\n",
      "Lossy conversion from float32 to uint8. Range [0.0, 255.0]. Convert image to uint8 prior to saving to suppress this warning.\n",
      "Lossy conversion from float32 to uint8. Range [0.0, 255.0]. Convert image to uint8 prior to saving to suppress this warning.\n"
     ]
    },
    {
     "name": "stdout",
     "output_type": "stream",
     "text": [
      "2 ../../feature/feature_fbank/2017019740001_kwakjuheon/2017019740001_kwakjuheon_0.npy\n",
      "3 ../../feature/feature_fbank/2017019740001_kwakjuheon/2017019740001_kwakjuheon_2.npy\n",
      "4 ../../feature/feature_fbank/2017019740001_kwakjuheon/2017019740001_kwakjuheon_3.npy\n"
     ]
    },
    {
     "name": "stderr",
     "output_type": "stream",
     "text": [
      "Lossy conversion from float32 to uint8. Range [0.0, 255.0]. Convert image to uint8 prior to saving to suppress this warning.\n",
      "Lossy conversion from float32 to uint8. Range [0.0, 255.0]. Convert image to uint8 prior to saving to suppress this warning.\n",
      "Lossy conversion from float32 to uint8. Range [0.0, 255.0]. Convert image to uint8 prior to saving to suppress this warning.\n"
     ]
    },
    {
     "name": "stdout",
     "output_type": "stream",
     "text": [
      "5 ../../feature/feature_fbank/2017019740002_kimjiho/2017019740002_kimjiho_3.npy\n",
      "6 ../../feature/feature_fbank/2017019740002_kimjiho/2017019740002_kimjiho_1.npy\n",
      "7 ../../feature/feature_fbank/2017019740002_kimjiho/2017019740002_kimjiho_2.npy\n"
     ]
    },
    {
     "name": "stderr",
     "output_type": "stream",
     "text": [
      "Lossy conversion from float32 to uint8. Range [0.0, 255.0]. Convert image to uint8 prior to saving to suppress this warning.\n",
      "Lossy conversion from float32 to uint8. Range [0.0, 255.0]. Convert image to uint8 prior to saving to suppress this warning.\n",
      "Lossy conversion from float32 to uint8. Range [0.0, 255.0]. Convert image to uint8 prior to saving to suppress this warning.\n"
     ]
    },
    {
     "name": "stdout",
     "output_type": "stream",
     "text": [
      "8 ../../feature/feature_fbank/2017019740002_kimjiho/2017019740002_kimjiho_4.npy\n",
      "9 ../../feature/feature_fbank/2017019740002_kimjiho/2017019740002_kimjiho_0.npy\n",
      "10 ../../feature/feature_fbank/2017019740003_songyejin/2017019740003_songyejin_2.npy\n"
     ]
    },
    {
     "name": "stderr",
     "output_type": "stream",
     "text": [
      "Lossy conversion from float32 to uint8. Range [0.0, 255.0]. Convert image to uint8 prior to saving to suppress this warning.\n",
      "Lossy conversion from float32 to uint8. Range [0.0, 255.0]. Convert image to uint8 prior to saving to suppress this warning.\n",
      "Lossy conversion from float32 to uint8. Range [0.0, 255.0]. Convert image to uint8 prior to saving to suppress this warning.\n"
     ]
    },
    {
     "name": "stdout",
     "output_type": "stream",
     "text": [
      "11 ../../feature/feature_fbank/2017019740003_songyejin/2017019740003_songyejin_3.npy\n",
      "12 ../../feature/feature_fbank/2017019740003_songyejin/2017019740003_songyejin_4.npy\n",
      "13 ../../feature/feature_fbank/2017019740003_songyejin/2017019740003_songyejin_1.npy\n"
     ]
    },
    {
     "name": "stderr",
     "output_type": "stream",
     "text": [
      "Lossy conversion from float32 to uint8. Range [0.0, 255.0]. Convert image to uint8 prior to saving to suppress this warning.\n",
      "Lossy conversion from float32 to uint8. Range [0.0, 255.0]. Convert image to uint8 prior to saving to suppress this warning.\n",
      "Lossy conversion from float32 to uint8. Range [0.0, 255.0]. Convert image to uint8 prior to saving to suppress this warning.\n"
     ]
    },
    {
     "name": "stdout",
     "output_type": "stream",
     "text": [
      "14 ../../feature/feature_fbank/2017019740003_songyejin/2017019740003_songyejin_0.npy\n",
      "15 ../../feature/feature_fbank/2017019740004_parksohui/2017019740004_parksohui_2.npy\n",
      "16 ../../feature/feature_fbank/2017019740004_parksohui/2017019740004_parksohui_1.npy\n"
     ]
    },
    {
     "name": "stderr",
     "output_type": "stream",
     "text": [
      "Lossy conversion from float32 to uint8. Range [0.0, 255.0]. Convert image to uint8 prior to saving to suppress this warning.\n",
      "Lossy conversion from float32 to uint8. Range [0.0, 255.0]. Convert image to uint8 prior to saving to suppress this warning.\n",
      "Lossy conversion from float32 to uint8. Range [0.0, 255.0]. Convert image to uint8 prior to saving to suppress this warning.\n"
     ]
    },
    {
     "name": "stdout",
     "output_type": "stream",
     "text": [
      "17 ../../feature/feature_fbank/2017019740004_parksohui/2017019740004_parksohui_3.npy\n",
      "18 ../../feature/feature_fbank/2017019740004_parksohui/2017019740004_parksohui_0.npy\n",
      "19 ../../feature/feature_fbank/2017019740004_parksohui/2017019740004_parksohui_4.npy\n"
     ]
    },
    {
     "name": "stderr",
     "output_type": "stream",
     "text": [
      "Lossy conversion from float32 to uint8. Range [0.0, 255.0]. Convert image to uint8 prior to saving to suppress this warning.\n",
      "Lossy conversion from float32 to uint8. Range [0.0, 255.0]. Convert image to uint8 prior to saving to suppress this warning.\n",
      "Lossy conversion from float32 to uint8. Range [0.0, 255.0]. Convert image to uint8 prior to saving to suppress this warning.\n"
     ]
    },
    {
     "name": "stdout",
     "output_type": "stream",
     "text": [
      "20 ../../feature/feature_fbank/2017019740005_moonyeonwoo/2017019740005_moonyeonwoo_3.npy\n",
      "21 ../../feature/feature_fbank/2017019740005_moonyeonwoo/2017019740005_moonyeonwoo_2.npy\n",
      "22 ../../feature/feature_fbank/2017019740005_moonyeonwoo/2017019740005_moonyeonwoo_0.npy\n"
     ]
    },
    {
     "name": "stderr",
     "output_type": "stream",
     "text": [
      "Lossy conversion from float32 to uint8. Range [0.0, 255.0]. Convert image to uint8 prior to saving to suppress this warning.\n",
      "Lossy conversion from float32 to uint8. Range [0.0, 255.0]. Convert image to uint8 prior to saving to suppress this warning.\n",
      "Lossy conversion from float32 to uint8. Range [0.0, 255.0]. Convert image to uint8 prior to saving to suppress this warning.\n"
     ]
    },
    {
     "name": "stdout",
     "output_type": "stream",
     "text": [
      "23 ../../feature/feature_fbank/2017019740005_moonyeonwoo/2017019740005_moonyeonwoo_4.npy\n",
      "24 ../../feature/feature_fbank/2017019740005_moonyeonwoo/2017019740005_moonyeonwoo_1.npy\n",
      "25 ../../feature/feature_fbank/2017019740006_kangsubin/2017019740006_kangsubin_3.npy\n"
     ]
    },
    {
     "name": "stderr",
     "output_type": "stream",
     "text": [
      "Lossy conversion from float32 to uint8. Range [0.0, 255.0]. Convert image to uint8 prior to saving to suppress this warning.\n",
      "Lossy conversion from float32 to uint8. Range [0.0, 255.0]. Convert image to uint8 prior to saving to suppress this warning.\n",
      "Lossy conversion from float32 to uint8. Range [0.0, 255.0]. Convert image to uint8 prior to saving to suppress this warning.\n"
     ]
    },
    {
     "name": "stdout",
     "output_type": "stream",
     "text": [
      "26 ../../feature/feature_fbank/2017019740006_kangsubin/2017019740006_kangsubin_1.npy\n",
      "27 ../../feature/feature_fbank/2017019740006_kangsubin/2017019740006_kangsubin_4.npy\n",
      "28 ../../feature/feature_fbank/2017019740006_kangsubin/2017019740006_kangsubin_2.npy\n"
     ]
    },
    {
     "name": "stderr",
     "output_type": "stream",
     "text": [
      "Lossy conversion from float32 to uint8. Range [0.0, 255.0]. Convert image to uint8 prior to saving to suppress this warning.\n",
      "Lossy conversion from float32 to uint8. Range [0.0, 255.0]. Convert image to uint8 prior to saving to suppress this warning.\n",
      "Lossy conversion from float32 to uint8. Range [0.0, 255.0]. Convert image to uint8 prior to saving to suppress this warning.\n"
     ]
    },
    {
     "name": "stdout",
     "output_type": "stream",
     "text": [
      "29 ../../feature/feature_fbank/2017019740006_kangsubin/2017019740006_kangsubin_0.npy\n",
      "30 ../../feature/feature_fbank/2017019740007_leekyeongeun/2017019740007_leekyeongeun_2.npy\n",
      "31 ../../feature/feature_fbank/2017019740007_leekyeongeun/2017019740007_leekyeongeun_4.npy\n"
     ]
    },
    {
     "name": "stderr",
     "output_type": "stream",
     "text": [
      "Lossy conversion from float32 to uint8. Range [0.0, 255.0]. Convert image to uint8 prior to saving to suppress this warning.\n",
      "Lossy conversion from float32 to uint8. Range [0.0, 255.0]. Convert image to uint8 prior to saving to suppress this warning.\n",
      "Lossy conversion from float32 to uint8. Range [0.0, 255.0]. Convert image to uint8 prior to saving to suppress this warning.\n"
     ]
    },
    {
     "name": "stdout",
     "output_type": "stream",
     "text": [
      "32 ../../feature/feature_fbank/2017019740007_leekyeongeun/2017019740007_leekyeongeun_0.npy\n",
      "33 ../../feature/feature_fbank/2017019740007_leekyeongeun/2017019740007_leekyeongeun_3.npy\n",
      "34 ../../feature/feature_fbank/2017019740007_leekyeongeun/2017019740007_leekyeongeun_1.npy\n"
     ]
    },
    {
     "name": "stderr",
     "output_type": "stream",
     "text": [
      "Lossy conversion from float32 to uint8. Range [0.0, 255.0]. Convert image to uint8 prior to saving to suppress this warning.\n",
      "Lossy conversion from float32 to uint8. Range [0.0, 255.0]. Convert image to uint8 prior to saving to suppress this warning.\n",
      "Lossy conversion from float32 to uint8. Range [0.0, 255.0]. Convert image to uint8 prior to saving to suppress this warning.\n"
     ]
    },
    {
     "name": "stdout",
     "output_type": "stream",
     "text": [
      "35 ../../feature/feature_fbank/2017019740008_chochaeyeon/2017019740008_chochaeyeon_4.npy\n",
      "36 ../../feature/feature_fbank/2017019740008_chochaeyeon/2017019740008_chochaeyeon_3.npy\n",
      "37 ../../feature/feature_fbank/2017019740008_chochaeyeon/2017019740008_chochaeyeon_2.npy\n"
     ]
    },
    {
     "name": "stderr",
     "output_type": "stream",
     "text": [
      "Lossy conversion from float32 to uint8. Range [0.0, 255.0]. Convert image to uint8 prior to saving to suppress this warning.\n",
      "Lossy conversion from float32 to uint8. Range [0.0, 255.0]. Convert image to uint8 prior to saving to suppress this warning.\n",
      "Lossy conversion from float32 to uint8. Range [0.0, 255.0]. Convert image to uint8 prior to saving to suppress this warning.\n"
     ]
    },
    {
     "name": "stdout",
     "output_type": "stream",
     "text": [
      "38 ../../feature/feature_fbank/2017019740008_chochaeyeon/2017019740008_chochaeyeon_1.npy\n",
      "39 ../../feature/feature_fbank/2017019740008_chochaeyeon/2017019740008_chochaeyeon_0.npy\n",
      "40 ../../feature/feature_fbank/2017019740009_shindonghwan/2017019740009_shindonghwan_1.npy\n"
     ]
    },
    {
     "name": "stderr",
     "output_type": "stream",
     "text": [
      "Lossy conversion from float32 to uint8. Range [0.0, 255.0]. Convert image to uint8 prior to saving to suppress this warning.\n",
      "Lossy conversion from float32 to uint8. Range [0.0, 255.0]. Convert image to uint8 prior to saving to suppress this warning.\n",
      "Lossy conversion from float32 to uint8. Range [0.0, 255.0]. Convert image to uint8 prior to saving to suppress this warning.\n"
     ]
    },
    {
     "name": "stdout",
     "output_type": "stream",
     "text": [
      "41 ../../feature/feature_fbank/2017019740009_shindonghwan/2017019740009_shindonghwan_2.npy\n",
      "42 ../../feature/feature_fbank/2017019740009_shindonghwan/2017019740009_shindonghwan_4.npy\n",
      "43 ../../feature/feature_fbank/2017019740009_shindonghwan/2017019740009_shindonghwan_0.npy\n"
     ]
    },
    {
     "name": "stderr",
     "output_type": "stream",
     "text": [
      "Lossy conversion from float32 to uint8. Range [0.0, 255.0]. Convert image to uint8 prior to saving to suppress this warning.\n",
      "Lossy conversion from float32 to uint8. Range [0.0, 255.0]. Convert image to uint8 prior to saving to suppress this warning.\n",
      "Lossy conversion from float32 to uint8. Range [0.0, 255.0]. Convert image to uint8 prior to saving to suppress this warning.\n"
     ]
    },
    {
     "name": "stdout",
     "output_type": "stream",
     "text": [
      "44 ../../feature/feature_fbank/2017019740009_shindonghwan/2017019740009_shindonghwan_3.npy\n",
      "45 ../../feature/feature_fbank/2017019740010_kwakmirae/2017019740010_kwakmirae_4.npy\n",
      "46 ../../feature/feature_fbank/2017019740010_kwakmirae/2017019740010_kwakmirae_0.npy\n"
     ]
    },
    {
     "name": "stderr",
     "output_type": "stream",
     "text": [
      "Lossy conversion from float32 to uint8. Range [0.0, 255.0]. Convert image to uint8 prior to saving to suppress this warning.\n",
      "Lossy conversion from float32 to uint8. Range [0.0, 255.0]. Convert image to uint8 prior to saving to suppress this warning.\n",
      "Lossy conversion from float32 to uint8. Range [0.0, 255.0]. Convert image to uint8 prior to saving to suppress this warning.\n"
     ]
    },
    {
     "name": "stdout",
     "output_type": "stream",
     "text": [
      "47 ../../feature/feature_fbank/2017019740010_kwakmirae/2017019740010_kwakmirae_1.npy\n",
      "48 ../../feature/feature_fbank/2017019740010_kwakmirae/2017019740010_kwakmirae_2.npy\n",
      "49 ../../feature/feature_fbank/2017019740010_kwakmirae/2017019740010_kwakmirae_3.npy\n"
     ]
    },
    {
     "name": "stderr",
     "output_type": "stream",
     "text": [
      "Lossy conversion from float32 to uint8. Range [0.0, 255.0]. Convert image to uint8 prior to saving to suppress this warning.\n",
      "Lossy conversion from float32 to uint8. Range [0.0, 255.0]. Convert image to uint8 prior to saving to suppress this warning.\n",
      "Lossy conversion from float32 to uint8. Range [0.0, 255.0]. Convert image to uint8 prior to saving to suppress this warning.\n"
     ]
    },
    {
     "name": "stdout",
     "output_type": "stream",
     "text": [
      "50 ../../feature/feature_fbank/2017019740011_kimhyeryeong/2017019740011_kimhyeryeong_1.npy\n",
      "51 ../../feature/feature_fbank/2017019740011_kimhyeryeong/2017019740011_kimhyeryeong_3.npy\n",
      "52 ../../feature/feature_fbank/2017019740011_kimhyeryeong/2017019740011_kimhyeryeong_0.npy\n"
     ]
    },
    {
     "name": "stderr",
     "output_type": "stream",
     "text": [
      "Lossy conversion from float32 to uint8. Range [0.0, 255.0]. Convert image to uint8 prior to saving to suppress this warning.\n",
      "Lossy conversion from float32 to uint8. Range [0.0, 255.0]. Convert image to uint8 prior to saving to suppress this warning.\n",
      "Lossy conversion from float32 to uint8. Range [0.0, 255.0]. Convert image to uint8 prior to saving to suppress this warning.\n"
     ]
    },
    {
     "name": "stdout",
     "output_type": "stream",
     "text": [
      "53 ../../feature/feature_fbank/2017019740011_kimhyeryeong/2017019740011_kimhyeryeong_4.npy\n",
      "54 ../../feature/feature_fbank/2017019740011_kimhyeryeong/2017019740011_kimhyeryeong_2.npy\n",
      "55 ../../feature/feature_fbank/2017019740012_chaeminjoon/2017019740012_chaeminjoon_0.npy\n"
     ]
    },
    {
     "name": "stderr",
     "output_type": "stream",
     "text": [
      "Lossy conversion from float32 to uint8. Range [0.0, 255.0]. Convert image to uint8 prior to saving to suppress this warning.\n",
      "Lossy conversion from float32 to uint8. Range [0.0, 255.0]. Convert image to uint8 prior to saving to suppress this warning.\n",
      "Lossy conversion from float32 to uint8. Range [0.0, 255.0]. Convert image to uint8 prior to saving to suppress this warning.\n"
     ]
    },
    {
     "name": "stdout",
     "output_type": "stream",
     "text": [
      "56 ../../feature/feature_fbank/2017019740012_chaeminjoon/2017019740012_chaeminjoon_4.npy\n",
      "57 ../../feature/feature_fbank/2017019740012_chaeminjoon/2017019740012_chaeminjoon_1.npy\n",
      "58 ../../feature/feature_fbank/2017019740012_chaeminjoon/2017019740012_chaeminjoon_2.npy\n"
     ]
    },
    {
     "name": "stderr",
     "output_type": "stream",
     "text": [
      "Lossy conversion from float32 to uint8. Range [0.0, 255.0]. Convert image to uint8 prior to saving to suppress this warning.\n",
      "Lossy conversion from float32 to uint8. Range [0.0, 255.0]. Convert image to uint8 prior to saving to suppress this warning.\n",
      "Lossy conversion from float32 to uint8. Range [0.0, 255.0]. Convert image to uint8 prior to saving to suppress this warning.\n"
     ]
    },
    {
     "name": "stdout",
     "output_type": "stream",
     "text": [
      "59 ../../feature/feature_fbank/2017019740012_chaeminjoon/2017019740012_chaeminjoon_3.npy\n",
      "60 ../../feature/feature_fbank/2017019740013_kwakyiheon/2017019740013_kwakyiheon_0.npy\n",
      "61 ../../feature/feature_fbank/2017019740013_kwakyiheon/2017019740013_kwakyiheon_1.npy\n"
     ]
    },
    {
     "name": "stderr",
     "output_type": "stream",
     "text": [
      "Lossy conversion from float32 to uint8. Range [0.0, 255.0]. Convert image to uint8 prior to saving to suppress this warning.\n",
      "Lossy conversion from float32 to uint8. Range [0.0, 255.0]. Convert image to uint8 prior to saving to suppress this warning.\n",
      "Lossy conversion from float32 to uint8. Range [0.0, 255.0]. Convert image to uint8 prior to saving to suppress this warning.\n"
     ]
    },
    {
     "name": "stdout",
     "output_type": "stream",
     "text": [
      "62 ../../feature/feature_fbank/2017019740013_kwakyiheon/2017019740013_kwakyiheon_4.npy\n",
      "63 ../../feature/feature_fbank/2017019740013_kwakyiheon/2017019740013_kwakyiheon_2.npy\n",
      "64 ../../feature/feature_fbank/2017019740013_kwakyiheon/2017019740013_kwakyiheon_3.npy\n"
     ]
    },
    {
     "name": "stderr",
     "output_type": "stream",
     "text": [
      "Lossy conversion from float32 to uint8. Range [0.0, 255.0]. Convert image to uint8 prior to saving to suppress this warning.\n",
      "Lossy conversion from float32 to uint8. Range [0.0, 255.0]. Convert image to uint8 prior to saving to suppress this warning.\n",
      "Lossy conversion from float32 to uint8. Range [0.0, 255.0]. Convert image to uint8 prior to saving to suppress this warning.\n"
     ]
    },
    {
     "name": "stdout",
     "output_type": "stream",
     "text": [
      "65 ../../feature/feature_fbank/2017019740014_leesumin/2017019740014_leesumin_0.npy\n",
      "66 ../../feature/feature_fbank/2017019740014_leesumin/2017019740014_leesumin_4.npy\n",
      "67 ../../feature/feature_fbank/2017019740014_leesumin/2017019740014_leesumin_2.npy\n"
     ]
    },
    {
     "name": "stderr",
     "output_type": "stream",
     "text": [
      "Lossy conversion from float32 to uint8. Range [0.0, 255.0]. Convert image to uint8 prior to saving to suppress this warning.\n",
      "Lossy conversion from float32 to uint8. Range [0.0, 255.0]. Convert image to uint8 prior to saving to suppress this warning.\n",
      "Lossy conversion from float32 to uint8. Range [0.0, 255.0]. Convert image to uint8 prior to saving to suppress this warning.\n"
     ]
    },
    {
     "name": "stdout",
     "output_type": "stream",
     "text": [
      "68 ../../feature/feature_fbank/2017019740014_leesumin/2017019740014_leesumin_1.npy\n",
      "69 ../../feature/feature_fbank/2017019740014_leesumin/2017019740014_leesumin_3.npy\n",
      "70 ../../feature/feature_fbank/2017019740015_choihayoung/2017019740015_choihayoung_3.npy\n"
     ]
    },
    {
     "name": "stderr",
     "output_type": "stream",
     "text": [
      "Lossy conversion from float32 to uint8. Range [0.0, 255.0]. Convert image to uint8 prior to saving to suppress this warning.\n",
      "Lossy conversion from float32 to uint8. Range [0.0, 255.0]. Convert image to uint8 prior to saving to suppress this warning.\n",
      "Lossy conversion from float32 to uint8. Range [0.0, 255.0]. Convert image to uint8 prior to saving to suppress this warning.\n"
     ]
    },
    {
     "name": "stdout",
     "output_type": "stream",
     "text": [
      "71 ../../feature/feature_fbank/2017019740015_choihayoung/2017019740015_choihayoung_1.npy\n",
      "72 ../../feature/feature_fbank/2017019740015_choihayoung/2017019740015_choihayoung_4.npy\n",
      "73 ../../feature/feature_fbank/2017019740015_choihayoung/2017019740015_choihayoung_2.npy\n"
     ]
    },
    {
     "name": "stderr",
     "output_type": "stream",
     "text": [
      "Lossy conversion from float32 to uint8. Range [0.0, 255.0]. Convert image to uint8 prior to saving to suppress this warning.\n",
      "Lossy conversion from float32 to uint8. Range [0.0, 255.0]. Convert image to uint8 prior to saving to suppress this warning.\n",
      "Lossy conversion from float32 to uint8. Range [0.0, 255.0]. Convert image to uint8 prior to saving to suppress this warning.\n"
     ]
    },
    {
     "name": "stdout",
     "output_type": "stream",
     "text": [
      "74 ../../feature/feature_fbank/2017019740015_choihayoung/2017019740015_choihayoung_0.npy\n",
      "75 ../../feature/feature_fbank/2017019740016_kangyeseo/2017019740016_kangyeseo_0.npy\n",
      "76 ../../feature/feature_fbank/2017019740016_kangyeseo/2017019740016_kangyeseo_3.npy\n"
     ]
    },
    {
     "name": "stderr",
     "output_type": "stream",
     "text": [
      "Lossy conversion from float32 to uint8. Range [0.0, 255.0]. Convert image to uint8 prior to saving to suppress this warning.\n",
      "Lossy conversion from float32 to uint8. Range [0.0, 255.0]. Convert image to uint8 prior to saving to suppress this warning.\n",
      "Lossy conversion from float32 to uint8. Range [0.0, 255.0]. Convert image to uint8 prior to saving to suppress this warning.\n"
     ]
    },
    {
     "name": "stdout",
     "output_type": "stream",
     "text": [
      "77 ../../feature/feature_fbank/2017019740016_kangyeseo/2017019740016_kangyeseo_2.npy\n",
      "78 ../../feature/feature_fbank/2017019740016_kangyeseo/2017019740016_kangyeseo_4.npy\n",
      "79 ../../feature/feature_fbank/2017019740016_kangyeseo/2017019740016_kangyeseo_1.npy\n"
     ]
    },
    {
     "name": "stderr",
     "output_type": "stream",
     "text": [
      "Lossy conversion from float32 to uint8. Range [0.0, 255.0]. Convert image to uint8 prior to saving to suppress this warning.\n",
      "Lossy conversion from float32 to uint8. Range [0.0, 255.0]. Convert image to uint8 prior to saving to suppress this warning.\n",
      "Lossy conversion from float32 to uint8. Range [0.0, 255.0]. Convert image to uint8 prior to saving to suppress this warning.\n"
     ]
    },
    {
     "name": "stdout",
     "output_type": "stream",
     "text": [
      "80 ../../feature/feature_fbank/2017019740017_kwakmihyang/2017019740017_kwakmihyang_3.npy\n",
      "81 ../../feature/feature_fbank/2017019740017_kwakmihyang/2017019740017_kwakmihyang_2.npy\n",
      "82 ../../feature/feature_fbank/2017019740017_kwakmihyang/2017019740017_kwakmihyang_1.npy\n"
     ]
    },
    {
     "name": "stderr",
     "output_type": "stream",
     "text": [
      "Lossy conversion from float32 to uint8. Range [0.0, 255.0]. Convert image to uint8 prior to saving to suppress this warning.\n",
      "Lossy conversion from float32 to uint8. Range [0.0, 255.0]. Convert image to uint8 prior to saving to suppress this warning.\n",
      "Lossy conversion from float32 to uint8. Range [0.0, 255.0]. Convert image to uint8 prior to saving to suppress this warning.\n"
     ]
    },
    {
     "name": "stdout",
     "output_type": "stream",
     "text": [
      "83 ../../feature/feature_fbank/2017019740017_kwakmihyang/2017019740017_kwakmihyang_4.npy\n",
      "84 ../../feature/feature_fbank/2017019740017_kwakmihyang/2017019740017_kwakmihyang_0.npy\n",
      "85 ../../feature/feature_fbank/2017019740018_eundano/2017019740018_eundano_0.npy\n"
     ]
    },
    {
     "name": "stderr",
     "output_type": "stream",
     "text": [
      "Lossy conversion from float32 to uint8. Range [0.0, 255.0]. Convert image to uint8 prior to saving to suppress this warning.\n",
      "Lossy conversion from float32 to uint8. Range [0.0, 255.0]. Convert image to uint8 prior to saving to suppress this warning.\n",
      "Lossy conversion from float32 to uint8. Range [0.0, 255.0]. Convert image to uint8 prior to saving to suppress this warning.\n"
     ]
    },
    {
     "name": "stdout",
     "output_type": "stream",
     "text": [
      "86 ../../feature/feature_fbank/2017019740018_eundano/2017019740018_eundano_4.npy\n",
      "87 ../../feature/feature_fbank/2017019740018_eundano/2017019740018_eundano_1.npy\n",
      "88 ../../feature/feature_fbank/2017019740018_eundano/2017019740018_eundano_3.npy\n"
     ]
    },
    {
     "name": "stderr",
     "output_type": "stream",
     "text": [
      "Lossy conversion from float32 to uint8. Range [0.0, 255.0]. Convert image to uint8 prior to saving to suppress this warning.\n",
      "Lossy conversion from float32 to uint8. Range [0.0, 255.0]. Convert image to uint8 prior to saving to suppress this warning.\n",
      "Lossy conversion from float32 to uint8. Range [0.0, 255.0]. Convert image to uint8 prior to saving to suppress this warning.\n"
     ]
    },
    {
     "name": "stdout",
     "output_type": "stream",
     "text": [
      "89 ../../feature/feature_fbank/2017019740018_eundano/2017019740018_eundano_2.npy\n",
      "90 ../../feature/feature_fbank/2017019740019_limjinju/2017019740019_limjinju_1.npy\n",
      "91 ../../feature/feature_fbank/2017019740019_limjinju/2017019740019_limjinju_3.npy\n"
     ]
    },
    {
     "name": "stderr",
     "output_type": "stream",
     "text": [
      "Lossy conversion from float32 to uint8. Range [0.0, 255.0]. Convert image to uint8 prior to saving to suppress this warning.\n",
      "Lossy conversion from float32 to uint8. Range [0.0, 255.0]. Convert image to uint8 prior to saving to suppress this warning.\n",
      "Lossy conversion from float32 to uint8. Range [0.0, 255.0]. Convert image to uint8 prior to saving to suppress this warning.\n"
     ]
    },
    {
     "name": "stdout",
     "output_type": "stream",
     "text": [
      "92 ../../feature/feature_fbank/2017019740019_limjinju/2017019740019_limjinju_4.npy\n",
      "93 ../../feature/feature_fbank/2017019740019_limjinju/2017019740019_limjinju_2.npy\n",
      "94 ../../feature/feature_fbank/2017019740019_limjinju/2017019740019_limjinju_0.npy\n"
     ]
    },
    {
     "name": "stderr",
     "output_type": "stream",
     "text": [
      "Lossy conversion from float32 to uint8. Range [0.0, 255.0]. Convert image to uint8 prior to saving to suppress this warning.\n",
      "Lossy conversion from float32 to uint8. Range [0.0, 255.0]. Convert image to uint8 prior to saving to suppress this warning.\n",
      "Lossy conversion from float32 to uint8. Range [0.0, 255.0]. Convert image to uint8 prior to saving to suppress this warning.\n"
     ]
    },
    {
     "name": "stdout",
     "output_type": "stream",
     "text": [
      "95 ../../feature/feature_fbank/2017019740020_kimseongje/2017019740020_kimseongje_3.npy\n",
      "96 ../../feature/feature_fbank/2017019740020_kimseongje/2017019740020_kimseongje_1.npy\n",
      "97 ../../feature/feature_fbank/2017019740020_kimseongje/2017019740020_kimseongje_4.npy\n"
     ]
    },
    {
     "name": "stderr",
     "output_type": "stream",
     "text": [
      "Lossy conversion from float32 to uint8. Range [0.0, 255.0]. Convert image to uint8 prior to saving to suppress this warning.\n",
      "Lossy conversion from float32 to uint8. Range [0.0, 255.0]. Convert image to uint8 prior to saving to suppress this warning.\n",
      "Lossy conversion from float32 to uint8. Range [0.0, 255.0]. Convert image to uint8 prior to saving to suppress this warning.\n"
     ]
    },
    {
     "name": "stdout",
     "output_type": "stream",
     "text": [
      "98 ../../feature/feature_fbank/2017019740020_kimseongje/2017019740020_kimseongje_2.npy\n",
      "99 ../../feature/feature_fbank/2017019740020_kimseongje/2017019740020_kimseongje_0.npy\n",
      "100 ../../feature/feature_fbank/2017019740021_kwakbokyeong/2017019740021_kwakbokyeong_3.npy\n"
     ]
    },
    {
     "name": "stderr",
     "output_type": "stream",
     "text": [
      "Lossy conversion from float32 to uint8. Range [0.0, 255.0]. Convert image to uint8 prior to saving to suppress this warning.\n",
      "Lossy conversion from float32 to uint8. Range [0.0, 255.0]. Convert image to uint8 prior to saving to suppress this warning.\n",
      "Lossy conversion from float32 to uint8. Range [0.0, 255.0]. Convert image to uint8 prior to saving to suppress this warning.\n"
     ]
    },
    {
     "name": "stdout",
     "output_type": "stream",
     "text": [
      "101 ../../feature/feature_fbank/2017019740021_kwakbokyeong/2017019740021_kwakbokyeong_2.npy\n",
      "102 ../../feature/feature_fbank/2017019740021_kwakbokyeong/2017019740021_kwakbokyeong_0.npy\n",
      "103 ../../feature/feature_fbank/2017019740021_kwakbokyeong/2017019740021_kwakbokyeong_1.npy\n"
     ]
    },
    {
     "name": "stderr",
     "output_type": "stream",
     "text": [
      "Lossy conversion from float32 to uint8. Range [0.0, 255.0]. Convert image to uint8 prior to saving to suppress this warning.\n",
      "Lossy conversion from float32 to uint8. Range [0.0, 255.0]. Convert image to uint8 prior to saving to suppress this warning.\n",
      "Lossy conversion from float32 to uint8. Range [0.0, 255.0]. Convert image to uint8 prior to saving to suppress this warning.\n"
     ]
    },
    {
     "name": "stdout",
     "output_type": "stream",
     "text": [
      "104 ../../feature/feature_fbank/2017019740021_kwakbokyeong/2017019740021_kwakbokyeong_4.npy\n",
      "105 ../../feature/feature_fbank/2017019740022_ahnhyojin/2017019740022_ahnhyojin_0.npy\n",
      "106 ../../feature/feature_fbank/2017019740022_ahnhyojin/2017019740022_ahnhyojin_1.npy\n"
     ]
    },
    {
     "name": "stderr",
     "output_type": "stream",
     "text": [
      "Lossy conversion from float32 to uint8. Range [0.0, 255.0]. Convert image to uint8 prior to saving to suppress this warning.\n",
      "Lossy conversion from float32 to uint8. Range [0.0, 255.0]. Convert image to uint8 prior to saving to suppress this warning.\n",
      "Lossy conversion from float32 to uint8. Range [0.0, 255.0]. Convert image to uint8 prior to saving to suppress this warning.\n"
     ]
    },
    {
     "name": "stdout",
     "output_type": "stream",
     "text": [
      "107 ../../feature/feature_fbank/2017019740022_ahnhyojin/2017019740022_ahnhyojin_2.npy\n",
      "108 ../../feature/feature_fbank/2017019740022_ahnhyojin/2017019740022_ahnhyojin_3.npy\n",
      "109 ../../feature/feature_fbank/2017019740022_ahnhyojin/2017019740022_ahnhyojin_4.npy\n"
     ]
    },
    {
     "name": "stderr",
     "output_type": "stream",
     "text": [
      "Lossy conversion from float32 to uint8. Range [0.0, 255.0]. Convert image to uint8 prior to saving to suppress this warning.\n",
      "Lossy conversion from float32 to uint8. Range [0.0, 255.0]. Convert image to uint8 prior to saving to suppress this warning.\n",
      "Lossy conversion from float32 to uint8. Range [0.0, 255.0]. Convert image to uint8 prior to saving to suppress this warning.\n"
     ]
    },
    {
     "name": "stdout",
     "output_type": "stream",
     "text": [
      "110 ../../feature/feature_fbank/2017019740023_heosehun/2017019740023_heosehun_3.npy\n",
      "111 ../../feature/feature_fbank/2017019740023_heosehun/2017019740023_heosehun_0.npy\n",
      "112 ../../feature/feature_fbank/2017019740023_heosehun/2017019740023_heosehun_4.npy\n"
     ]
    },
    {
     "name": "stderr",
     "output_type": "stream",
     "text": [
      "Lossy conversion from float32 to uint8. Range [0.0, 255.0]. Convert image to uint8 prior to saving to suppress this warning.\n",
      "Lossy conversion from float32 to uint8. Range [0.0, 255.0]. Convert image to uint8 prior to saving to suppress this warning.\n",
      "Lossy conversion from float32 to uint8. Range [0.0, 255.0]. Convert image to uint8 prior to saving to suppress this warning.\n"
     ]
    },
    {
     "name": "stdout",
     "output_type": "stream",
     "text": [
      "113 ../../feature/feature_fbank/2017019740023_heosehun/2017019740023_heosehun_2.npy\n",
      "114 ../../feature/feature_fbank/2017019740023_heosehun/2017019740023_heosehun_1.npy\n",
      "115 ../../feature/feature_fbank/2017019740024_choijiwon/2017019740024_choijiwon_2.npy\n"
     ]
    },
    {
     "name": "stderr",
     "output_type": "stream",
     "text": [
      "Lossy conversion from float32 to uint8. Range [0.0, 255.0]. Convert image to uint8 prior to saving to suppress this warning.\n",
      "Lossy conversion from float32 to uint8. Range [0.0, 255.0]. Convert image to uint8 prior to saving to suppress this warning.\n",
      "Lossy conversion from float32 to uint8. Range [0.0, 255.0]. Convert image to uint8 prior to saving to suppress this warning.\n"
     ]
    },
    {
     "name": "stdout",
     "output_type": "stream",
     "text": [
      "116 ../../feature/feature_fbank/2017019740024_choijiwon/2017019740024_choijiwon_0.npy\n",
      "117 ../../feature/feature_fbank/2017019740024_choijiwon/2017019740024_choijiwon_3.npy\n",
      "118 ../../feature/feature_fbank/2017019740024_choijiwon/2017019740024_choijiwon_1.npy\n"
     ]
    },
    {
     "name": "stderr",
     "output_type": "stream",
     "text": [
      "Lossy conversion from float32 to uint8. Range [0.0, 255.0]. Convert image to uint8 prior to saving to suppress this warning.\n",
      "Lossy conversion from float32 to uint8. Range [0.0, 255.0]. Convert image to uint8 prior to saving to suppress this warning.\n",
      "Lossy conversion from float32 to uint8. Range [0.0, 255.0]. Convert image to uint8 prior to saving to suppress this warning.\n"
     ]
    },
    {
     "name": "stdout",
     "output_type": "stream",
     "text": [
      "119 ../../feature/feature_fbank/2017019740024_choijiwon/2017019740024_choijiwon_4.npy\n",
      "120 ../../feature/feature_fbank/2017019740025_ahnjeongsuk/2017019740025_ahnjeongsuk_2.npy\n",
      "121 ../../feature/feature_fbank/2017019740025_ahnjeongsuk/2017019740025_ahnjeongsuk_4.npy\n"
     ]
    },
    {
     "name": "stderr",
     "output_type": "stream",
     "text": [
      "Lossy conversion from float32 to uint8. Range [0.0, 255.0]. Convert image to uint8 prior to saving to suppress this warning.\n",
      "Lossy conversion from float32 to uint8. Range [0.0, 255.0]. Convert image to uint8 prior to saving to suppress this warning.\n",
      "Lossy conversion from float32 to uint8. Range [0.0, 255.0]. Convert image to uint8 prior to saving to suppress this warning.\n"
     ]
    },
    {
     "name": "stdout",
     "output_type": "stream",
     "text": [
      "122 ../../feature/feature_fbank/2017019740025_ahnjeongsuk/2017019740025_ahnjeongsuk_1.npy\n",
      "123 ../../feature/feature_fbank/2017019740025_ahnjeongsuk/2017019740025_ahnjeongsuk_0.npy\n",
      "124 ../../feature/feature_fbank/2017019740025_ahnjeongsuk/2017019740025_ahnjeongsuk_3.npy\n"
     ]
    },
    {
     "name": "stderr",
     "output_type": "stream",
     "text": [
      "Lossy conversion from float32 to uint8. Range [0.0, 255.0]. Convert image to uint8 prior to saving to suppress this warning.\n",
      "Lossy conversion from float32 to uint8. Range [0.0, 255.0]. Convert image to uint8 prior to saving to suppress this warning.\n",
      "Lossy conversion from float32 to uint8. Range [0.0, 255.0]. Convert image to uint8 prior to saving to suppress this warning.\n"
     ]
    },
    {
     "name": "stdout",
     "output_type": "stream",
     "text": [
      "125 ../../feature/feature_fbank/2017019740026_parkyeongseon/2017019740026_parkyeongseon_1.npy\n",
      "126 ../../feature/feature_fbank/2017019740026_parkyeongseon/2017019740026_parkyeongseon_0.npy\n",
      "127 ../../feature/feature_fbank/2017019740026_parkyeongseon/2017019740026_parkyeongseon_2.npy\n"
     ]
    },
    {
     "name": "stderr",
     "output_type": "stream",
     "text": [
      "Lossy conversion from float32 to uint8. Range [0.0, 255.0]. Convert image to uint8 prior to saving to suppress this warning.\n",
      "Lossy conversion from float32 to uint8. Range [0.0, 255.0]. Convert image to uint8 prior to saving to suppress this warning.\n",
      "Lossy conversion from float32 to uint8. Range [0.0, 255.0]. Convert image to uint8 prior to saving to suppress this warning.\n"
     ]
    },
    {
     "name": "stdout",
     "output_type": "stream",
     "text": [
      "128 ../../feature/feature_fbank/2017019740026_parkyeongseon/2017019740026_parkyeongseon_4.npy\n",
      "129 ../../feature/feature_fbank/2017019740026_parkyeongseon/2017019740026_parkyeongseon_3.npy\n",
      "130 ../../feature/feature_fbank/2017019740027_kwaksangpil/2017019740027_kwaksangpil_1.npy\n"
     ]
    },
    {
     "name": "stderr",
     "output_type": "stream",
     "text": [
      "Lossy conversion from float32 to uint8. Range [0.0, 255.0]. Convert image to uint8 prior to saving to suppress this warning.\n",
      "Lossy conversion from float32 to uint8. Range [0.0, 255.0]. Convert image to uint8 prior to saving to suppress this warning.\n",
      "Lossy conversion from float32 to uint8. Range [0.0, 255.0]. Convert image to uint8 prior to saving to suppress this warning.\n"
     ]
    },
    {
     "name": "stdout",
     "output_type": "stream",
     "text": [
      "131 ../../feature/feature_fbank/2017019740027_kwaksangpil/2017019740027_kwaksangpil_3.npy\n",
      "132 ../../feature/feature_fbank/2017019740027_kwaksangpil/2017019740027_kwaksangpil_2.npy\n",
      "133 ../../feature/feature_fbank/2017019740027_kwaksangpil/2017019740027_kwaksangpil_0.npy\n"
     ]
    },
    {
     "name": "stderr",
     "output_type": "stream",
     "text": [
      "Lossy conversion from float32 to uint8. Range [0.0, 255.0]. Convert image to uint8 prior to saving to suppress this warning.\n",
      "Lossy conversion from float32 to uint8. Range [0.0, 255.0]. Convert image to uint8 prior to saving to suppress this warning.\n",
      "Lossy conversion from float32 to uint8. Range [0.0, 255.0]. Convert image to uint8 prior to saving to suppress this warning.\n"
     ]
    },
    {
     "name": "stdout",
     "output_type": "stream",
     "text": [
      "134 ../../feature/feature_fbank/2017019740027_kwaksangpil/2017019740027_kwaksangpil_4.npy\n",
      "135 ../../feature/feature_fbank/2017019740028_kodohyeon/2017019740028_kodohyeon_2.npy\n",
      "136 ../../feature/feature_fbank/2017019740028_kodohyeon/2017019740028_kodohyeon_4.npy\n"
     ]
    },
    {
     "name": "stderr",
     "output_type": "stream",
     "text": [
      "Lossy conversion from float32 to uint8. Range [0.0, 255.0]. Convert image to uint8 prior to saving to suppress this warning.\n",
      "Lossy conversion from float32 to uint8. Range [0.0, 255.0]. Convert image to uint8 prior to saving to suppress this warning.\n",
      "Lossy conversion from float32 to uint8. Range [0.0, 255.0]. Convert image to uint8 prior to saving to suppress this warning.\n"
     ]
    },
    {
     "name": "stdout",
     "output_type": "stream",
     "text": [
      "137 ../../feature/feature_fbank/2017019740028_kodohyeon/2017019740028_kodohyeon_1.npy\n",
      "138 ../../feature/feature_fbank/2017019740028_kodohyeon/2017019740028_kodohyeon_3.npy\n",
      "139 ../../feature/feature_fbank/2017019740028_kodohyeon/2017019740028_kodohyeon_0.npy\n"
     ]
    },
    {
     "name": "stderr",
     "output_type": "stream",
     "text": [
      "Lossy conversion from float32 to uint8. Range [0.0, 255.0]. Convert image to uint8 prior to saving to suppress this warning.\n",
      "Lossy conversion from float32 to uint8. Range [0.0, 255.0]. Convert image to uint8 prior to saving to suppress this warning.\n",
      "Lossy conversion from float32 to uint8. Range [0.0, 255.0]. Convert image to uint8 prior to saving to suppress this warning.\n"
     ]
    },
    {
     "name": "stdout",
     "output_type": "stream",
     "text": [
      "140 ../../feature/feature_fbank/2017019740029_limdonggeun/2017019740029_limdonggeun_5.npy\n",
      "141 ../../feature/feature_fbank/2017019740029_limdonggeun/2017019740029_limdonggeun_4.npy\n",
      "142 ../../feature/feature_fbank/2017019740029_limdonggeun/2017019740029_limdonggeun_2.npy\n"
     ]
    },
    {
     "name": "stderr",
     "output_type": "stream",
     "text": [
      "Lossy conversion from float32 to uint8. Range [0.0, 255.0]. Convert image to uint8 prior to saving to suppress this warning.\n",
      "Lossy conversion from float32 to uint8. Range [0.0, 255.0]. Convert image to uint8 prior to saving to suppress this warning.\n",
      "Lossy conversion from float32 to uint8. Range [0.0, 255.0]. Convert image to uint8 prior to saving to suppress this warning.\n"
     ]
    },
    {
     "name": "stdout",
     "output_type": "stream",
     "text": [
      "143 ../../feature/feature_fbank/2017019740029_limdonggeun/2017019740029_limdonggeun_3.npy\n",
      "144 ../../feature/feature_fbank/2017019740029_limdonggeun/2017019740029_limdonggeun_1.npy\n",
      "145 ../../feature/feature_fbank/2017019740029_limdonggeun/2017019740029_limdonggeun_0.npy\n"
     ]
    },
    {
     "name": "stderr",
     "output_type": "stream",
     "text": [
      "Lossy conversion from float32 to uint8. Range [0.0, 255.0]. Convert image to uint8 prior to saving to suppress this warning.\n",
      "Lossy conversion from float32 to uint8. Range [0.0, 255.0]. Convert image to uint8 prior to saving to suppress this warning.\n",
      "Lossy conversion from float32 to uint8. Range [0.0, 255.0]. Convert image to uint8 prior to saving to suppress this warning.\n"
     ]
    },
    {
     "name": "stdout",
     "output_type": "stream",
     "text": [
      "146 ../../feature/feature_fbank/2017019740030_kanghyeyeon/2017019740030_kanghyeyeon_0.npy\n",
      "147 ../../feature/feature_fbank/2017019740030_kanghyeyeon/2017019740030_kanghyeyeon_1.npy\n",
      "148 ../../feature/feature_fbank/2017019740030_kanghyeyeon/2017019740030_kanghyeyeon_4.npy\n"
     ]
    },
    {
     "name": "stderr",
     "output_type": "stream",
     "text": [
      "Lossy conversion from float32 to uint8. Range [0.0, 255.0]. Convert image to uint8 prior to saving to suppress this warning.\n",
      "Lossy conversion from float32 to uint8. Range [0.0, 255.0]. Convert image to uint8 prior to saving to suppress this warning.\n",
      "Lossy conversion from float32 to uint8. Range [0.0, 255.0]. Convert image to uint8 prior to saving to suppress this warning.\n"
     ]
    },
    {
     "name": "stdout",
     "output_type": "stream",
     "text": [
      "149 ../../feature/feature_fbank/2017019740030_kanghyeyeon/2017019740030_kanghyeyeon_3.npy\n",
      "150 ../../feature/feature_fbank/2017019740030_kanghyeyeon/2017019740030_kanghyeyeon_2.npy\n",
      "151 ../../feature/feature_fbank/2017019740031_jominseok/2017019740031_jominseok_0.npy\n"
     ]
    },
    {
     "name": "stderr",
     "output_type": "stream",
     "text": [
      "Lossy conversion from float32 to uint8. Range [0.0, 255.0]. Convert image to uint8 prior to saving to suppress this warning.\n",
      "Lossy conversion from float32 to uint8. Range [0.0, 255.0]. Convert image to uint8 prior to saving to suppress this warning.\n",
      "Lossy conversion from float32 to uint8. Range [0.0, 255.0]. Convert image to uint8 prior to saving to suppress this warning.\n"
     ]
    },
    {
     "name": "stdout",
     "output_type": "stream",
     "text": [
      "152 ../../feature/feature_fbank/2017019740031_jominseok/2017019740031_jominseok_1.npy\n",
      "153 ../../feature/feature_fbank/2017019740031_jominseok/2017019740031_jominseok_2.npy\n",
      "154 ../../feature/feature_fbank/2017019740031_jominseok/2017019740031_jominseok_4.npy\n"
     ]
    },
    {
     "name": "stderr",
     "output_type": "stream",
     "text": [
      "Lossy conversion from float32 to uint8. Range [0.0, 255.0]. Convert image to uint8 prior to saving to suppress this warning.\n",
      "Lossy conversion from float32 to uint8. Range [0.0, 255.0]. Convert image to uint8 prior to saving to suppress this warning.\n",
      "Lossy conversion from float32 to uint8. Range [0.0, 255.0]. Convert image to uint8 prior to saving to suppress this warning.\n"
     ]
    },
    {
     "name": "stdout",
     "output_type": "stream",
     "text": [
      "155 ../../feature/feature_fbank/2017019740031_jominseok/2017019740031_jominseok_3.npy\n",
      "156 ../../feature/feature_fbank/2017019770001_kwonyuna/2017019770001_kwonyuna_1.npy\n",
      "157 ../../feature/feature_fbank/2017019770001_kwonyuna/2017019770001_kwonyuna_0.npy\n"
     ]
    },
    {
     "name": "stderr",
     "output_type": "stream",
     "text": [
      "Lossy conversion from float32 to uint8. Range [0.0, 255.0]. Convert image to uint8 prior to saving to suppress this warning.\n",
      "Lossy conversion from float32 to uint8. Range [0.0, 255.0]. Convert image to uint8 prior to saving to suppress this warning.\n",
      "Lossy conversion from float32 to uint8. Range [0.0, 255.0]. Convert image to uint8 prior to saving to suppress this warning.\n"
     ]
    },
    {
     "name": "stdout",
     "output_type": "stream",
     "text": [
      "158 ../../feature/feature_fbank/2017019770001_kwonyuna/2017019770001_kwonyuna_3.npy\n",
      "159 ../../feature/feature_fbank/2017019770001_kwonyuna/2017019770001_kwonyuna_2.npy\n",
      "160 ../../feature/feature_fbank/2017019770001_kwonyuna/2017019770001_kwonyuna_4.npy\n"
     ]
    },
    {
     "name": "stderr",
     "output_type": "stream",
     "text": [
      "Lossy conversion from float32 to uint8. Range [0.0, 255.0]. Convert image to uint8 prior to saving to suppress this warning.\n",
      "Lossy conversion from float32 to uint8. Range [0.0, 255.0]. Convert image to uint8 prior to saving to suppress this warning.\n",
      "Lossy conversion from float32 to uint8. Range [0.0, 255.0]. Convert image to uint8 prior to saving to suppress this warning.\n"
     ]
    },
    {
     "name": "stdout",
     "output_type": "stream",
     "text": [
      "161 ../../feature/feature_fbank/2017019770002_kwoneunkyung/2017019770002_kwoneunkyung_3.npy\n",
      "162 ../../feature/feature_fbank/2017019770002_kwoneunkyung/2017019770002_kwoneunkyung_2.npy\n",
      "163 ../../feature/feature_fbank/2017019770002_kwoneunkyung/2017019770002_kwoneunkyung_0.npy\n"
     ]
    },
    {
     "name": "stderr",
     "output_type": "stream",
     "text": [
      "Lossy conversion from float32 to uint8. Range [0.0, 255.0]. Convert image to uint8 prior to saving to suppress this warning.\n",
      "Lossy conversion from float32 to uint8. Range [0.0, 255.0]. Convert image to uint8 prior to saving to suppress this warning.\n",
      "Lossy conversion from float32 to uint8. Range [0.0, 255.0]. Convert image to uint8 prior to saving to suppress this warning.\n"
     ]
    },
    {
     "name": "stdout",
     "output_type": "stream",
     "text": [
      "164 ../../feature/feature_fbank/2017019770002_kwoneunkyung/2017019770002_kwoneunkyung_1.npy\n",
      "165 ../../feature/feature_fbank/2017019770002_kwoneunkyung/2017019770002_kwoneunkyung_4.npy\n",
      "166 ../../feature/feature_fbank/2017019770003_johaesu/2017019770003_johaesu_4.npy\n"
     ]
    },
    {
     "name": "stderr",
     "output_type": "stream",
     "text": [
      "Lossy conversion from float32 to uint8. Range [0.0, 255.0]. Convert image to uint8 prior to saving to suppress this warning.\n",
      "Lossy conversion from float32 to uint8. Range [0.0, 255.0]. Convert image to uint8 prior to saving to suppress this warning.\n",
      "Lossy conversion from float32 to uint8. Range [0.0, 255.0]. Convert image to uint8 prior to saving to suppress this warning.\n"
     ]
    },
    {
     "name": "stdout",
     "output_type": "stream",
     "text": [
      "167 ../../feature/feature_fbank/2017019770003_johaesu/2017019770003_johaesu_0.npy\n",
      "168 ../../feature/feature_fbank/2017019770003_johaesu/2017019770003_johaesu_1.npy\n",
      "169 ../../feature/feature_fbank/2017019770003_johaesu/2017019770003_johaesu_2.npy\n"
     ]
    },
    {
     "name": "stderr",
     "output_type": "stream",
     "text": [
      "Lossy conversion from float32 to uint8. Range [0.0, 255.0]. Convert image to uint8 prior to saving to suppress this warning.\n",
      "Lossy conversion from float32 to uint8. Range [0.0, 255.0]. Convert image to uint8 prior to saving to suppress this warning.\n",
      "Lossy conversion from float32 to uint8. Range [0.0, 255.0]. Convert image to uint8 prior to saving to suppress this warning.\n"
     ]
    },
    {
     "name": "stdout",
     "output_type": "stream",
     "text": [
      "170 ../../feature/feature_fbank/2017019770003_johaesu/2017019770003_johaesu_3.npy\n",
      "171 ../../feature/feature_fbank/2017019770004_leebyeongjin/2017019770004_leebyeongjin_4.npy\n",
      "172 ../../feature/feature_fbank/2017019770004_leebyeongjin/2017019770004_leebyeongjin_3.npy\n"
     ]
    },
    {
     "name": "stderr",
     "output_type": "stream",
     "text": [
      "Lossy conversion from float32 to uint8. Range [0.0, 255.0]. Convert image to uint8 prior to saving to suppress this warning.\n",
      "Lossy conversion from float32 to uint8. Range [0.0, 255.0]. Convert image to uint8 prior to saving to suppress this warning.\n",
      "Lossy conversion from float32 to uint8. Range [0.0, 255.0]. Convert image to uint8 prior to saving to suppress this warning.\n"
     ]
    },
    {
     "name": "stdout",
     "output_type": "stream",
     "text": [
      "173 ../../feature/feature_fbank/2017019770004_leebyeongjin/2017019770004_leebyeongjin_0.npy\n",
      "174 ../../feature/feature_fbank/2017019770004_leebyeongjin/2017019770004_leebyeongjin_2.npy\n",
      "175 ../../feature/feature_fbank/2017019770004_leebyeongjin/2017019770004_leebyeongjin_1.npy\n"
     ]
    },
    {
     "name": "stderr",
     "output_type": "stream",
     "text": [
      "Lossy conversion from float32 to uint8. Range [0.0, 255.0]. Convert image to uint8 prior to saving to suppress this warning.\n",
      "Lossy conversion from float32 to uint8. Range [0.0, 255.0]. Convert image to uint8 prior to saving to suppress this warning.\n",
      "Lossy conversion from float32 to uint8. Range [0.0, 255.0]. Convert image to uint8 prior to saving to suppress this warning.\n"
     ]
    },
    {
     "name": "stdout",
     "output_type": "stream",
     "text": [
      "176 ../../feature/feature_fbank/2017019770005_hyeonsanghyeok/2017019770005_hyeonsanghyeok_1.npy\n",
      "177 ../../feature/feature_fbank/2017019770005_hyeonsanghyeok/2017019770005_hyeonsanghyeok_2.npy\n",
      "178 ../../feature/feature_fbank/2017019770005_hyeonsanghyeok/2017019770005_hyeonsanghyeok_4.npy\n"
     ]
    },
    {
     "name": "stderr",
     "output_type": "stream",
     "text": [
      "Lossy conversion from float32 to uint8. Range [0.0, 255.0]. Convert image to uint8 prior to saving to suppress this warning.\n",
      "Lossy conversion from float32 to uint8. Range [0.0, 255.0]. Convert image to uint8 prior to saving to suppress this warning.\n",
      "Lossy conversion from float32 to uint8. Range [0.0, 255.0]. Convert image to uint8 prior to saving to suppress this warning.\n"
     ]
    },
    {
     "name": "stdout",
     "output_type": "stream",
     "text": [
      "179 ../../feature/feature_fbank/2017019770005_hyeonsanghyeok/2017019770005_hyeonsanghyeok_0.npy\n",
      "180 ../../feature/feature_fbank/2017019770005_hyeonsanghyeok/2017019770005_hyeonsanghyeok_3.npy\n",
      "181 ../../feature/feature_fbank/2017019770006_jennie/2017019770006_jennie_4.npy\n"
     ]
    },
    {
     "name": "stderr",
     "output_type": "stream",
     "text": [
      "Lossy conversion from float32 to uint8. Range [0.0, 255.0]. Convert image to uint8 prior to saving to suppress this warning.\n",
      "Lossy conversion from float32 to uint8. Range [0.0, 255.0]. Convert image to uint8 prior to saving to suppress this warning.\n",
      "Lossy conversion from float32 to uint8. Range [0.0, 255.0]. Convert image to uint8 prior to saving to suppress this warning.\n"
     ]
    },
    {
     "name": "stdout",
     "output_type": "stream",
     "text": [
      "182 ../../feature/feature_fbank/2017019770006_jennie/2017019770006_jennie_0.npy\n",
      "183 ../../feature/feature_fbank/2017019770006_jennie/2017019770006_jennie_1.npy\n",
      "184 ../../feature/feature_fbank/2017019770006_jennie/2017019770006_jennie_2.npy\n"
     ]
    },
    {
     "name": "stderr",
     "output_type": "stream",
     "text": [
      "Lossy conversion from float32 to uint8. Range [0.0, 255.0]. Convert image to uint8 prior to saving to suppress this warning.\n",
      "Lossy conversion from float32 to uint8. Range [0.0, 255.0]. Convert image to uint8 prior to saving to suppress this warning.\n",
      "Lossy conversion from float32 to uint8. Range [0.0, 255.0]. Convert image to uint8 prior to saving to suppress this warning.\n"
     ]
    },
    {
     "name": "stdout",
     "output_type": "stream",
     "text": [
      "185 ../../feature/feature_fbank/2017019770006_jennie/2017019770006_jennie_3.npy\n",
      "186 ../../feature/feature_fbank/2017019770007_simseungmin/2017019770007_simseungmin_3.npy\n",
      "187 ../../feature/feature_fbank/2017019770007_simseungmin/2017019770007_simseungmin_2.npy\n"
     ]
    },
    {
     "name": "stderr",
     "output_type": "stream",
     "text": [
      "Lossy conversion from float32 to uint8. Range [0.0, 255.0]. Convert image to uint8 prior to saving to suppress this warning.\n",
      "Lossy conversion from float32 to uint8. Range [0.0, 255.0]. Convert image to uint8 prior to saving to suppress this warning.\n",
      "Lossy conversion from float32 to uint8. Range [0.0, 255.0]. Convert image to uint8 prior to saving to suppress this warning.\n"
     ]
    },
    {
     "name": "stdout",
     "output_type": "stream",
     "text": [
      "188 ../../feature/feature_fbank/2017019770007_simseungmin/2017019770007_simseungmin_1.npy\n",
      "189 ../../feature/feature_fbank/2017019770007_simseungmin/2017019770007_simseungmin_4.npy\n",
      "190 ../../feature/feature_fbank/2017019770007_simseungmin/2017019770007_simseungmin_0.npy\n"
     ]
    },
    {
     "name": "stderr",
     "output_type": "stream",
     "text": [
      "Lossy conversion from float32 to uint8. Range [0.0, 255.0]. Convert image to uint8 prior to saving to suppress this warning.\n",
      "Lossy conversion from float32 to uint8. Range [0.0, 255.0]. Convert image to uint8 prior to saving to suppress this warning.\n",
      "Lossy conversion from float32 to uint8. Range [0.0, 255.0]. Convert image to uint8 prior to saving to suppress this warning.\n"
     ]
    },
    {
     "name": "stdout",
     "output_type": "stream",
     "text": [
      "191 ../../feature/feature_fbank/2017019770008_parksomi/2017019770008_parksomi_2.npy\n",
      "192 ../../feature/feature_fbank/2017019770008_parksomi/2017019770008_parksomi_1.npy\n",
      "193 ../../feature/feature_fbank/2017019770008_parksomi/2017019770008_parksomi_3.npy\n"
     ]
    },
    {
     "name": "stderr",
     "output_type": "stream",
     "text": [
      "Lossy conversion from float32 to uint8. Range [0.0, 255.0]. Convert image to uint8 prior to saving to suppress this warning.\n",
      "Lossy conversion from float32 to uint8. Range [0.0, 255.0]. Convert image to uint8 prior to saving to suppress this warning.\n",
      "Lossy conversion from float32 to uint8. Range [0.0, 255.0]. Convert image to uint8 prior to saving to suppress this warning.\n"
     ]
    },
    {
     "name": "stdout",
     "output_type": "stream",
     "text": [
      "194 ../../feature/feature_fbank/2017019770008_parksomi/2017019770008_parksomi_0.npy\n",
      "195 ../../feature/feature_fbank/2017019770008_parksomi/2017019770008_parksomi_4.npy\n",
      "196 ../../feature/feature_fbank/2017019770009_yuminji/2017019770009_yuminji_3.npy\n"
     ]
    },
    {
     "name": "stderr",
     "output_type": "stream",
     "text": [
      "Lossy conversion from float32 to uint8. Range [0.0, 255.0]. Convert image to uint8 prior to saving to suppress this warning.\n",
      "Lossy conversion from float32 to uint8. Range [0.0, 255.0]. Convert image to uint8 prior to saving to suppress this warning.\n",
      "Lossy conversion from float32 to uint8. Range [0.0, 255.0]. Convert image to uint8 prior to saving to suppress this warning.\n"
     ]
    },
    {
     "name": "stdout",
     "output_type": "stream",
     "text": [
      "197 ../../feature/feature_fbank/2017019770009_yuminji/2017019770009_yuminji_4.npy\n",
      "198 ../../feature/feature_fbank/2017019770009_yuminji/2017019770009_yuminji_0.npy\n",
      "199 ../../feature/feature_fbank/2017019770009_yuminji/2017019770009_yuminji_1.npy\n"
     ]
    },
    {
     "name": "stderr",
     "output_type": "stream",
     "text": [
      "Lossy conversion from float32 to uint8. Range [0.0, 255.0]. Convert image to uint8 prior to saving to suppress this warning.\n",
      "Lossy conversion from float32 to uint8. Range [0.0, 255.0]. Convert image to uint8 prior to saving to suppress this warning.\n",
      "Lossy conversion from float32 to uint8. Range [0.0, 255.0]. Convert image to uint8 prior to saving to suppress this warning.\n"
     ]
    },
    {
     "name": "stdout",
     "output_type": "stream",
     "text": [
      "200 ../../feature/feature_fbank/2017019770009_yuminji/2017019770009_yuminji_2.npy\n",
      "201 ../../feature/feature_fbank/2017019770010_parksojin/2017019770010_parksojin_1.npy\n",
      "202 ../../feature/feature_fbank/2017019770010_parksojin/2017019770010_parksojin_4.npy\n"
     ]
    },
    {
     "name": "stderr",
     "output_type": "stream",
     "text": [
      "Lossy conversion from float32 to uint8. Range [0.0, 255.0]. Convert image to uint8 prior to saving to suppress this warning.\n",
      "Lossy conversion from float32 to uint8. Range [0.0, 255.0]. Convert image to uint8 prior to saving to suppress this warning.\n",
      "Lossy conversion from float32 to uint8. Range [0.0, 255.0]. Convert image to uint8 prior to saving to suppress this warning.\n"
     ]
    },
    {
     "name": "stdout",
     "output_type": "stream",
     "text": [
      "203 ../../feature/feature_fbank/2017019770010_parksojin/2017019770010_parksojin_0.npy\n",
      "204 ../../feature/feature_fbank/2017019770010_parksojin/2017019770010_parksojin_3.npy\n",
      "205 ../../feature/feature_fbank/2017019770010_parksojin/2017019770010_parksojin_2.npy\n"
     ]
    },
    {
     "name": "stderr",
     "output_type": "stream",
     "text": [
      "Lossy conversion from float32 to uint8. Range [0.0, 255.0]. Convert image to uint8 prior to saving to suppress this warning.\n",
      "Lossy conversion from float32 to uint8. Range [0.0, 255.0]. Convert image to uint8 prior to saving to suppress this warning.\n",
      "Lossy conversion from float32 to uint8. Range [0.0, 255.0]. Convert image to uint8 prior to saving to suppress this warning.\n"
     ]
    },
    {
     "name": "stdout",
     "output_type": "stream",
     "text": [
      "206 ../../feature/feature_fbank/2017019770011_kwonyeonwoo/2017019770011_kwonyeonwoo_0.npy\n",
      "207 ../../feature/feature_fbank/2017019770011_kwonyeonwoo/2017019770011_kwonyeonwoo_2.npy\n",
      "208 ../../feature/feature_fbank/2017019770011_kwonyeonwoo/2017019770011_kwonyeonwoo_3.npy\n"
     ]
    },
    {
     "name": "stderr",
     "output_type": "stream",
     "text": [
      "Lossy conversion from float32 to uint8. Range [0.0, 255.0]. Convert image to uint8 prior to saving to suppress this warning.\n",
      "Lossy conversion from float32 to uint8. Range [0.0, 255.0]. Convert image to uint8 prior to saving to suppress this warning.\n",
      "Lossy conversion from float32 to uint8. Range [0.0, 255.0]. Convert image to uint8 prior to saving to suppress this warning.\n"
     ]
    },
    {
     "name": "stdout",
     "output_type": "stream",
     "text": [
      "209 ../../feature/feature_fbank/2017019770011_kwonyeonwoo/2017019770011_kwonyeonwoo_4.npy\n",
      "210 ../../feature/feature_fbank/2017019770011_kwonyeonwoo/2017019770011_kwonyeonwoo_1.npy\n",
      "211 ../../feature/feature_fbank/2017019770012_ladakyeong/2017019770012_ladakyeong_1.npy\n"
     ]
    },
    {
     "name": "stderr",
     "output_type": "stream",
     "text": [
      "Lossy conversion from float32 to uint8. Range [0.0, 255.0]. Convert image to uint8 prior to saving to suppress this warning.\n",
      "Lossy conversion from float32 to uint8. Range [0.0, 255.0]. Convert image to uint8 prior to saving to suppress this warning.\n",
      "Lossy conversion from float32 to uint8. Range [0.0, 255.0]. Convert image to uint8 prior to saving to suppress this warning.\n"
     ]
    },
    {
     "name": "stdout",
     "output_type": "stream",
     "text": [
      "212 ../../feature/feature_fbank/2017019770012_ladakyeong/2017019770012_ladakyeong_4.npy\n",
      "213 ../../feature/feature_fbank/2017019770012_ladakyeong/2017019770012_ladakyeong_3.npy\n",
      "214 ../../feature/feature_fbank/2017019770012_ladakyeong/2017019770012_ladakyeong_0.npy\n"
     ]
    },
    {
     "name": "stderr",
     "output_type": "stream",
     "text": [
      "Lossy conversion from float32 to uint8. Range [0.0, 255.0]. Convert image to uint8 prior to saving to suppress this warning.\n",
      "Lossy conversion from float32 to uint8. Range [0.0, 255.0]. Convert image to uint8 prior to saving to suppress this warning.\n",
      "Lossy conversion from float32 to uint8. Range [0.0, 255.0]. Convert image to uint8 prior to saving to suppress this warning.\n"
     ]
    },
    {
     "name": "stdout",
     "output_type": "stream",
     "text": [
      "215 ../../feature/feature_fbank/2017019770012_ladakyeong/2017019770012_ladakyeong_2.npy\n",
      "216 ../../feature/feature_fbank/2017019770013_janghyomin/2017019770013_janghyomin_2.npy\n",
      "217 ../../feature/feature_fbank/2017019770013_janghyomin/2017019770013_janghyomin_3.npy\n"
     ]
    },
    {
     "name": "stderr",
     "output_type": "stream",
     "text": [
      "Lossy conversion from float32 to uint8. Range [0.0, 255.0]. Convert image to uint8 prior to saving to suppress this warning.\n",
      "Lossy conversion from float32 to uint8. Range [0.0, 255.0]. Convert image to uint8 prior to saving to suppress this warning.\n",
      "Lossy conversion from float32 to uint8. Range [0.0, 255.0]. Convert image to uint8 prior to saving to suppress this warning.\n"
     ]
    },
    {
     "name": "stdout",
     "output_type": "stream",
     "text": [
      "218 ../../feature/feature_fbank/2017019770013_janghyomin/2017019770013_janghyomin_0.npy\n",
      "219 ../../feature/feature_fbank/2017019770013_janghyomin/2017019770013_janghyomin_1.npy\n",
      "220 ../../feature/feature_fbank/2017019770013_janghyomin/2017019770013_janghyomin_4.npy\n"
     ]
    },
    {
     "name": "stderr",
     "output_type": "stream",
     "text": [
      "Lossy conversion from float32 to uint8. Range [0.0, 255.0]. Convert image to uint8 prior to saving to suppress this warning.\n",
      "Lossy conversion from float32 to uint8. Range [0.0, 255.0]. Convert image to uint8 prior to saving to suppress this warning.\n",
      "Lossy conversion from float32 to uint8. Range [0.0, 255.0]. Convert image to uint8 prior to saving to suppress this warning.\n"
     ]
    },
    {
     "name": "stdout",
     "output_type": "stream",
     "text": [
      "221 ../../feature/feature_fbank/2017019770014_parkeunbi/2017019770014_parkeunbi_3.npy\n",
      "222 ../../feature/feature_fbank/2017019770014_parkeunbi/2017019770014_parkeunbi_2.npy\n",
      "223 ../../feature/feature_fbank/2017019770014_parkeunbi/2017019770014_parkeunbi_0.npy\n"
     ]
    },
    {
     "name": "stderr",
     "output_type": "stream",
     "text": [
      "Lossy conversion from float32 to uint8. Range [0.0, 255.0]. Convert image to uint8 prior to saving to suppress this warning.\n",
      "Lossy conversion from float32 to uint8. Range [0.0, 255.0]. Convert image to uint8 prior to saving to suppress this warning.\n",
      "Lossy conversion from float32 to uint8. Range [0.0, 255.0]. Convert image to uint8 prior to saving to suppress this warning.\n"
     ]
    },
    {
     "name": "stdout",
     "output_type": "stream",
     "text": [
      "224 ../../feature/feature_fbank/2017019770014_parkeunbi/2017019770014_parkeunbi_1.npy\n",
      "225 ../../feature/feature_fbank/2017019770014_parkeunbi/2017019770014_parkeunbi_4.npy\n",
      "226 ../../feature/feature_fbank/2017019770015_parkdayeung/2017019770015_parkdayeung_4.npy\n"
     ]
    },
    {
     "name": "stderr",
     "output_type": "stream",
     "text": [
      "Lossy conversion from float32 to uint8. Range [0.0, 255.0]. Convert image to uint8 prior to saving to suppress this warning.\n",
      "Lossy conversion from float32 to uint8. Range [0.0, 255.0]. Convert image to uint8 prior to saving to suppress this warning.\n",
      "Lossy conversion from float32 to uint8. Range [0.0, 255.0]. Convert image to uint8 prior to saving to suppress this warning.\n"
     ]
    },
    {
     "name": "stdout",
     "output_type": "stream",
     "text": [
      "227 ../../feature/feature_fbank/2017019770015_parkdayeung/2017019770015_parkdayeung_2.npy\n",
      "228 ../../feature/feature_fbank/2017019770015_parkdayeung/2017019770015_parkdayeung_3.npy\n",
      "229 ../../feature/feature_fbank/2017019770015_parkdayeung/2017019770015_parkdayeung_1.npy\n"
     ]
    },
    {
     "name": "stderr",
     "output_type": "stream",
     "text": [
      "Lossy conversion from float32 to uint8. Range [0.0, 255.0]. Convert image to uint8 prior to saving to suppress this warning.\n",
      "Lossy conversion from float32 to uint8. Range [0.0, 255.0]. Convert image to uint8 prior to saving to suppress this warning.\n",
      "Lossy conversion from float32 to uint8. Range [0.0, 255.0]. Convert image to uint8 prior to saving to suppress this warning.\n"
     ]
    },
    {
     "name": "stdout",
     "output_type": "stream",
     "text": [
      "230 ../../feature/feature_fbank/2017019770015_parkdayeung/2017019770015_parkdayeung_0.npy\n",
      "231 ../../feature/feature_fbank/2017019770016_parkjongae/2017019770016_parkjongae_4.npy\n",
      "232 ../../feature/feature_fbank/2017019770016_parkjongae/2017019770016_parkjongae_2.npy\n"
     ]
    },
    {
     "name": "stderr",
     "output_type": "stream",
     "text": [
      "Lossy conversion from float32 to uint8. Range [0.0, 255.0]. Convert image to uint8 prior to saving to suppress this warning.\n",
      "Lossy conversion from float32 to uint8. Range [0.0, 255.0]. Convert image to uint8 prior to saving to suppress this warning.\n",
      "Lossy conversion from float32 to uint8. Range [0.0, 255.0]. Convert image to uint8 prior to saving to suppress this warning.\n"
     ]
    },
    {
     "name": "stdout",
     "output_type": "stream",
     "text": [
      "233 ../../feature/feature_fbank/2017019770016_parkjongae/2017019770016_parkjongae_3.npy\n",
      "234 ../../feature/feature_fbank/2017019770016_parkjongae/2017019770016_parkjongae_0.npy\n",
      "235 ../../feature/feature_fbank/2017019770016_parkjongae/2017019770016_parkjongae_1.npy\n"
     ]
    },
    {
     "name": "stderr",
     "output_type": "stream",
     "text": [
      "Lossy conversion from float32 to uint8. Range [0.0, 255.0]. Convert image to uint8 prior to saving to suppress this warning.\n",
      "Lossy conversion from float32 to uint8. Range [0.0, 255.0]. Convert image to uint8 prior to saving to suppress this warning.\n",
      "Lossy conversion from float32 to uint8. Range [0.0, 255.0]. Convert image to uint8 prior to saving to suppress this warning.\n"
     ]
    },
    {
     "name": "stdout",
     "output_type": "stream",
     "text": [
      "236 ../../feature/feature_fbank/2017019770017_hansohee/2017019770017_hansohee_3.npy\n",
      "237 ../../feature/feature_fbank/2017019770017_hansohee/2017019770017_hansohee_1.npy\n",
      "238 ../../feature/feature_fbank/2017019770017_hansohee/2017019770017_hansohee_0.npy\n"
     ]
    },
    {
     "name": "stderr",
     "output_type": "stream",
     "text": [
      "Lossy conversion from float32 to uint8. Range [0.0, 255.0]. Convert image to uint8 prior to saving to suppress this warning.\n",
      "Lossy conversion from float32 to uint8. Range [0.0, 255.0]. Convert image to uint8 prior to saving to suppress this warning.\n",
      "Lossy conversion from float32 to uint8. Range [0.0, 255.0]. Convert image to uint8 prior to saving to suppress this warning.\n"
     ]
    },
    {
     "name": "stdout",
     "output_type": "stream",
     "text": [
      "239 ../../feature/feature_fbank/2017019770017_hansohee/2017019770017_hansohee_2.npy\n",
      "240 ../../feature/feature_fbank/2017019770017_hansohee/2017019770017_hansohee_4.npy\n",
      "241 ../../feature/feature_fbank/2017019770018_janggyeoul/2017019770018_janggyeoul_4.npy\n"
     ]
    },
    {
     "name": "stderr",
     "output_type": "stream",
     "text": [
      "Lossy conversion from float32 to uint8. Range [0.0, 255.0]. Convert image to uint8 prior to saving to suppress this warning.\n",
      "Lossy conversion from float32 to uint8. Range [0.0, 255.0]. Convert image to uint8 prior to saving to suppress this warning.\n",
      "Lossy conversion from float32 to uint8. Range [0.0, 255.0]. Convert image to uint8 prior to saving to suppress this warning.\n"
     ]
    },
    {
     "name": "stdout",
     "output_type": "stream",
     "text": [
      "242 ../../feature/feature_fbank/2017019770018_janggyeoul/2017019770018_janggyeoul_3.npy\n",
      "243 ../../feature/feature_fbank/2017019770018_janggyeoul/2017019770018_janggyeoul_2.npy\n",
      "244 ../../feature/feature_fbank/2017019770018_janggyeoul/2017019770018_janggyeoul_1.npy\n"
     ]
    },
    {
     "name": "stderr",
     "output_type": "stream",
     "text": [
      "Lossy conversion from float32 to uint8. Range [0.0, 255.0]. Convert image to uint8 prior to saving to suppress this warning.\n",
      "Lossy conversion from float32 to uint8. Range [0.0, 255.0]. Convert image to uint8 prior to saving to suppress this warning.\n",
      "Lossy conversion from float32 to uint8. Range [0.0, 255.0]. Convert image to uint8 prior to saving to suppress this warning.\n"
     ]
    },
    {
     "name": "stdout",
     "output_type": "stream",
     "text": [
      "245 ../../feature/feature_fbank/2017019770018_janggyeoul/2017019770018_janggyeoul_0.npy\n",
      "246 ../../feature/feature_fbank/2017019770019_leewooju/2017019770019_leewooju_3.npy\n",
      "247 ../../feature/feature_fbank/2017019770019_leewooju/2017019770019_leewooju_4.npy\n"
     ]
    },
    {
     "name": "stderr",
     "output_type": "stream",
     "text": [
      "Lossy conversion from float32 to uint8. Range [0.0, 255.0]. Convert image to uint8 prior to saving to suppress this warning.\n",
      "Lossy conversion from float32 to uint8. Range [0.0, 255.0]. Convert image to uint8 prior to saving to suppress this warning.\n",
      "Lossy conversion from float32 to uint8. Range [0.0, 255.0]. Convert image to uint8 prior to saving to suppress this warning.\n"
     ]
    },
    {
     "name": "stdout",
     "output_type": "stream",
     "text": [
      "248 ../../feature/feature_fbank/2017019770019_leewooju/2017019770019_leewooju_1.npy\n",
      "249 ../../feature/feature_fbank/2017019770019_leewooju/2017019770019_leewooju_2.npy\n",
      "250 ../../feature/feature_fbank/2017019770019_leewooju/2017019770019_leewooju_0.npy\n"
     ]
    },
    {
     "name": "stderr",
     "output_type": "stream",
     "text": [
      "Lossy conversion from float32 to uint8. Range [0.0, 255.0]. Convert image to uint8 prior to saving to suppress this warning.\n",
      "Lossy conversion from float32 to uint8. Range [0.0, 255.0]. Convert image to uint8 prior to saving to suppress this warning.\n",
      "Lossy conversion from float32 to uint8. Range [0.0, 255.0]. Convert image to uint8 prior to saving to suppress this warning.\n"
     ]
    },
    {
     "name": "stdout",
     "output_type": "stream",
     "text": [
      "251 ../../feature/feature_fbank/2017019770020_nomyungok/2017019770020_nomyungok_4.npy\n",
      "252 ../../feature/feature_fbank/2017019770020_nomyungok/2017019770020_nomyungok_1.npy\n",
      "253 ../../feature/feature_fbank/2017019770020_nomyungok/2017019770020_nomyungok_0.npy\n"
     ]
    },
    {
     "name": "stderr",
     "output_type": "stream",
     "text": [
      "Lossy conversion from float32 to uint8. Range [0.0, 255.0]. Convert image to uint8 prior to saving to suppress this warning.\n",
      "Lossy conversion from float32 to uint8. Range [0.0, 255.0]. Convert image to uint8 prior to saving to suppress this warning.\n",
      "Lossy conversion from float32 to uint8. Range [0.0, 255.0]. Convert image to uint8 prior to saving to suppress this warning.\n"
     ]
    },
    {
     "name": "stdout",
     "output_type": "stream",
     "text": [
      "254 ../../feature/feature_fbank/2017019770020_nomyungok/2017019770020_nomyungok_2.npy\n",
      "255 ../../feature/feature_fbank/2017019770020_nomyungok/2017019770020_nomyungok_3.npy\n",
      "256 ../../feature/feature_fbank/2017019770021_heoyoonjung/2017019770021_heoyoonjung_4.npy\n"
     ]
    },
    {
     "name": "stderr",
     "output_type": "stream",
     "text": [
      "Lossy conversion from float32 to uint8. Range [0.0, 255.0]. Convert image to uint8 prior to saving to suppress this warning.\n",
      "Lossy conversion from float32 to uint8. Range [0.0, 255.0]. Convert image to uint8 prior to saving to suppress this warning.\n",
      "Lossy conversion from float32 to uint8. Range [0.0, 255.0]. Convert image to uint8 prior to saving to suppress this warning.\n"
     ]
    },
    {
     "name": "stdout",
     "output_type": "stream",
     "text": [
      "257 ../../feature/feature_fbank/2017019770021_heoyoonjung/2017019770021_heoyoonjung_2.npy\n",
      "258 ../../feature/feature_fbank/2017019770021_heoyoonjung/2017019770021_heoyoonjung_3.npy\n",
      "259 ../../feature/feature_fbank/2017019770021_heoyoonjung/2017019770021_heoyoonjung_1.npy\n"
     ]
    },
    {
     "name": "stderr",
     "output_type": "stream",
     "text": [
      "Lossy conversion from float32 to uint8. Range [0.0, 255.0]. Convert image to uint8 prior to saving to suppress this warning.\n",
      "Lossy conversion from float32 to uint8. Range [0.0, 255.0]. Convert image to uint8 prior to saving to suppress this warning.\n",
      "Lossy conversion from float32 to uint8. Range [0.0, 255.0]. Convert image to uint8 prior to saving to suppress this warning.\n"
     ]
    },
    {
     "name": "stdout",
     "output_type": "stream",
     "text": [
      "260 ../../feature/feature_fbank/2017019770021_heoyoonjung/2017019770021_heoyoonjung_0.npy\n",
      "261 ../../feature/feature_fbank/2017019770022_heojaemin/2017019770022_heojaemin_4.npy\n",
      "262 ../../feature/feature_fbank/2017019770022_heojaemin/2017019770022_heojaemin_1.npy\n"
     ]
    },
    {
     "name": "stderr",
     "output_type": "stream",
     "text": [
      "Lossy conversion from float32 to uint8. Range [0.0, 255.0]. Convert image to uint8 prior to saving to suppress this warning.\n",
      "Lossy conversion from float32 to uint8. Range [0.0, 255.0]. Convert image to uint8 prior to saving to suppress this warning.\n",
      "Lossy conversion from float32 to uint8. Range [0.0, 255.0]. Convert image to uint8 prior to saving to suppress this warning.\n"
     ]
    },
    {
     "name": "stdout",
     "output_type": "stream",
     "text": [
      "263 ../../feature/feature_fbank/2017019770022_heojaemin/2017019770022_heojaemin_2.npy\n",
      "264 ../../feature/feature_fbank/2017019770022_heojaemin/2017019770022_heojaemin_0.npy\n",
      "265 ../../feature/feature_fbank/2017019770022_heojaemin/2017019770022_heojaemin_3.npy\n"
     ]
    },
    {
     "name": "stderr",
     "output_type": "stream",
     "text": [
      "Lossy conversion from float32 to uint8. Range [0.0, 255.0]. Convert image to uint8 prior to saving to suppress this warning.\n",
      "Lossy conversion from float32 to uint8. Range [0.0, 255.0]. Convert image to uint8 prior to saving to suppress this warning.\n",
      "Lossy conversion from float32 to uint8. Range [0.0, 255.0]. Convert image to uint8 prior to saving to suppress this warning.\n"
     ]
    },
    {
     "name": "stdout",
     "output_type": "stream",
     "text": [
      "266 ../../feature/feature_fbank/2017019770023_kimsoyung/2017019770023_kimsoyung_4.npy\n",
      "267 ../../feature/feature_fbank/2017019770023_kimsoyung/2017019770023_kimsoyung_0.npy\n",
      "268 ../../feature/feature_fbank/2017019770023_kimsoyung/2017019770023_kimsoyung_1.npy\n"
     ]
    },
    {
     "name": "stderr",
     "output_type": "stream",
     "text": [
      "Lossy conversion from float32 to uint8. Range [0.0, 255.0]. Convert image to uint8 prior to saving to suppress this warning.\n",
      "Lossy conversion from float32 to uint8. Range [0.0, 255.0]. Convert image to uint8 prior to saving to suppress this warning.\n",
      "Lossy conversion from float32 to uint8. Range [0.0, 255.0]. Convert image to uint8 prior to saving to suppress this warning.\n"
     ]
    },
    {
     "name": "stdout",
     "output_type": "stream",
     "text": [
      "269 ../../feature/feature_fbank/2017019770023_kimsoyung/2017019770023_kimsoyung_2.npy\n",
      "270 ../../feature/feature_fbank/2017019770023_kimsoyung/2017019770023_kimsoyung_3.npy\n",
      "271 ../../feature/feature_fbank/2017019770024_chuminha/2017019770024_chuminha_0.npy\n"
     ]
    },
    {
     "name": "stderr",
     "output_type": "stream",
     "text": [
      "Lossy conversion from float32 to uint8. Range [0.0, 255.0]. Convert image to uint8 prior to saving to suppress this warning.\n",
      "Lossy conversion from float32 to uint8. Range [0.0, 255.0]. Convert image to uint8 prior to saving to suppress this warning.\n",
      "Lossy conversion from float32 to uint8. Range [0.0, 255.0]. Convert image to uint8 prior to saving to suppress this warning.\n"
     ]
    },
    {
     "name": "stdout",
     "output_type": "stream",
     "text": [
      "272 ../../feature/feature_fbank/2017019770024_chuminha/2017019770024_chuminha_4.npy\n",
      "273 ../../feature/feature_fbank/2017019770024_chuminha/2017019770024_chuminha_2.npy\n",
      "274 ../../feature/feature_fbank/2017019770024_chuminha/2017019770024_chuminha_3.npy\n"
     ]
    },
    {
     "name": "stderr",
     "output_type": "stream",
     "text": [
      "Lossy conversion from float32 to uint8. Range [0.0, 255.0]. Convert image to uint8 prior to saving to suppress this warning.\n",
      "Lossy conversion from float32 to uint8. Range [0.0, 255.0]. Convert image to uint8 prior to saving to suppress this warning.\n",
      "Lossy conversion from float32 to uint8. Range [0.0, 255.0]. Convert image to uint8 prior to saving to suppress this warning.\n"
     ]
    },
    {
     "name": "stdout",
     "output_type": "stream",
     "text": [
      "275 ../../feature/feature_fbank/2017019770024_chuminha/2017019770024_chuminha_1.npy\n",
      "276 ../../feature/feature_fbank/2017019770025_kimhyeonsu/2017019770025_kimhyeonsu_1.npy\n",
      "277 ../../feature/feature_fbank/2017019770025_kimhyeonsu/2017019770025_kimhyeonsu_2.npy\n"
     ]
    },
    {
     "name": "stderr",
     "output_type": "stream",
     "text": [
      "Lossy conversion from float32 to uint8. Range [0.0, 255.0]. Convert image to uint8 prior to saving to suppress this warning.\n",
      "Lossy conversion from float32 to uint8. Range [0.0, 255.0]. Convert image to uint8 prior to saving to suppress this warning.\n",
      "Lossy conversion from float32 to uint8. Range [0.0, 255.0]. Convert image to uint8 prior to saving to suppress this warning.\n"
     ]
    },
    {
     "name": "stdout",
     "output_type": "stream",
     "text": [
      "278 ../../feature/feature_fbank/2017019770025_kimhyeonsu/2017019770025_kimhyeonsu_4.npy\n",
      "279 ../../feature/feature_fbank/2017019770025_kimhyeonsu/2017019770025_kimhyeonsu_0.npy\n",
      "280 ../../feature/feature_fbank/2017019770025_kimhyeonsu/2017019770025_kimhyeonsu_3.npy\n"
     ]
    },
    {
     "name": "stderr",
     "output_type": "stream",
     "text": [
      "Lossy conversion from float32 to uint8. Range [0.0, 255.0]. Convert image to uint8 prior to saving to suppress this warning.\n",
      "Lossy conversion from float32 to uint8. Range [0.0, 255.0]. Convert image to uint8 prior to saving to suppress this warning.\n",
      "Lossy conversion from float32 to uint8. Range [0.0, 255.0]. Convert image to uint8 prior to saving to suppress this warning.\n"
     ]
    },
    {
     "name": "stdout",
     "output_type": "stream",
     "text": [
      "281 ../../feature/feature_fbank/2017019770026_chaesonghwa/2017019770026_chaesonghwa_2.npy\n",
      "282 ../../feature/feature_fbank/2017019770026_chaesonghwa/2017019770026_chaesonghwa_0.npy\n",
      "283 ../../feature/feature_fbank/2017019770026_chaesonghwa/2017019770026_chaesonghwa_1.npy\n"
     ]
    },
    {
     "name": "stderr",
     "output_type": "stream",
     "text": [
      "Lossy conversion from float32 to uint8. Range [0.0, 255.0]. Convert image to uint8 prior to saving to suppress this warning.\n",
      "Lossy conversion from float32 to uint8. Range [0.0, 255.0]. Convert image to uint8 prior to saving to suppress this warning.\n",
      "Lossy conversion from float32 to uint8. Range [0.0, 255.0]. Convert image to uint8 prior to saving to suppress this warning.\n"
     ]
    },
    {
     "name": "stdout",
     "output_type": "stream",
     "text": [
      "284 ../../feature/feature_fbank/2017019770026_chaesonghwa/2017019770026_chaesonghwa_4.npy\n",
      "285 ../../feature/feature_fbank/2017019770026_chaesonghwa/2017019770026_chaesonghwa_3.npy\n",
      "286 ../../feature/feature_fbank/2017019770027_kwonyulim/2017019770027_kwonyulim_2.npy\n"
     ]
    },
    {
     "name": "stderr",
     "output_type": "stream",
     "text": [
      "Lossy conversion from float32 to uint8. Range [0.0, 255.0]. Convert image to uint8 prior to saving to suppress this warning.\n",
      "Lossy conversion from float32 to uint8. Range [0.0, 255.0]. Convert image to uint8 prior to saving to suppress this warning.\n",
      "Lossy conversion from float32 to uint8. Range [0.0, 255.0]. Convert image to uint8 prior to saving to suppress this warning.\n"
     ]
    },
    {
     "name": "stdout",
     "output_type": "stream",
     "text": [
      "287 ../../feature/feature_fbank/2017019770027_kwonyulim/2017019770027_kwonyulim_3.npy\n",
      "288 ../../feature/feature_fbank/2017019770027_kwonyulim/2017019770027_kwonyulim_4.npy\n",
      "289 ../../feature/feature_fbank/2017019770027_kwonyulim/2017019770027_kwonyulim_1.npy\n"
     ]
    },
    {
     "name": "stderr",
     "output_type": "stream",
     "text": [
      "Lossy conversion from float32 to uint8. Range [0.0, 255.0]. Convert image to uint8 prior to saving to suppress this warning.\n",
      "Lossy conversion from float32 to uint8. Range [0.0, 255.0]. Convert image to uint8 prior to saving to suppress this warning.\n",
      "Lossy conversion from float32 to uint8. Range [0.0, 255.0]. Convert image to uint8 prior to saving to suppress this warning.\n"
     ]
    },
    {
     "name": "stdout",
     "output_type": "stream",
     "text": [
      "290 ../../feature/feature_fbank/2017019770027_kwonyulim/2017019770027_kwonyulim_0.npy\n",
      "291 ../../feature/feature_fbank/2017019770028_kimminyoung/2017019770028_kimminyoung_3.npy\n",
      "292 ../../feature/feature_fbank/2017019770028_kimminyoung/2017019770028_kimminyoung_2.npy\n"
     ]
    },
    {
     "name": "stderr",
     "output_type": "stream",
     "text": [
      "Lossy conversion from float32 to uint8. Range [0.0, 255.0]. Convert image to uint8 prior to saving to suppress this warning.\n",
      "Lossy conversion from float32 to uint8. Range [0.0, 255.0]. Convert image to uint8 prior to saving to suppress this warning.\n",
      "Lossy conversion from float32 to uint8. Range [0.0, 255.0]. Convert image to uint8 prior to saving to suppress this warning.\n"
     ]
    },
    {
     "name": "stdout",
     "output_type": "stream",
     "text": [
      "293 ../../feature/feature_fbank/2017019770028_kimminyoung/2017019770028_kimminyoung_4.npy\n",
      "294 ../../feature/feature_fbank/2017019770028_kimminyoung/2017019770028_kimminyoung_0.npy\n",
      "295 ../../feature/feature_fbank/2017019770028_kimminyoung/2017019770028_kimminyoung_1.npy\n"
     ]
    },
    {
     "name": "stderr",
     "output_type": "stream",
     "text": [
      "Lossy conversion from float32 to uint8. Range [0.0, 255.0]. Convert image to uint8 prior to saving to suppress this warning.\n",
      "Lossy conversion from float32 to uint8. Range [0.0, 255.0]. Convert image to uint8 prior to saving to suppress this warning.\n",
      "Lossy conversion from float32 to uint8. Range [0.0, 255.0]. Convert image to uint8 prior to saving to suppress this warning.\n"
     ]
    },
    {
     "name": "stdout",
     "output_type": "stream",
     "text": [
      "296 ../../feature/feature_fbank/2017019770029_jueunhong/2017019770029_jueunhong_4.npy\n",
      "297 ../../feature/feature_fbank/2017019770029_jueunhong/2017019770029_jueunhong_0.npy\n",
      "298 ../../feature/feature_fbank/2017019770029_jueunhong/2017019770029_jueunhong_3.npy\n"
     ]
    },
    {
     "name": "stderr",
     "output_type": "stream",
     "text": [
      "Lossy conversion from float32 to uint8. Range [0.0, 255.0]. Convert image to uint8 prior to saving to suppress this warning.\n",
      "Lossy conversion from float32 to uint8. Range [0.0, 255.0]. Convert image to uint8 prior to saving to suppress this warning.\n",
      "Lossy conversion from float32 to uint8. Range [0.0, 255.0]. Convert image to uint8 prior to saving to suppress this warning.\n"
     ]
    },
    {
     "name": "stdout",
     "output_type": "stream",
     "text": [
      "299 ../../feature/feature_fbank/2017019770029_jueunhong/2017019770029_jueunhong_1.npy\n",
      "300 ../../feature/feature_fbank/2017019770029_jueunhong/2017019770029_jueunhong_2.npy\n",
      "301 ../../feature/feature_fbank/2017019770030_leejeongju/2017019770030_leejeongju_1.npy\n"
     ]
    },
    {
     "name": "stderr",
     "output_type": "stream",
     "text": [
      "Lossy conversion from float32 to uint8. Range [0.0, 255.0]. Convert image to uint8 prior to saving to suppress this warning.\n",
      "Lossy conversion from float32 to uint8. Range [0.0, 255.0]. Convert image to uint8 prior to saving to suppress this warning.\n",
      "Lossy conversion from float32 to uint8. Range [0.0, 255.0]. Convert image to uint8 prior to saving to suppress this warning.\n"
     ]
    },
    {
     "name": "stdout",
     "output_type": "stream",
     "text": [
      "302 ../../feature/feature_fbank/2017019770030_leejeongju/2017019770030_leejeongju_0.npy\n",
      "303 ../../feature/feature_fbank/2017019770030_leejeongju/2017019770030_leejeongju_2.npy\n",
      "304 ../../feature/feature_fbank/2017019770030_leejeongju/2017019770030_leejeongju_4.npy\n"
     ]
    },
    {
     "name": "stderr",
     "output_type": "stream",
     "text": [
      "Lossy conversion from float32 to uint8. Range [0.0, 255.0]. Convert image to uint8 prior to saving to suppress this warning.\n",
      "Lossy conversion from float32 to uint8. Range [0.0, 255.0]. Convert image to uint8 prior to saving to suppress this warning.\n",
      "Lossy conversion from float32 to uint8. Range [0.0, 255.0]. Convert image to uint8 prior to saving to suppress this warning.\n"
     ]
    },
    {
     "name": "stdout",
     "output_type": "stream",
     "text": [
      "305 ../../feature/feature_fbank/2017019770030_leejeongju/2017019770030_leejeongju_3.npy\n",
      "306 ../../feature/feature_fbank/2017019770031_kwonnahui/2017019770031_kwonnahui_1.npy\n",
      "307 ../../feature/feature_fbank/2017019770031_kwonnahui/2017019770031_kwonnahui_4.npy\n"
     ]
    },
    {
     "name": "stderr",
     "output_type": "stream",
     "text": [
      "Lossy conversion from float32 to uint8. Range [0.0, 255.0]. Convert image to uint8 prior to saving to suppress this warning.\n",
      "Lossy conversion from float32 to uint8. Range [0.0, 255.0]. Convert image to uint8 prior to saving to suppress this warning.\n",
      "Lossy conversion from float32 to uint8. Range [0.0, 255.0]. Convert image to uint8 prior to saving to suppress this warning.\n"
     ]
    },
    {
     "name": "stdout",
     "output_type": "stream",
     "text": [
      "308 ../../feature/feature_fbank/2017019770031_kwonnahui/2017019770031_kwonnahui_3.npy\n",
      "309 ../../feature/feature_fbank/2017019770031_kwonnahui/2017019770031_kwonnahui_2.npy\n",
      "310 ../../feature/feature_fbank/2017019770031_kwonnahui/2017019770031_kwonnahui_0.npy\n"
     ]
    },
    {
     "name": "stderr",
     "output_type": "stream",
     "text": [
      "Lossy conversion from float32 to uint8. Range [0.0, 255.0]. Convert image to uint8 prior to saving to suppress this warning.\n",
      "Lossy conversion from float32 to uint8. Range [0.0, 255.0]. Convert image to uint8 prior to saving to suppress this warning.\n",
      "Lossy conversion from float32 to uint8. Range [0.0, 255.0]. Convert image to uint8 prior to saving to suppress this warning.\n"
     ]
    },
    {
     "name": "stdout",
     "output_type": "stream",
     "text": [
      "311 ../../feature/feature_fbank/2017019770032_kimdayeong/2017019770032_kimdayeong_2.npy\n",
      "312 ../../feature/feature_fbank/2017019770032_kimdayeong/2017019770032_kimdayeong_0.npy\n",
      "313 ../../feature/feature_fbank/2017019770032_kimdayeong/2017019770032_kimdayeong_1.npy\n"
     ]
    },
    {
     "name": "stderr",
     "output_type": "stream",
     "text": [
      "Lossy conversion from float32 to uint8. Range [0.0, 255.0]. Convert image to uint8 prior to saving to suppress this warning.\n",
      "Lossy conversion from float32 to uint8. Range [0.0, 255.0]. Convert image to uint8 prior to saving to suppress this warning.\n",
      "Lossy conversion from float32 to uint8. Range [0.0, 255.0]. Convert image to uint8 prior to saving to suppress this warning.\n"
     ]
    },
    {
     "name": "stdout",
     "output_type": "stream",
     "text": [
      "314 ../../feature/feature_fbank/2017019770032_kimdayeong/2017019770032_kimdayeong_4.npy\n",
      "315 ../../feature/feature_fbank/2017019770032_kimdayeong/2017019770032_kimdayeong_3.npy\n",
      "316 ../../feature/feature_fbank/2017019770033_kwonsundo/2017019770033_kwonsundo_3.npy\n"
     ]
    },
    {
     "name": "stderr",
     "output_type": "stream",
     "text": [
      "Lossy conversion from float32 to uint8. Range [0.0, 255.0]. Convert image to uint8 prior to saving to suppress this warning.\n",
      "Lossy conversion from float32 to uint8. Range [0.0, 255.0]. Convert image to uint8 prior to saving to suppress this warning.\n",
      "Lossy conversion from float32 to uint8. Range [0.0, 255.0]. Convert image to uint8 prior to saving to suppress this warning.\n"
     ]
    },
    {
     "name": "stdout",
     "output_type": "stream",
     "text": [
      "317 ../../feature/feature_fbank/2017019770033_kwonsundo/2017019770033_kwonsundo_1.npy\n",
      "318 ../../feature/feature_fbank/2017019770033_kwonsundo/2017019770033_kwonsundo_2.npy\n",
      "319 ../../feature/feature_fbank/2017019770033_kwonsundo/2017019770033_kwonsundo_4.npy\n"
     ]
    },
    {
     "name": "stderr",
     "output_type": "stream",
     "text": [
      "Lossy conversion from float32 to uint8. Range [0.0, 255.0]. Convert image to uint8 prior to saving to suppress this warning.\n",
      "Lossy conversion from float32 to uint8. Range [0.0, 255.0]. Convert image to uint8 prior to saving to suppress this warning.\n",
      "Lossy conversion from float32 to uint8. Range [0.0, 255.0]. Convert image to uint8 prior to saving to suppress this warning.\n"
     ]
    },
    {
     "name": "stdout",
     "output_type": "stream",
     "text": [
      "320 ../../feature/feature_fbank/2017019770033_kwonsundo/2017019770033_kwonsundo_0.npy\n",
      "321 ../../feature/feature_fbank/2017019770034_kimhyeona/2017019770034_kimhyeona_2.npy\n",
      "322 ../../feature/feature_fbank/2017019770034_kimhyeona/2017019770034_kimhyeona_3.npy\n"
     ]
    },
    {
     "name": "stderr",
     "output_type": "stream",
     "text": [
      "Lossy conversion from float32 to uint8. Range [0.0, 255.0]. Convert image to uint8 prior to saving to suppress this warning.\n",
      "Lossy conversion from float32 to uint8. Range [0.0, 255.0]. Convert image to uint8 prior to saving to suppress this warning.\n",
      "Lossy conversion from float32 to uint8. Range [0.0, 255.0]. Convert image to uint8 prior to saving to suppress this warning.\n"
     ]
    },
    {
     "name": "stdout",
     "output_type": "stream",
     "text": [
      "323 ../../feature/feature_fbank/2017019770034_kimhyeona/2017019770034_kimhyeona_1.npy\n",
      "324 ../../feature/feature_fbank/2017019770034_kimhyeona/2017019770034_kimhyeona_0.npy\n",
      "325 ../../feature/feature_fbank/2017019770034_kimhyeona/2017019770034_kimhyeona_4.npy\n"
     ]
    },
    {
     "name": "stderr",
     "output_type": "stream",
     "text": [
      "Lossy conversion from float32 to uint8. Range [0.0, 255.0]. Convert image to uint8 prior to saving to suppress this warning.\n",
      "Lossy conversion from float32 to uint8. Range [0.0, 255.0]. Convert image to uint8 prior to saving to suppress this warning.\n",
      "Lossy conversion from float32 to uint8. Range [0.0, 255.0]. Convert image to uint8 prior to saving to suppress this warning.\n"
     ]
    },
    {
     "name": "stdout",
     "output_type": "stream",
     "text": [
      "326 ../../feature/feature_fbank/2017019770035_leehyojin/2017019770035_leehyojin_4.npy\n",
      "327 ../../feature/feature_fbank/2017019770035_leehyojin/2017019770035_leehyojin_1.npy\n",
      "328 ../../feature/feature_fbank/2017019770035_leehyojin/2017019770035_leehyojin_3.npy\n"
     ]
    },
    {
     "name": "stderr",
     "output_type": "stream",
     "text": [
      "Lossy conversion from float32 to uint8. Range [0.0, 255.0]. Convert image to uint8 prior to saving to suppress this warning.\n",
      "Lossy conversion from float32 to uint8. Range [0.0, 255.0]. Convert image to uint8 prior to saving to suppress this warning.\n",
      "Lossy conversion from float32 to uint8. Range [0.0, 255.0]. Convert image to uint8 prior to saving to suppress this warning.\n"
     ]
    },
    {
     "name": "stdout",
     "output_type": "stream",
     "text": [
      "329 ../../feature/feature_fbank/2017019770035_leehyojin/2017019770035_leehyojin_2.npy\n",
      "330 ../../feature/feature_fbank/2017019770035_leehyojin/2017019770035_leehyojin_0.npy\n",
      "331 ../../feature/feature_fbank/2017019770036_yuminji/2017019770036_yuminji_2.npy\n"
     ]
    },
    {
     "name": "stderr",
     "output_type": "stream",
     "text": [
      "Lossy conversion from float32 to uint8. Range [0.0, 255.0]. Convert image to uint8 prior to saving to suppress this warning.\n",
      "Lossy conversion from float32 to uint8. Range [0.0, 255.0]. Convert image to uint8 prior to saving to suppress this warning.\n",
      "Lossy conversion from float32 to uint8. Range [0.0, 255.0]. Convert image to uint8 prior to saving to suppress this warning.\n"
     ]
    },
    {
     "name": "stdout",
     "output_type": "stream",
     "text": [
      "332 ../../feature/feature_fbank/2017019770036_yuminji/2017019770036_yuminji_1.npy\n",
      "333 ../../feature/feature_fbank/2017019770036_yuminji/2017019770036_yuminji_3.npy\n",
      "334 ../../feature/feature_fbank/2017019770036_yuminji/2017019770036_yuminji_4.npy\n"
     ]
    },
    {
     "name": "stderr",
     "output_type": "stream",
     "text": [
      "Lossy conversion from float32 to uint8. Range [0.0, 255.0]. Convert image to uint8 prior to saving to suppress this warning.\n",
      "Lossy conversion from float32 to uint8. Range [0.0, 255.0]. Convert image to uint8 prior to saving to suppress this warning.\n",
      "Lossy conversion from float32 to uint8. Range [0.0, 255.0]. Convert image to uint8 prior to saving to suppress this warning.\n"
     ]
    },
    {
     "name": "stdout",
     "output_type": "stream",
     "text": [
      "335 ../../feature/feature_fbank/2017019770036_yuminji/2017019770036_yuminji_0.npy\n",
      "336 ../../feature/feature_fbank/2017019770037_jeonghojun/2017019770037_jeonghojun_0.npy\n",
      "337 ../../feature/feature_fbank/2017019770037_jeonghojun/2017019770037_jeonghojun_3.npy\n"
     ]
    },
    {
     "name": "stderr",
     "output_type": "stream",
     "text": [
      "Lossy conversion from float32 to uint8. Range [0.0, 255.0]. Convert image to uint8 prior to saving to suppress this warning.\n",
      "Lossy conversion from float32 to uint8. Range [0.0, 255.0]. Convert image to uint8 prior to saving to suppress this warning.\n",
      "Lossy conversion from float32 to uint8. Range [0.0, 255.0]. Convert image to uint8 prior to saving to suppress this warning.\n"
     ]
    },
    {
     "name": "stdout",
     "output_type": "stream",
     "text": [
      "338 ../../feature/feature_fbank/2017019770037_jeonghojun/2017019770037_jeonghojun_1.npy\n",
      "339 ../../feature/feature_fbank/2017019770037_jeonghojun/2017019770037_jeonghojun_2.npy\n",
      "340 ../../feature/feature_fbank/2017019770037_jeonghojun/2017019770037_jeonghojun_4.npy\n"
     ]
    },
    {
     "name": "stderr",
     "output_type": "stream",
     "text": [
      "Lossy conversion from float32 to uint8. Range [0.0, 255.0]. Convert image to uint8 prior to saving to suppress this warning.\n",
      "Lossy conversion from float32 to uint8. Range [0.0, 255.0]. Convert image to uint8 prior to saving to suppress this warning.\n",
      "Lossy conversion from float32 to uint8. Range [0.0, 255.0]. Convert image to uint8 prior to saving to suppress this warning.\n"
     ]
    },
    {
     "name": "stdout",
     "output_type": "stream",
     "text": [
      "341 ../../feature/feature_fbank/2017019770038_kanghyeyun/2017019770038_kanghyeyun_1.npy\n",
      "342 ../../feature/feature_fbank/2017019770038_kanghyeyun/2017019770038_kanghyeyun_3.npy\n",
      "343 ../../feature/feature_fbank/2017019770038_kanghyeyun/2017019770038_kanghyeyun_2.npy\n"
     ]
    },
    {
     "name": "stderr",
     "output_type": "stream",
     "text": [
      "Lossy conversion from float32 to uint8. Range [0.0, 255.0]. Convert image to uint8 prior to saving to suppress this warning.\n",
      "Lossy conversion from float32 to uint8. Range [0.0, 255.0]. Convert image to uint8 prior to saving to suppress this warning.\n",
      "Lossy conversion from float32 to uint8. Range [0.0, 255.0]. Convert image to uint8 prior to saving to suppress this warning.\n"
     ]
    },
    {
     "name": "stdout",
     "output_type": "stream",
     "text": [
      "344 ../../feature/feature_fbank/2017019770038_kanghyeyun/2017019770038_kanghyeyun_0.npy\n",
      "345 ../../feature/feature_fbank/2017019770038_kanghyeyun/2017019770038_kanghyeyun_4.npy\n",
      "346 ../../feature/feature_fbank/2017019770039_ohjiwon/2017019770039_ohjiwon_1.npy\n"
     ]
    },
    {
     "name": "stderr",
     "output_type": "stream",
     "text": [
      "Lossy conversion from float32 to uint8. Range [0.0, 255.0]. Convert image to uint8 prior to saving to suppress this warning.\n",
      "Lossy conversion from float32 to uint8. Range [0.0, 255.0]. Convert image to uint8 prior to saving to suppress this warning.\n",
      "Lossy conversion from float32 to uint8. Range [0.0, 255.0]. Convert image to uint8 prior to saving to suppress this warning.\n"
     ]
    },
    {
     "name": "stdout",
     "output_type": "stream",
     "text": [
      "347 ../../feature/feature_fbank/2017019770039_ohjiwon/2017019770039_ohjiwon_4.npy\n",
      "348 ../../feature/feature_fbank/2017019770039_ohjiwon/2017019770039_ohjiwon_0.npy\n",
      "349 ../../feature/feature_fbank/2017019770039_ohjiwon/2017019770039_ohjiwon_3.npy\n"
     ]
    },
    {
     "name": "stderr",
     "output_type": "stream",
     "text": [
      "Lossy conversion from float32 to uint8. Range [0.0, 255.0]. Convert image to uint8 prior to saving to suppress this warning.\n",
      "Lossy conversion from float32 to uint8. Range [0.0, 255.0]. Convert image to uint8 prior to saving to suppress this warning.\n",
      "Lossy conversion from float32 to uint8. Range [0.0, 255.0]. Convert image to uint8 prior to saving to suppress this warning.\n"
     ]
    },
    {
     "name": "stdout",
     "output_type": "stream",
     "text": [
      "350 ../../feature/feature_fbank/2017019770039_ohjiwon/2017019770039_ohjiwon_2.npy\n",
      "351 ../../feature/feature_fbank/2017019770040_kimdajeong/2017019770040_kimdajeong_2.npy\n",
      "352 ../../feature/feature_fbank/2017019770040_kimdajeong/2017019770040_kimdajeong_0.npy\n"
     ]
    },
    {
     "name": "stderr",
     "output_type": "stream",
     "text": [
      "Lossy conversion from float32 to uint8. Range [0.0, 255.0]. Convert image to uint8 prior to saving to suppress this warning.\n",
      "Lossy conversion from float32 to uint8. Range [0.0, 255.0]. Convert image to uint8 prior to saving to suppress this warning.\n",
      "Lossy conversion from float32 to uint8. Range [0.0, 255.0]. Convert image to uint8 prior to saving to suppress this warning.\n"
     ]
    },
    {
     "name": "stdout",
     "output_type": "stream",
     "text": [
      "353 ../../feature/feature_fbank/2017019770040_kimdajeong/2017019770040_kimdajeong_1.npy\n",
      "354 ../../feature/feature_fbank/2017019770040_kimdajeong/2017019770040_kimdajeong_4.npy\n",
      "355 ../../feature/feature_fbank/2017019770040_kimdajeong/2017019770040_kimdajeong_3.npy\n"
     ]
    },
    {
     "name": "stderr",
     "output_type": "stream",
     "text": [
      "Lossy conversion from float32 to uint8. Range [0.0, 255.0]. Convert image to uint8 prior to saving to suppress this warning.\n",
      "Lossy conversion from float32 to uint8. Range [0.0, 255.0]. Convert image to uint8 prior to saving to suppress this warning.\n",
      "Lossy conversion from float32 to uint8. Range [0.0, 255.0]. Convert image to uint8 prior to saving to suppress this warning.\n"
     ]
    },
    {
     "name": "stdout",
     "output_type": "stream",
     "text": [
      "356 ../../feature/feature_fbank/2017019880001_kimsubin/2017019880001_kimsubin_1.npy\n",
      "357 ../../feature/feature_fbank/2017019880001_kimsubin/2017019880001_kimsubin_4.npy\n",
      "358 ../../feature/feature_fbank/2017019880001_kimsubin/2017019880001_kimsubin_3.npy\n"
     ]
    },
    {
     "name": "stderr",
     "output_type": "stream",
     "text": [
      "Lossy conversion from float32 to uint8. Range [0.0, 255.0]. Convert image to uint8 prior to saving to suppress this warning.\n",
      "Lossy conversion from float32 to uint8. Range [0.0, 255.0]. Convert image to uint8 prior to saving to suppress this warning.\n",
      "Lossy conversion from float32 to uint8. Range [0.0, 255.0]. Convert image to uint8 prior to saving to suppress this warning.\n"
     ]
    },
    {
     "name": "stdout",
     "output_type": "stream",
     "text": [
      "359 ../../feature/feature_fbank/2017019880001_kimsubin/2017019880001_kimsubin_0.npy\n",
      "360 ../../feature/feature_fbank/2017019880001_kimsubin/2017019880001_kimsubin_2.npy\n",
      "361 ../../feature/feature_fbank/2017019880002_kimkihyeon/2017019880002_kimkihyeon_0.npy\n"
     ]
    },
    {
     "name": "stderr",
     "output_type": "stream",
     "text": [
      "Lossy conversion from float32 to uint8. Range [0.0, 255.0]. Convert image to uint8 prior to saving to suppress this warning.\n",
      "Lossy conversion from float32 to uint8. Range [0.0, 255.0]. Convert image to uint8 prior to saving to suppress this warning.\n",
      "Lossy conversion from float32 to uint8. Range [0.0, 255.0]. Convert image to uint8 prior to saving to suppress this warning.\n"
     ]
    },
    {
     "name": "stdout",
     "output_type": "stream",
     "text": [
      "362 ../../feature/feature_fbank/2017019880002_kimkihyeon/2017019880002_kimkihyeon_3.npy\n",
      "363 ../../feature/feature_fbank/2017019880002_kimkihyeon/2017019880002_kimkihyeon_4.npy\n",
      "364 ../../feature/feature_fbank/2017019880002_kimkihyeon/2017019880002_kimkihyeon_2.npy\n"
     ]
    },
    {
     "name": "stderr",
     "output_type": "stream",
     "text": [
      "Lossy conversion from float32 to uint8. Range [0.0, 255.0]. Convert image to uint8 prior to saving to suppress this warning.\n",
      "Lossy conversion from float32 to uint8. Range [0.0, 255.0]. Convert image to uint8 prior to saving to suppress this warning.\n",
      "Lossy conversion from float32 to uint8. Range [0.0, 255.0]. Convert image to uint8 prior to saving to suppress this warning.\n"
     ]
    },
    {
     "name": "stdout",
     "output_type": "stream",
     "text": [
      "365 ../../feature/feature_fbank/2017019880002_kimkihyeon/2017019880002_kimkihyeon_1.npy\n",
      "366 ../../feature/feature_fbank/2017019880003_kimminji/2017019880003_kimminji_1.npy\n",
      "367 ../../feature/feature_fbank/2017019880003_kimminji/2017019880003_kimminji_4.npy\n"
     ]
    },
    {
     "name": "stderr",
     "output_type": "stream",
     "text": [
      "Lossy conversion from float32 to uint8. Range [0.0, 255.0]. Convert image to uint8 prior to saving to suppress this warning.\n",
      "Lossy conversion from float32 to uint8. Range [0.0, 255.0]. Convert image to uint8 prior to saving to suppress this warning.\n",
      "Lossy conversion from float32 to uint8. Range [0.0, 255.0]. Convert image to uint8 prior to saving to suppress this warning.\n"
     ]
    },
    {
     "name": "stdout",
     "output_type": "stream",
     "text": [
      "368 ../../feature/feature_fbank/2017019880003_kimminji/2017019880003_kimminji_2.npy\n",
      "369 ../../feature/feature_fbank/2017019880003_kimminji/2017019880003_kimminji_0.npy\n",
      "370 ../../feature/feature_fbank/2017019880003_kimminji/2017019880003_kimminji_3.npy\n"
     ]
    },
    {
     "name": "stderr",
     "output_type": "stream",
     "text": [
      "Lossy conversion from float32 to uint8. Range [0.0, 255.0]. Convert image to uint8 prior to saving to suppress this warning.\n",
      "Lossy conversion from float32 to uint8. Range [0.0, 255.0]. Convert image to uint8 prior to saving to suppress this warning.\n",
      "Lossy conversion from float32 to uint8. Range [0.0, 255.0]. Convert image to uint8 prior to saving to suppress this warning.\n"
     ]
    },
    {
     "name": "stdout",
     "output_type": "stream",
     "text": [
      "371 ../../feature/feature_fbank/2017019880004_myeongjaewon/2017019880004_myeongjaewon_2.npy\n",
      "372 ../../feature/feature_fbank/2017019880004_myeongjaewon/2017019880004_myeongjaewon_1.npy\n",
      "373 ../../feature/feature_fbank/2017019880004_myeongjaewon/2017019880004_myeongjaewon_0.npy\n"
     ]
    },
    {
     "name": "stderr",
     "output_type": "stream",
     "text": [
      "Lossy conversion from float32 to uint8. Range [0.0, 255.0]. Convert image to uint8 prior to saving to suppress this warning.\n",
      "Lossy conversion from float32 to uint8. Range [0.0, 255.0]. Convert image to uint8 prior to saving to suppress this warning.\n",
      "Lossy conversion from float32 to uint8. Range [0.0, 255.0]. Convert image to uint8 prior to saving to suppress this warning.\n"
     ]
    },
    {
     "name": "stdout",
     "output_type": "stream",
     "text": [
      "374 ../../feature/feature_fbank/2017019880004_myeongjaewon/2017019880004_myeongjaewon_4.npy\n",
      "375 ../../feature/feature_fbank/2017019880004_myeongjaewon/2017019880004_myeongjaewon_3.npy\n",
      "376 ../../feature/feature_fbank/2017019880005_kimjihyeon/2017019880005_kimjihyeon_1.npy\n"
     ]
    },
    {
     "name": "stderr",
     "output_type": "stream",
     "text": [
      "Lossy conversion from float32 to uint8. Range [0.0, 255.0]. Convert image to uint8 prior to saving to suppress this warning.\n",
      "Lossy conversion from float32 to uint8. Range [0.0, 255.0]. Convert image to uint8 prior to saving to suppress this warning.\n",
      "Lossy conversion from float32 to uint8. Range [0.0, 255.0]. Convert image to uint8 prior to saving to suppress this warning.\n"
     ]
    },
    {
     "name": "stdout",
     "output_type": "stream",
     "text": [
      "377 ../../feature/feature_fbank/2017019880005_kimjihyeon/2017019880005_kimjihyeon_0.npy\n",
      "378 ../../feature/feature_fbank/2017019880005_kimjihyeon/2017019880005_kimjihyeon_4.npy\n",
      "379 ../../feature/feature_fbank/2017019880005_kimjihyeon/2017019880005_kimjihyeon_3.npy\n"
     ]
    },
    {
     "name": "stderr",
     "output_type": "stream",
     "text": [
      "Lossy conversion from float32 to uint8. Range [0.0, 255.0]. Convert image to uint8 prior to saving to suppress this warning.\n",
      "Lossy conversion from float32 to uint8. Range [0.0, 255.0]. Convert image to uint8 prior to saving to suppress this warning.\n",
      "Lossy conversion from float32 to uint8. Range [0.0, 255.0]. Convert image to uint8 prior to saving to suppress this warning.\n"
     ]
    },
    {
     "name": "stdout",
     "output_type": "stream",
     "text": [
      "380 ../../feature/feature_fbank/2017019880005_kimjihyeon/2017019880005_kimjihyeon_2.npy\n",
      "381 ../../feature/feature_fbank/2017019880006_choisuyeon/2017019880006_choisuyeon_3.npy\n",
      "382 ../../feature/feature_fbank/2017019880006_choisuyeon/2017019880006_choisuyeon_4.npy\n"
     ]
    },
    {
     "name": "stderr",
     "output_type": "stream",
     "text": [
      "Lossy conversion from float32 to uint8. Range [0.0, 255.0]. Convert image to uint8 prior to saving to suppress this warning.\n",
      "Lossy conversion from float32 to uint8. Range [0.0, 255.0]. Convert image to uint8 prior to saving to suppress this warning.\n",
      "Lossy conversion from float32 to uint8. Range [0.0, 255.0]. Convert image to uint8 prior to saving to suppress this warning.\n"
     ]
    },
    {
     "name": "stdout",
     "output_type": "stream",
     "text": [
      "383 ../../feature/feature_fbank/2017019880006_choisuyeon/2017019880006_choisuyeon_1.npy\n",
      "384 ../../feature/feature_fbank/2017019880006_choisuyeon/2017019880006_choisuyeon_2.npy\n",
      "385 ../../feature/feature_fbank/2017019880006_choisuyeon/2017019880006_choisuyeon_0.npy\n"
     ]
    },
    {
     "name": "stderr",
     "output_type": "stream",
     "text": [
      "Lossy conversion from float32 to uint8. Range [0.0, 255.0]. Convert image to uint8 prior to saving to suppress this warning.\n",
      "Lossy conversion from float32 to uint8. Range [0.0, 255.0]. Convert image to uint8 prior to saving to suppress this warning.\n",
      "Lossy conversion from float32 to uint8. Range [0.0, 255.0]. Convert image to uint8 prior to saving to suppress this warning.\n"
     ]
    },
    {
     "name": "stdout",
     "output_type": "stream",
     "text": [
      "386 ../../feature/feature_fbank/2017019880007_hwanghyebin/2017019880007_hwanghyebin_4.npy\n",
      "387 ../../feature/feature_fbank/2017019880007_hwanghyebin/2017019880007_hwanghyebin_2.npy\n",
      "388 ../../feature/feature_fbank/2017019880007_hwanghyebin/2017019880007_hwanghyebin_1.npy\n"
     ]
    },
    {
     "name": "stderr",
     "output_type": "stream",
     "text": [
      "Lossy conversion from float32 to uint8. Range [0.0, 255.0]. Convert image to uint8 prior to saving to suppress this warning.\n",
      "Lossy conversion from float32 to uint8. Range [0.0, 255.0]. Convert image to uint8 prior to saving to suppress this warning.\n",
      "Lossy conversion from float32 to uint8. Range [0.0, 255.0]. Convert image to uint8 prior to saving to suppress this warning.\n"
     ]
    },
    {
     "name": "stdout",
     "output_type": "stream",
     "text": [
      "389 ../../feature/feature_fbank/2017019880007_hwanghyebin/2017019880007_hwanghyebin_3.npy\n",
      "390 ../../feature/feature_fbank/2017019880007_hwanghyebin/2017019880007_hwanghyebin_0.npy\n",
      "391 ../../feature/feature_fbank/2017019880008_jangsoojin/2017019880008_jangsoojin_3.npy\n"
     ]
    },
    {
     "name": "stderr",
     "output_type": "stream",
     "text": [
      "Lossy conversion from float32 to uint8. Range [0.0, 255.0]. Convert image to uint8 prior to saving to suppress this warning.\n",
      "Lossy conversion from float32 to uint8. Range [0.0, 255.0]. Convert image to uint8 prior to saving to suppress this warning.\n",
      "Lossy conversion from float32 to uint8. Range [0.0, 255.0]. Convert image to uint8 prior to saving to suppress this warning.\n"
     ]
    },
    {
     "name": "stdout",
     "output_type": "stream",
     "text": [
      "392 ../../feature/feature_fbank/2017019880008_jangsoojin/2017019880008_jangsoojin_0.npy\n",
      "393 ../../feature/feature_fbank/2017019880008_jangsoojin/2017019880008_jangsoojin_1.npy\n",
      "394 ../../feature/feature_fbank/2017019880008_jangsoojin/2017019880008_jangsoojin_2.npy\n"
     ]
    },
    {
     "name": "stderr",
     "output_type": "stream",
     "text": [
      "Lossy conversion from float32 to uint8. Range [0.0, 255.0]. Convert image to uint8 prior to saving to suppress this warning.\n",
      "Lossy conversion from float32 to uint8. Range [0.0, 255.0]. Convert image to uint8 prior to saving to suppress this warning.\n",
      "Lossy conversion from float32 to uint8. Range [0.0, 255.0]. Convert image to uint8 prior to saving to suppress this warning.\n"
     ]
    },
    {
     "name": "stdout",
     "output_type": "stream",
     "text": [
      "395 ../../feature/feature_fbank/2017019880008_jangsoojin/2017019880008_jangsoojin_4.npy\n",
      "396 ../../feature/feature_fbank/2017019880009_kimhongjoo/2017019880009_kimhongjoo_3.npy\n",
      "397 ../../feature/feature_fbank/2017019880009_kimhongjoo/2017019880009_kimhongjoo_0.npy\n"
     ]
    },
    {
     "name": "stderr",
     "output_type": "stream",
     "text": [
      "Lossy conversion from float32 to uint8. Range [0.0, 255.0]. Convert image to uint8 prior to saving to suppress this warning.\n",
      "Lossy conversion from float32 to uint8. Range [0.0, 255.0]. Convert image to uint8 prior to saving to suppress this warning.\n",
      "Lossy conversion from float32 to uint8. Range [0.0, 255.0]. Convert image to uint8 prior to saving to suppress this warning.\n"
     ]
    },
    {
     "name": "stdout",
     "output_type": "stream",
     "text": [
      "398 ../../feature/feature_fbank/2017019880009_kimhongjoo/2017019880009_kimhongjoo_1.npy\n",
      "399 ../../feature/feature_fbank/2017019880009_kimhongjoo/2017019880009_kimhongjoo_4.npy\n",
      "400 ../../feature/feature_fbank/2017019880009_kimhongjoo/2017019880009_kimhongjoo_2.npy\n"
     ]
    },
    {
     "name": "stderr",
     "output_type": "stream",
     "text": [
      "Lossy conversion from float32 to uint8. Range [0.0, 255.0]. Convert image to uint8 prior to saving to suppress this warning.\n",
      "Lossy conversion from float32 to uint8. Range [0.0, 255.0]. Convert image to uint8 prior to saving to suppress this warning.\n",
      "Lossy conversion from float32 to uint8. Range [0.0, 255.0]. Convert image to uint8 prior to saving to suppress this warning.\n"
     ]
    },
    {
     "name": "stdout",
     "output_type": "stream",
     "text": [
      "401 ../../feature/feature_fbank/2017019880010_kimhyorin/2017019880010_kimhyorin_0.npy\n",
      "402 ../../feature/feature_fbank/2017019880010_kimhyorin/2017019880010_kimhyorin_1.npy\n",
      "403 ../../feature/feature_fbank/2017019880010_kimhyorin/2017019880010_kimhyorin_4.npy\n"
     ]
    },
    {
     "name": "stderr",
     "output_type": "stream",
     "text": [
      "Lossy conversion from float32 to uint8. Range [0.0, 255.0]. Convert image to uint8 prior to saving to suppress this warning.\n",
      "Lossy conversion from float32 to uint8. Range [0.0, 255.0]. Convert image to uint8 prior to saving to suppress this warning.\n",
      "Lossy conversion from float32 to uint8. Range [0.0, 255.0]. Convert image to uint8 prior to saving to suppress this warning.\n"
     ]
    },
    {
     "name": "stdout",
     "output_type": "stream",
     "text": [
      "404 ../../feature/feature_fbank/2017019880010_kimhyorin/2017019880010_kimhyorin_3.npy\n",
      "405 ../../feature/feature_fbank/2017019880010_kimhyorin/2017019880010_kimhyorin_2.npy\n",
      "406 ../../feature/feature_fbank/2017019880011_kimjihyun/2017019880011_kimjihyun_1.npy\n"
     ]
    },
    {
     "name": "stderr",
     "output_type": "stream",
     "text": [
      "Lossy conversion from float32 to uint8. Range [0.0, 255.0]. Convert image to uint8 prior to saving to suppress this warning.\n",
      "Lossy conversion from float32 to uint8. Range [0.0, 255.0]. Convert image to uint8 prior to saving to suppress this warning.\n",
      "Lossy conversion from float32 to uint8. Range [0.0, 255.0]. Convert image to uint8 prior to saving to suppress this warning.\n"
     ]
    },
    {
     "name": "stdout",
     "output_type": "stream",
     "text": [
      "407 ../../feature/feature_fbank/2017019880011_kimjihyun/2017019880011_kimjihyun_3.npy\n",
      "408 ../../feature/feature_fbank/2017019880011_kimjihyun/2017019880011_kimjihyun_2.npy\n",
      "409 ../../feature/feature_fbank/2017019880011_kimjihyun/2017019880011_kimjihyun_0.npy\n"
     ]
    },
    {
     "name": "stderr",
     "output_type": "stream",
     "text": [
      "Lossy conversion from float32 to uint8. Range [0.0, 255.0]. Convert image to uint8 prior to saving to suppress this warning.\n",
      "Lossy conversion from float32 to uint8. Range [0.0, 255.0]. Convert image to uint8 prior to saving to suppress this warning.\n",
      "Lossy conversion from float32 to uint8. Range [0.0, 255.0]. Convert image to uint8 prior to saving to suppress this warning.\n"
     ]
    },
    {
     "name": "stdout",
     "output_type": "stream",
     "text": [
      "410 ../../feature/feature_fbank/2017019880011_kimjihyun/2017019880011_kimjihyun_4.npy\n",
      "411 ../../feature/feature_fbank/2017019880012_kimsongyi/2017019880012_kimsongyi_4.npy\n",
      "412 ../../feature/feature_fbank/2017019880012_kimsongyi/2017019880012_kimsongyi_1.npy\n"
     ]
    },
    {
     "name": "stderr",
     "output_type": "stream",
     "text": [
      "Lossy conversion from float32 to uint8. Range [0.0, 255.0]. Convert image to uint8 prior to saving to suppress this warning.\n",
      "Lossy conversion from float32 to uint8. Range [0.0, 255.0]. Convert image to uint8 prior to saving to suppress this warning.\n",
      "Lossy conversion from float32 to uint8. Range [0.0, 255.0]. Convert image to uint8 prior to saving to suppress this warning.\n"
     ]
    },
    {
     "name": "stdout",
     "output_type": "stream",
     "text": [
      "413 ../../feature/feature_fbank/2017019880012_kimsongyi/2017019880012_kimsongyi_3.npy\n",
      "414 ../../feature/feature_fbank/2017019880012_kimsongyi/2017019880012_kimsongyi_2.npy\n",
      "415 ../../feature/feature_fbank/2017019880012_kimsongyi/2017019880012_kimsongyi_0.npy\n"
     ]
    },
    {
     "name": "stderr",
     "output_type": "stream",
     "text": [
      "Lossy conversion from float32 to uint8. Range [0.0, 255.0]. Convert image to uint8 prior to saving to suppress this warning.\n",
      "Lossy conversion from float32 to uint8. Range [0.0, 255.0]. Convert image to uint8 prior to saving to suppress this warning.\n",
      "Lossy conversion from float32 to uint8. Range [0.0, 255.0]. Convert image to uint8 prior to saving to suppress this warning.\n"
     ]
    },
    {
     "name": "stdout",
     "output_type": "stream",
     "text": [
      "416 ../../feature/feature_fbank/2017019880013_kotaewan/2017019880013_kotaewan_0.npy\n",
      "417 ../../feature/feature_fbank/2017019880013_kotaewan/2017019880013_kotaewan_1.npy\n",
      "418 ../../feature/feature_fbank/2017019880013_kotaewan/2017019880013_kotaewan_3.npy\n"
     ]
    },
    {
     "name": "stderr",
     "output_type": "stream",
     "text": [
      "Lossy conversion from float32 to uint8. Range [0.0, 255.0]. Convert image to uint8 prior to saving to suppress this warning.\n",
      "Lossy conversion from float32 to uint8. Range [0.0, 255.0]. Convert image to uint8 prior to saving to suppress this warning.\n",
      "Lossy conversion from float32 to uint8. Range [0.0, 255.0]. Convert image to uint8 prior to saving to suppress this warning.\n"
     ]
    },
    {
     "name": "stdout",
     "output_type": "stream",
     "text": [
      "419 ../../feature/feature_fbank/2017019880013_kotaewan/2017019880013_kotaewan_2.npy\n",
      "420 ../../feature/feature_fbank/2017019880013_kotaewan/2017019880013_kotaewan_4.npy\n",
      "421 ../../feature/feature_fbank/2017019880014_leedanbee/2017019880014_leedanbee_1.npy\n"
     ]
    },
    {
     "name": "stderr",
     "output_type": "stream",
     "text": [
      "Lossy conversion from float32 to uint8. Range [0.0, 255.0]. Convert image to uint8 prior to saving to suppress this warning.\n",
      "Lossy conversion from float32 to uint8. Range [0.0, 255.0]. Convert image to uint8 prior to saving to suppress this warning.\n",
      "Lossy conversion from float32 to uint8. Range [0.0, 255.0]. Convert image to uint8 prior to saving to suppress this warning.\n"
     ]
    },
    {
     "name": "stdout",
     "output_type": "stream",
     "text": [
      "422 ../../feature/feature_fbank/2017019880014_leedanbee/2017019880014_leedanbee_2.npy\n",
      "423 ../../feature/feature_fbank/2017019880014_leedanbee/2017019880014_leedanbee_4.npy\n",
      "424 ../../feature/feature_fbank/2017019880014_leedanbee/2017019880014_leedanbee_0.npy\n"
     ]
    },
    {
     "name": "stderr",
     "output_type": "stream",
     "text": [
      "Lossy conversion from float32 to uint8. Range [0.0, 255.0]. Convert image to uint8 prior to saving to suppress this warning.\n",
      "Lossy conversion from float32 to uint8. Range [0.0, 255.0]. Convert image to uint8 prior to saving to suppress this warning.\n",
      "Lossy conversion from float32 to uint8. Range [0.0, 255.0]. Convert image to uint8 prior to saving to suppress this warning.\n"
     ]
    },
    {
     "name": "stdout",
     "output_type": "stream",
     "text": [
      "425 ../../feature/feature_fbank/2017019880014_leedanbee/2017019880014_leedanbee_3.npy\n",
      "426 ../../feature/feature_fbank/2017019880015_leejungjoon/2017019880015_leejungjoon_3.npy\n",
      "427 ../../feature/feature_fbank/2017019880015_leejungjoon/2017019880015_leejungjoon_2.npy\n"
     ]
    },
    {
     "name": "stderr",
     "output_type": "stream",
     "text": [
      "Lossy conversion from float32 to uint8. Range [0.0, 255.0]. Convert image to uint8 prior to saving to suppress this warning.\n",
      "Lossy conversion from float32 to uint8. Range [0.0, 255.0]. Convert image to uint8 prior to saving to suppress this warning.\n",
      "Lossy conversion from float32 to uint8. Range [0.0, 255.0]. Convert image to uint8 prior to saving to suppress this warning.\n"
     ]
    },
    {
     "name": "stdout",
     "output_type": "stream",
     "text": [
      "428 ../../feature/feature_fbank/2017019880015_leejungjoon/2017019880015_leejungjoon_4.npy\n",
      "429 ../../feature/feature_fbank/2017019880015_leejungjoon/2017019880015_leejungjoon_1.npy\n",
      "430 ../../feature/feature_fbank/2017019880015_leejungjoon/2017019880015_leejungjoon_0.npy\n"
     ]
    },
    {
     "name": "stderr",
     "output_type": "stream",
     "text": [
      "Lossy conversion from float32 to uint8. Range [0.0, 255.0]. Convert image to uint8 prior to saving to suppress this warning.\n",
      "Lossy conversion from float32 to uint8. Range [0.0, 255.0]. Convert image to uint8 prior to saving to suppress this warning.\n",
      "Lossy conversion from float32 to uint8. Range [0.0, 255.0]. Convert image to uint8 prior to saving to suppress this warning.\n"
     ]
    },
    {
     "name": "stdout",
     "output_type": "stream",
     "text": [
      "431 ../../feature/feature_fbank/2017019880016_parkjongkook/2017019880016_parkjongkook_0.npy\n",
      "432 ../../feature/feature_fbank/2017019880016_parkjongkook/2017019880016_parkjongkook_3.npy\n",
      "433 ../../feature/feature_fbank/2017019880016_parkjongkook/2017019880016_parkjongkook_4.npy\n"
     ]
    },
    {
     "name": "stderr",
     "output_type": "stream",
     "text": [
      "Lossy conversion from float32 to uint8. Range [0.0, 255.0]. Convert image to uint8 prior to saving to suppress this warning.\n",
      "Lossy conversion from float32 to uint8. Range [0.0, 255.0]. Convert image to uint8 prior to saving to suppress this warning.\n",
      "Lossy conversion from float32 to uint8. Range [0.0, 255.0]. Convert image to uint8 prior to saving to suppress this warning.\n"
     ]
    },
    {
     "name": "stdout",
     "output_type": "stream",
     "text": [
      "434 ../../feature/feature_fbank/2017019880016_parkjongkook/2017019880016_parkjongkook_1.npy\n",
      "435 ../../feature/feature_fbank/2017019880016_parkjongkook/2017019880016_parkjongkook_2.npy\n",
      "436 ../../feature/feature_fbank/2017019880017_sungsoohyun/2017019880017_sungsoohyun_0.npy\n"
     ]
    },
    {
     "name": "stderr",
     "output_type": "stream",
     "text": [
      "Lossy conversion from float32 to uint8. Range [0.0, 255.0]. Convert image to uint8 prior to saving to suppress this warning.\n",
      "Lossy conversion from float32 to uint8. Range [0.0, 255.0]. Convert image to uint8 prior to saving to suppress this warning.\n",
      "Lossy conversion from float32 to uint8. Range [0.0, 255.0]. Convert image to uint8 prior to saving to suppress this warning.\n"
     ]
    },
    {
     "name": "stdout",
     "output_type": "stream",
     "text": [
      "437 ../../feature/feature_fbank/2017019880017_sungsoohyun/2017019880017_sungsoohyun_1.npy\n",
      "438 ../../feature/feature_fbank/2017019880017_sungsoohyun/2017019880017_sungsoohyun_3.npy\n",
      "439 ../../feature/feature_fbank/2017019880017_sungsoohyun/2017019880017_sungsoohyun_4.npy\n"
     ]
    },
    {
     "name": "stderr",
     "output_type": "stream",
     "text": [
      "Lossy conversion from float32 to uint8. Range [0.0, 255.0]. Convert image to uint8 prior to saving to suppress this warning.\n",
      "Lossy conversion from float32 to uint8. Range [0.0, 255.0]. Convert image to uint8 prior to saving to suppress this warning.\n",
      "Lossy conversion from float32 to uint8. Range [0.0, 255.0]. Convert image to uint8 prior to saving to suppress this warning.\n"
     ]
    },
    {
     "name": "stdout",
     "output_type": "stream",
     "text": [
      "440 ../../feature/feature_fbank/2017019880017_sungsoohyun/2017019880017_sungsoohyun_2.npy\n",
      "441 ../../feature/feature_fbank/2017019880018_wonjoonho/2017019880018_wonjoonho_4.npy\n",
      "442 ../../feature/feature_fbank/2017019880018_wonjoonho/2017019880018_wonjoonho_0.npy\n"
     ]
    },
    {
     "name": "stderr",
     "output_type": "stream",
     "text": [
      "Lossy conversion from float32 to uint8. Range [0.0, 255.0]. Convert image to uint8 prior to saving to suppress this warning.\n",
      "Lossy conversion from float32 to uint8. Range [0.0, 255.0]. Convert image to uint8 prior to saving to suppress this warning.\n",
      "Lossy conversion from float32 to uint8. Range [0.0, 255.0]. Convert image to uint8 prior to saving to suppress this warning.\n"
     ]
    },
    {
     "name": "stdout",
     "output_type": "stream",
     "text": [
      "443 ../../feature/feature_fbank/2017019880018_wonjoonho/2017019880018_wonjoonho_3.npy\n",
      "444 ../../feature/feature_fbank/2017019880018_wonjoonho/2017019880018_wonjoonho_1.npy\n",
      "445 ../../feature/feature_fbank/2017019880018_wonjoonho/2017019880018_wonjoonho_2.npy\n"
     ]
    },
    {
     "name": "stderr",
     "output_type": "stream",
     "text": [
      "Lossy conversion from float32 to uint8. Range [0.0, 255.0]. Convert image to uint8 prior to saving to suppress this warning.\n",
      "Lossy conversion from float32 to uint8. Range [0.0, 255.0]. Convert image to uint8 prior to saving to suppress this warning.\n",
      "Lossy conversion from float32 to uint8. Range [0.0, 255.0]. Convert image to uint8 prior to saving to suppress this warning.\n"
     ]
    },
    {
     "name": "stdout",
     "output_type": "stream",
     "text": [
      "446 ../../feature/feature_fbank/2017019880019_wonsonghee/2017019880019_wonsonghee_2.npy\n",
      "447 ../../feature/feature_fbank/2017019880019_wonsonghee/2017019880019_wonsonghee_3.npy\n",
      "448 ../../feature/feature_fbank/2017019880019_wonsonghee/2017019880019_wonsonghee_4.npy\n"
     ]
    },
    {
     "name": "stderr",
     "output_type": "stream",
     "text": [
      "Lossy conversion from float32 to uint8. Range [0.0, 255.0]. Convert image to uint8 prior to saving to suppress this warning.\n",
      "Lossy conversion from float32 to uint8. Range [0.0, 255.0]. Convert image to uint8 prior to saving to suppress this warning.\n",
      "Lossy conversion from float32 to uint8. Range [0.0, 255.0]. Convert image to uint8 prior to saving to suppress this warning.\n"
     ]
    },
    {
     "name": "stdout",
     "output_type": "stream",
     "text": [
      "449 ../../feature/feature_fbank/2017019880019_wonsonghee/2017019880019_wonsonghee_1.npy\n",
      "450 ../../feature/feature_fbank/2017019880019_wonsonghee/2017019880019_wonsonghee_0.npy\n",
      "451 ../../feature/feature_fbank/2017019880020_yoonhyeeun/2017019880020_yoonhyeeun_4.npy\n"
     ]
    },
    {
     "name": "stderr",
     "output_type": "stream",
     "text": [
      "Lossy conversion from float32 to uint8. Range [0.0, 255.0]. Convert image to uint8 prior to saving to suppress this warning.\n",
      "Lossy conversion from float32 to uint8. Range [0.0, 255.0]. Convert image to uint8 prior to saving to suppress this warning.\n",
      "Lossy conversion from float32 to uint8. Range [0.0, 255.0]. Convert image to uint8 prior to saving to suppress this warning.\n"
     ]
    },
    {
     "name": "stdout",
     "output_type": "stream",
     "text": [
      "452 ../../feature/feature_fbank/2017019880020_yoonhyeeun/2017019880020_yoonhyeeun_1.npy\n",
      "453 ../../feature/feature_fbank/2017019880020_yoonhyeeun/2017019880020_yoonhyeeun_0.npy\n",
      "454 ../../feature/feature_fbank/2017019880020_yoonhyeeun/2017019880020_yoonhyeeun_2.npy\n"
     ]
    },
    {
     "name": "stderr",
     "output_type": "stream",
     "text": [
      "Lossy conversion from float32 to uint8. Range [0.0, 255.0]. Convert image to uint8 prior to saving to suppress this warning.\n",
      "Lossy conversion from float32 to uint8. Range [0.0, 255.0]. Convert image to uint8 prior to saving to suppress this warning.\n",
      "Lossy conversion from float32 to uint8. Range [0.0, 255.0]. Convert image to uint8 prior to saving to suppress this warning.\n"
     ]
    },
    {
     "name": "stdout",
     "output_type": "stream",
     "text": [
      "455 ../../feature/feature_fbank/2017019880020_yoonhyeeun/2017019880020_yoonhyeeun_3.npy\n",
      "456 ../../feature/feature_fbank/2017019880021_kimjuyeong/2017019880021_kimjuyeong_3.npy\n",
      "457 ../../feature/feature_fbank/2017019880021_kimjuyeong/2017019880021_kimjuyeong_4.npy\n"
     ]
    },
    {
     "name": "stderr",
     "output_type": "stream",
     "text": [
      "Lossy conversion from float32 to uint8. Range [0.0, 255.0]. Convert image to uint8 prior to saving to suppress this warning.\n",
      "Lossy conversion from float32 to uint8. Range [0.0, 255.0]. Convert image to uint8 prior to saving to suppress this warning.\n",
      "Lossy conversion from float32 to uint8. Range [0.0, 255.0]. Convert image to uint8 prior to saving to suppress this warning.\n"
     ]
    },
    {
     "name": "stdout",
     "output_type": "stream",
     "text": [
      "458 ../../feature/feature_fbank/2017019880021_kimjuyeong/2017019880021_kimjuyeong_1.npy\n",
      "459 ../../feature/feature_fbank/2017019880021_kimjuyeong/2017019880021_kimjuyeong_2.npy\n",
      "460 ../../feature/feature_fbank/2017019880021_kimjuyeong/2017019880021_kimjuyeong_0.npy\n"
     ]
    },
    {
     "name": "stderr",
     "output_type": "stream",
     "text": [
      "Lossy conversion from float32 to uint8. Range [0.0, 255.0]. Convert image to uint8 prior to saving to suppress this warning.\n",
      "Lossy conversion from float32 to uint8. Range [0.0, 255.0]. Convert image to uint8 prior to saving to suppress this warning.\n",
      "Lossy conversion from float32 to uint8. Range [0.0, 255.0]. Convert image to uint8 prior to saving to suppress this warning.\n"
     ]
    },
    {
     "name": "stdout",
     "output_type": "stream",
     "text": [
      "461 ../../feature/feature_fbank/2017019880022_kimjaein/2017019880022_kimjaein_3.npy\n",
      "462 ../../feature/feature_fbank/2017019880022_kimjaein/2017019880022_kimjaein_0.npy\n",
      "463 ../../feature/feature_fbank/2017019880022_kimjaein/2017019880022_kimjaein_4.npy\n"
     ]
    },
    {
     "name": "stderr",
     "output_type": "stream",
     "text": [
      "Lossy conversion from float32 to uint8. Range [0.0, 255.0]. Convert image to uint8 prior to saving to suppress this warning.\n",
      "Lossy conversion from float32 to uint8. Range [0.0, 255.0]. Convert image to uint8 prior to saving to suppress this warning.\n",
      "Lossy conversion from float32 to uint8. Range [0.0, 255.0]. Convert image to uint8 prior to saving to suppress this warning.\n"
     ]
    },
    {
     "name": "stdout",
     "output_type": "stream",
     "text": [
      "464 ../../feature/feature_fbank/2017019880022_kimjaein/2017019880022_kimjaein_1.npy\n",
      "465 ../../feature/feature_fbank/2017019880022_kimjaein/2017019880022_kimjaein_2.npy\n",
      "466 ../../feature/feature_fbank/2017019880023_yoohaekyung/2017019880023_yoohaekyung_0.npy\n"
     ]
    },
    {
     "name": "stderr",
     "output_type": "stream",
     "text": [
      "Lossy conversion from float32 to uint8. Range [0.0, 255.0]. Convert image to uint8 prior to saving to suppress this warning.\n",
      "Lossy conversion from float32 to uint8. Range [0.0, 255.0]. Convert image to uint8 prior to saving to suppress this warning.\n",
      "Lossy conversion from float32 to uint8. Range [0.0, 255.0]. Convert image to uint8 prior to saving to suppress this warning.\n"
     ]
    },
    {
     "name": "stdout",
     "output_type": "stream",
     "text": [
      "467 ../../feature/feature_fbank/2017019880023_yoohaekyung/2017019880023_yoohaekyung_4.npy\n",
      "468 ../../feature/feature_fbank/2017019880023_yoohaekyung/2017019880023_yoohaekyung_2.npy\n",
      "469 ../../feature/feature_fbank/2017019880023_yoohaekyung/2017019880023_yoohaekyung_1.npy\n"
     ]
    },
    {
     "name": "stderr",
     "output_type": "stream",
     "text": [
      "Lossy conversion from float32 to uint8. Range [0.0, 255.0]. Convert image to uint8 prior to saving to suppress this warning.\n",
      "Lossy conversion from float32 to uint8. Range [0.0, 255.0]. Convert image to uint8 prior to saving to suppress this warning.\n",
      "Lossy conversion from float32 to uint8. Range [0.0, 255.0]. Convert image to uint8 prior to saving to suppress this warning.\n"
     ]
    },
    {
     "name": "stdout",
     "output_type": "stream",
     "text": [
      "470 ../../feature/feature_fbank/2017019880023_yoohaekyung/2017019880023_yoohaekyung_3.npy\n",
      "471 ../../feature/feature_fbank/2017019880024_hanyukyung/2017019880024_hanyukyung_2.npy\n",
      "472 ../../feature/feature_fbank/2017019880024_hanyukyung/2017019880024_hanyukyung_0.npy\n"
     ]
    },
    {
     "name": "stderr",
     "output_type": "stream",
     "text": [
      "Lossy conversion from float32 to uint8. Range [0.0, 255.0]. Convert image to uint8 prior to saving to suppress this warning.\n",
      "Lossy conversion from float32 to uint8. Range [0.0, 255.0]. Convert image to uint8 prior to saving to suppress this warning.\n",
      "Lossy conversion from float32 to uint8. Range [0.0, 255.0]. Convert image to uint8 prior to saving to suppress this warning.\n"
     ]
    },
    {
     "name": "stdout",
     "output_type": "stream",
     "text": [
      "473 ../../feature/feature_fbank/2017019880024_hanyukyung/2017019880024_hanyukyung_4.npy\n",
      "474 ../../feature/feature_fbank/2017019880024_hanyukyung/2017019880024_hanyukyung_1.npy\n",
      "475 ../../feature/feature_fbank/2017019880024_hanyukyung/2017019880024_hanyukyung_3.npy\n"
     ]
    },
    {
     "name": "stderr",
     "output_type": "stream",
     "text": [
      "Lossy conversion from float32 to uint8. Range [0.0, 255.0]. Convert image to uint8 prior to saving to suppress this warning.\n",
      "Lossy conversion from float32 to uint8. Range [0.0, 255.0]. Convert image to uint8 prior to saving to suppress this warning.\n",
      "Lossy conversion from float32 to uint8. Range [0.0, 255.0]. Convert image to uint8 prior to saving to suppress this warning.\n"
     ]
    },
    {
     "name": "stdout",
     "output_type": "stream",
     "text": [
      "476 ../../feature/feature_fbank/2017019880025_yoojungkyun/2017019880025_yoojungkyun_3.npy\n",
      "477 ../../feature/feature_fbank/2017019880025_yoojungkyun/2017019880025_yoojungkyun_2.npy\n",
      "478 ../../feature/feature_fbank/2017019880025_yoojungkyun/2017019880025_yoojungkyun_0.npy\n"
     ]
    },
    {
     "name": "stderr",
     "output_type": "stream",
     "text": [
      "Lossy conversion from float32 to uint8. Range [0.0, 255.0]. Convert image to uint8 prior to saving to suppress this warning.\n",
      "Lossy conversion from float32 to uint8. Range [0.0, 255.0]. Convert image to uint8 prior to saving to suppress this warning.\n",
      "Lossy conversion from float32 to uint8. Range [0.0, 255.0]. Convert image to uint8 prior to saving to suppress this warning.\n"
     ]
    },
    {
     "name": "stdout",
     "output_type": "stream",
     "text": [
      "479 ../../feature/feature_fbank/2017019880025_yoojungkyun/2017019880025_yoojungkyun_1.npy\n",
      "480 ../../feature/feature_fbank/2017019880025_yoojungkyun/2017019880025_yoojungkyun_4.npy\n",
      "481 ../../feature/feature_fbank/2017019880026_parkjongsang/2017019880026_parkjongsang_1.npy\n"
     ]
    },
    {
     "name": "stderr",
     "output_type": "stream",
     "text": [
      "Lossy conversion from float32 to uint8. Range [0.0, 255.0]. Convert image to uint8 prior to saving to suppress this warning.\n",
      "Lossy conversion from float32 to uint8. Range [0.0, 255.0]. Convert image to uint8 prior to saving to suppress this warning.\n",
      "Lossy conversion from float32 to uint8. Range [0.0, 255.0]. Convert image to uint8 prior to saving to suppress this warning.\n"
     ]
    },
    {
     "name": "stdout",
     "output_type": "stream",
     "text": [
      "482 ../../feature/feature_fbank/2017019880026_parkjongsang/2017019880026_parkjongsang_0.npy\n",
      "483 ../../feature/feature_fbank/2017019880026_parkjongsang/2017019880026_parkjongsang_2.npy\n",
      "484 ../../feature/feature_fbank/2017019880026_parkjongsang/2017019880026_parkjongsang_4.npy\n"
     ]
    },
    {
     "name": "stderr",
     "output_type": "stream",
     "text": [
      "Lossy conversion from float32 to uint8. Range [0.0, 255.0]. Convert image to uint8 prior to saving to suppress this warning.\n",
      "Lossy conversion from float32 to uint8. Range [0.0, 255.0]. Convert image to uint8 prior to saving to suppress this warning.\n",
      "Lossy conversion from float32 to uint8. Range [0.0, 255.0]. Convert image to uint8 prior to saving to suppress this warning.\n"
     ]
    },
    {
     "name": "stdout",
     "output_type": "stream",
     "text": [
      "485 ../../feature/feature_fbank/2017019880026_parkjongsang/2017019880026_parkjongsang_3.npy\n",
      "486 ../../feature/feature_fbank/2017019880027_leesol/2017019880027_leesol_3.npy\n",
      "487 ../../feature/feature_fbank/2017019880027_leesol/2017019880027_leesol_2.npy\n"
     ]
    },
    {
     "name": "stderr",
     "output_type": "stream",
     "text": [
      "Lossy conversion from float32 to uint8. Range [0.0, 255.0]. Convert image to uint8 prior to saving to suppress this warning.\n",
      "Lossy conversion from float32 to uint8. Range [0.0, 255.0]. Convert image to uint8 prior to saving to suppress this warning.\n",
      "Lossy conversion from float32 to uint8. Range [0.0, 255.0]. Convert image to uint8 prior to saving to suppress this warning.\n"
     ]
    },
    {
     "name": "stdout",
     "output_type": "stream",
     "text": [
      "488 ../../feature/feature_fbank/2017019880027_leesol/2017019880027_leesol_0.npy\n",
      "489 ../../feature/feature_fbank/2017019880027_leesol/2017019880027_leesol_1.npy\n",
      "490 ../../feature/feature_fbank/2017019880027_leesol/2017019880027_leesol_4.npy\n"
     ]
    },
    {
     "name": "stderr",
     "output_type": "stream",
     "text": [
      "Lossy conversion from float32 to uint8. Range [0.0, 255.0]. Convert image to uint8 prior to saving to suppress this warning.\n",
      "Lossy conversion from float32 to uint8. Range [0.0, 255.0]. Convert image to uint8 prior to saving to suppress this warning.\n",
      "Lossy conversion from float32 to uint8. Range [0.0, 255.0]. Convert image to uint8 prior to saving to suppress this warning.\n"
     ]
    },
    {
     "name": "stdout",
     "output_type": "stream",
     "text": [
      "491 ../../feature/feature_fbank/2017019880028_kimsunghan/2017019880028_kimsunghan_3.npy\n",
      "492 ../../feature/feature_fbank/2017019880028_kimsunghan/2017019880028_kimsunghan_0.npy\n",
      "493 ../../feature/feature_fbank/2017019880028_kimsunghan/2017019880028_kimsunghan_2.npy\n"
     ]
    },
    {
     "name": "stderr",
     "output_type": "stream",
     "text": [
      "Lossy conversion from float32 to uint8. Range [0.0, 255.0]. Convert image to uint8 prior to saving to suppress this warning.\n",
      "Lossy conversion from float32 to uint8. Range [0.0, 255.0]. Convert image to uint8 prior to saving to suppress this warning.\n",
      "Lossy conversion from float32 to uint8. Range [0.0, 255.0]. Convert image to uint8 prior to saving to suppress this warning.\n"
     ]
    },
    {
     "name": "stdout",
     "output_type": "stream",
     "text": [
      "494 ../../feature/feature_fbank/2017019880028_kimsunghan/2017019880028_kimsunghan_1.npy\n",
      "495 ../../feature/feature_fbank/2017019880028_kimsunghan/2017019880028_kimsunghan_4.npy\n",
      "496 ../../feature/feature_fbank/2017019880029_kimminji/2017019880029_kimminji_4.npy\n"
     ]
    },
    {
     "name": "stderr",
     "output_type": "stream",
     "text": [
      "Lossy conversion from float32 to uint8. Range [0.0, 255.0]. Convert image to uint8 prior to saving to suppress this warning.\n",
      "Lossy conversion from float32 to uint8. Range [0.0, 255.0]. Convert image to uint8 prior to saving to suppress this warning.\n",
      "Lossy conversion from float32 to uint8. Range [0.0, 255.0]. Convert image to uint8 prior to saving to suppress this warning.\n"
     ]
    },
    {
     "name": "stdout",
     "output_type": "stream",
     "text": [
      "497 ../../feature/feature_fbank/2017019880029_kimminji/2017019880029_kimminji_1.npy\n",
      "498 ../../feature/feature_fbank/2017019880029_kimminji/2017019880029_kimminji_3.npy\n",
      "499 ../../feature/feature_fbank/2017019880029_kimminji/2017019880029_kimminji_0.npy\n"
     ]
    },
    {
     "name": "stderr",
     "output_type": "stream",
     "text": [
      "Lossy conversion from float32 to uint8. Range [0.0, 255.0]. Convert image to uint8 prior to saving to suppress this warning.\n",
      "Lossy conversion from float32 to uint8. Range [0.0, 255.0]. Convert image to uint8 prior to saving to suppress this warning.\n",
      "Lossy conversion from float32 to uint8. Range [0.0, 255.0]. Convert image to uint8 prior to saving to suppress this warning.\n"
     ]
    },
    {
     "name": "stdout",
     "output_type": "stream",
     "text": [
      "500 ../../feature/feature_fbank/2017019880029_kimminji/2017019880029_kimminji_2.npy\n",
      "501 ../../feature/feature_fbank/2017019880030_hanseungoh/2017019880030_hanseungoh_2.npy\n",
      "502 ../../feature/feature_fbank/2017019880030_hanseungoh/2017019880030_hanseungoh_1.npy\n"
     ]
    },
    {
     "name": "stderr",
     "output_type": "stream",
     "text": [
      "Lossy conversion from float32 to uint8. Range [0.0, 255.0]. Convert image to uint8 prior to saving to suppress this warning.\n",
      "Lossy conversion from float32 to uint8. Range [0.0, 255.0]. Convert image to uint8 prior to saving to suppress this warning.\n",
      "Lossy conversion from float32 to uint8. Range [0.0, 255.0]. Convert image to uint8 prior to saving to suppress this warning.\n"
     ]
    },
    {
     "name": "stdout",
     "output_type": "stream",
     "text": [
      "503 ../../feature/feature_fbank/2017019880030_hanseungoh/2017019880030_hanseungoh_3.npy\n",
      "504 ../../feature/feature_fbank/2017019880030_hanseungoh/2017019880030_hanseungoh_4.npy\n",
      "505 ../../feature/feature_fbank/2017019880030_hanseungoh/2017019880030_hanseungoh_0.npy\n"
     ]
    },
    {
     "name": "stderr",
     "output_type": "stream",
     "text": [
      "Lossy conversion from float32 to uint8. Range [0.0, 255.0]. Convert image to uint8 prior to saving to suppress this warning.\n",
      "Lossy conversion from float32 to uint8. Range [0.0, 255.0]. Convert image to uint8 prior to saving to suppress this warning.\n",
      "Lossy conversion from float32 to uint8. Range [0.0, 255.0]. Convert image to uint8 prior to saving to suppress this warning.\n"
     ]
    },
    {
     "name": "stdout",
     "output_type": "stream",
     "text": [
      "506 ../../feature/feature_fbank/2017019880031_ahnjiwoo/2017019880031_ahnjiwoo_4.npy\n",
      "507 ../../feature/feature_fbank/2017019880031_ahnjiwoo/2017019880031_ahnjiwoo_2.npy\n",
      "508 ../../feature/feature_fbank/2017019880031_ahnjiwoo/2017019880031_ahnjiwoo_1.npy\n"
     ]
    },
    {
     "name": "stderr",
     "output_type": "stream",
     "text": [
      "Lossy conversion from float32 to uint8. Range [0.0, 255.0]. Convert image to uint8 prior to saving to suppress this warning.\n",
      "Lossy conversion from float32 to uint8. Range [0.0, 255.0]. Convert image to uint8 prior to saving to suppress this warning.\n",
      "Lossy conversion from float32 to uint8. Range [0.0, 255.0]. Convert image to uint8 prior to saving to suppress this warning.\n"
     ]
    },
    {
     "name": "stdout",
     "output_type": "stream",
     "text": [
      "509 ../../feature/feature_fbank/2017019880031_ahnjiwoo/2017019880031_ahnjiwoo_3.npy\n",
      "510 ../../feature/feature_fbank/2017019880031_ahnjiwoo/2017019880031_ahnjiwoo_0.npy\n",
      "511 ../../feature/feature_fbank/2017019880032_seoyeonjoo/2017019880032_seoyeonjoo_1.npy\n"
     ]
    },
    {
     "name": "stderr",
     "output_type": "stream",
     "text": [
      "Lossy conversion from float32 to uint8. Range [0.0, 255.0]. Convert image to uint8 prior to saving to suppress this warning.\n",
      "Lossy conversion from float32 to uint8. Range [0.0, 255.0]. Convert image to uint8 prior to saving to suppress this warning.\n",
      "Lossy conversion from float32 to uint8. Range [0.0, 255.0]. Convert image to uint8 prior to saving to suppress this warning.\n"
     ]
    },
    {
     "name": "stdout",
     "output_type": "stream",
     "text": [
      "512 ../../feature/feature_fbank/2017019880032_seoyeonjoo/2017019880032_seoyeonjoo_0.npy\n",
      "513 ../../feature/feature_fbank/2017019880032_seoyeonjoo/2017019880032_seoyeonjoo_3.npy\n",
      "514 ../../feature/feature_fbank/2017019880032_seoyeonjoo/2017019880032_seoyeonjoo_4.npy\n"
     ]
    },
    {
     "name": "stderr",
     "output_type": "stream",
     "text": [
      "Lossy conversion from float32 to uint8. Range [0.0, 255.0]. Convert image to uint8 prior to saving to suppress this warning.\n",
      "Lossy conversion from float32 to uint8. Range [0.0, 255.0]. Convert image to uint8 prior to saving to suppress this warning.\n",
      "Lossy conversion from float32 to uint8. Range [0.0, 255.0]. Convert image to uint8 prior to saving to suppress this warning.\n"
     ]
    },
    {
     "name": "stdout",
     "output_type": "stream",
     "text": [
      "515 ../../feature/feature_fbank/2017019880032_seoyeonjoo/2017019880032_seoyeonjoo_2.npy\n",
      "516 ../../feature/feature_fbank/2017019880033_kimnoeun/2017019880033_kimnoeun_3.npy\n",
      "517 ../../feature/feature_fbank/2017019880033_kimnoeun/2017019880033_kimnoeun_0.npy\n"
     ]
    },
    {
     "name": "stderr",
     "output_type": "stream",
     "text": [
      "Lossy conversion from float32 to uint8. Range [0.0, 255.0]. Convert image to uint8 prior to saving to suppress this warning.\n",
      "Lossy conversion from float32 to uint8. Range [0.0, 255.0]. Convert image to uint8 prior to saving to suppress this warning.\n",
      "Lossy conversion from float32 to uint8. Range [0.0, 255.0]. Convert image to uint8 prior to saving to suppress this warning.\n"
     ]
    },
    {
     "name": "stdout",
     "output_type": "stream",
     "text": [
      "518 ../../feature/feature_fbank/2017019880033_kimnoeun/2017019880033_kimnoeun_2.npy\n",
      "519 ../../feature/feature_fbank/2017019880033_kimnoeun/2017019880033_kimnoeun_1.npy\n",
      "520 ../../feature/feature_fbank/2017019880033_kimnoeun/2017019880033_kimnoeun_4.npy\n"
     ]
    },
    {
     "name": "stderr",
     "output_type": "stream",
     "text": [
      "Lossy conversion from float32 to uint8. Range [0.0, 255.0]. Convert image to uint8 prior to saving to suppress this warning.\n",
      "Lossy conversion from float32 to uint8. Range [0.0, 255.0]. Convert image to uint8 prior to saving to suppress this warning.\n",
      "Lossy conversion from float32 to uint8. Range [0.0, 255.0]. Convert image to uint8 prior to saving to suppress this warning.\n"
     ]
    },
    {
     "name": "stdout",
     "output_type": "stream",
     "text": [
      "521 ../../feature/feature_fbank/2017019880034_leesujung/2017019880034_leesujung_1.npy\n",
      "522 ../../feature/feature_fbank/2017019880034_leesujung/2017019880034_leesujung_2.npy\n",
      "523 ../../feature/feature_fbank/2017019880034_leesujung/2017019880034_leesujung_0.npy\n"
     ]
    },
    {
     "name": "stderr",
     "output_type": "stream",
     "text": [
      "Lossy conversion from float32 to uint8. Range [0.0, 255.0]. Convert image to uint8 prior to saving to suppress this warning.\n",
      "Lossy conversion from float32 to uint8. Range [0.0, 255.0]. Convert image to uint8 prior to saving to suppress this warning.\n",
      "Lossy conversion from float32 to uint8. Range [0.0, 255.0]. Convert image to uint8 prior to saving to suppress this warning.\n"
     ]
    },
    {
     "name": "stdout",
     "output_type": "stream",
     "text": [
      "524 ../../feature/feature_fbank/2017019880034_leesujung/2017019880034_leesujung_4.npy\n",
      "525 ../../feature/feature_fbank/2017019880034_leesujung/2017019880034_leesujung_3.npy\n",
      "526 ../../feature/feature_fbank/2017019880035_songhyunjin/2017019880035_songhyunjin_0.npy\n"
     ]
    },
    {
     "name": "stderr",
     "output_type": "stream",
     "text": [
      "Lossy conversion from float32 to uint8. Range [0.0, 255.0]. Convert image to uint8 prior to saving to suppress this warning.\n",
      "Lossy conversion from float32 to uint8. Range [0.0, 255.0]. Convert image to uint8 prior to saving to suppress this warning.\n",
      "Lossy conversion from float32 to uint8. Range [0.0, 255.0]. Convert image to uint8 prior to saving to suppress this warning.\n"
     ]
    },
    {
     "name": "stdout",
     "output_type": "stream",
     "text": [
      "527 ../../feature/feature_fbank/2017019880035_songhyunjin/2017019880035_songhyunjin_4.npy\n",
      "528 ../../feature/feature_fbank/2017019880035_songhyunjin/2017019880035_songhyunjin_3.npy\n",
      "529 ../../feature/feature_fbank/2017019880035_songhyunjin/2017019880035_songhyunjin_2.npy\n"
     ]
    },
    {
     "name": "stderr",
     "output_type": "stream",
     "text": [
      "Lossy conversion from float32 to uint8. Range [0.0, 255.0]. Convert image to uint8 prior to saving to suppress this warning.\n",
      "Lossy conversion from float32 to uint8. Range [0.0, 255.0]. Convert image to uint8 prior to saving to suppress this warning.\n",
      "Lossy conversion from float32 to uint8. Range [0.0, 255.0]. Convert image to uint8 prior to saving to suppress this warning.\n"
     ]
    },
    {
     "name": "stdout",
     "output_type": "stream",
     "text": [
      "530 ../../feature/feature_fbank/2017019880035_songhyunjin/2017019880035_songhyunjin_1.npy\n",
      "531 ../../feature/feature_fbank/2017019880036_kimjihye/2017019880036_kimjihye_1.npy\n",
      "532 ../../feature/feature_fbank/2017019880036_kimjihye/2017019880036_kimjihye_2.npy\n"
     ]
    },
    {
     "name": "stderr",
     "output_type": "stream",
     "text": [
      "Lossy conversion from float32 to uint8. Range [0.0, 255.0]. Convert image to uint8 prior to saving to suppress this warning.\n",
      "Lossy conversion from float32 to uint8. Range [0.0, 255.0]. Convert image to uint8 prior to saving to suppress this warning.\n",
      "Lossy conversion from float32 to uint8. Range [0.0, 255.0]. Convert image to uint8 prior to saving to suppress this warning.\n"
     ]
    },
    {
     "name": "stdout",
     "output_type": "stream",
     "text": [
      "533 ../../feature/feature_fbank/2017019880036_kimjihye/2017019880036_kimjihye_4.npy\n",
      "534 ../../feature/feature_fbank/2017019880036_kimjihye/2017019880036_kimjihye_3.npy\n",
      "535 ../../feature/feature_fbank/2017019880036_kimjihye/2017019880036_kimjihye_0.npy\n"
     ]
    },
    {
     "name": "stderr",
     "output_type": "stream",
     "text": [
      "Lossy conversion from float32 to uint8. Range [0.0, 255.0]. Convert image to uint8 prior to saving to suppress this warning.\n",
      "Lossy conversion from float32 to uint8. Range [0.0, 255.0]. Convert image to uint8 prior to saving to suppress this warning.\n",
      "Lossy conversion from float32 to uint8. Range [0.0, 255.0]. Convert image to uint8 prior to saving to suppress this warning.\n"
     ]
    },
    {
     "name": "stdout",
     "output_type": "stream",
     "text": [
      "536 ../../feature/feature_fbank/2017019880037_jusunghyun/2017019880037_jusunghyun_2.npy\n",
      "537 ../../feature/feature_fbank/2017019880037_jusunghyun/2017019880037_jusunghyun_0.npy\n",
      "538 ../../feature/feature_fbank/2017019880037_jusunghyun/2017019880037_jusunghyun_1.npy\n"
     ]
    },
    {
     "name": "stderr",
     "output_type": "stream",
     "text": [
      "Lossy conversion from float32 to uint8. Range [0.0, 255.0]. Convert image to uint8 prior to saving to suppress this warning.\n",
      "Lossy conversion from float32 to uint8. Range [0.0, 255.0]. Convert image to uint8 prior to saving to suppress this warning.\n",
      "Lossy conversion from float32 to uint8. Range [0.0, 255.0]. Convert image to uint8 prior to saving to suppress this warning.\n"
     ]
    },
    {
     "name": "stdout",
     "output_type": "stream",
     "text": [
      "539 ../../feature/feature_fbank/2017019880037_jusunghyun/2017019880037_jusunghyun_4.npy\n",
      "540 ../../feature/feature_fbank/2017019880037_jusunghyun/2017019880037_jusunghyun_3.npy\n",
      "541 ../../feature/feature_fbank/2017019880038_baejaehong/2017019880038_baejaehong_1.npy\n"
     ]
    },
    {
     "name": "stderr",
     "output_type": "stream",
     "text": [
      "Lossy conversion from float32 to uint8. Range [0.0, 255.0]. Convert image to uint8 prior to saving to suppress this warning.\n",
      "Lossy conversion from float32 to uint8. Range [0.0, 255.0]. Convert image to uint8 prior to saving to suppress this warning.\n",
      "Lossy conversion from float32 to uint8. Range [0.0, 255.0]. Convert image to uint8 prior to saving to suppress this warning.\n"
     ]
    },
    {
     "name": "stdout",
     "output_type": "stream",
     "text": [
      "542 ../../feature/feature_fbank/2017019880038_baejaehong/2017019880038_baejaehong_4.npy\n",
      "543 ../../feature/feature_fbank/2017019880038_baejaehong/2017019880038_baejaehong_3.npy\n",
      "544 ../../feature/feature_fbank/2017019880038_baejaehong/2017019880038_baejaehong_2.npy\n"
     ]
    },
    {
     "name": "stderr",
     "output_type": "stream",
     "text": [
      "Lossy conversion from float32 to uint8. Range [0.0, 255.0]. Convert image to uint8 prior to saving to suppress this warning.\n",
      "Lossy conversion from float32 to uint8. Range [0.0, 255.0]. Convert image to uint8 prior to saving to suppress this warning.\n",
      "Lossy conversion from float32 to uint8. Range [0.0, 255.0]. Convert image to uint8 prior to saving to suppress this warning.\n"
     ]
    },
    {
     "name": "stdout",
     "output_type": "stream",
     "text": [
      "545 ../../feature/feature_fbank/2017019880038_baejaehong/2017019880038_baejaehong_0.npy\n",
      "546 ../../feature/feature_fbank/2017019880039_seojuyeon/2017019880039_seojuyeon_2.npy\n",
      "547 ../../feature/feature_fbank/2017019880039_seojuyeon/2017019880039_seojuyeon_0.npy\n"
     ]
    },
    {
     "name": "stderr",
     "output_type": "stream",
     "text": [
      "Lossy conversion from float32 to uint8. Range [0.0, 255.0]. Convert image to uint8 prior to saving to suppress this warning.\n",
      "Lossy conversion from float32 to uint8. Range [0.0, 255.0]. Convert image to uint8 prior to saving to suppress this warning.\n",
      "Lossy conversion from float32 to uint8. Range [0.0, 255.0]. Convert image to uint8 prior to saving to suppress this warning.\n"
     ]
    },
    {
     "name": "stdout",
     "output_type": "stream",
     "text": [
      "548 ../../feature/feature_fbank/2017019880039_seojuyeon/2017019880039_seojuyeon_4.npy\n",
      "549 ../../feature/feature_fbank/2017019880039_seojuyeon/2017019880039_seojuyeon_1.npy\n",
      "550 ../../feature/feature_fbank/2017019880039_seojuyeon/2017019880039_seojuyeon_3.npy\n"
     ]
    },
    {
     "name": "stderr",
     "output_type": "stream",
     "text": [
      "Lossy conversion from float32 to uint8. Range [0.0, 255.0]. Convert image to uint8 prior to saving to suppress this warning.\n",
      "Lossy conversion from float32 to uint8. Range [0.0, 255.0]. Convert image to uint8 prior to saving to suppress this warning.\n",
      "Lossy conversion from float32 to uint8. Range [0.0, 255.0]. Convert image to uint8 prior to saving to suppress this warning.\n"
     ]
    },
    {
     "name": "stdout",
     "output_type": "stream",
     "text": [
      "551 ../../feature/feature_fbank/2017019880040_shinheewook/2017019880040_shinheewook_4.npy\n",
      "552 ../../feature/feature_fbank/2017019880040_shinheewook/2017019880040_shinheewook_0.npy\n",
      "553 ../../feature/feature_fbank/2017019880040_shinheewook/2017019880040_shinheewook_2.npy\n"
     ]
    },
    {
     "name": "stderr",
     "output_type": "stream",
     "text": [
      "Lossy conversion from float32 to uint8. Range [0.0, 255.0]. Convert image to uint8 prior to saving to suppress this warning.\n",
      "Lossy conversion from float32 to uint8. Range [0.0, 255.0]. Convert image to uint8 prior to saving to suppress this warning.\n",
      "Lossy conversion from float32 to uint8. Range [0.0, 255.0]. Convert image to uint8 prior to saving to suppress this warning.\n"
     ]
    },
    {
     "name": "stdout",
     "output_type": "stream",
     "text": [
      "554 ../../feature/feature_fbank/2017019880040_shinheewook/2017019880040_shinheewook_3.npy\n",
      "555 ../../feature/feature_fbank/2017019880040_shinheewook/2017019880040_shinheewook_1.npy\n",
      "556 ../../feature/feature_fbank/2017019880041_kimdaeun/2017019880041_kimdaeun_4.npy\n"
     ]
    },
    {
     "name": "stderr",
     "output_type": "stream",
     "text": [
      "Lossy conversion from float32 to uint8. Range [0.0, 255.0]. Convert image to uint8 prior to saving to suppress this warning.\n",
      "Lossy conversion from float32 to uint8. Range [0.0, 255.0]. Convert image to uint8 prior to saving to suppress this warning.\n",
      "Lossy conversion from float32 to uint8. Range [0.0, 255.0]. Convert image to uint8 prior to saving to suppress this warning.\n"
     ]
    },
    {
     "name": "stdout",
     "output_type": "stream",
     "text": [
      "557 ../../feature/feature_fbank/2017019880041_kimdaeun/2017019880041_kimdaeun_2.npy\n",
      "558 ../../feature/feature_fbank/2017019880041_kimdaeun/2017019880041_kimdaeun_0.npy\n",
      "559 ../../feature/feature_fbank/2017019880041_kimdaeun/2017019880041_kimdaeun_1.npy\n"
     ]
    },
    {
     "name": "stderr",
     "output_type": "stream",
     "text": [
      "Lossy conversion from float32 to uint8. Range [0.0, 255.0]. Convert image to uint8 prior to saving to suppress this warning.\n",
      "Lossy conversion from float32 to uint8. Range [0.0, 255.0]. Convert image to uint8 prior to saving to suppress this warning.\n",
      "Lossy conversion from float32 to uint8. Range [0.0, 255.0]. Convert image to uint8 prior to saving to suppress this warning.\n"
     ]
    },
    {
     "name": "stdout",
     "output_type": "stream",
     "text": [
      "560 ../../feature/feature_fbank/2017019880041_kimdaeun/2017019880041_kimdaeun_3.npy\n",
      "561 ../../feature/feature_fbank/2017019880042_namyeji/2017019880042_namyeji_4.npy\n",
      "562 ../../feature/feature_fbank/2017019880042_namyeji/2017019880042_namyeji_2.npy\n"
     ]
    },
    {
     "name": "stderr",
     "output_type": "stream",
     "text": [
      "Lossy conversion from float32 to uint8. Range [0.0, 255.0]. Convert image to uint8 prior to saving to suppress this warning.\n",
      "Lossy conversion from float32 to uint8. Range [0.0, 255.0]. Convert image to uint8 prior to saving to suppress this warning.\n",
      "Lossy conversion from float32 to uint8. Range [0.0, 255.0]. Convert image to uint8 prior to saving to suppress this warning.\n"
     ]
    },
    {
     "name": "stdout",
     "output_type": "stream",
     "text": [
      "563 ../../feature/feature_fbank/2017019880042_namyeji/2017019880042_namyeji_0.npy\n",
      "564 ../../feature/feature_fbank/2017019880042_namyeji/2017019880042_namyeji_1.npy\n",
      "565 ../../feature/feature_fbank/2017019880042_namyeji/2017019880042_namyeji_3.npy\n"
     ]
    },
    {
     "name": "stderr",
     "output_type": "stream",
     "text": [
      "Lossy conversion from float32 to uint8. Range [0.0, 255.0]. Convert image to uint8 prior to saving to suppress this warning.\n",
      "Lossy conversion from float32 to uint8. Range [0.0, 255.0]. Convert image to uint8 prior to saving to suppress this warning.\n",
      "Lossy conversion from float32 to uint8. Range [0.0, 255.0]. Convert image to uint8 prior to saving to suppress this warning.\n"
     ]
    },
    {
     "name": "stdout",
     "output_type": "stream",
     "text": [
      "566 ../../feature/feature_fbank/2017019880043_leegawon/2017019880043_leegawon_2.npy\n",
      "567 ../../feature/feature_fbank/2017019880043_leegawon/2017019880043_leegawon_1.npy\n",
      "568 ../../feature/feature_fbank/2017019880043_leegawon/2017019880043_leegawon_3.npy\n"
     ]
    },
    {
     "name": "stderr",
     "output_type": "stream",
     "text": [
      "Lossy conversion from float32 to uint8. Range [0.0, 255.0]. Convert image to uint8 prior to saving to suppress this warning.\n",
      "Lossy conversion from float32 to uint8. Range [0.0, 255.0]. Convert image to uint8 prior to saving to suppress this warning.\n",
      "Lossy conversion from float32 to uint8. Range [0.0, 255.0]. Convert image to uint8 prior to saving to suppress this warning.\n"
     ]
    },
    {
     "name": "stdout",
     "output_type": "stream",
     "text": [
      "569 ../../feature/feature_fbank/2017019880043_leegawon/2017019880043_leegawon_4.npy\n",
      "570 ../../feature/feature_fbank/2017019880043_leegawon/2017019880043_leegawon_0.npy\n",
      "571 ../../feature/feature_fbank/2017019880044_yoonsuhyun/2017019880044_yoonsuhyun_1.npy\n"
     ]
    },
    {
     "name": "stderr",
     "output_type": "stream",
     "text": [
      "Lossy conversion from float32 to uint8. Range [0.0, 255.0]. Convert image to uint8 prior to saving to suppress this warning.\n",
      "Lossy conversion from float32 to uint8. Range [0.0, 255.0]. Convert image to uint8 prior to saving to suppress this warning.\n",
      "Lossy conversion from float32 to uint8. Range [0.0, 255.0]. Convert image to uint8 prior to saving to suppress this warning.\n"
     ]
    },
    {
     "name": "stdout",
     "output_type": "stream",
     "text": [
      "572 ../../feature/feature_fbank/2017019880044_yoonsuhyun/2017019880044_yoonsuhyun_3.npy\n",
      "573 ../../feature/feature_fbank/2017019880044_yoonsuhyun/2017019880044_yoonsuhyun_4.npy\n",
      "574 ../../feature/feature_fbank/2017019880044_yoonsuhyun/2017019880044_yoonsuhyun_2.npy\n"
     ]
    },
    {
     "name": "stderr",
     "output_type": "stream",
     "text": [
      "Lossy conversion from float32 to uint8. Range [0.0, 255.0]. Convert image to uint8 prior to saving to suppress this warning.\n"
     ]
    },
    {
     "name": "stdout",
     "output_type": "stream",
     "text": [
      "575 ../../feature/feature_fbank/2017019880044_yoonsuhyun/2017019880044_yoonsuhyun_0.npy\n"
     ]
    }
   ],
   "source": [
    "X_TF = []\n",
    "y_TF = []\n",
    "from tensorflow.keras.preprocessing import image\n",
    "\n",
    "for i,fname in zip(range(0,len(fname_list)), fname_list):\n",
    "    print(i,fname)\n",
    "    \n",
    "    fbank = image.load_img(npy_2_png(fname.split('/')[4],fname.split('/')[5]), target_size=(224,224))\n",
    "    tempX = image.img_to_array(fbank)\n",
    "    tempX = np.expand_dims(tempX, axis=0)\n",
    "    tempX = preprocess_input(tempX)\n",
    "    \n",
    "    flatten = model.predict(tempX)\n",
    "    \n",
    "    X_TF.append(list(flatten[0]))\n",
    "    y_TF.append(class_names.index(fname.split('/')[4]))"
   ]
  },
  {
   "cell_type": "code",
   "execution_count": 267,
   "metadata": {},
   "outputs": [],
   "source": [
    "from sklearn.model_selection import train_test_split\n",
    "from sklearn.metrics import accuracy_score\n",
    "\n",
    "X_TF_train = np.array(X_TF)\n",
    "y_TF_train = np.array(y_TF)\n",
    "\n",
    "X_TF_train, X_TF_test, y_TF_train, y_TF_test = train_test_split(X_TF_train, y_TF_train, test_size=0.30, random_state=42, stratify=y_TF_train)\n",
    "\n",
    "from tensorflow.keras.utils import to_categorical\n",
    "y_TF_train_encoded = tf.keras.utils.to_categorical(y_TF_train)\n",
    "y_TF_test_encoded = tf.keras.utils.to_categorical(y_TF_test)\n",
    "\n",
    "X_TF_train_reshape = X_TF_train.reshape(-1, X_TF_train.shape[1], 1)\n",
    "X_TF_test_reshape   = X_TF_test.reshape(-1, X_TF_test.shape[1], 1)"
   ]
  },
  {
   "cell_type": "markdown",
   "metadata": {},
   "source": [
    "**Check Data Distribution**  \n"
   ]
  },
  {
   "cell_type": "code",
   "execution_count": 268,
   "metadata": {},
   "outputs": [
    {
     "name": "stdout",
     "output_type": "stream",
     "text": [
      "Class Num of Train Data : 115 \n",
      "\n",
      "kwakjuheon 's length : 4\n",
      "kimjiho 's length : 3\n",
      "songyejin 's length : 3\n",
      "parksohui 's length : 3\n",
      "moonyeonwoo 's length : 4\n",
      "kangsubin 's length : 4\n",
      "leekyeongeun 's length : 3\n",
      "chochaeyeon 's length : 4\n",
      "shindonghwan 's length : 3\n",
      "kwakmirae 's length : 4\n",
      "kimhyeryeong 's length : 4\n",
      "chaeminjoon 's length : 4\n",
      "kwakyiheon 's length : 4\n",
      "leesumin 's length : 3\n",
      "choihayoung 's length : 3\n",
      "kangyeseo 's length : 4\n",
      "kwakmihyang 's length : 4\n",
      "eundano 's length : 3\n",
      "limjinju 's length : 4\n",
      "kimseongje 's length : 4\n",
      "kwakbokyeong 's length : 3\n",
      "ahnhyojin 's length : 3\n",
      "heosehun 's length : 4\n",
      "choijiwon 's length : 3\n",
      "ahnjeongsuk 's length : 3\n",
      "parkyeongseon 's length : 3\n",
      "kwaksangpil 's length : 4\n",
      "kodohyeon 's length : 4\n",
      "limdonggeun 's length : 4\n",
      "kanghyeyeon 's length : 4\n",
      "jominseok 's length : 3\n",
      "kwonyuna 's length : 4\n",
      "kwoneunkyung 's length : 4\n",
      "johaesu 's length : 3\n",
      "leebyeongjin 's length : 4\n",
      "hyeonsanghyeok 's length : 4\n",
      "jennie 's length : 4\n",
      "simseungmin 's length : 4\n",
      "parksomi 's length : 3\n",
      "yuminji 's length : 3\n",
      "parksojin 's length : 4\n",
      "kwonyeonwoo 's length : 4\n",
      "ladakyeong 's length : 3\n",
      "janghyomin 's length : 4\n",
      "parkeunbi 's length : 4\n",
      "parkdayeung 's length : 4\n",
      "parkjongae 's length : 4\n",
      "hansohee 's length : 3\n",
      "janggyeoul 's length : 4\n",
      "leewooju 's length : 3\n",
      "nomyungok 's length : 3\n",
      "heoyoonjung 's length : 3\n",
      "heojaemin 's length : 3\n",
      "kimsoyung 's length : 3\n",
      "chuminha 's length : 4\n",
      "kimhyeonsu 's length : 3\n",
      "chaesonghwa 's length : 4\n",
      "kwonyulim 's length : 4\n",
      "kimminyoung 's length : 3\n",
      "jueunhong 's length : 3\n",
      "leejeongju 's length : 3\n",
      "kwonnahui 's length : 3\n",
      "kimdayeong 's length : 3\n",
      "kwonsundo 's length : 4\n",
      "kimhyeona 's length : 3\n",
      "leehyojin 's length : 4\n",
      "yuminji 's length : 4\n",
      "jeonghojun 's length : 4\n",
      "kanghyeyun 's length : 4\n",
      "ohjiwon 's length : 4\n",
      "kimdajeong 's length : 4\n",
      "kimsubin 's length : 4\n",
      "kimkihyeon 's length : 3\n",
      "kimminji 's length : 4\n",
      "myeongjaewon 's length : 3\n",
      "kimjihyeon 's length : 3\n",
      "choisuyeon 's length : 3\n",
      "hwanghyebin 's length : 3\n",
      "jangsoojin 's length : 3\n",
      "kimhongjoo 's length : 4\n",
      "kimhyorin 's length : 3\n",
      "kimjihyun 's length : 4\n",
      "kimsongyi 's length : 4\n",
      "kotaewan 's length : 3\n",
      "leedanbee 's length : 4\n",
      "leejungjoon 's length : 3\n",
      "parkjongkook 's length : 4\n",
      "sungsoohyun 's length : 3\n",
      "wonjoonho 's length : 3\n",
      "wonsonghee 's length : 3\n",
      "yoonhyeeun 's length : 3\n",
      "kimjuyeong 's length : 4\n",
      "kimjaein 's length : 4\n",
      "yoohaekyung 's length : 3\n",
      "hanyukyung 's length : 3\n",
      "yoojungkyun 's length : 3\n",
      "parkjongsang 's length : 4\n",
      "leesol 's length : 3\n",
      "kimsunghan 's length : 3\n",
      "kimminji 's length : 4\n",
      "hanseungoh 's length : 3\n",
      "ahnjiwoo 's length : 3\n",
      "seoyeonjoo 's length : 4\n",
      "kimnoeun 's length : 3\n",
      "leesujung 's length : 4\n",
      "songhyunjin 's length : 4\n",
      "kimjihye 's length : 3\n",
      "jusunghyun 's length : 3\n",
      "baejaehong 's length : 4\n",
      "seojuyeon 's length : 4\n",
      "shinheewook 's length : 3\n",
      "kimdaeun 's length : 3\n",
      "namyeji 's length : 4\n",
      "leegawon 's length : 4\n",
      "yoonsuhyun 's length : 3\n"
     ]
    }
   ],
   "source": [
    "removed_dup = set(y_TF_train)\n",
    "print(\"Class Num of Train Data :\",len(removed_dup),\"\\n\")\n",
    "\n",
    "TempList = list(zip(X_TF_train,y_TF_train))\n",
    "TempArray = np.array(TempList)\n",
    "\n",
    "for classNum in removed_dup :\n",
    "    print(class_names[classNum].split(\"_\")[1],\"\\'s length :\", len(*np.where(TempArray[:,1]==classNum)))\n"
   ]
  },
  {
   "cell_type": "code",
   "execution_count": 269,
   "metadata": {
    "scrolled": true
   },
   "outputs": [
    {
     "name": "stdout",
     "output_type": "stream",
     "text": [
      "(403, 25088, 1)\n",
      "(173, 25088, 1)\n",
      "(403, 115)\n",
      "(173, 115)\n",
      "\n",
      "(403,)\n",
      "(173,)\n"
     ]
    }
   ],
   "source": [
    "print(X_TF_train_reshape.shape)\n",
    "print(X_TF_test_reshape.shape)\n",
    "\n",
    "print(y_TF_train_encoded.shape)\n",
    "print(y_TF_test_encoded.shape)\n",
    "print()\n",
    "print(y_TF_train.shape)\n",
    "print(y_TF_test.shape)"
   ]
  },
  {
   "cell_type": "code",
   "execution_count": 270,
   "metadata": {},
   "outputs": [
    {
     "name": "stdout",
     "output_type": "stream",
     "text": [
      "(25088,)\n"
     ]
    },
    {
     "data": {
      "image/png": "[encoded data removed]",
      "text/plain": [
       "<Figure size 720x720 with 1 Axes>"
      ]
     },
     "metadata": {
      "needs_background": "light"
     },
     "output_type": "display_data"
    }
   ],
   "source": [
    "import matplotlib.pyplot as plt\n",
    "\n",
    "plt.figure(figsize=(10,10))\n",
    "print(X_TF_train[0].shape)\n",
    "for num in range(X_TF_train.shape[0]):\n",
    "    plt.plot(X_TF_train[num])\n",
    "plt.show()"
   ]
  },
  {
   "cell_type": "markdown",
   "metadata": {},
   "source": [
    "**Flatten Output Scatter Plot**"
   ]
  },
  {
   "cell_type": "code",
   "execution_count": 271,
   "metadata": {},
   "outputs": [
    {
     "data": {
      "image/png": "[encoded data removed]",
      "text/plain": [
       "<Figure size 1080x1080 with 1 Axes>"
      ]
     },
     "metadata": {
      "needs_background": "light"
     },
     "output_type": "display_data"
    }
   ],
   "source": [
    "removed_dup = set(y_TF_train)\n",
    "\n",
    "TempList = list(zip(X_TF_train,y_TF_train))\n",
    "TempArray = np.array(TempList)\n",
    "\n",
    "plt.figure(figsize=(15,15))\n",
    "\n",
    "checkFeat = 0\n",
    "for idx, classNum in enumerate(removed_dup) :\n",
    "    \n",
    "    group = X_TF_train[np.array(*np.where(TempArray[:,1]==classNum))]\n",
    "    \n",
    "    X_Point = [np.mean(indivi) for indivi in group]\n",
    "    X_Point = np.array(X_Point)\n",
    "    \n",
    "    plt.scatter(range(checkFeat,checkFeat+group.shape[0]), X_Point)\n",
    "    checkFeat = checkFeat+group.shape[0]\n",
    "\n",
    "\n",
    "\n",
    "plt.title('Scatter Plot of VGG19 Flatten Outsput', fontsize=20)\n",
    "plt.xlabel('Class Num', fontsize=14)\n",
    "plt.ylabel('Feature\\'s Mean of Flatten Output', fontsize=14)\n",
    "\n",
    "plt.show()"
   ]
  },
  {
   "cell_type": "markdown",
   "metadata": {},
   "source": [
    "## Classifier Learninig "
   ]
  },
  {
   "cell_type": "markdown",
   "metadata": {},
   "source": [
    "### Linear SVM"
   ]
  },
  {
   "cell_type": "code",
   "execution_count": 272,
   "metadata": {
    "scrolled": true
   },
   "outputs": [
    {
     "name": "stdout",
     "output_type": "stream",
     "text": [
      "0.9595375722543352 \n",
      "\n",
      "Accuracy of Training set: 1.000\n",
      "Accuracy of Test set: 0.960\n"
     ]
    }
   ],
   "source": [
    "from sklearn.svm import LinearSVC\n",
    "\n",
    "clf = LinearSVC(random_state=0, tol=1e-5)\n",
    "trained_clf =clf.fit(X_TF_train, y_TF_train)\n",
    "\n",
    "predicted = clf.predict(X_TF_test)\n",
    "\n",
    "# get the accuracy\n",
    "print (accuracy_score(y_TF_test, predicted),\"\\n\")\n",
    "\n",
    "print(\"Accuracy of Training set: {:.3f}\".format(clf.score(X_TF_train, y_TF_train)))\n",
    "print(\"Accuracy of Test set: {:.3f}\".format(clf.score(X_TF_test, y_TF_test)))"
   ]
  },
  {
   "cell_type": "markdown",
   "metadata": {},
   "source": [
    "**Performance Graph**"
   ]
  },
  {
   "cell_type": "code",
   "execution_count": 273,
   "metadata": {
    "scrolled": true
   },
   "outputs": [
    {
     "name": "stdout",
     "output_type": "stream",
     "text": [
      "                precision    recall  f1-score   support\n",
      "\n",
      "    kwakjuheon       1.00      1.00      1.00         1\n",
      "       kimjiho       0.67      1.00      0.80         2\n",
      "     songyejin       1.00      1.00      1.00         2\n",
      "     parksohui       1.00      1.00      1.00         2\n",
      "   moonyeonwoo       1.00      1.00      1.00         1\n",
      "     kangsubin       1.00      1.00      1.00         1\n",
      "  leekyeongeun       1.00      1.00      1.00         2\n",
      "   chochaeyeon       1.00      1.00      1.00         1\n",
      "  shindonghwan       1.00      1.00      1.00         2\n",
      "     kwakmirae       1.00      1.00      1.00         1\n",
      "  kimhyeryeong       1.00      1.00      1.00         1\n",
      "   chaeminjoon       1.00      1.00      1.00         1\n",
      "    kwakyiheon       0.50      1.00      0.67         1\n",
      "      leesumin       1.00      1.00      1.00         2\n",
      "   choihayoung       1.00      1.00      1.00         2\n",
      "     kangyeseo       1.00      1.00      1.00         1\n",
      "   kwakmihyang       1.00      1.00      1.00         1\n",
      "       eundano       1.00      1.00      1.00         2\n",
      "      limjinju       1.00      1.00      1.00         1\n",
      "    kimseongje       1.00      1.00      1.00         1\n",
      "  kwakbokyeong       1.00      1.00      1.00         2\n",
      "     ahnhyojin       1.00      1.00      1.00         2\n",
      "      heosehun       1.00      1.00      1.00         1\n",
      "     choijiwon       1.00      1.00      1.00         2\n",
      "   ahnjeongsuk       1.00      1.00      1.00         2\n",
      " parkyeongseon       1.00      1.00      1.00         2\n",
      "   kwaksangpil       1.00      1.00      1.00         1\n",
      "     kodohyeon       0.50      1.00      0.67         1\n",
      "   limdonggeun       1.00      1.00      1.00         2\n",
      "   kanghyeyeon       1.00      1.00      1.00         1\n",
      "     jominseok       1.00      0.50      0.67         2\n",
      "      kwonyuna       1.00      1.00      1.00         1\n",
      "  kwoneunkyung       1.00      1.00      1.00         1\n",
      "       johaesu       1.00      1.00      1.00         2\n",
      "  leebyeongjin       1.00      1.00      1.00         1\n",
      "hyeonsanghyeok       1.00      1.00      1.00         1\n",
      "        jennie       1.00      1.00      1.00         1\n",
      "   simseungmin       1.00      1.00      1.00         1\n",
      "      parksomi       1.00      0.50      0.67         2\n",
      "       yuminji       0.00      0.00      0.00         2\n",
      "     parksojin       1.00      1.00      1.00         1\n",
      "   kwonyeonwoo       1.00      1.00      1.00         1\n",
      "    ladakyeong       1.00      1.00      1.00         2\n",
      "    janghyomin       1.00      1.00      1.00         1\n",
      "     parkeunbi       1.00      1.00      1.00         1\n",
      "   parkdayeung       1.00      1.00      1.00         1\n",
      "    parkjongae       1.00      1.00      1.00         1\n",
      "      hansohee       1.00      1.00      1.00         2\n",
      "    janggyeoul       1.00      1.00      1.00         1\n",
      "      leewooju       1.00      1.00      1.00         2\n",
      "     nomyungok       1.00      1.00      1.00         2\n",
      "   heoyoonjung       1.00      1.00      1.00         2\n",
      "     heojaemin       1.00      1.00      1.00         2\n",
      "     kimsoyung       1.00      1.00      1.00         2\n",
      "      chuminha       1.00      1.00      1.00         1\n",
      "    kimhyeonsu       1.00      0.50      0.67         2\n",
      "   chaesonghwa       1.00      1.00      1.00         1\n",
      "     kwonyulim       1.00      1.00      1.00         1\n",
      "   kimminyoung       1.00      1.00      1.00         2\n",
      "     jueunhong       1.00      1.00      1.00         2\n",
      "    leejeongju       1.00      1.00      1.00         2\n",
      "     kwonnahui       1.00      0.50      0.67         2\n",
      "    kimdayeong       1.00      1.00      1.00         2\n",
      "     kwonsundo       0.50      1.00      0.67         1\n",
      "     kimhyeona       1.00      1.00      1.00         2\n",
      "     leehyojin       1.00      1.00      1.00         1\n",
      "       yuminji       0.33      1.00      0.50         1\n",
      "    jeonghojun       1.00      1.00      1.00         1\n",
      "    kanghyeyun       1.00      1.00      1.00         1\n",
      "       ohjiwon       1.00      1.00      1.00         1\n",
      "    kimdajeong       1.00      1.00      1.00         1\n",
      "      kimsubin       1.00      1.00      1.00         1\n",
      "    kimkihyeon       1.00      1.00      1.00         2\n",
      "      kimminji       0.50      1.00      0.67         1\n",
      "  myeongjaewon       1.00      1.00      1.00         2\n",
      "    kimjihyeon       1.00      1.00      1.00         2\n",
      "    choisuyeon       1.00      1.00      1.00         2\n",
      "   hwanghyebin       1.00      1.00      1.00         2\n",
      "    jangsoojin       1.00      1.00      1.00         2\n",
      "    kimhongjoo       1.00      1.00      1.00         1\n",
      "     kimhyorin       1.00      1.00      1.00         2\n",
      "     kimjihyun       1.00      1.00      1.00         1\n",
      "     kimsongyi       1.00      1.00      1.00         1\n",
      "      kotaewan       1.00      1.00      1.00         2\n",
      "     leedanbee       1.00      1.00      1.00         1\n",
      "   leejungjoon       1.00      1.00      1.00         2\n",
      "  parkjongkook       1.00      1.00      1.00         1\n",
      "   sungsoohyun       1.00      1.00      1.00         2\n",
      "     wonjoonho       1.00      1.00      1.00         2\n",
      "    wonsonghee       1.00      1.00      1.00         2\n",
      "    yoonhyeeun       1.00      1.00      1.00         2\n",
      "    kimjuyeong       1.00      1.00      1.00         1\n",
      "      kimjaein       1.00      1.00      1.00         1\n",
      "   yoohaekyung       1.00      1.00      1.00         2\n",
      "    hanyukyung       1.00      1.00      1.00         2\n",
      "   yoojungkyun       1.00      1.00      1.00         2\n",
      "  parkjongsang       1.00      1.00      1.00         1\n",
      "        leesol       1.00      1.00      1.00         2\n",
      "    kimsunghan       1.00      1.00      1.00         2\n",
      "      kimminji       1.00      1.00      1.00         1\n",
      "    hanseungoh       1.00      1.00      1.00         2\n",
      "      ahnjiwoo       1.00      0.50      0.67         2\n",
      "    seoyeonjoo       1.00      1.00      1.00         1\n",
      "      kimnoeun       1.00      1.00      1.00         2\n",
      "     leesujung       1.00      1.00      1.00         1\n",
      "   songhyunjin       1.00      1.00      1.00         1\n",
      "      kimjihye       1.00      1.00      1.00         2\n",
      "    jusunghyun       1.00      1.00      1.00         2\n",
      "    baejaehong       1.00      1.00      1.00         1\n",
      "     seojuyeon       1.00      1.00      1.00         1\n",
      "   shinheewook       1.00      1.00      1.00         2\n",
      "      kimdaeun       1.00      1.00      1.00         2\n",
      "       namyeji       1.00      1.00      1.00         1\n",
      "      leegawon       1.00      1.00      1.00         1\n",
      "    yoonsuhyun       1.00      1.00      1.00         2\n",
      "\n",
      "      accuracy                           0.96       173\n",
      "     macro avg       0.97      0.97      0.96       173\n",
      "  weighted avg       0.97      0.96      0.96       173\n",
      "\n"
     ]
    },
    {
     "name": "stderr",
     "output_type": "stream",
     "text": [
      "/usr/local/lib/python3.8/dist-packages/sklearn/metrics/_classification.py:1221: UndefinedMetricWarning: Precision and F-score are ill-defined and being set to 0.0 in labels with no predicted samples. Use `zero_division` parameter to control this behavior.\n",
      "  _warn_prf(average, modifier, msg_start, len(result))\n"
     ]
    }
   ],
   "source": [
    "from sklearn.metrics import classification_report\n",
    "target_names = [class_name.split('_')[1] for class_name in class_names]\n",
    "print(classification_report(y_TF_test, predicted, target_names=target_names))"
   ]
  },
  {
   "cell_type": "code",
   "execution_count": 274,
   "metadata": {},
   "outputs": [],
   "source": [
    "from sklearn.metrics import roc_curve, auc\n",
    "from scipy import interp\n",
    "from itertools import cycle\n",
    "import matplotlib.pyplot as plt\n",
    "\n",
    "false_pos = dict()\n",
    "true_pos = dict()\n",
    "roc_auc = dict()\n",
    "\n",
    "y_TF_score = trained_clf.decision_function(X_TF_test)\n",
    "\n",
    "for i in range(0, len(class_names)):\n",
    "    false_pos[i], true_pos[i], _ = roc_curve(y_TF_test_encoded[:, i], y_TF_score[:, i])\n",
    "    roc_auc[i] = auc(false_pos[i], true_pos[i])\n"
   ]
  },
  {
   "cell_type": "code",
   "execution_count": 275,
   "metadata": {},
   "outputs": [],
   "source": [
    "false_pos[\"micro\"], true_pos[\"micro\"], _ = roc_curve(y_TF_test_encoded.ravel(), y_TF_score.ravel())\n",
    "roc_auc[\"micro\"] = auc(false_pos[\"micro\"], true_pos[\"micro\"])"
   ]
  },
  {
   "cell_type": "code",
   "execution_count": 276,
   "metadata": {},
   "outputs": [
    {
     "name": "stderr",
     "output_type": "stream",
     "text": [
      "<ipython-input-276-53d1cf7813f6>:8: DeprecationWarning: scipy.interp is deprecated and will be removed in SciPy 2.0.0, use numpy.interp instead\n",
      "  mean_true_pos += interp(all_false_pos, false_pos[i], true_pos[i])\n"
     ]
    }
   ],
   "source": [
    "# axis\n",
    "all_false_pos = np.unique(np.concatenate([false_pos[i] for i in range(0, len(class_names))]))\n",
    "mean_true_pos = np.zeros_like(all_false_pos)\n",
    "\n",
    "# x=false_pos, y=true_pos를 all_false_pos에 따라 보간법 적용(?)\n",
    "# 길이를 len(all_false_pos) 로 맞춘 것이라 생각\n",
    "for i in range(0, len(class_names)):\n",
    "    mean_true_pos += interp(all_false_pos, false_pos[i], true_pos[i])\n",
    "    \n",
    "# mean_true_pos는 true positive rate의 평균이다\n",
    "mean_true_pos /= len(class_names)"
   ]
  },
  {
   "cell_type": "code",
   "execution_count": 287,
   "metadata": {
    "scrolled": false
   },
   "outputs": [
    {
     "data": {
      "image/png": "[encoded data removed]",
      "text/plain": [
       "<Figure size 1008x720 with 1 Axes>"
      ]
     },
     "metadata": {
      "needs_background": "light"
     },
     "output_type": "display_data"
    }
   ],
   "source": [
    "false_pos[\"macro\"] = all_false_pos\n",
    "true_pos[\"macro\"] = mean_true_pos\n",
    "roc_auc[\"macro\"] = auc(false_pos[\"macro\"], true_pos[\"macro\"])\n",
    "\n",
    "# Plot all ROC curves\n",
    "plt.figure(figsize = (14,10))\n",
    "plt.plot(false_pos[\"micro\"], true_pos[\"micro\"],\n",
    "         label='micro-average ROC curve (area = {0:0.2f})'\n",
    "               ''.format(roc_auc[\"micro\"]),\n",
    "         color='deeppink', linestyle=':', linewidth=4)\n",
    "\n",
    "## 전체적인 평균\n",
    "plt.plot(false_pos[\"macro\"], true_pos[\"macro\"],\n",
    "         label='macro-average ROC curve (area = {0:0.2f})'\n",
    "               ''.format(roc_auc[\"macro\"]),\n",
    "         color='navy', linestyle=':', linewidth=4)\n",
    "\n",
    "colors = cycle(['aqua', 'darkorange',  'gray', 'blue','black','yellow'])\n",
    "lw =2\n",
    "\n",
    "np.seterr(divide='ignore', invalid ='ignore')\n",
    "\n",
    "for i, color in zip(range(len(class_names)), colors):\n",
    "    plt.plot(false_pos[i], true_pos[i], color=color, lw=lw,\n",
    "             label='ROC curve of class {0} (area = {1:0.2f})'\n",
    "             ''.format(i, roc_auc[i]))\n",
    "#     graph_line = true_pos[i] / false_pos[i]\n",
    "#     graph_line = [val for val in graph_line if not np.isnan(val)]\n",
    "#     graph_line = [val for val in graph_line if not np.isinf(val)]\n",
    "#     \n",
    "#     if color =='blue' and  np.min(graph_line) >= 0.5:\n",
    "#         print(\"{:d} : {:s}\\'s ROC Curve is Unstable\".format(i,class_names[i].split(\"_\")[1]))\n",
    "#     if np.min(graph_line) < 0.5 :\n",
    "#         plt.plot(false_pos[i], true_pos[i], color=color, lw=lw)\n",
    "#     else :\n",
    "#         plt.plot(false_pos[i], true_pos[i], color='red', lw=lw,\n",
    "#              label='ROC curve of class {0} (area = {1:0.2f})'\n",
    "#              ''.format(i, roc_auc[i]))\n",
    "    \n",
    "\n",
    "plt.plot([0, 1], [0, 1], 'k--', lw=lw)\n",
    "plt.xlim([0.0, 1.0])\n",
    "plt.ylim([0.0, 1.05])\n",
    "plt.xlabel('False Positive Rate')\n",
    "plt.ylabel('True Positive Rate')\n",
    "plt.title('ROC Curve for VGG19-SVM Model')\n",
    "# plt.legend()\n",
    "plt.show()"
   ]
  },
  {
   "cell_type": "markdown",
   "metadata": {},
   "source": [
    "**Predict from new Voice**"
   ]
  },
  {
   "cell_type": "code",
   "execution_count": 289,
   "metadata": {},
   "outputs": [],
   "source": [
    "def val_npy_2_png (cname,fname):\n",
    "    if not os.path.exists(\"../../feature/feature_fbank_validation_png/\"):\n",
    "        os.makedirs(\"../../feature/feature_fbank_validation_png/\")\n",
    "    if not os.path.exists(\"../../feature/feature_fbank_validation_png/\"+cname) :\n",
    "        os.makedirs(\"../../feature/feature_fbank_validation_png/\"+cname)\n",
    "    \n",
    "    array = np.load(\"../../feature/feature_fbank_validation/\"+cname+\"/\"+fname)\n",
    "    array = array - np.min(array)\n",
    "    array = array / np.max(array)\n",
    "    array = array * 255.0\n",
    "    \n",
    "    i = fname.split('_')[2].split('.')[0]\n",
    "    if os.path.exists(\"../../feature/feature_fbank_validation_png/\"+cname+\"/{}.png\".format(i)):\n",
    "        os.remove(\"../../feature/feature_fbank_validation_png/\"+cname+\"/{}.png\".format(i))\n",
    "        \n",
    "    imageio.imwrite(\"../../feature/feature_fbank_validation_png/\"+cname+\"/{}.png\".format(i),array)\n",
    "    return \"../../feature/feature_fbank_validation_png/\"+cname+\"/{}.png\".format(i)"
   ]
  },
  {
   "cell_type": "code",
   "execution_count": 290,
   "metadata": {
    "scrolled": true
   },
   "outputs": [
    {
     "name": "stderr",
     "output_type": "stream",
     "text": [
      "Lossy conversion from float32 to uint8. Range [0.0, 255.0]. Convert image to uint8 prior to saving to suppress this warning.\n",
      "Lossy conversion from float32 to uint8. Range [0.0, 255.0]. Convert image to uint8 prior to saving to suppress this warning.\n",
      "Lossy conversion from float32 to uint8. Range [0.0, 255.0]. Convert image to uint8 prior to saving to suppress this warning.\n"
     ]
    },
    {
     "name": "stdout",
     "output_type": "stream",
     "text": [
      "0 ../../feature/feature_fbank_validation/2017019740001_kwakjuheon/2017019740001_kwakjuheon_4.npy\n",
      "1 ../../feature/feature_fbank_validation/2017019740001_kwakjuheon/2017019740001_kwakjuheon_1.npy\n",
      "2 ../../feature/feature_fbank_validation/2017019740001_kwakjuheon/2017019740001_kwakjuheon_0.npy\n"
     ]
    },
    {
     "name": "stderr",
     "output_type": "stream",
     "text": [
      "Lossy conversion from float32 to uint8. Range [0.0, 255.0]. Convert image to uint8 prior to saving to suppress this warning.\n",
      "Lossy conversion from float32 to uint8. Range [0.0, 255.0]. Convert image to uint8 prior to saving to suppress this warning.\n",
      "Lossy conversion from float32 to uint8. Range [0.0, 255.0]. Convert image to uint8 prior to saving to suppress this warning.\n"
     ]
    },
    {
     "name": "stdout",
     "output_type": "stream",
     "text": [
      "3 ../../feature/feature_fbank_validation/2017019740001_kwakjuheon/2017019740001_kwakjuheon_2.npy\n",
      "4 ../../feature/feature_fbank_validation/2017019740001_kwakjuheon/2017019740001_kwakjuheon_3.npy\n",
      "5 ../../feature/feature_fbank_validation/2017019770001_kwonyuna/2017019770001_kwonyuna_1.npy\n"
     ]
    },
    {
     "name": "stderr",
     "output_type": "stream",
     "text": [
      "Lossy conversion from float32 to uint8. Range [0.0, 255.0]. Convert image to uint8 prior to saving to suppress this warning.\n",
      "Lossy conversion from float32 to uint8. Range [0.0, 255.0]. Convert image to uint8 prior to saving to suppress this warning.\n",
      "Lossy conversion from float32 to uint8. Range [0.0, 255.0]. Convert image to uint8 prior to saving to suppress this warning.\n"
     ]
    },
    {
     "name": "stdout",
     "output_type": "stream",
     "text": [
      "6 ../../feature/feature_fbank_validation/2017019770001_kwonyuna/2017019770001_kwonyuna_0.npy\n",
      "7 ../../feature/feature_fbank_validation/2017019770001_kwonyuna/2017019770001_kwonyuna_3.npy\n",
      "8 ../../feature/feature_fbank_validation/2017019770001_kwonyuna/2017019770001_kwonyuna_2.npy\n"
     ]
    },
    {
     "name": "stderr",
     "output_type": "stream",
     "text": [
      "Lossy conversion from float32 to uint8. Range [0.0, 255.0]. Convert image to uint8 prior to saving to suppress this warning.\n",
      "Lossy conversion from float32 to uint8. Range [0.0, 255.0]. Convert image to uint8 prior to saving to suppress this warning.\n",
      "Lossy conversion from float32 to uint8. Range [0.0, 255.0]. Convert image to uint8 prior to saving to suppress this warning.\n"
     ]
    },
    {
     "name": "stdout",
     "output_type": "stream",
     "text": [
      "9 ../../feature/feature_fbank_validation/2017019770001_kwonyuna/2017019770001_kwonyuna_4.npy\n",
      "10 ../../feature/feature_fbank_validation/2017019880001_kimsubin/2017019880001_kimsubin_1.npy\n",
      "11 ../../feature/feature_fbank_validation/2017019880001_kimsubin/2017019880001_kimsubin_4.npy\n"
     ]
    },
    {
     "name": "stderr",
     "output_type": "stream",
     "text": [
      "Lossy conversion from float32 to uint8. Range [0.0, 255.0]. Convert image to uint8 prior to saving to suppress this warning.\n",
      "Lossy conversion from float32 to uint8. Range [0.0, 255.0]. Convert image to uint8 prior to saving to suppress this warning.\n",
      "Lossy conversion from float32 to uint8. Range [0.0, 255.0]. Convert image to uint8 prior to saving to suppress this warning.\n"
     ]
    },
    {
     "name": "stdout",
     "output_type": "stream",
     "text": [
      "12 ../../feature/feature_fbank_validation/2017019880001_kimsubin/2017019880001_kimsubin_3.npy\n",
      "13 ../../feature/feature_fbank_validation/2017019880001_kimsubin/2017019880001_kimsubin_0.npy\n",
      "14 ../../feature/feature_fbank_validation/2017019880001_kimsubin/2017019880001_kimsubin_2.npy\n",
      "Predict : 2017019740001_kwakjuheon , Real : 2017019740001_kwakjuheon\n",
      "Predict : 2017019740001_kwakjuheon , Real : 2017019740001_kwakjuheon\n",
      "Predict : 2017019740001_kwakjuheon , Real : 2017019740001_kwakjuheon\n",
      "Predict : 2017019740001_kwakjuheon , Real : 2017019740001_kwakjuheon\n",
      "Predict : 2017019770001_kwonyuna , Real : 2017019740001_kwakjuheon\n",
      "Predict : 2017019770001_kwonyuna , Real : 2017019770001_kwonyuna\n",
      "Predict : 2017019770001_kwonyuna , Real : 2017019770001_kwonyuna\n",
      "Predict : 2017019770001_kwonyuna , Real : 2017019770001_kwonyuna\n",
      "Predict : 2017019770001_kwonyuna , Real : 2017019770001_kwonyuna\n",
      "Predict : 2017019770001_kwonyuna , Real : 2017019770001_kwonyuna\n",
      "Predict : 2017019880001_kimsubin , Real : 2017019880001_kimsubin\n",
      "Predict : 2017019880001_kimsubin , Real : 2017019880001_kimsubin\n",
      "Predict : 2017019880001_kimsubin , Real : 2017019880001_kimsubin\n",
      "Predict : 2017019880001_kimsubin , Real : 2017019880001_kimsubin\n",
      "Predict : 2017019880001_kimsubin , Real : 2017019880001_kimsubin\n",
      "0.9333333333333333\n"
     ]
    }
   ],
   "source": [
    "clf = LinearSVC(random_state=0, tol=1e-5)\n",
    "clf.fit(X_TF_train, y_TF_train)\n",
    "\n",
    "x_validation_list=[]\n",
    "y_validation_list=[]\n",
    "\n",
    "val_class_names = os.listdir(\"../../feature/feature_fbank_validation/\")\n",
    "val_class_names.sort()\n",
    "val_fname=[]\n",
    "\n",
    "for i in range(0,len(val_class_names)):\n",
    "    val_files=os.listdir(\"../../feature/feature_fbank_validation/\"+val_class_names[i])\n",
    "    val_files = [file for file in val_files if file.endswith(\".npy\")]\n",
    "    for j in range(0, len(val_files)):\n",
    "        val_fname.append(\"../../feature/feature_fbank_validation/\"+val_class_names[i]+\"/\"+val_files[j])\n",
    "\n",
    "X_TF_pred = []\n",
    "y_TF_pred = []\n",
    "\n",
    "for i,fname in zip(range(0,len(val_fname)), val_fname):\n",
    "    print(i,fname)\n",
    "    \n",
    "    fbank = image.load_img(val_npy_2_png(fname.split('/')[4],fname.split('/')[5]), target_size=(224,224))\n",
    "    tempX = image.img_to_array(fbank)\n",
    "    tempX = np.expand_dims(tempX, axis=0)\n",
    "    tempX = preprocess_input(tempX)\n",
    "    \n",
    "    flatten = model.predict(tempX)\n",
    "    \n",
    "    X_TF_pred.append(list(flatten[0]))\n",
    "    y_TF_pred.append(val_class_names.index(fname.split('/')[4]))\n",
    "\n",
    "    \n",
    "X_TF_pred = np.array(X_TF_pred)\n",
    "y_TF_pred = np.array(y_TF_pred)\n",
    "# y_TF_pred_encode = tf.keras.utils.to_categorical(y_TF_pred)\n",
    "\n",
    "predicted = clf.predict(X_TF_pred)\n",
    "real =[]\n",
    "for i,pred in zip(range(0, len(predicted)), predicted) :\n",
    "    print(\"Predict :\",class_names[pred], \", Real :\", val_class_names[y_TF_pred[i]])\n",
    "    real.append(class_names.index(val_class_names[y_TF_pred[i]]))\n",
    "# \n",
    "# get the accuracy\n",
    "print (accuracy_score(real, predicted))"
   ]
  },
  {
   "cell_type": "markdown",
   "metadata": {},
   "source": [
    "### Non-Linear SVM"
   ]
  },
  {
   "cell_type": "code",
   "execution_count": 291,
   "metadata": {},
   "outputs": [
    {
     "name": "stdout",
     "output_type": "stream",
     "text": [
      "0.3179190751445087 \n",
      "\n",
      "Accuracy of Training set: 1.000\n",
      "Accuracy of Test set: 0.318\n"
     ]
    }
   ],
   "source": [
    "from sklearn import svm\n",
    "\n",
    "nonlinear_clf = svm.NuSVC(gamma='auto')\n",
    "nonlinear_clf.fit(X_TF_train, y_TF_train)\n",
    "\n",
    "predicted_svc = nonlinear_clf.predict(X_TF_test)\n",
    "print (accuracy_score(y_TF_test, predicted_svc),\"\\n\")\n",
    "\n",
    "print(\"Accuracy of Training set: {:.3f}\".format(nonlinear_clf.score(X_TF_train, y_TF_train)))\n",
    "print(\"Accuracy of Test set: {:.3f}\".format(nonlinear_clf.score(X_TF_test, y_TF_test)))"
   ]
  },
  {
   "cell_type": "markdown",
   "metadata": {},
   "source": [
    "### SVM Using PolyNomial Kernel  \n",
    "\n",
    " kernel을 사용하면 베이시스 함수를 하나씩 정의하는 수고를 덜 수 있을뿐더러 변환과 내적에 들어가는 계산량이 줄어든다."
   ]
  },
  {
   "cell_type": "code",
   "execution_count": 292,
   "metadata": {
    "scrolled": true
   },
   "outputs": [
    {
     "name": "stdout",
     "output_type": "stream",
     "text": [
      "0.8670520231213873 \n",
      "\n",
      "Accuracy of Training set: 1.000\n",
      "Accuracy of Test set: 0.867\n"
     ]
    }
   ],
   "source": [
    "from sklearn.svm import SVC\n",
    "\n",
    "nonlinear_poly = SVC(kernel='poly', random_state=0, gamma='auto', C=1)\n",
    "nonlinear_poly.fit(X_TF_train, y_TF_train)\n",
    "\n",
    "predicted_svc_poly = nonlinear_poly.predict(X_TF_test)\n",
    "print (accuracy_score(y_TF_test, predicted_svc_poly),\"\\n\")\n",
    "\n",
    "print(\"Accuracy of Training set: {:.3f}\".format(nonlinear_poly.score(X_TF_train, y_TF_train)))\n",
    "print(\"Accuracy of Test set: {:.3f}\".format(nonlinear_poly.score(X_TF_test, y_TF_test)))"
   ]
  },
  {
   "cell_type": "markdown",
   "metadata": {},
   "source": [
    "### SVM Using RBF Kernel  "
   ]
  },
  {
   "cell_type": "code",
   "execution_count": 293,
   "metadata": {},
   "outputs": [
    {
     "name": "stdout",
     "output_type": "stream",
     "text": [
      "0.3179190751445087 \n",
      "\n",
      "Accuracy of Training set: 1.000\n",
      "Accuracy of Test set: 0.318\n"
     ]
    }
   ],
   "source": [
    "from sklearn.svm import SVC\n",
    "\n",
    "nonlinear_rbf = SVC(kernel='rbf', random_state=0, gamma='auto', C=1)\n",
    "nonlinear_rbf.fit(X_TF_train, y_TF_train)\n",
    "\n",
    "predicted_svc_rbf = nonlinear_rbf.predict(X_TF_test)\n",
    "print (accuracy_score(y_TF_test, predicted_svc_rbf),\"\\n\")\n",
    "\n",
    "print(\"Accuracy of Training set: {:.3f}\".format(nonlinear_rbf.score(X_TF_train, y_TF_train)))\n",
    "print(\"Accuracy of Test set: {:.3f}\".format(nonlinear_rbf.score(X_TF_test, y_TF_test)))"
   ]
  },
  {
   "cell_type": "markdown",
   "metadata": {},
   "source": [
    "### Random Forest Classifier"
   ]
  },
  {
   "cell_type": "code",
   "execution_count": 294,
   "metadata": {},
   "outputs": [
    {
     "name": "stdout",
     "output_type": "stream",
     "text": [
      "0.8786127167630058 \n",
      "\n",
      "Accuracy of Training set: 1.000\n",
      "Accuracy of Test set: 0.879\n"
     ]
    }
   ],
   "source": [
    "from sklearn.ensemble import RandomForestClassifier\n",
    "\n",
    "forest = RandomForestClassifier(n_estimators= 1000, random_state=0)\n",
    "forest.fit(X_TF_train, y_TF_train)\n",
    "\n",
    "predicted_forest = forest.predict(X_TF_test)\n",
    "print (accuracy_score(y_TF_test, predicted_forest),\"\\n\")\n",
    "\n",
    "print(\"Accuracy of Training set: {:.3f}\".format(forest.score(X_TF_train, y_TF_train)))\n",
    "print(\"Accuracy of Test set: {:.3f}\".format(forest.score(X_TF_test, y_TF_test)))"
   ]
  },
  {
   "cell_type": "markdown",
   "metadata": {},
   "source": [
    "### Decision Tree"
   ]
  },
  {
   "cell_type": "code",
   "execution_count": 295,
   "metadata": {},
   "outputs": [
    {
     "name": "stdout",
     "output_type": "stream",
     "text": [
      "0.18497109826589594 \n",
      "\n",
      "Accuracy of Training set: 1.000\n",
      "Accuracy of Test set: 0.185\n"
     ]
    }
   ],
   "source": [
    "from sklearn.tree import DecisionTreeClassifier\n",
    "\n",
    "tree = DecisionTreeClassifier(random_state=0)\n",
    "tree.fit(X_TF_train, y_TF_train)\n",
    "\n",
    "predicted_tree = tree.predict(X_TF_test)\n",
    "print (accuracy_score(y_TF_test, predicted_tree),\"\\n\")\n",
    "\n",
    "print(\"Accuracy of Training set: {:.3f}\".format(tree.score(X_TF_train, y_TF_train)))\n",
    "print(\"Accuracy of Test set: {:.3f}\".format(tree.score(X_TF_test, y_TF_test)))"
   ]
  },
  {
   "cell_type": "markdown",
   "metadata": {},
   "source": [
    "### Gradient Boosting"
   ]
  },
  {
   "cell_type": "code",
   "execution_count": 296,
   "metadata": {},
   "outputs": [],
   "source": [
    "from sklearn.ensemble import GradientBoostingClassifier\n",
    "gbrt = GradientBoostingClassifier(random_state=0)"
   ]
  },
  {
   "cell_type": "code",
   "execution_count": null,
   "metadata": {},
   "outputs": [],
   "source": [
    "gbrt.fit(X_TF_train, y_TF_train)\n",
    "predicted_gbrt = gbrt.predict(X_TF_test)\n",
    "print (accuracy_score(y_TF_test, predicted_gbrt))\n",
    "\n",
    "print(\"Accuracy of Training set: {:.3f}\".format(gbrt.score(X_TF_train, y_TF_train)))\n",
    "print(\"Accuracy of Test set: {:.3f}\".format(gbrt.score(X_TF_test, y_TF_test)))"
   ]
  }
 ],
 "metadata": {
  "kernelspec": {
   "display_name": "Python 3",
   "language": "python",
   "name": "python3"
  },
  "language_info": {
   "codemirror_mode": {
    "name": "ipython",
    "version": 3
   },
   "file_extension": ".py",
   "mimetype": "text/x-python",
   "name": "python",
   "nbconvert_exporter": "python",
   "pygments_lexer": "ipython3",
   "version": "3.8.2"
  }
 },
 "nbformat": 4,
 "nbformat_minor": 4
}
