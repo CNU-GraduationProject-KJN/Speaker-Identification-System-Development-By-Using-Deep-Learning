{
 "cells": [
  {
   "cell_type": "code",
   "execution_count": 45,
   "metadata": {},
   "outputs": [],
   "source": [
    "from time import sleep\n",
    "\n",
    "import pickle\n",
    "import numpy as np\n",
    "import librosa\n",
    "import librosa.display\n",
    "import os\n",
    "import matplotlib.pyplot as plt\n",
    "\n",
    "from matplotlib import cm # for color map\n",
    "from python_speech_features import logfbank, fbank\n",
    "from scipy.fftpack import dct\n",
    "\n",
    "\n",
    "# Library for performing speech recognition\n",
    "# Python 2.6, 2.7, or 3.3+ (required)\n",
    "# PyAudio 0.2.11+ (required only if you need to use microphone input, Microphone)\n",
    "# More : https://github.com/Uberi/speech_recognition\n",
    "import speech_recognition as speech_r\n",
    "import scipy.signal as signal\n",
    "from pydub import AudioSegment"
   ]
  },
  {
   "cell_type": "markdown",
   "metadata": {},
   "source": [
    "Checking librosa version and speech_recognition version"
   ]
  },
  {
   "cell_type": "code",
   "execution_count": 46,
   "metadata": {
    "scrolled": false
   },
   "outputs": [
    {
     "name": "stdout",
     "output_type": "stream",
     "text": [
      "librosa version :  0.7.2\n",
      "speech_recognition version :  3.8.1\n"
     ]
    }
   ],
   "source": [
    "print(\"librosa version : \",librosa.__version__)\n",
    "print(\"speech_recognition version : \", speech_r.__version__)\n",
    "save_path = \"./test_train_data/\""
   ]
  },
  {
   "cell_type": "markdown",
   "metadata": {},
   "source": [
    "## Recording Speech"
   ]
  },
  {
   "cell_type": "markdown",
   "metadata": {},
   "source": [
    " Creates a new ``Recognizer`` instance, which represents a collection of speech recognition functionality."
   ]
  },
  {
   "cell_type": "code",
   "execution_count": 47,
   "metadata": {},
   "outputs": [
    {
     "name": "stdout",
     "output_type": "stream",
     "text": [
      "음성 데이터 녹음\n",
      "이름을 입력하세요 : k\n"
     ]
    }
   ],
   "source": [
    "r = speech_r.Recognizer() \n",
    "\n",
    "print(\"음성 데이터 녹음\")\n",
    "file_name = str(input(\"이름을 입력하세요 : \"))\n"
   ]
  },
  {
   "cell_type": "markdown",
   "metadata": {},
   "source": [
    "Print a list of connected microphones"
   ]
  },
  {
   "cell_type": "code",
   "execution_count": 48,
   "metadata": {
    "scrolled": true
   },
   "outputs": [
    {
     "name": "stdout",
     "output_type": "stream",
     "text": [
      "HDA Intel PCH: ALC892 Analog (hw:0,0)\n",
      "HDA Intel PCH: ALC892 Digital (hw:0,1)\n",
      "HDA Intel PCH: ALC892 Alt Analog (hw:0,2)\n",
      "HDA NVidia: HDMI 0 (hw:1,3)\n",
      "HDA NVidia: HDMI 1 (hw:1,7)\n",
      "HDA NVidia: HDMI 2 (hw:1,8)\n",
      "HDA NVidia: HDMI 3 (hw:1,9)\n",
      "sysdefault\n",
      "front\n",
      "surround21\n",
      "surround40\n",
      "surround41\n",
      "surround50\n",
      "surround51\n",
      "surround71\n",
      "iec958\n",
      "spdif\n",
      "pulse\n",
      "dmix\n"
     ]
    }
   ],
   "source": [
    "list_0 =speech_r.Microphone.list_microphone_names()\n",
    "for i in range(0, len(list_0)-1):\n",
    "    print(list_0[i])"
   ]
  },
  {
   "cell_type": "markdown",
   "metadata": {},
   "source": [
    "Speech recording and save as WAV file"
   ]
  },
  {
   "cell_type": "code",
   "execution_count": 50,
   "metadata": {},
   "outputs": [],
   "source": [
    "# Higher sample_rate result in better audio quality, slower recognition\n",
    "# Higher chunk_size help avoid triggering on rapidly changing ambient noise,\n",
    "#  but also makes detection less sensitive\n",
    "microphone = speech_r.Microphone(device_index=7, sample_rate=None, chunk_size=1024)"
   ]
  },
  {
   "cell_type": "code",
   "execution_count": 51,
   "metadata": {
    "scrolled": true
   },
   "outputs": [
    {
     "name": "stdout",
     "output_type": "stream",
     "text": [
      "15초 동안 녹음을 시작합니다.\n",
      "녹음이 시작되면 다음 문장을 읽어주세요.\n",
      "\n",
      "죽는 날까지 하늘을 우러러\n",
      "한 점 부끄러움이 없기를        \n",
      "잎새에 이는 바람에도 \n",
      "나는 괴로워했다.\n",
      "별을 노래하는 마음으로        \n",
      "모든 죽어가는 것을 사랑해야지\n",
      "그리고 나한테 주어진 길을\n",
      "걸어가야겠다\n",
      "*****   녹음 시작   *****\n",
      "\n",
      " 녹음 완료. \n",
      "''k_0' File Write Finish !\n",
      " Saved File Name : k_0\n"
     ]
    }
   ],
   "source": [
    " with microphone as source:\n",
    "    print(\"15초 동안 녹음을 시작합니다.\")\n",
    "    print(\"녹음이 시작되면 다음 문장을 읽어주세요.\\n\")\n",
    "        \n",
    "    print(\"죽는 날까지 하늘을 우러러\\n한 점 부끄러움이 없기를 \\\n",
    "        \\n잎새에 이는 바람에도 \\n나는 괴로워했다.\\n별을 노래하는 마음으로 \\\n",
    "        \\n모든 죽어가는 것을 사랑해야지\\n그리고 나한테 주어진 길을\\n걸어가야겠다\")\n",
    "        \n",
    "    sleep(4)\n",
    "        \n",
    "        \n",
    "    print(\"*****   녹음 시작   *****\\n\")\n",
    "        \n",
    "    # This method reads the first second of the file stream \n",
    "    # and calibrates the recognizer to the noise level of the audio.\n",
    "    # adjust_for_ambient_noise는 첫 번째 초에 해당하는 오디오를 듣고 노이즈를 교정하는 메소드\n",
    "    r.adjust_for_ambient_noise(source, duration=1)\n",
    "        \n",
    "    '''\n",
    "    !! adjust_for_ambient_noise를 사용하면 첫 번째 초를 잃게 됨. -> sleep(4)인 이유\n",
    "    !! 오디오의 1초는 노이즈 레벨을 판단하는 요소 : duration 으로 조정 가능, 가능한 0.5초 이상인게 좋다.\n",
    "    !! durations longer than the default of one second generate better results.\n",
    "    !! durations의 최솟값은 마이크의 주변 환경에 따라 다름.\n",
    "    '''\n",
    "        \n",
    "    # This method takes an audio source as its first argument and\n",
    "    # records input from the source until silence is detected.\n",
    "    # microphone의 입력을 감지, 무음이 감지될 때까지 소스의 입력을 기록한다. -> 종료되는 오류의 원인일 가능성    \n",
    "    audio = r.listen(source , phrase_time_limit=15)\n",
    "        \n",
    "    # audio는 AudioData(frame_data, source.SAMPLE_RATE, source.SAMPLE_WIDTH)\n",
    "        \n",
    "        \n",
    "    print(\" 녹음 완료. \")\n",
    "        \n",
    "        \n",
    "    # Audio file 저장\n",
    "    save_path = \"./test_train_data/\"\n",
    "        \n",
    "    if not os.path.exists(save_path + file_name):\n",
    "        os.makedirs(save_path + file_name)\n",
    "        result_name = file_name +\"_\"+str(0)\n",
    "    else :\n",
    "        files = os.listdir(save_path + file_name)\n",
    "        result_name = file_name +\"_\"+str(len(files))\n",
    "        \n",
    "    with open(save_path + file_name + \"/\" + result_name+\".wav\", \"wb\") as f:\n",
    "        f.write(audio.get_wav_data()) # AudioData to .wav\n",
    "        print(\"''\"+result_name + \"' File Write Finish !\")\n",
    "            \n",
    "    print(\" Saved File Name : \"+result_name)\n",
    "        \n",
    "            "
   ]
  }
 ],
 "metadata": {
  "kernelspec": {
   "display_name": "Python 3",
   "language": "python",
   "name": "python3"
  },
  "language_info": {
   "codemirror_mode": {
    "name": "ipython",
    "version": 3
   },
   "file_extension": ".py",
   "mimetype": "text/x-python",
   "name": "python",
   "nbconvert_exporter": "python",
   "pygments_lexer": "ipython3",
   "version": "3.8.2"
  }
 },
 "nbformat": 4,
 "nbformat_minor": 4
}
